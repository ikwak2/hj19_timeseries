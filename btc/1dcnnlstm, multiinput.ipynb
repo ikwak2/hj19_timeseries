{
 "cells": [
  {
   "cell_type": "code",
   "execution_count": 98,
   "metadata": {},
   "outputs": [],
   "source": [
    "import tensorflow as tf\n",
    "import tensorflow\n",
    "import numpy as np"
   ]
  },
  {
   "cell_type": "code",
   "execution_count": 99,
   "metadata": {},
   "outputs": [],
   "source": [
    "from tensorflow.keras.models import Sequential\n",
    "from tensorflow.keras.layers import LSTM, Bidirectional\n",
    "from tensorflow.keras.layers import Dense\n",
    "import matplotlib.pyplot as plt\n",
    "from sklearn.preprocessing import MinMaxScaler\n",
    "from sklearn.metrics import mean_squared_error\n",
    "from tensorflow.keras.layers import Activation, Dense, Dropout\n",
    "from tensorflow.keras import optimizers\n",
    "from pandas import Series\n",
    "import math\n",
    "import numpy\n",
    "from tensorflow.keras.layers import *\n",
    "from tensorflow.keras import layers\n",
    "from datetime import datetime\n",
    "import pandas as pd\n",
    "import requests\n",
    "\n",
    "data = pd.read_csv('bitcoin2000.csv')"
   ]
  },
  {
   "cell_type": "code",
   "execution_count": 100,
   "metadata": {},
   "outputs": [
    {
     "data": {
      "text/html": [
       "<div>\n",
       "<style scoped>\n",
       "    .dataframe tbody tr th:only-of-type {\n",
       "        vertical-align: middle;\n",
       "    }\n",
       "\n",
       "    .dataframe tbody tr th {\n",
       "        vertical-align: top;\n",
       "    }\n",
       "\n",
       "    .dataframe thead th {\n",
       "        text-align: right;\n",
       "    }\n",
       "</style>\n",
       "<table border=\"1\" class=\"dataframe\">\n",
       "  <thead>\n",
       "    <tr style=\"text-align: right;\">\n",
       "      <th></th>\n",
       "      <th>time</th>\n",
       "      <th>high</th>\n",
       "      <th>low</th>\n",
       "      <th>open</th>\n",
       "      <th>volumefrom</th>\n",
       "      <th>volumeto</th>\n",
       "      <th>close</th>\n",
       "      <th>conversionType</th>\n",
       "      <th>conversionSymbol</th>\n",
       "      <th>timeUTC</th>\n",
       "    </tr>\n",
       "  </thead>\n",
       "  <tbody>\n",
       "    <tr>\n",
       "      <th>0</th>\n",
       "      <td>1576144800</td>\n",
       "      <td>7219.93</td>\n",
       "      <td>7149.15</td>\n",
       "      <td>7170.18</td>\n",
       "      <td>1536.79</td>\n",
       "      <td>11041994.81</td>\n",
       "      <td>7166.14</td>\n",
       "      <td>direct</td>\n",
       "      <td>NaN</td>\n",
       "      <td>2019-12-12 19:00:00</td>\n",
       "    </tr>\n",
       "    <tr>\n",
       "      <th>1</th>\n",
       "      <td>1576148400</td>\n",
       "      <td>7208.36</td>\n",
       "      <td>7166.03</td>\n",
       "      <td>7166.14</td>\n",
       "      <td>785.11</td>\n",
       "      <td>5654607.43</td>\n",
       "      <td>7199.79</td>\n",
       "      <td>direct</td>\n",
       "      <td>NaN</td>\n",
       "      <td>2019-12-12 20:00:00</td>\n",
       "    </tr>\n",
       "    <tr>\n",
       "      <th>2</th>\n",
       "      <td>1576152000</td>\n",
       "      <td>7222.43</td>\n",
       "      <td>7194.87</td>\n",
       "      <td>7199.79</td>\n",
       "      <td>672.46</td>\n",
       "      <td>4855213.22</td>\n",
       "      <td>7199.97</td>\n",
       "      <td>direct</td>\n",
       "      <td>NaN</td>\n",
       "      <td>2019-12-12 21:00:00</td>\n",
       "    </tr>\n",
       "    <tr>\n",
       "      <th>3</th>\n",
       "      <td>1576155600</td>\n",
       "      <td>7211.80</td>\n",
       "      <td>7187.29</td>\n",
       "      <td>7199.97</td>\n",
       "      <td>807.61</td>\n",
       "      <td>5821087.81</td>\n",
       "      <td>7201.38</td>\n",
       "      <td>direct</td>\n",
       "      <td>NaN</td>\n",
       "      <td>2019-12-12 22:00:00</td>\n",
       "    </tr>\n",
       "    <tr>\n",
       "      <th>4</th>\n",
       "      <td>1576159200</td>\n",
       "      <td>7229.22</td>\n",
       "      <td>7152.84</td>\n",
       "      <td>7201.38</td>\n",
       "      <td>1606.06</td>\n",
       "      <td>11537799.57</td>\n",
       "      <td>7173.50</td>\n",
       "      <td>direct</td>\n",
       "      <td>NaN</td>\n",
       "      <td>2019-12-12 23:00:00</td>\n",
       "    </tr>\n",
       "    <tr>\n",
       "      <th>...</th>\n",
       "      <td>...</td>\n",
       "      <td>...</td>\n",
       "      <td>...</td>\n",
       "      <td>...</td>\n",
       "      <td>...</td>\n",
       "      <td>...</td>\n",
       "      <td>...</td>\n",
       "      <td>...</td>\n",
       "      <td>...</td>\n",
       "      <td>...</td>\n",
       "    </tr>\n",
       "    <tr>\n",
       "      <th>10000</th>\n",
       "      <td>1612144800</td>\n",
       "      <td>33847.46</td>\n",
       "      <td>33257.39</td>\n",
       "      <td>33450.01</td>\n",
       "      <td>2066.49</td>\n",
       "      <td>69445570.35</td>\n",
       "      <td>33675.45</td>\n",
       "      <td>direct</td>\n",
       "      <td>NaN</td>\n",
       "      <td>2021-02-01 11:00:00</td>\n",
       "    </tr>\n",
       "    <tr>\n",
       "      <th>10001</th>\n",
       "      <td>1612148400</td>\n",
       "      <td>33779.76</td>\n",
       "      <td>33505.50</td>\n",
       "      <td>33675.45</td>\n",
       "      <td>1173.82</td>\n",
       "      <td>39473368.04</td>\n",
       "      <td>33590.20</td>\n",
       "      <td>direct</td>\n",
       "      <td>NaN</td>\n",
       "      <td>2021-02-01 12:00:00</td>\n",
       "    </tr>\n",
       "    <tr>\n",
       "      <th>10002</th>\n",
       "      <td>1612152000</td>\n",
       "      <td>33945.41</td>\n",
       "      <td>33404.87</td>\n",
       "      <td>33590.20</td>\n",
       "      <td>1430.06</td>\n",
       "      <td>48159838.72</td>\n",
       "      <td>33576.82</td>\n",
       "      <td>direct</td>\n",
       "      <td>NaN</td>\n",
       "      <td>2021-02-01 13:00:00</td>\n",
       "    </tr>\n",
       "    <tr>\n",
       "      <th>10003</th>\n",
       "      <td>1612155600</td>\n",
       "      <td>33907.89</td>\n",
       "      <td>33467.87</td>\n",
       "      <td>33576.82</td>\n",
       "      <td>1198.20</td>\n",
       "      <td>40319458.23</td>\n",
       "      <td>33803.02</td>\n",
       "      <td>direct</td>\n",
       "      <td>NaN</td>\n",
       "      <td>2021-02-01 14:00:00</td>\n",
       "    </tr>\n",
       "    <tr>\n",
       "      <th>10004</th>\n",
       "      <td>1612159200</td>\n",
       "      <td>33950.67</td>\n",
       "      <td>33739.63</td>\n",
       "      <td>33803.02</td>\n",
       "      <td>569.39</td>\n",
       "      <td>19288055.21</td>\n",
       "      <td>33897.06</td>\n",
       "      <td>direct</td>\n",
       "      <td>NaN</td>\n",
       "      <td>2021-02-01 15:00:00</td>\n",
       "    </tr>\n",
       "  </tbody>\n",
       "</table>\n",
       "<p>10005 rows × 10 columns</p>\n",
       "</div>"
      ],
      "text/plain": [
       "             time      high       low      open  volumefrom     volumeto  \\\n",
       "0      1576144800   7219.93   7149.15   7170.18     1536.79  11041994.81   \n",
       "1      1576148400   7208.36   7166.03   7166.14      785.11   5654607.43   \n",
       "2      1576152000   7222.43   7194.87   7199.79      672.46   4855213.22   \n",
       "3      1576155600   7211.80   7187.29   7199.97      807.61   5821087.81   \n",
       "4      1576159200   7229.22   7152.84   7201.38     1606.06  11537799.57   \n",
       "...           ...       ...       ...       ...         ...          ...   \n",
       "10000  1612144800  33847.46  33257.39  33450.01     2066.49  69445570.35   \n",
       "10001  1612148400  33779.76  33505.50  33675.45     1173.82  39473368.04   \n",
       "10002  1612152000  33945.41  33404.87  33590.20     1430.06  48159838.72   \n",
       "10003  1612155600  33907.89  33467.87  33576.82     1198.20  40319458.23   \n",
       "10004  1612159200  33950.67  33739.63  33803.02      569.39  19288055.21   \n",
       "\n",
       "          close conversionType conversionSymbol              timeUTC  \n",
       "0       7166.14         direct              NaN  2019-12-12 19:00:00  \n",
       "1       7199.79         direct              NaN  2019-12-12 20:00:00  \n",
       "2       7199.97         direct              NaN  2019-12-12 21:00:00  \n",
       "3       7201.38         direct              NaN  2019-12-12 22:00:00  \n",
       "4       7173.50         direct              NaN  2019-12-12 23:00:00  \n",
       "...         ...            ...              ...                  ...  \n",
       "10000  33675.45         direct              NaN  2021-02-01 11:00:00  \n",
       "10001  33590.20         direct              NaN  2021-02-01 12:00:00  \n",
       "10002  33576.82         direct              NaN  2021-02-01 13:00:00  \n",
       "10003  33803.02         direct              NaN  2021-02-01 14:00:00  \n",
       "10004  33897.06         direct              NaN  2021-02-01 15:00:00  \n",
       "\n",
       "[10005 rows x 10 columns]"
      ]
     },
     "execution_count": 100,
     "metadata": {},
     "output_type": "execute_result"
    }
   ],
   "source": [
    "data"
   ]
  },
  {
   "cell_type": "code",
   "execution_count": 101,
   "metadata": {},
   "outputs": [],
   "source": [
    "data.set_index(['timeUTC'],inplace=True)\n",
    "#data = data['item_cnt_day'].resample('D').sum()\n",
    "df=pd.DataFrame(data)"
   ]
  },
  {
   "cell_type": "code",
   "execution_count": 102,
   "metadata": {},
   "outputs": [],
   "source": [
    "from sklearn.preprocessing import MinMaxScaler\n",
    "values = data['close'].values.reshape(-1,1)\n",
    "values = values.astype('float32')\n",
    "scaler = MinMaxScaler(feature_range=(0, 1))\n",
    "ts = scaler.fit_transform(values)"
   ]
  },
  {
   "cell_type": "code",
   "execution_count": 109,
   "metadata": {},
   "outputs": [
    {
     "data": {
      "text/plain": [
       "(10005, 1)"
      ]
     },
     "execution_count": 109,
     "metadata": {},
     "output_type": "execute_result"
    }
   ],
   "source": [
    "ts.shape"
   ]
  },
  {
   "cell_type": "code",
   "execution_count": 103,
   "metadata": {},
   "outputs": [
    {
     "name": "stdout",
     "output_type": "stream",
     "text": [
      "(8000, 6, 1)\n",
      "(8000, 1)\n"
     ]
    }
   ],
   "source": [
    "timestep = 6\n",
    "\n",
    "X= []\n",
    "Y=[]\n",
    "\n",
    "raw_data=ts\n",
    "\n",
    "\n",
    "for i in range(len(raw_data)- (timestep)):\n",
    "    X.append(raw_data[i:i+timestep])\n",
    "    Y.append(raw_data[i+timestep])\n",
    "\n",
    "\n",
    "X=np.asanyarray(X)\n",
    "Y=np.asanyarray(Y)\n",
    "\n",
    "k = 8000\n",
    "X_train = X[:k,:,:] \n",
    "print(X_train.shape)\n",
    "\n",
    "y_train = Y[:k] \n",
    "print(y_train.shape)\n",
    "\n",
    "#split_date = '2020-12-12'\n",
    "#trainX = df.loc[df.index <= split_date].copy()\n",
    "#trainy = df.loc[df.index > split_date].copy()"
   ]
  },
  {
   "cell_type": "code",
   "execution_count": 129,
   "metadata": {},
   "outputs": [],
   "source": [
    "\n",
    "\n",
    "from scipy import stats \n",
    "  \n",
    "\n",
    "  # transform training data & save lambda value \n",
    "fitted_data, fitted_lambda = stats.boxcox(data['close'].values) \n",
    "\n",
    "fitted_data=fitted_data.reshape(-1,1)\n"
   ]
  },
  {
   "cell_type": "code",
   "execution_count": 130,
   "metadata": {},
   "outputs": [
    {
     "data": {
      "text/plain": [
       "(10005, 1)"
      ]
     },
     "execution_count": 130,
     "metadata": {},
     "output_type": "execute_result"
    }
   ],
   "source": [
    "fitted_data.shape"
   ]
  },
  {
   "cell_type": "code",
   "execution_count": 131,
   "metadata": {},
   "outputs": [
    {
     "name": "stdout",
     "output_type": "stream",
     "text": [
      "(8000, 6, 1)\n",
      "(8000, 1)\n"
     ]
    }
   ],
   "source": [
    "timestep = 6\n",
    "\n",
    "X= []\n",
    "Y=[]\n",
    "\n",
    "raw_data= fitted_data\n",
    "\n",
    "\n",
    "for i in range(len(raw_data)- (timestep)):\n",
    "    X.append(raw_data[i:i+timestep])\n",
    "    Y.append(raw_data[i+timestep])\n",
    "\n",
    "\n",
    "X=np.asanyarray(X)\n",
    "Y=np.asanyarray(Y)\n",
    "\n",
    "k = 8000\n",
    "X_train1 = X[:k,:,:] \n",
    "print(X_train.shape)\n",
    "\n",
    "y_train1 = Y[:k] \n",
    "print(y_train.shape)\n",
    "\n",
    "#split_date = '2020-12-12'\n",
    "#trainX = df.loc[df.index <= split_date].copy()\n",
    "#trainy = df.loc[df.index > split_date].copy()"
   ]
  },
  {
   "cell_type": "code",
   "execution_count": 132,
   "metadata": {},
   "outputs": [
    {
     "name": "stdout",
     "output_type": "stream",
     "text": [
      "(1999, 6, 1)\n"
     ]
    }
   ],
   "source": [
    "X_test1 = X[k:,:,:] \n",
    "print(X_test.shape)\n",
    "\n",
    "y_test1= Y[k:]  "
   ]
  },
  {
   "cell_type": "code",
   "execution_count": 133,
   "metadata": {},
   "outputs": [
    {
     "data": {
      "text/plain": [
       "array([[[0.95173213],\n",
       "        [0.95173226],\n",
       "        [0.95173227],\n",
       "        [0.9517323 ],\n",
       "        [0.95173195],\n",
       "        [0.95173216]],\n",
       "\n",
       "       [[0.95173226],\n",
       "        [0.95173227],\n",
       "        [0.9517323 ],\n",
       "        [0.95173195],\n",
       "        [0.95173216],\n",
       "        [0.95173209]],\n",
       "\n",
       "       [[0.95173227],\n",
       "        [0.9517323 ],\n",
       "        [0.95173195],\n",
       "        [0.95173216],\n",
       "        [0.95173209],\n",
       "        [0.95173233]],\n",
       "\n",
       "       ...,\n",
       "\n",
       "       [[0.95175323],\n",
       "        [0.9517533 ],\n",
       "        [0.95175299],\n",
       "        [0.95175346],\n",
       "        [0.95175358],\n",
       "        [0.95175353]],\n",
       "\n",
       "       [[0.9517533 ],\n",
       "        [0.95175299],\n",
       "        [0.95175346],\n",
       "        [0.95175358],\n",
       "        [0.95175353],\n",
       "        [0.95175353]],\n",
       "\n",
       "       [[0.95175299],\n",
       "        [0.95175346],\n",
       "        [0.95175358],\n",
       "        [0.95175353],\n",
       "        [0.95175353],\n",
       "        [0.95175365]]])"
      ]
     },
     "execution_count": 133,
     "metadata": {},
     "output_type": "execute_result"
    }
   ],
   "source": [
    "X_test1"
   ]
  },
  {
   "cell_type": "code",
   "execution_count": 134,
   "metadata": {},
   "outputs": [
    {
     "data": {
      "text/plain": [
       "array([[0.95168554],\n",
       "       [0.95168596],\n",
       "       [0.95168596],\n",
       "       ...,\n",
       "       [0.95175353],\n",
       "       [0.95175365],\n",
       "       [0.95175369]])"
      ]
     },
     "execution_count": 134,
     "metadata": {},
     "output_type": "execute_result"
    }
   ],
   "source": [
    "fitted_data"
   ]
  },
  {
   "cell_type": "code",
   "execution_count": 136,
   "metadata": {
    "scrolled": true
   },
   "outputs": [
    {
     "name": "stdout",
     "output_type": "stream",
     "text": [
      "Train on 8000 samples, validate on 1999 samples\n",
      "Epoch 1/20\n",
      "8000/8000 [==============================] - 2s 256us/sample - loss: 0.0250 - val_loss: 9.4315e-10\n",
      "Epoch 2/20\n",
      "8000/8000 [==============================] - 1s 101us/sample - loss: 1.3482e-10 - val_loss: 9.2220e-10\n",
      "Epoch 3/20\n",
      "8000/8000 [==============================] - 1s 94us/sample - loss: 1.3560e-10 - val_loss: 1.0160e-09\n",
      "Epoch 4/20\n",
      "8000/8000 [==============================] - 1s 94us/sample - loss: 1.3821e-10 - val_loss: 1.0560e-09\n",
      "Epoch 5/20\n",
      "8000/8000 [==============================] - 1s 94us/sample - loss: 1.3672e-10 - val_loss: 8.0374e-10\n",
      "Epoch 6/20\n",
      "8000/8000 [==============================] - 1s 93us/sample - loss: 1.4063e-10 - val_loss: 1.1252e-09\n",
      "Epoch 7/20\n",
      "8000/8000 [==============================] - 1s 94us/sample - loss: 1.4508e-10 - val_loss: 1.1661e-09\n",
      "Epoch 8/20\n",
      "8000/8000 [==============================] - 1s 94us/sample - loss: 1.4512e-10 - val_loss: 1.2432e-09\n",
      "Epoch 9/20\n",
      "8000/8000 [==============================] - 1s 94us/sample - loss: 1.5602e-10 - val_loss: 8.0780e-10\n",
      "Epoch 10/20\n",
      "8000/8000 [==============================] - 1s 94us/sample - loss: 1.5997e-10 - val_loss: 4.5229e-10\n",
      "Epoch 11/20\n",
      "8000/8000 [==============================] - 1s 94us/sample - loss: 1.5708e-10 - val_loss: 1.0990e-09\n",
      "Epoch 12/20\n",
      "8000/8000 [==============================] - 1s 94us/sample - loss: 1.5615e-10 - val_loss: 1.1984e-09\n",
      "Epoch 13/20\n",
      "8000/8000 [==============================] - 1s 94us/sample - loss: 1.9467e-10 - val_loss: 3.9121e-10\n",
      "Epoch 14/20\n",
      "8000/8000 [==============================] - 1s 94us/sample - loss: 1.9002e-10 - val_loss: 1.0048e-09\n",
      "Epoch 15/20\n",
      "8000/8000 [==============================] - 1s 94us/sample - loss: 1.8613e-10 - val_loss: 1.3775e-09\n",
      "Epoch 16/20\n",
      "8000/8000 [==============================] - 1s 94us/sample - loss: 2.0551e-10 - val_loss: 3.1466e-10\n",
      "Epoch 17/20\n",
      "8000/8000 [==============================] - 1s 94us/sample - loss: 1.8928e-10 - val_loss: 7.9739e-10\n",
      "Epoch 18/20\n",
      "8000/8000 [==============================] - 1s 94us/sample - loss: 2.3630e-10 - val_loss: 2.2608e-09\n",
      "Epoch 19/20\n",
      "8000/8000 [==============================] - 1s 102us/sample - loss: 2.6694e-10 - val_loss: 1.3810e-09\n",
      "Epoch 20/20\n",
      "8000/8000 [==============================] - 1s 94us/sample - loss: 5.0569e-10 - val_loss: 2.5986e-10\n"
     ]
    }
   ],
   "source": [
    "model = Sequential()\n",
    "model.add(Conv1D(filters=256, kernel_size=3, activation='relu', input_shape=(6, 1)))\n",
    "model.add(Conv1D(filters=256, kernel_size=3, activation='relu'))\n",
    "model.add(Conv1D(filters=128, kernel_size=1, activation='relu'))\n",
    "model.add(MaxPooling1D(pool_size=2))\n",
    "model.add(TimeDistributed(Flatten()))\n",
    "#model.add(LSTM(units = 128, return_sequences=True))\n",
    "model.add(LSTM(units = 32, return_sequences=False))\n",
    "model.add(Dense(20, activation='relu'))\n",
    "#model.add(Dropout(drop_dense))\n",
    "model.add(Dense(1, activation = 'linear'))\n",
    "model.compile(optimizer='adam', loss='mse')\n",
    "# fit model9\n",
    "history=model.fit(X_train1, y_train1, validation_data=(X_test1,y_test1), epochs=20, verbose=1)"
   ]
  },
  {
   "cell_type": "code",
   "execution_count": 137,
   "metadata": {},
   "outputs": [
    {
     "data": {
      "image/png": "[encoded data removed]",
      "text/plain": [
       "<Figure size 432x288 with 1 Axes>"
      ]
     },
     "metadata": {
      "needs_background": "light"
     },
     "output_type": "display_data"
    }
   ],
   "source": [
    "plt.plot(history.history['loss'], linewidth=2, label='Train')\n",
    "plt.plot(history.history['val_loss'], linewidth=2, label='Valid')\n",
    "plt.legend(loc='upper right')\n",
    "plt.title('Model loss')\n",
    "plt.ylabel('Loss')\n",
    "plt.xlabel('Epoch')\n",
    "plt.show()"
   ]
  },
  {
   "cell_type": "code",
   "execution_count": 138,
   "metadata": {},
   "outputs": [
    {
     "data": {
      "image/png": "[encoded data removed]",
      "text/plain": [
       "<Figure size 432x288 with 1 Axes>"
      ]
     },
     "metadata": {
      "needs_background": "light"
     },
     "output_type": "display_data"
    }
   ],
   "source": [
    "from matplotlib import *\n",
    "\n",
    "\n",
    "yhat = model.predict(X_test1)\n",
    "#yhat=yhat.reshape(-1,1)\n",
    "pyplot.plot(yhat, label='predict')\n",
    "pyplot.plot(y_test1, label='true')\n",
    "pyplot.legend()\n",
    "pyplot.show()"
   ]
  },
  {
   "cell_type": "code",
   "execution_count": 139,
   "metadata": {},
   "outputs": [
    {
     "data": {
      "text/plain": [
       "-1.0506737381299251"
      ]
     },
     "execution_count": 139,
     "metadata": {},
     "output_type": "execute_result"
    }
   ],
   "source": [
    "fitted_lambda"
   ]
  },
  {
   "cell_type": "code",
   "execution_count": 149,
   "metadata": {},
   "outputs": [
    {
     "ename": "TypeError",
     "evalue": "ufunc 'bitwise_xor' not supported for the input types, and the inputs could not be safely coerced to any supported types according to the casting rule ''safe''",
     "output_type": "error",
     "traceback": [
      "\u001b[0;31m---------------------------------------------------------------------------\u001b[0m",
      "\u001b[0;31mTypeError\u001b[0m                                 Traceback (most recent call last)",
      "\u001b[0;32m<ipython-input-149-ac401ce6f611>\u001b[0m in \u001b[0;36m<module>\u001b[0;34m\u001b[0m\n\u001b[0;32m----> 1\u001b[0;31m \u001b[0;34m(\u001b[0m\u001b[0;36m7166.14\u001b[0m\u001b[0;34m^\u001b[0m\u001b[0;34m(\u001b[0m\u001b[0mfitted_lambda\u001b[0m\u001b[0;34m)\u001b[0m\u001b[0;34m-\u001b[0m\u001b[0;36m1\u001b[0m\u001b[0;34m)\u001b[0m\u001b[0;34m\u001b[0m\u001b[0m\n\u001b[0m",
      "\u001b[0;31mTypeError\u001b[0m: ufunc 'bitwise_xor' not supported for the input types, and the inputs could not be safely coerced to any supported types according to the casting rule ''safe''"
     ]
    }
   ],
   "source": [
    "(7166.14^(fitted_lambda)-1)"
   ]
  },
  {
   "cell_type": "code",
   "execution_count": 143,
   "metadata": {},
   "outputs": [],
   "source": [
    "yhat_inverse = yhat*fitted_lambda +1 - exp(fitted_lambda)\n",
    "testY_inverse = y_test1*fitted_lambda +1 - exp(fitted_lambda)"
   ]
  },
  {
   "cell_type": "code",
   "execution_count": 147,
   "metadata": {},
   "outputs": [
    {
     "data": {
      "text/plain": [
       "array([ 7166.14,  7199.79,  7199.97, ..., 33576.82, 33803.02, 33897.06])"
      ]
     },
     "execution_count": 147,
     "metadata": {},
     "output_type": "execute_result"
    }
   ],
   "source": [
    "data['close'].values"
   ]
  },
  {
   "cell_type": "code",
   "execution_count": 145,
   "metadata": {},
   "outputs": [
    {
     "data": {
      "text/plain": [
       "array([[-0.34965676],\n",
       "       [-0.34965676],\n",
       "       [-0.34965676],\n",
       "       ...,\n",
       "       [-0.34966224],\n",
       "       [-0.34966224],\n",
       "       [-0.34966236]], dtype=float32)"
      ]
     },
     "execution_count": 145,
     "metadata": {},
     "output_type": "execute_result"
    }
   ],
   "source": [
    "yhat_inverse"
   ]
  },
  {
   "cell_type": "code",
   "execution_count": 146,
   "metadata": {},
   "outputs": [
    {
     "data": {
      "text/plain": [
       "array([[-0.34966197],\n",
       "       [-0.34966222],\n",
       "       [-0.3496621 ],\n",
       "       ...,\n",
       "       [-0.3496845 ],\n",
       "       [-0.34968462],\n",
       "       [-0.34968467]])"
      ]
     },
     "execution_count": 146,
     "metadata": {},
     "output_type": "execute_result"
    }
   ],
   "source": [
    "testY_inverse"
   ]
  },
  {
   "cell_type": "code",
   "execution_count": 144,
   "metadata": {},
   "outputs": [
    {
     "name": "stdout",
     "output_type": "stream",
     "text": [
      "Test RMSE: 0.000\n"
     ]
    }
   ],
   "source": [
    "from math import *\n",
    "rmse = sqrt(mean_squared_error(testY_inverse, yhat_inverse))\n",
    "print('Test RMSE: %.3f' % rmse)"
   ]
  },
  {
   "cell_type": "code",
   "execution_count": 68,
   "metadata": {},
   "outputs": [],
   "source": [
    "def create_model(lr=0.001, drop_CNN=0, drop_dense=0.2, kernel_size=3):\n",
    "    model = Sequential()\n",
    "    intput_shape=(X_train.shape[1], X_train.shape[2])\n",
    "    model.add(Conv1D(128, kernel_size=kernel_size, padding = \"same\", activation=\"relu\", input_shape = intput_shape))\n",
    "    model.add(Dropout(drop_CNN))\n",
    "    model.add(MaxPooling1D(pool_size=2, padding='same'))\n",
    "    model.add(Conv1D(128,kernel_size=kernel_size, padding = \"same\", activation=\"relu\"))\n",
    "    model.add(Dropout(drop_CNN))\n",
    "    model.add(MaxPooling1D(pool_size=2, padding='same'))\n",
    "    model.add(TimeDistributed(Flatten()))\n",
    "    model.add(LSTM(units = 128, return_sequences=True))\n",
    "    model.add(LSTM(units = 128, return_sequences=False))\n",
    "    model.add(Dense(200, activation='relu'))\n",
    "    model.add(Dropout(drop_dense))\n",
    "    model.add(Dense(1, activation = 'linear'))\n",
    "    opt = tensorflow.keras.optimizers.Adam(learning_rate=lr)\n",
    "    model.compile(optimizer=opt, loss='mse')\n",
    "\n",
    "    return model"
   ]
  },
  {
   "cell_type": "code",
   "execution_count": 69,
   "metadata": {},
   "outputs": [],
   "source": [
    "if False: \n",
    "    from keras.wrappers.scikit_learn import KerasRegressor\n",
    "    from sklearn.model_selection import GridSearchCV\n",
    "\n",
    "\n",
    "    model = KerasRegressor(build_fn=create_model, epochs=100, batch_size=256)\n",
    "\n",
    "    drop_CNN = [0, 0.2]\n",
    "    drop_dense = [0.25, 0.5, 0.75]\n",
    "    lr = [0.001, 0.01, 0.1]\n",
    "    kernel_size = [3, 5]\n",
    "\n",
    "    params = dict(lr=lr, drop_CNN=drop_CNN, drop_dense = drop_dense, kernel_size=kernel_size)\n",
    "    model = GridSearchCV(estimator=model, param_grid=params, verbose=0, cv=5)\n",
    "    grid_result = model.fit(X_train, y_train)\n",
    "  # summarize results\n",
    "    print(\"Best: %f using %s\" % (model.best_score_, model.best_params_))\n",
    "    means = model.cv_results_['mean_test_score']\n",
    "    stds = model.cv_results_['std_test_score']\n",
    "    params = model.cv_results_['params']\n",
    "    for mean, stdev, param in zip(means, stds, params):\n",
    "        print(\"%f (%f) with: %r\" % (mean, stdev, param))"
   ]
  },
  {
   "cell_type": "code",
   "execution_count": 74,
   "metadata": {
    "scrolled": true
   },
   "outputs": [
    {
     "name": "stdout",
     "output_type": "stream",
     "text": [
      "Train on 8000 samples, validate on 1999 samples\n",
      "Epoch 1/100\n",
      "8000/8000 - 3s - loss: 0.0031 - val_loss: 0.0500\n",
      "Epoch 2/100\n",
      "8000/8000 - 0s - loss: 0.0037 - val_loss: 0.0726\n",
      "Epoch 3/100\n",
      "8000/8000 - 0s - loss: 0.0060 - val_loss: 0.1510\n",
      "Epoch 4/100\n",
      "8000/8000 - 0s - loss: 0.0057 - val_loss: 0.1651\n",
      "Epoch 5/100\n",
      "8000/8000 - 0s - loss: 0.0044 - val_loss: 0.0403\n",
      "Epoch 6/100\n",
      "8000/8000 - 0s - loss: 0.0041 - val_loss: 0.1708\n",
      "Epoch 7/100\n",
      "8000/8000 - 0s - loss: 0.0039 - val_loss: 0.0093\n",
      "Epoch 8/100\n",
      "8000/8000 - 0s - loss: 0.0026 - val_loss: 0.0316\n",
      "Epoch 9/100\n",
      "8000/8000 - 0s - loss: 0.0026 - val_loss: 0.0027\n",
      "Epoch 10/100\n",
      "8000/8000 - 0s - loss: 0.0014 - val_loss: 0.0638\n",
      "Epoch 11/100\n",
      "8000/8000 - 0s - loss: 0.0017 - val_loss: 0.0149\n",
      "Epoch 12/100\n",
      "8000/8000 - 0s - loss: 3.2440e-04 - val_loss: 0.0080\n",
      "Epoch 13/100\n",
      "8000/8000 - 0s - loss: 1.7226e-04 - val_loss: 0.0104\n",
      "Epoch 14/100\n",
      "8000/8000 - 0s - loss: 2.0030e-04 - val_loss: 0.0095\n",
      "Epoch 15/100\n",
      "8000/8000 - 0s - loss: 2.5956e-04 - val_loss: 0.0057\n",
      "Epoch 16/100\n",
      "8000/8000 - 0s - loss: 1.3182e-04 - val_loss: 0.0035\n",
      "Epoch 17/100\n",
      "8000/8000 - 0s - loss: 1.3125e-04 - val_loss: 0.0047\n",
      "Epoch 18/100\n",
      "8000/8000 - 0s - loss: 1.1482e-04 - val_loss: 0.0056\n",
      "Epoch 19/100\n",
      "8000/8000 - 0s - loss: 1.1489e-04 - val_loss: 0.0058\n",
      "Epoch 20/100\n",
      "8000/8000 - 0s - loss: 1.1355e-04 - val_loss: 0.0051\n",
      "Epoch 21/100\n",
      "8000/8000 - 0s - loss: 1.1572e-04 - val_loss: 0.0041\n",
      "Epoch 22/100\n",
      "8000/8000 - 0s - loss: 1.0124e-04 - val_loss: 0.0040\n",
      "Epoch 23/100\n",
      "8000/8000 - 0s - loss: 1.0190e-04 - val_loss: 0.0059\n",
      "Epoch 24/100\n",
      "8000/8000 - 0s - loss: 1.0006e-04 - val_loss: 0.0075\n",
      "Epoch 25/100\n",
      "8000/8000 - 0s - loss: 1.0111e-04 - val_loss: 0.0064\n",
      "Epoch 26/100\n",
      "8000/8000 - 0s - loss: 9.5666e-05 - val_loss: 0.0054\n",
      "Epoch 27/100\n",
      "8000/8000 - 0s - loss: 8.9396e-05 - val_loss: 0.0053\n",
      "Epoch 28/100\n",
      "8000/8000 - 0s - loss: 8.6781e-05 - val_loss: 0.0047\n",
      "Epoch 29/100\n",
      "8000/8000 - 0s - loss: 8.5918e-05 - val_loss: 0.0059\n",
      "Epoch 30/100\n",
      "8000/8000 - 0s - loss: 9.1225e-05 - val_loss: 0.0071\n",
      "Epoch 31/100\n",
      "8000/8000 - 0s - loss: 9.2836e-05 - val_loss: 0.0061\n",
      "Epoch 32/100\n",
      "8000/8000 - 0s - loss: 1.0598e-04 - val_loss: 0.0040\n",
      "Epoch 33/100\n",
      "8000/8000 - 0s - loss: 1.3467e-04 - val_loss: 0.0078\n",
      "Epoch 34/100\n",
      "8000/8000 - 0s - loss: 1.3518e-04 - val_loss: 0.0122\n",
      "Epoch 35/100\n",
      "8000/8000 - 0s - loss: 3.3948e-04 - val_loss: 0.0044\n",
      "Epoch 36/100\n",
      "8000/8000 - 0s - loss: 5.6163e-04 - val_loss: 0.0020\n",
      "Epoch 37/100\n",
      "8000/8000 - 0s - loss: 3.1981e-04 - val_loss: 0.0157\n",
      "Epoch 38/100\n",
      "8000/8000 - 0s - loss: 7.7559e-04 - val_loss: 0.0242\n",
      "Epoch 39/100\n",
      "8000/8000 - 0s - loss: 0.0011 - val_loss: 0.0043\n",
      "Epoch 40/100\n",
      "8000/8000 - 0s - loss: 7.9266e-04 - val_loss: 5.4104e-04\n",
      "Epoch 41/100\n",
      "8000/8000 - 0s - loss: 5.0646e-04 - val_loss: 0.0065\n",
      "Epoch 42/100\n",
      "8000/8000 - 0s - loss: 1.2812e-04 - val_loss: 5.8793e-04\n",
      "Epoch 43/100\n",
      "8000/8000 - 0s - loss: 1.2973e-04 - val_loss: 0.0021\n",
      "Epoch 44/100\n",
      "8000/8000 - 0s - loss: 1.1133e-04 - val_loss: 0.0036\n",
      "Epoch 45/100\n",
      "8000/8000 - 0s - loss: 1.0220e-04 - val_loss: 0.0041\n",
      "Epoch 46/100\n",
      "8000/8000 - 0s - loss: 1.2429e-04 - val_loss: 0.0021\n",
      "Epoch 47/100\n",
      "8000/8000 - 0s - loss: 1.3552e-04 - val_loss: 6.7480e-04\n",
      "Epoch 48/100\n",
      "8000/8000 - 0s - loss: 8.6951e-05 - val_loss: 0.0014\n",
      "Epoch 49/100\n",
      "8000/8000 - 0s - loss: 8.8763e-05 - val_loss: 0.0030\n",
      "Epoch 50/100\n",
      "8000/8000 - 0s - loss: 7.6188e-05 - val_loss: 0.0021\n",
      "Epoch 51/100\n",
      "8000/8000 - 0s - loss: 7.9658e-05 - val_loss: 0.0013\n",
      "Epoch 52/100\n",
      "8000/8000 - 0s - loss: 6.9535e-05 - val_loss: 0.0017\n",
      "Epoch 53/100\n",
      "8000/8000 - 0s - loss: 7.3272e-05 - val_loss: 0.0015\n",
      "Epoch 54/100\n",
      "8000/8000 - 0s - loss: 7.8530e-05 - val_loss: 0.0015\n",
      "Epoch 55/100\n",
      "8000/8000 - 0s - loss: 1.1150e-04 - val_loss: 0.0052\n",
      "Epoch 56/100\n",
      "8000/8000 - 0s - loss: 1.4782e-04 - val_loss: 0.0055\n",
      "Epoch 57/100\n",
      "8000/8000 - 0s - loss: 1.7013e-04 - val_loss: 9.7825e-04\n",
      "Epoch 58/100\n",
      "8000/8000 - 0s - loss: 2.1573e-04 - val_loss: 0.0013\n",
      "Epoch 59/100\n",
      "8000/8000 - 0s - loss: 1.0523e-04 - val_loss: 0.0101\n",
      "Epoch 60/100\n",
      "8000/8000 - 0s - loss: 1.6367e-04 - val_loss: 0.0044\n",
      "Epoch 61/100\n",
      "8000/8000 - 0s - loss: 4.3626e-04 - val_loss: 0.0019\n",
      "Epoch 62/100\n",
      "8000/8000 - 0s - loss: 8.3932e-04 - val_loss: 0.0084\n",
      "Epoch 63/100\n",
      "8000/8000 - 0s - loss: 0.0011 - val_loss: 0.0028\n",
      "Epoch 64/100\n",
      "8000/8000 - 0s - loss: 0.0011 - val_loss: 0.0102\n",
      "Epoch 65/100\n",
      "8000/8000 - 0s - loss: 0.0011 - val_loss: 0.0106\n",
      "Epoch 66/100\n",
      "8000/8000 - 0s - loss: 6.6813e-04 - val_loss: 0.0041\n",
      "Epoch 67/100\n",
      "8000/8000 - 0s - loss: 4.5039e-04 - val_loss: 0.0011\n",
      "Epoch 68/100\n",
      "8000/8000 - 0s - loss: 1.0644e-04 - val_loss: 0.0011\n",
      "Epoch 69/100\n",
      "8000/8000 - 0s - loss: 1.9631e-04 - val_loss: 0.0079\n",
      "Epoch 70/100\n",
      "8000/8000 - 0s - loss: 2.0097e-04 - val_loss: 0.0074\n",
      "Epoch 71/100\n",
      "8000/8000 - 0s - loss: 2.6394e-04 - val_loss: 0.0074\n",
      "Epoch 72/100\n",
      "8000/8000 - 0s - loss: 1.2405e-04 - val_loss: 0.0054\n",
      "Epoch 73/100\n",
      "8000/8000 - 0s - loss: 1.2003e-04 - val_loss: 0.0077\n",
      "Epoch 74/100\n",
      "8000/8000 - 0s - loss: 1.5141e-04 - val_loss: 0.0089\n",
      "Epoch 75/100\n",
      "8000/8000 - 0s - loss: 1.5714e-04 - val_loss: 0.0091\n",
      "Epoch 76/100\n",
      "8000/8000 - 0s - loss: 1.2427e-04 - val_loss: 0.0077\n",
      "Epoch 77/100\n",
      "8000/8000 - 0s - loss: 1.1404e-04 - val_loss: 0.0085\n",
      "Epoch 78/100\n",
      "8000/8000 - 0s - loss: 1.1206e-04 - val_loss: 0.0093\n",
      "Epoch 79/100\n",
      "8000/8000 - 0s - loss: 1.1536e-04 - val_loss: 0.0095\n",
      "Epoch 80/100\n",
      "8000/8000 - 0s - loss: 1.0947e-04 - val_loss: 0.0081\n",
      "Epoch 81/100\n",
      "8000/8000 - 0s - loss: 9.0977e-05 - val_loss: 0.0081\n",
      "Epoch 82/100\n",
      "8000/8000 - 0s - loss: 8.3819e-05 - val_loss: 0.0096\n",
      "Epoch 83/100\n",
      "8000/8000 - 0s - loss: 9.9983e-05 - val_loss: 0.0086\n",
      "Epoch 84/100\n",
      "8000/8000 - 0s - loss: 1.3829e-04 - val_loss: 0.0093\n",
      "Epoch 85/100\n",
      "8000/8000 - 0s - loss: 9.9273e-05 - val_loss: 0.0088\n",
      "Epoch 86/100\n",
      "8000/8000 - 0s - loss: 9.7677e-05 - val_loss: 0.0140\n",
      "Epoch 87/100\n",
      "8000/8000 - 0s - loss: 1.0782e-04 - val_loss: 0.0104\n",
      "Epoch 88/100\n",
      "8000/8000 - 0s - loss: 1.4915e-04 - val_loss: 0.0072\n",
      "Epoch 89/100\n",
      "8000/8000 - 0s - loss: 7.7688e-05 - val_loss: 0.0057\n",
      "Epoch 90/100\n",
      "8000/8000 - 0s - loss: 6.4846e-05 - val_loss: 0.0092\n",
      "Epoch 91/100\n",
      "8000/8000 - 0s - loss: 8.3015e-05 - val_loss: 0.0138\n",
      "Epoch 92/100\n",
      "8000/8000 - 0s - loss: 8.7649e-05 - val_loss: 0.0108\n",
      "Epoch 93/100\n",
      "8000/8000 - 0s - loss: 1.4004e-04 - val_loss: 0.0073\n",
      "Epoch 94/100\n",
      "8000/8000 - 0s - loss: 9.1983e-05 - val_loss: 0.0061\n",
      "Epoch 95/100\n",
      "8000/8000 - 0s - loss: 6.1081e-05 - val_loss: 0.0059\n",
      "Epoch 96/100\n",
      "8000/8000 - 0s - loss: 9.1541e-05 - val_loss: 0.0148\n",
      "Epoch 97/100\n",
      "8000/8000 - 0s - loss: 1.0592e-04 - val_loss: 0.0140\n",
      "Epoch 98/100\n",
      "8000/8000 - 0s - loss: 7.9315e-05 - val_loss: 0.0072\n",
      "Epoch 99/100\n",
      "8000/8000 - 0s - loss: 7.3203e-05 - val_loss: 0.0085\n",
      "Epoch 100/100\n",
      "8000/8000 - 0s - loss: 8.3274e-05 - val_loss: 0.0132\n"
     ]
    },
    {
     "data": {
      "image/png": "[encoded data removed]",
      "text/plain": [
       "<Figure size 432x288 with 1 Axes>"
      ]
     },
     "metadata": {
      "needs_background": "light"
     },
     "output_type": "display_data"
    }
   ],
   "source": [
    "if True:\n",
    "    model=create_model(lr=0.001, drop_CNN=0, drop_dense= 0.25, kernel_size=3)\n",
    "    history = model.fit(X_train, y_train, epochs=100, batch_size=256, validation_data=(X_test,y_test),\n",
    "                        shuffle=False, \n",
    "                        use_multiprocessing=True, verbose=2)\n",
    "    \n",
    "    plt.plot(history.history['loss'], linewidth=2, label='Train')\n",
    "    plt.plot(history.history['val_loss'], linewidth=2, label='Valid')\n",
    "    plt.legend(loc='upper right')\n",
    "    plt.title('Model loss')\n",
    "    plt.ylabel('Loss')\n",
    "    plt.xlabel('Epoch')\n",
    "    plt.show()"
   ]
  },
  {
   "cell_type": "code",
   "execution_count": 66,
   "metadata": {},
   "outputs": [],
   "source": [
    "second_input=Input(shape=(6,1))\n",
    "in11=layers.Conv1D(filters=128, kernel_size=3,padding='same', activation='relu', input_shape=(6, 1))(second_input)\n",
    "#in11=layers.MaxPooling1D(pool_size=2)(in11)\n",
    "\n",
    "in22=layers.Conv1D(filters=32, kernel_size=4,padding='same', activation='relu', input_shape=(6, 1))(in11)\n",
    "#in33=layers.Conv1D(filters=16, kernel_size=1, activation='relu')(in22)\n",
    "in44=layers.MaxPooling1D(pool_size=2)(in22)\n",
    "#in44=Dropout(0.5)(in44)\n",
    "in44=TimeDistributed(Flatten())(in44)\n",
    "\n",
    "#in55=layers.Flatten()(in44)\n",
    "in11=layers.Bidirectional(LSTM(100,return_sequences=False))(in44)\n",
    "#in11=layers.Bidirectional(LSTM(30))(in11)\n",
    "#concat=layers.Concatenate()([in6, in11])\n",
    "dens=layers.Dense(50,activation='relu')(in11)\n",
    "#dens=Dropout(0.2)(dens)\n",
    "dens=layers.Dense(1)(in11)\n",
    "\n",
    "model=tf.keras.Model(inputs=second_input,outputs=dens)\n",
    "model.compile(optimizer='adam', loss='mse')"
   ]
  },
  {
   "cell_type": "raw",
   "metadata": {},
   "source": [
    "model.save('cnnlstm_rmse543_model.h5')\n"
   ]
  },
  {
   "cell_type": "code",
   "execution_count": 85,
   "metadata": {},
   "outputs": [],
   "source": [
    "first_input = Input(shape=(6,1))\n",
    "in1=layers.Conv1D(filters=256, kernel_size=3, activation='relu', input_shape=(6, 1))(first_input)\n",
    "in2=layers.Conv1D(filters=256, kernel_size=3, activation='relu', input_shape=(6, 1))(in1)\n",
    "in3=layers.Conv1D(filters=128, kernel_size=1, activation='relu')(in2)\n",
    "in4=layers.MaxPooling1D(pool_size=2)(in3)\n",
    "in5=layers.Flatten()(in4)\n",
    "in6=layers.Dense(100)(in5)\n",
    "#in6=layers.Dense(1)(in6)\n",
    "\n",
    "second_input=Input(shape=(6,1))\n",
    "#in11=layers.Conv1D(filters=256, kernel_size=3, activation='relu', input_shape=(6, 1))(second_input)\n",
    "#in22=layers.Conv1D(filters=256, kernel_size=3, activation='relu', input_shape=(6, 1))(in11)\n",
    "#in33=layers.Conv1D(filters=128, kernel_size=1, activation='relu')(in22)\n",
    "##in44=layers.MaxPooling1D(pool_size=2)(in33)\n",
    "#in55=layers.Flatten()(in44)\n",
    "in11=layers.Bidirectional(LSTM(100))(second_input)\n",
    "\n",
    "concat=layers.Concatenate()([in6, in11])\n",
    "#dens=layers.Dense(100,activation='relu')(concat)\n",
    "dens=layers.Dense(1)(concat)\n",
    "\n",
    "model=tf.keras.Model(inputs=[first_input,second_input],outputs=[dens])\n",
    "model.compile(optimizer='adam', loss='mse')\n"
   ]
  },
  {
   "cell_type": "code",
   "execution_count": 91,
   "metadata": {},
   "outputs": [],
   "source": [
    "model.save('multiinput_rmse461_batch128_model.h5')\n"
   ]
  },
  {
   "cell_type": "code",
   "execution_count": 142,
   "metadata": {
    "scrolled": true
   },
   "outputs": [
    {
     "name": "stdout",
     "output_type": "stream",
     "text": [
      "Train on 8000 samples, validate on 1999 samples\n",
      "Epoch 1/100\n",
      "8000/8000 [==============================] - 1s 118us/sample - loss: 0.0381 - val_loss: 0.2040\n",
      "Epoch 2/100\n",
      "8000/8000 [==============================] - 0s 41us/sample - loss: 6.9348e-04 - val_loss: 0.1242\n",
      "Epoch 3/100\n",
      "8000/8000 [==============================] - 0s 41us/sample - loss: 5.9620e-05 - val_loss: 0.1169\n",
      "Epoch 4/100\n",
      "8000/8000 [==============================] - 0s 41us/sample - loss: 4.6072e-05 - val_loss: 0.1114\n",
      "Epoch 5/100\n",
      "8000/8000 [==============================] - 0s 41us/sample - loss: 3.3505e-05 - val_loss: 0.1070\n",
      "Epoch 6/100\n",
      "8000/8000 [==============================] - 0s 41us/sample - loss: 2.4768e-05 - val_loss: 0.1031\n",
      "Epoch 7/100\n",
      "8000/8000 [==============================] - 0s 41us/sample - loss: 1.9573e-05 - val_loss: 0.1001\n",
      "Epoch 8/100\n",
      "8000/8000 [==============================] - 0s 41us/sample - loss: 1.8581e-05 - val_loss: 0.0977\n",
      "Epoch 9/100\n",
      "8000/8000 [==============================] - 0s 41us/sample - loss: 1.4600e-05 - val_loss: 0.0958\n",
      "Epoch 10/100\n",
      "8000/8000 [==============================] - 0s 41us/sample - loss: 1.6767e-05 - val_loss: 0.0942\n",
      "Epoch 11/100\n",
      "8000/8000 [==============================] - 0s 41us/sample - loss: 1.5577e-05 - val_loss: 0.0931\n",
      "Epoch 12/100\n",
      "8000/8000 [==============================] - 0s 41us/sample - loss: 1.3384e-05 - val_loss: 0.0924\n",
      "Epoch 13/100\n",
      "8000/8000 [==============================] - 0s 41us/sample - loss: 1.3418e-05 - val_loss: 0.0915\n",
      "Epoch 14/100\n",
      "8000/8000 [==============================] - 0s 41us/sample - loss: 1.6344e-05 - val_loss: 0.0914\n",
      "Epoch 15/100\n",
      "8000/8000 [==============================] - 0s 41us/sample - loss: 1.3729e-05 - val_loss: 0.0904\n",
      "Epoch 16/100\n",
      "8000/8000 [==============================] - 0s 41us/sample - loss: 1.5186e-05 - val_loss: 0.0906\n",
      "Epoch 17/100\n",
      "8000/8000 [==============================] - 0s 41us/sample - loss: 1.4700e-05 - val_loss: 0.0901\n",
      "Epoch 18/100\n",
      "8000/8000 [==============================] - 0s 41us/sample - loss: 1.0761e-05 - val_loss: 0.0897\n",
      "Epoch 19/100\n",
      "8000/8000 [==============================] - 0s 41us/sample - loss: 1.3138e-05 - val_loss: 0.0892\n",
      "Epoch 20/100\n",
      "8000/8000 [==============================] - 0s 41us/sample - loss: 1.2643e-05 - val_loss: 0.0889\n",
      "Epoch 21/100\n",
      "8000/8000 [==============================] - 0s 41us/sample - loss: 1.2195e-05 - val_loss: 0.0887\n",
      "Epoch 22/100\n",
      "8000/8000 [==============================] - 0s 41us/sample - loss: 1.1047e-05 - val_loss: 0.0883\n",
      "Epoch 23/100\n",
      "8000/8000 [==============================] - 0s 41us/sample - loss: 1.3467e-05 - val_loss: 0.0882\n",
      "Epoch 24/100\n",
      "8000/8000 [==============================] - 0s 41us/sample - loss: 1.0937e-05 - val_loss: 0.0881\n",
      "Epoch 25/100\n",
      "8000/8000 [==============================] - 0s 41us/sample - loss: 1.0971e-05 - val_loss: 0.0875\n",
      "Epoch 26/100\n",
      "8000/8000 [==============================] - 0s 41us/sample - loss: 1.2565e-05 - val_loss: 0.0873\n",
      "Epoch 27/100\n",
      "8000/8000 [==============================] - 0s 41us/sample - loss: 1.2806e-05 - val_loss: 0.0875\n",
      "Epoch 28/100\n",
      "8000/8000 [==============================] - 0s 40us/sample - loss: 1.2026e-05 - val_loss: 0.0872\n",
      "Epoch 29/100\n",
      "8000/8000 [==============================] - 0s 41us/sample - loss: 1.0914e-05 - val_loss: 0.0869\n",
      "Epoch 30/100\n",
      "8000/8000 [==============================] - 0s 41us/sample - loss: 1.4312e-05 - val_loss: 0.0870\n",
      "Epoch 31/100\n",
      "8000/8000 [==============================] - 0s 41us/sample - loss: 1.2731e-05 - val_loss: 0.0872\n",
      "Epoch 32/100\n",
      "8000/8000 [==============================] - 0s 41us/sample - loss: 1.4370e-05 - val_loss: 0.0869\n",
      "Epoch 33/100\n",
      "8000/8000 [==============================] - 0s 41us/sample - loss: 1.1777e-05 - val_loss: 0.0865\n",
      "Epoch 34/100\n",
      "8000/8000 [==============================] - 0s 41us/sample - loss: 1.2289e-05 - val_loss: 0.0866\n",
      "Epoch 35/100\n",
      "8000/8000 [==============================] - 0s 41us/sample - loss: 1.3366e-05 - val_loss: 0.0865\n",
      "Epoch 36/100\n",
      "8000/8000 [==============================] - 0s 41us/sample - loss: 1.1748e-05 - val_loss: 0.0864\n",
      "Epoch 37/100\n",
      "8000/8000 [==============================] - 0s 41us/sample - loss: 1.1507e-05 - val_loss: 0.0862\n",
      "Epoch 38/100\n",
      "8000/8000 [==============================] - 0s 41us/sample - loss: 1.2145e-05 - val_loss: 0.0860\n",
      "Epoch 39/100\n",
      "8000/8000 [==============================] - 0s 41us/sample - loss: 1.2142e-05 - val_loss: 0.0858\n",
      "Epoch 40/100\n",
      "8000/8000 [==============================] - 0s 41us/sample - loss: 1.1033e-05 - val_loss: 0.0855\n",
      "Epoch 41/100\n",
      "8000/8000 [==============================] - 0s 41us/sample - loss: 1.1933e-05 - val_loss: 0.0854\n",
      "Epoch 42/100\n",
      "8000/8000 [==============================] - 0s 41us/sample - loss: 1.2651e-05 - val_loss: 0.0854\n",
      "Epoch 43/100\n",
      "8000/8000 [==============================] - 0s 41us/sample - loss: 1.1144e-05 - val_loss: 0.0854\n",
      "Epoch 44/100\n",
      "8000/8000 [==============================] - 0s 41us/sample - loss: 1.1384e-05 - val_loss: 0.0849\n",
      "Epoch 45/100\n",
      "8000/8000 [==============================] - 0s 41us/sample - loss: 1.4214e-05 - val_loss: 0.0855\n",
      "Epoch 46/100\n",
      "1536/8000 [====>.........................] - ETA: 0s - loss: 1.6670e-05"
     ]
    },
    {
     "ename": "KeyboardInterrupt",
     "evalue": "",
     "output_type": "error",
     "traceback": [
      "\u001b[0;31m---------------------------------------------------------------------------\u001b[0m",
      "\u001b[0;31mKeyboardInterrupt\u001b[0m                         Traceback (most recent call last)",
      "\u001b[0;32m<ipython-input-142-a7e1f7844abe>\u001b[0m in \u001b[0;36m<module>\u001b[0;34m\u001b[0m\n\u001b[0;32m----> 1\u001b[0;31m \u001b[0mhistory\u001b[0m\u001b[0;34m=\u001b[0m\u001b[0mmodel\u001b[0m\u001b[0;34m.\u001b[0m\u001b[0mfit\u001b[0m\u001b[0;34m(\u001b[0m\u001b[0;34m[\u001b[0m\u001b[0mX_train\u001b[0m\u001b[0;34m,\u001b[0m\u001b[0mX_train1\u001b[0m\u001b[0;34m]\u001b[0m\u001b[0;34m,\u001b[0m \u001b[0my_train\u001b[0m\u001b[0;34m,\u001b[0m \u001b[0mepochs\u001b[0m\u001b[0;34m=\u001b[0m\u001b[0;36m100\u001b[0m\u001b[0;34m,\u001b[0m \u001b[0mverbose\u001b[0m\u001b[0;34m=\u001b[0m\u001b[0;36m1\u001b[0m\u001b[0;34m,\u001b[0m\u001b[0mbatch_size\u001b[0m\u001b[0;34m=\u001b[0m\u001b[0;36m128\u001b[0m\u001b[0;34m,\u001b[0m \u001b[0mvalidation_data\u001b[0m\u001b[0;34m=\u001b[0m\u001b[0;34m(\u001b[0m\u001b[0;34m[\u001b[0m\u001b[0mX_test\u001b[0m\u001b[0;34m,\u001b[0m\u001b[0mX_test\u001b[0m\u001b[0;34m]\u001b[0m\u001b[0;34m,\u001b[0m\u001b[0my_test\u001b[0m\u001b[0;34m)\u001b[0m\u001b[0;34m)\u001b[0m\u001b[0;34m\u001b[0m\u001b[0m\n\u001b[0m",
      "\u001b[0;32m~/anaconda3/envs/spoof/lib/python3.5/site-packages/tensorflow_core/python/keras/engine/training.py\u001b[0m in \u001b[0;36mfit\u001b[0;34m(self, x, y, batch_size, epochs, verbose, callbacks, validation_split, validation_data, shuffle, class_weight, sample_weight, initial_epoch, steps_per_epoch, validation_steps, validation_freq, max_queue_size, workers, use_multiprocessing, **kwargs)\u001b[0m\n\u001b[1;32m    726\u001b[0m         \u001b[0mmax_queue_size\u001b[0m\u001b[0;34m=\u001b[0m\u001b[0mmax_queue_size\u001b[0m\u001b[0;34m,\u001b[0m\u001b[0;34m\u001b[0m\u001b[0m\n\u001b[1;32m    727\u001b[0m         \u001b[0mworkers\u001b[0m\u001b[0;34m=\u001b[0m\u001b[0mworkers\u001b[0m\u001b[0;34m,\u001b[0m\u001b[0;34m\u001b[0m\u001b[0m\n\u001b[0;32m--> 728\u001b[0;31m         use_multiprocessing=use_multiprocessing)\n\u001b[0m\u001b[1;32m    729\u001b[0m \u001b[0;34m\u001b[0m\u001b[0m\n\u001b[1;32m    730\u001b[0m   def evaluate(self,\n",
      "\u001b[0;32m~/anaconda3/envs/spoof/lib/python3.5/site-packages/tensorflow_core/python/keras/engine/training_v2.py\u001b[0m in \u001b[0;36mfit\u001b[0;34m(self, model, x, y, batch_size, epochs, verbose, callbacks, validation_split, validation_data, shuffle, class_weight, sample_weight, initial_epoch, steps_per_epoch, validation_steps, validation_freq, **kwargs)\u001b[0m\n\u001b[1;32m    322\u001b[0m                 \u001b[0mmode\u001b[0m\u001b[0;34m=\u001b[0m\u001b[0mModeKeys\u001b[0m\u001b[0;34m.\u001b[0m\u001b[0mTRAIN\u001b[0m\u001b[0;34m,\u001b[0m\u001b[0;34m\u001b[0m\u001b[0m\n\u001b[1;32m    323\u001b[0m                 \u001b[0mtraining_context\u001b[0m\u001b[0;34m=\u001b[0m\u001b[0mtraining_context\u001b[0m\u001b[0;34m,\u001b[0m\u001b[0;34m\u001b[0m\u001b[0m\n\u001b[0;32m--> 324\u001b[0;31m                 total_epochs=epochs)\n\u001b[0m\u001b[1;32m    325\u001b[0m             \u001b[0mcbks\u001b[0m\u001b[0;34m.\u001b[0m\u001b[0mmake_logs\u001b[0m\u001b[0;34m(\u001b[0m\u001b[0mmodel\u001b[0m\u001b[0;34m,\u001b[0m \u001b[0mepoch_logs\u001b[0m\u001b[0;34m,\u001b[0m \u001b[0mtraining_result\u001b[0m\u001b[0;34m,\u001b[0m \u001b[0mModeKeys\u001b[0m\u001b[0;34m.\u001b[0m\u001b[0mTRAIN\u001b[0m\u001b[0;34m)\u001b[0m\u001b[0;34m\u001b[0m\u001b[0m\n\u001b[1;32m    326\u001b[0m \u001b[0;34m\u001b[0m\u001b[0m\n",
      "\u001b[0;32m~/anaconda3/envs/spoof/lib/python3.5/site-packages/tensorflow_core/python/keras/engine/training_v2.py\u001b[0m in \u001b[0;36mrun_one_epoch\u001b[0;34m(model, iterator, execution_function, dataset_size, batch_size, strategy, steps_per_epoch, num_samples, mode, training_context, total_epochs)\u001b[0m\n\u001b[1;32m    121\u001b[0m         step=step, mode=mode, size=current_batch_size) as batch_logs:\n\u001b[1;32m    122\u001b[0m       \u001b[0;32mtry\u001b[0m\u001b[0;34m:\u001b[0m\u001b[0;34m\u001b[0m\u001b[0m\n\u001b[0;32m--> 123\u001b[0;31m         \u001b[0mbatch_outs\u001b[0m \u001b[0;34m=\u001b[0m \u001b[0mexecution_function\u001b[0m\u001b[0;34m(\u001b[0m\u001b[0miterator\u001b[0m\u001b[0;34m)\u001b[0m\u001b[0;34m\u001b[0m\u001b[0m\n\u001b[0m\u001b[1;32m    124\u001b[0m       \u001b[0;32mexcept\u001b[0m \u001b[0;34m(\u001b[0m\u001b[0mStopIteration\u001b[0m\u001b[0;34m,\u001b[0m \u001b[0merrors\u001b[0m\u001b[0;34m.\u001b[0m\u001b[0mOutOfRangeError\u001b[0m\u001b[0;34m)\u001b[0m\u001b[0;34m:\u001b[0m\u001b[0;34m\u001b[0m\u001b[0m\n\u001b[1;32m    125\u001b[0m         \u001b[0;31m# TODO(kaftan): File bug about tf function and errors.OutOfRangeError?\u001b[0m\u001b[0;34m\u001b[0m\u001b[0;34m\u001b[0m\u001b[0m\n",
      "\u001b[0;32m~/anaconda3/envs/spoof/lib/python3.5/site-packages/tensorflow_core/python/keras/engine/training_v2_utils.py\u001b[0m in \u001b[0;36mexecution_function\u001b[0;34m(input_fn)\u001b[0m\n\u001b[1;32m     84\u001b[0m     \u001b[0;31m# `numpy` translates Tensors to values in Eager mode.\u001b[0m\u001b[0;34m\u001b[0m\u001b[0;34m\u001b[0m\u001b[0m\n\u001b[1;32m     85\u001b[0m     return nest.map_structure(_non_none_constant_value,\n\u001b[0;32m---> 86\u001b[0;31m                               distributed_function(input_fn))\n\u001b[0m\u001b[1;32m     87\u001b[0m \u001b[0;34m\u001b[0m\u001b[0m\n\u001b[1;32m     88\u001b[0m   \u001b[0;32mreturn\u001b[0m \u001b[0mexecution_function\u001b[0m\u001b[0;34m\u001b[0m\u001b[0m\n",
      "\u001b[0;32m~/anaconda3/envs/spoof/lib/python3.5/site-packages/tensorflow_core/python/eager/def_function.py\u001b[0m in \u001b[0;36m__call__\u001b[0;34m(self, *args, **kwds)\u001b[0m\n\u001b[1;32m    455\u001b[0m \u001b[0;34m\u001b[0m\u001b[0m\n\u001b[1;32m    456\u001b[0m     \u001b[0mtracing_count\u001b[0m \u001b[0;34m=\u001b[0m \u001b[0mself\u001b[0m\u001b[0;34m.\u001b[0m\u001b[0m_get_tracing_count\u001b[0m\u001b[0;34m(\u001b[0m\u001b[0;34m)\u001b[0m\u001b[0;34m\u001b[0m\u001b[0m\n\u001b[0;32m--> 457\u001b[0;31m     \u001b[0mresult\u001b[0m \u001b[0;34m=\u001b[0m \u001b[0mself\u001b[0m\u001b[0;34m.\u001b[0m\u001b[0m_call\u001b[0m\u001b[0;34m(\u001b[0m\u001b[0;34m*\u001b[0m\u001b[0margs\u001b[0m\u001b[0;34m,\u001b[0m \u001b[0;34m**\u001b[0m\u001b[0mkwds\u001b[0m\u001b[0;34m)\u001b[0m\u001b[0;34m\u001b[0m\u001b[0m\n\u001b[0m\u001b[1;32m    458\u001b[0m     \u001b[0;32mif\u001b[0m \u001b[0mtracing_count\u001b[0m \u001b[0;34m==\u001b[0m \u001b[0mself\u001b[0m\u001b[0;34m.\u001b[0m\u001b[0m_get_tracing_count\u001b[0m\u001b[0;34m(\u001b[0m\u001b[0;34m)\u001b[0m\u001b[0;34m:\u001b[0m\u001b[0;34m\u001b[0m\u001b[0m\n\u001b[1;32m    459\u001b[0m       \u001b[0mself\u001b[0m\u001b[0;34m.\u001b[0m\u001b[0m_call_counter\u001b[0m\u001b[0;34m.\u001b[0m\u001b[0mcalled_without_tracing\u001b[0m\u001b[0;34m(\u001b[0m\u001b[0;34m)\u001b[0m\u001b[0;34m\u001b[0m\u001b[0m\n",
      "\u001b[0;32m~/anaconda3/envs/spoof/lib/python3.5/site-packages/tensorflow_core/python/eager/def_function.py\u001b[0m in \u001b[0;36m_call\u001b[0;34m(self, *args, **kwds)\u001b[0m\n\u001b[1;32m    485\u001b[0m       \u001b[0;31m# In this case we have created variables on the first call, so we run the\u001b[0m\u001b[0;34m\u001b[0m\u001b[0;34m\u001b[0m\u001b[0m\n\u001b[1;32m    486\u001b[0m       \u001b[0;31m# defunned version which is guaranteed to never create variables.\u001b[0m\u001b[0;34m\u001b[0m\u001b[0;34m\u001b[0m\u001b[0m\n\u001b[0;32m--> 487\u001b[0;31m       \u001b[0;32mreturn\u001b[0m \u001b[0mself\u001b[0m\u001b[0;34m.\u001b[0m\u001b[0m_stateless_fn\u001b[0m\u001b[0;34m(\u001b[0m\u001b[0;34m*\u001b[0m\u001b[0margs\u001b[0m\u001b[0;34m,\u001b[0m \u001b[0;34m**\u001b[0m\u001b[0mkwds\u001b[0m\u001b[0;34m)\u001b[0m  \u001b[0;31m# pylint: disable=not-callable\u001b[0m\u001b[0;34m\u001b[0m\u001b[0m\n\u001b[0m\u001b[1;32m    488\u001b[0m     \u001b[0;32melif\u001b[0m \u001b[0mself\u001b[0m\u001b[0;34m.\u001b[0m\u001b[0m_stateful_fn\u001b[0m \u001b[0;32mis\u001b[0m \u001b[0;32mnot\u001b[0m \u001b[0;32mNone\u001b[0m\u001b[0;34m:\u001b[0m\u001b[0;34m\u001b[0m\u001b[0m\n\u001b[1;32m    489\u001b[0m       \u001b[0;31m# Release the lock early so that multiple threads can perform the call\u001b[0m\u001b[0;34m\u001b[0m\u001b[0;34m\u001b[0m\u001b[0m\n",
      "\u001b[0;32m~/anaconda3/envs/spoof/lib/python3.5/site-packages/tensorflow_core/python/eager/function.py\u001b[0m in \u001b[0;36m__call__\u001b[0;34m(self, *args, **kwargs)\u001b[0m\n\u001b[1;32m   1821\u001b[0m     \u001b[0;34m\"\"\"Calls a graph function specialized to the inputs.\"\"\"\u001b[0m\u001b[0;34m\u001b[0m\u001b[0m\n\u001b[1;32m   1822\u001b[0m     \u001b[0mgraph_function\u001b[0m\u001b[0;34m,\u001b[0m \u001b[0margs\u001b[0m\u001b[0;34m,\u001b[0m \u001b[0mkwargs\u001b[0m \u001b[0;34m=\u001b[0m \u001b[0mself\u001b[0m\u001b[0;34m.\u001b[0m\u001b[0m_maybe_define_function\u001b[0m\u001b[0;34m(\u001b[0m\u001b[0margs\u001b[0m\u001b[0;34m,\u001b[0m \u001b[0mkwargs\u001b[0m\u001b[0;34m)\u001b[0m\u001b[0;34m\u001b[0m\u001b[0m\n\u001b[0;32m-> 1823\u001b[0;31m     \u001b[0;32mreturn\u001b[0m \u001b[0mgraph_function\u001b[0m\u001b[0;34m.\u001b[0m\u001b[0m_filtered_call\u001b[0m\u001b[0;34m(\u001b[0m\u001b[0margs\u001b[0m\u001b[0;34m,\u001b[0m \u001b[0mkwargs\u001b[0m\u001b[0;34m)\u001b[0m  \u001b[0;31m# pylint: disable=protected-access\u001b[0m\u001b[0;34m\u001b[0m\u001b[0m\n\u001b[0m\u001b[1;32m   1824\u001b[0m \u001b[0;34m\u001b[0m\u001b[0m\n\u001b[1;32m   1825\u001b[0m   \u001b[0;34m@\u001b[0m\u001b[0mproperty\u001b[0m\u001b[0;34m\u001b[0m\u001b[0m\n",
      "\u001b[0;32m~/anaconda3/envs/spoof/lib/python3.5/site-packages/tensorflow_core/python/eager/function.py\u001b[0m in \u001b[0;36m_filtered_call\u001b[0;34m(self, args, kwargs)\u001b[0m\n\u001b[1;32m   1139\u001b[0m          if isinstance(t, (ops.Tensor,\n\u001b[1;32m   1140\u001b[0m                            resource_variable_ops.BaseResourceVariable))),\n\u001b[0;32m-> 1141\u001b[0;31m         self.captured_inputs)\n\u001b[0m\u001b[1;32m   1142\u001b[0m \u001b[0;34m\u001b[0m\u001b[0m\n\u001b[1;32m   1143\u001b[0m   \u001b[0;32mdef\u001b[0m \u001b[0m_call_flat\u001b[0m\u001b[0;34m(\u001b[0m\u001b[0mself\u001b[0m\u001b[0;34m,\u001b[0m \u001b[0margs\u001b[0m\u001b[0;34m,\u001b[0m \u001b[0mcaptured_inputs\u001b[0m\u001b[0;34m,\u001b[0m \u001b[0mcancellation_manager\u001b[0m\u001b[0;34m=\u001b[0m\u001b[0;32mNone\u001b[0m\u001b[0;34m)\u001b[0m\u001b[0;34m:\u001b[0m\u001b[0;34m\u001b[0m\u001b[0m\n",
      "\u001b[0;32m~/anaconda3/envs/spoof/lib/python3.5/site-packages/tensorflow_core/python/eager/function.py\u001b[0m in \u001b[0;36m_call_flat\u001b[0;34m(self, args, captured_inputs, cancellation_manager)\u001b[0m\n\u001b[1;32m   1222\u001b[0m     \u001b[0;32mif\u001b[0m \u001b[0mexecuting_eagerly\u001b[0m\u001b[0;34m:\u001b[0m\u001b[0;34m\u001b[0m\u001b[0m\n\u001b[1;32m   1223\u001b[0m       flat_outputs = forward_function.call(\n\u001b[0;32m-> 1224\u001b[0;31m           ctx, args, cancellation_manager=cancellation_manager)\n\u001b[0m\u001b[1;32m   1225\u001b[0m     \u001b[0;32melse\u001b[0m\u001b[0;34m:\u001b[0m\u001b[0;34m\u001b[0m\u001b[0m\n\u001b[1;32m   1226\u001b[0m       \u001b[0mgradient_name\u001b[0m \u001b[0;34m=\u001b[0m \u001b[0mself\u001b[0m\u001b[0;34m.\u001b[0m\u001b[0m_delayed_rewrite_functions\u001b[0m\u001b[0;34m.\u001b[0m\u001b[0mregister\u001b[0m\u001b[0;34m(\u001b[0m\u001b[0;34m)\u001b[0m\u001b[0;34m\u001b[0m\u001b[0m\n",
      "\u001b[0;32m~/anaconda3/envs/spoof/lib/python3.5/site-packages/tensorflow_core/python/eager/function.py\u001b[0m in \u001b[0;36mcall\u001b[0;34m(self, ctx, args, cancellation_manager)\u001b[0m\n\u001b[1;32m    509\u001b[0m               \u001b[0minputs\u001b[0m\u001b[0;34m=\u001b[0m\u001b[0margs\u001b[0m\u001b[0;34m,\u001b[0m\u001b[0;34m\u001b[0m\u001b[0m\n\u001b[1;32m    510\u001b[0m               \u001b[0mattrs\u001b[0m\u001b[0;34m=\u001b[0m\u001b[0;34m(\u001b[0m\u001b[0;34m\"executor_type\"\u001b[0m\u001b[0;34m,\u001b[0m \u001b[0mexecutor_type\u001b[0m\u001b[0;34m,\u001b[0m \u001b[0;34m\"config_proto\"\u001b[0m\u001b[0;34m,\u001b[0m \u001b[0mconfig\u001b[0m\u001b[0;34m)\u001b[0m\u001b[0;34m,\u001b[0m\u001b[0;34m\u001b[0m\u001b[0m\n\u001b[0;32m--> 511\u001b[0;31m               ctx=ctx)\n\u001b[0m\u001b[1;32m    512\u001b[0m         \u001b[0;32melse\u001b[0m\u001b[0;34m:\u001b[0m\u001b[0;34m\u001b[0m\u001b[0m\n\u001b[1;32m    513\u001b[0m           outputs = execute.execute_with_cancellation(\n",
      "\u001b[0;32m~/anaconda3/envs/spoof/lib/python3.5/site-packages/tensorflow_core/python/eager/execute.py\u001b[0m in \u001b[0;36mquick_execute\u001b[0;34m(op_name, num_outputs, inputs, attrs, ctx, name)\u001b[0m\n\u001b[1;32m     59\u001b[0m     tensors = pywrap_tensorflow.TFE_Py_Execute(ctx._handle, device_name,\n\u001b[1;32m     60\u001b[0m                                                \u001b[0mop_name\u001b[0m\u001b[0;34m,\u001b[0m \u001b[0minputs\u001b[0m\u001b[0;34m,\u001b[0m \u001b[0mattrs\u001b[0m\u001b[0;34m,\u001b[0m\u001b[0;34m\u001b[0m\u001b[0m\n\u001b[0;32m---> 61\u001b[0;31m                                                num_outputs)\n\u001b[0m\u001b[1;32m     62\u001b[0m   \u001b[0;32mexcept\u001b[0m \u001b[0mcore\u001b[0m\u001b[0;34m.\u001b[0m\u001b[0m_NotOkStatusException\u001b[0m \u001b[0;32mas\u001b[0m \u001b[0me\u001b[0m\u001b[0;34m:\u001b[0m\u001b[0;34m\u001b[0m\u001b[0m\n\u001b[1;32m     63\u001b[0m     \u001b[0;32mif\u001b[0m \u001b[0mname\u001b[0m \u001b[0;32mis\u001b[0m \u001b[0;32mnot\u001b[0m \u001b[0;32mNone\u001b[0m\u001b[0;34m:\u001b[0m\u001b[0;34m\u001b[0m\u001b[0m\n",
      "\u001b[0;31mKeyboardInterrupt\u001b[0m: "
     ]
    }
   ],
   "source": [
    "history=model.fit([X_train,X_train1], y_train, epochs=100, verbose=1,batch_size=128, validation_data=([X_test,X_test],y_test))"
   ]
  },
  {
   "cell_type": "code",
   "execution_count": 87,
   "metadata": {},
   "outputs": [
    {
     "data": {
      "image/png": "[encoded data removed]",
      "text/plain": [
       "<Figure size 432x288 with 1 Axes>"
      ]
     },
     "metadata": {
      "needs_background": "light"
     },
     "output_type": "display_data"
    }
   ],
   "source": [
    "plt.plot(history.history['loss'], linewidth=2, label='Train')\n",
    "plt.plot(history.history['val_loss'], linewidth=2, label='Valid')\n",
    "plt.legend(loc='upper right')\n",
    "plt.title('Model loss')\n",
    "plt.ylabel('Loss')\n",
    "plt.xlabel('Epoch')\n",
    "plt.show()"
   ]
  },
  {
   "cell_type": "code",
   "execution_count": 41,
   "metadata": {
    "scrolled": true
   },
   "outputs": [
    {
     "data": {
      "image/png": "[encoded data removed]",
      "text/plain": [
       "<Figure size 432x288 with 1 Axes>"
      ]
     },
     "metadata": {
      "needs_background": "light"
     },
     "output_type": "display_data"
    }
   ],
   "source": [
    "from matplotlib import *\n",
    "\n",
    "\n",
    "yhat = model.predict(X_test)\n",
    "yhat=yhat.reshape(-1,1)\n",
    "pyplot.plot(yhat, label='predict')\n",
    "pyplot.plot(y_test, label='true')\n",
    "pyplot.legend()\n",
    "pyplot.show()"
   ]
  },
  {
   "cell_type": "code",
   "execution_count": 88,
   "metadata": {
    "scrolled": false
   },
   "outputs": [
    {
     "data": {
      "image/png": "[encoded data removed]",
      "text/plain": [
       "<Figure size 432x288 with 1 Axes>"
      ]
     },
     "metadata": {
      "needs_background": "light"
     },
     "output_type": "display_data"
    }
   ],
   "source": [
    "from matplotlib import *\n",
    "\n",
    "\n",
    "yhat = model.predict([X_test,X_test])\n",
    "yhat=yhat.reshape(-1,1)\n",
    "pyplot.plot(yhat, label='predict')\n",
    "pyplot.plot(y_test, label='true')\n",
    "pyplot.legend()\n",
    "pyplot.show()"
   ]
  },
  {
   "cell_type": "code",
   "execution_count": 95,
   "metadata": {},
   "outputs": [
    {
     "data": {
      "text/plain": [
       "array([[0.3012578 ],\n",
       "       [0.3015705 ],\n",
       "       [0.30269107],\n",
       "       ...,\n",
       "       [0.7792842 ],\n",
       "       [0.77884036],\n",
       "       [0.7824379 ]], dtype=float32)"
      ]
     },
     "execution_count": 95,
     "metadata": {},
     "output_type": "execute_result"
    }
   ],
   "source": [
    "yhat"
   ]
  },
  {
   "cell_type": "code",
   "execution_count": 96,
   "metadata": {},
   "outputs": [
    {
     "data": {
      "text/plain": [
       "array([[0.3012578 ],\n",
       "       [0.3015705 ],\n",
       "       [0.30269107],\n",
       "       ...,\n",
       "       [0.7792842 ],\n",
       "       [0.77884036],\n",
       "       [0.7824379 ]], dtype=float32)"
      ]
     },
     "execution_count": 96,
     "metadata": {},
     "output_type": "execute_result"
    }
   ],
   "source": [
    "yhat.reshape(-1,1)"
   ]
  },
  {
   "cell_type": "code",
   "execution_count": 94,
   "metadata": {},
   "outputs": [
    {
     "data": {
      "text/plain": [
       "array([[15462.586],\n",
       "       [15474.236],\n",
       "       [15515.978],\n",
       "       ...,\n",
       "       [33269.14 ],\n",
       "       [33252.61 ],\n",
       "       [33386.617]], dtype=float32)"
      ]
     },
     "execution_count": 94,
     "metadata": {},
     "output_type": "execute_result"
    }
   ],
   "source": [
    "yhat_inverse = scaler.inverse_transform(yhat.reshape(-1,1))\n",
    "yhat_inverse"
   ]
  },
  {
   "cell_type": "code",
   "execution_count": 89,
   "metadata": {},
   "outputs": [],
   "source": [
    "yhat_inverse = scaler.inverse_transform(yhat.reshape(-1,1))\n",
    "testY_inverse = scaler.inverse_transform(y_test.reshape(-1, 1))"
   ]
  },
  {
   "cell_type": "code",
   "execution_count": 44,
   "metadata": {},
   "outputs": [
    {
     "name": "stdout",
     "output_type": "stream",
     "text": [
      "Test RMSE: 543.188\n"
     ]
    }
   ],
   "source": [
    "from math import *\n",
    "rmse = sqrt(mean_squared_error(testY_inverse, yhat_inverse))\n",
    "print('Test RMSE: %.3f' % rmse)"
   ]
  },
  {
   "cell_type": "code",
   "execution_count": 90,
   "metadata": {},
   "outputs": [
    {
     "name": "stdout",
     "output_type": "stream",
     "text": [
      "Test RMSE: 461.292\n"
     ]
    }
   ],
   "source": [
    "from math import *\n",
    "rmse = sqrt(mean_squared_error(testY_inverse, yhat_inverse))\n",
    "print('Test RMSE: %.3f' % rmse)"
   ]
  },
  {
   "cell_type": "code",
   "execution_count": null,
   "metadata": {},
   "outputs": [],
   "source": [
    "import matplotlib.pyplot as plt\n",
    "import seaborn as sb\n",
    "import plotly\n",
    "import plotly.graph_objs as go\n",
    "from plotly.subplots import make_subplots\n",
    "from plotly.offline import init_notebook_mode, iplot, plot\n",
    "init_notebook_mode(connected=True) "
   ]
  },
  {
   "cell_type": "code",
   "execution_count": null,
   "metadata": {},
   "outputs": [],
   "source": [
    "from matplotlib import pyplot\n",
    "pyplot.figure(figsize=(20,10))\n",
    "pyplot.plot(Ytest)\n",
    "pyplot.plot(preds, 'r')\n",
    "pyplot.show()"
   ]
  },
  {
   "cell_type": "code",
   "execution_count": null,
   "metadata": {},
   "outputs": [],
   "source": []
  }
 ],
 "metadata": {
  "kernelspec": {
   "display_name": "Python 3",
   "language": "python",
   "name": "python3"
  },
  "language_info": {
   "codemirror_mode": {
    "name": "ipython",
    "version": 3
   },
   "file_extension": ".py",
   "mimetype": "text/x-python",
   "name": "python",
   "nbconvert_exporter": "python",
   "pygments_lexer": "ipython3",
   "version": "3.5.5"
  }
 },
 "nbformat": 4,
 "nbformat_minor": 4
}
