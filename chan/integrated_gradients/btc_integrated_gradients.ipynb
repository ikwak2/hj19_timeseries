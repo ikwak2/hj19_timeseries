{
 "cells": [
  {
   "cell_type": "code",
   "execution_count": 1,
   "id": "59c741f3",
   "metadata": {
    "executionInfo": {
     "elapsed": 1934,
     "status": "ok",
     "timestamp": 1633486383458,
     "user": {
      "displayName": "정찬휘",
      "photoUrl": "https://lh3.googleusercontent.com/a/default-user=s64",
      "userId": "00470938762273561607"
     },
     "user_tz": -540
    },
    "id": "oM4J-o_80J6I"
   },
   "outputs": [],
   "source": [
    "import tensorflow as tf\n",
    "from tensorflow.keras.models import Model\n",
    "import numpy as np"
   ]
  },
  {
   "cell_type": "code",
   "execution_count": 2,
   "id": "d0f05d99",
   "metadata": {
    "executionInfo": {
     "elapsed": 974,
     "status": "ok",
     "timestamp": 1633486384430,
     "user": {
      "displayName": "정찬휘",
      "photoUrl": "https://lh3.googleusercontent.com/a/default-user=s64",
      "userId": "00470938762273561607"
     },
     "user_tz": -540
    },
    "id": "j7aMujcW0J9b"
   },
   "outputs": [],
   "source": [
    "from tensorflow.keras.models import Sequential\n",
    "from tensorflow.keras.layers import LSTM, Bidirectional\n",
    "from tensorflow.keras.layers import Dense\n",
    "import matplotlib.pyplot as plt\n",
    "from sklearn.preprocessing import MinMaxScaler\n",
    "from sklearn.metrics import mean_squared_error\n",
    "from tensorflow.keras.layers import Activation, Dense, Dropout\n",
    "from tensorflow.keras import optimizers\n",
    "from pandas import Series\n",
    "import math\n",
    "import numpy\n",
    "from tensorflow.keras.layers import *\n",
    "from tensorflow.keras import layers\n",
    "import pandas as pd\n",
    "\n",
    "#data = pd.read_csv('bitcoin.csv')\n",
    "data = pd.read_csv('https://raw.githubusercontent.com/ikwak2/hj19_timeseries/main/btc/bitcoin2000.csv?token=ATB7FV4OJCGFK4JANIRZA5LB2LOW6')"
   ]
  },
  {
   "cell_type": "code",
   "execution_count": 3,
   "id": "1af4d46b",
   "metadata": {
    "executionInfo": {
     "elapsed": 27,
     "status": "ok",
     "timestamp": 1633486384430,
     "user": {
      "displayName": "정찬휘",
      "photoUrl": "https://lh3.googleusercontent.com/a/default-user=s64",
      "userId": "00470938762273561607"
     },
     "user_tz": -540
    },
    "id": "bsBICKKI2T6y"
   },
   "outputs": [],
   "source": [
    "def gradient_importance(seq, model):\n",
    "\n",
    "    seq = tf.Variable(seq[np.newaxis,:,:], dtype=tf.float32)\n",
    "\n",
    "    with tf.GradientTape() as tape:\n",
    "        predictions = model(seq)\n",
    "\n",
    "    grads = tape.gradient(predictions, seq)\n",
    "    grads = tf.reduce_mean(grads, axis=1).numpy()[0]\n",
    "    \n",
    "    return grads\n",
    "\n",
    "def gradient_weight(seq, model):\n",
    "\n",
    "    seq = tf.Variable(seq[np.newaxis,:,:], dtype=tf.float32)\n",
    "\n",
    "    with tf.GradientTape() as tape:\n",
    "        predictions = model(seq)\n",
    "\n",
    "    grad = tape.gradient(predictions, seq)\n",
    "    #gr=grads\n",
    "    #grads = tf.reduce_mean(grads, axis=1).numpy()[0]\n",
    "    \n",
    "    return grad\n",
    "\n",
    "def activation_grad(seq, model):\n",
    "    \n",
    "    seq = seq[np.newaxis,:,:]\n",
    "    grad_model = Model([model.inputs], \n",
    "                       [model.get_layer('extractor').output, \n",
    "                        model.output])\n",
    "\n",
    "    # Obtain the predicted value and the intermediate filters\n",
    "    with tf.GradientTape() as tape:\n",
    "        seq_outputs, predictions = grad_model(seq)\n",
    "\n",
    "    # Extract filters and gradients\n",
    "    output = seq_outputs[0]\n",
    "    grads = tape.gradient(predictions, seq_outputs)[0]\n",
    "\n",
    "    # Average gradients spatially\n",
    "    weights = tf.reduce_mean(grads, axis=0)\n",
    "    \n",
    "    # Get a ponderated map of filters according to grad importance\n",
    "    cam = np.ones(output.shape[0], dtype=np.float32)\n",
    "    for index, w in enumerate(weights):\n",
    "        cam += w * output[:, index]\n",
    "\n",
    "    time = int(seq.shape[1]/output.shape[0])\n",
    "    cam = zoom(cam.numpy(), time, order=1)\n",
    "    heatmap = (cam - cam.min())/(cam.max() - cam.min())\n",
    "    \n",
    "    return heatmap"
   ]
  },
  {
   "cell_type": "code",
   "execution_count": 4,
   "id": "f6067881",
   "metadata": {},
   "outputs": [],
   "source": [
    "def get_integrated_gradients(img_input, top_pred_idx, baseline=None, num_steps=50):\n",
    "    seq_input = X_test[1]\n",
    "\n",
    "    if baseline is None:\n",
    "        baseline = np.zeros(seq_input.shape).astype(np.float32)\n",
    "    else:\n",
    "        baseline = baseline.astype(np.float32)\n",
    "\n",
    "    # 1. Do interpolation.\n",
    "    seq_input = seq_input.astype(np.float32)\n",
    "    interpolated_seq = [\n",
    "        baseline + (step / num_steps) * (seq_input - baseline)\n",
    "        for step in range(num_steps + 1)\n",
    "    ]\n",
    "\n",
    "    # 3. Get the gradients\n",
    "    grads = []\n",
    "    for i, seq in enumerate(interpolated_seq):\n",
    "        seq = tf.expand_dims(seq, axis=0)\n",
    "        with tf.GradientTape() as tape:\n",
    "            tape.watch(seq)\n",
    "            preds = model(seq)\n",
    "        grad = tape.gradient(preds, seq)\n",
    "        grads.append(grad[0])\n",
    "    grads = tf.convert_to_tensor(grads, dtype=tf.float32)\n",
    "\n",
    "    # 4. Approximate the integral using the trapezoidal rule\n",
    "    grads = (grads[:-1] + grads[1:]) / 2.0\n",
    "    avg_grads = tf.reduce_mean(grads, axis=0)\n",
    "\n",
    "    # 5. Calculate integrated gradients and return\n",
    "    integrated_grads = (seq_input - baseline) * avg_grads\n",
    "    return integrated_grads"
   ]
  },
  {
   "cell_type": "code",
   "execution_count": 29,
   "id": "03c92557",
   "metadata": {},
   "outputs": [],
   "source": [
    "def get_integrated_gradients_r(img_input, top_pred_idx, baseline1=None, num_steps=50):\n",
    "    seq_input = X_test[1]\n",
    "\n",
    "    baseline1 = tf.random.uniform(seq_input.shape, minval=0.0, maxval=1.0)\n",
    "    # 1. Do interpolation.\n",
    "    seq_input = seq_input.astype(np.float32)\n",
    "    interpolated_seq = [\n",
    "        baseline1 + (step / num_steps) * (seq_input - baseline1)\n",
    "        for step in range(num_steps + 1)\n",
    "    ]\n",
    "\n",
    "    # 3. Get the gradients\n",
    "    grads = []\n",
    "    for i, seq in enumerate(interpolated_seq):\n",
    "        seq = tf.expand_dims(seq, axis=0)\n",
    "        with tf.GradientTape() as tape:\n",
    "            tape.watch(seq)\n",
    "            preds = model(seq)\n",
    "        grad = tape.gradient(preds, seq)\n",
    "        grads.append(grad[0])\n",
    "    grads = tf.convert_to_tensor(grads, dtype=tf.float32)\n",
    "\n",
    "    # 4. Approximate the integral using the trapezoidal rule\n",
    "    grads = (grads[:-1] + grads[1:]) / 2.0\n",
    "    avg_grads = tf.reduce_mean(grads, axis=0)\n",
    "\n",
    "    # 5. Calculate integrated gradients and return\n",
    "    integrated_grads = (seq_input - baseline1) * avg_grads\n",
    "    return integrated_grads"
   ]
  },
  {
   "cell_type": "code",
   "execution_count": 5,
   "id": "a6775f56",
   "metadata": {
    "colab": {
     "base_uri": "https://localhost:8080/",
     "height": 408
    },
    "executionInfo": {
     "elapsed": 34,
     "status": "ok",
     "timestamp": 1633486384437,
     "user": {
      "displayName": "정찬휘",
      "photoUrl": "https://lh3.googleusercontent.com/a/default-user=s64",
      "userId": "00470938762273561607"
     },
     "user_tz": -540
    },
    "id": "2PfvRpLK0J-W",
    "outputId": "b2eb9c45-22b4-4144-bf55-63d05c9566fc"
   },
   "outputs": [
    {
     "data": {
      "text/html": [
       "<div>\n",
       "<style scoped>\n",
       "    .dataframe tbody tr th:only-of-type {\n",
       "        vertical-align: middle;\n",
       "    }\n",
       "\n",
       "    .dataframe tbody tr th {\n",
       "        vertical-align: top;\n",
       "    }\n",
       "\n",
       "    .dataframe thead th {\n",
       "        text-align: right;\n",
       "    }\n",
       "</style>\n",
       "<table border=\"1\" class=\"dataframe\">\n",
       "  <thead>\n",
       "    <tr style=\"text-align: right;\">\n",
       "      <th></th>\n",
       "      <th>time</th>\n",
       "      <th>high</th>\n",
       "      <th>low</th>\n",
       "      <th>open</th>\n",
       "      <th>volumefrom</th>\n",
       "      <th>volumeto</th>\n",
       "      <th>close</th>\n",
       "      <th>conversionType</th>\n",
       "      <th>conversionSymbol</th>\n",
       "      <th>timeUTC</th>\n",
       "    </tr>\n",
       "  </thead>\n",
       "  <tbody>\n",
       "    <tr>\n",
       "      <th>0</th>\n",
       "      <td>1576144800</td>\n",
       "      <td>7219.93</td>\n",
       "      <td>7149.15</td>\n",
       "      <td>7170.18</td>\n",
       "      <td>1536.79</td>\n",
       "      <td>11041994.81</td>\n",
       "      <td>7166.14</td>\n",
       "      <td>direct</td>\n",
       "      <td>NaN</td>\n",
       "      <td>2019-12-12 19:00:00</td>\n",
       "    </tr>\n",
       "    <tr>\n",
       "      <th>1</th>\n",
       "      <td>1576148400</td>\n",
       "      <td>7208.36</td>\n",
       "      <td>7166.03</td>\n",
       "      <td>7166.14</td>\n",
       "      <td>785.11</td>\n",
       "      <td>5654607.43</td>\n",
       "      <td>7199.79</td>\n",
       "      <td>direct</td>\n",
       "      <td>NaN</td>\n",
       "      <td>2019-12-12 20:00:00</td>\n",
       "    </tr>\n",
       "    <tr>\n",
       "      <th>2</th>\n",
       "      <td>1576152000</td>\n",
       "      <td>7222.43</td>\n",
       "      <td>7194.87</td>\n",
       "      <td>7199.79</td>\n",
       "      <td>672.46</td>\n",
       "      <td>4855213.22</td>\n",
       "      <td>7199.97</td>\n",
       "      <td>direct</td>\n",
       "      <td>NaN</td>\n",
       "      <td>2019-12-12 21:00:00</td>\n",
       "    </tr>\n",
       "    <tr>\n",
       "      <th>3</th>\n",
       "      <td>1576155600</td>\n",
       "      <td>7211.80</td>\n",
       "      <td>7187.29</td>\n",
       "      <td>7199.97</td>\n",
       "      <td>807.61</td>\n",
       "      <td>5821087.81</td>\n",
       "      <td>7201.38</td>\n",
       "      <td>direct</td>\n",
       "      <td>NaN</td>\n",
       "      <td>2019-12-12 22:00:00</td>\n",
       "    </tr>\n",
       "    <tr>\n",
       "      <th>4</th>\n",
       "      <td>1576159200</td>\n",
       "      <td>7229.22</td>\n",
       "      <td>7152.84</td>\n",
       "      <td>7201.38</td>\n",
       "      <td>1606.06</td>\n",
       "      <td>11537799.57</td>\n",
       "      <td>7173.50</td>\n",
       "      <td>direct</td>\n",
       "      <td>NaN</td>\n",
       "      <td>2019-12-12 23:00:00</td>\n",
       "    </tr>\n",
       "    <tr>\n",
       "      <th>...</th>\n",
       "      <td>...</td>\n",
       "      <td>...</td>\n",
       "      <td>...</td>\n",
       "      <td>...</td>\n",
       "      <td>...</td>\n",
       "      <td>...</td>\n",
       "      <td>...</td>\n",
       "      <td>...</td>\n",
       "      <td>...</td>\n",
       "      <td>...</td>\n",
       "    </tr>\n",
       "    <tr>\n",
       "      <th>10000</th>\n",
       "      <td>1612144800</td>\n",
       "      <td>33847.46</td>\n",
       "      <td>33257.39</td>\n",
       "      <td>33450.01</td>\n",
       "      <td>2066.49</td>\n",
       "      <td>69445570.35</td>\n",
       "      <td>33675.45</td>\n",
       "      <td>direct</td>\n",
       "      <td>NaN</td>\n",
       "      <td>2021-02-01 11:00:00</td>\n",
       "    </tr>\n",
       "    <tr>\n",
       "      <th>10001</th>\n",
       "      <td>1612148400</td>\n",
       "      <td>33779.76</td>\n",
       "      <td>33505.50</td>\n",
       "      <td>33675.45</td>\n",
       "      <td>1173.82</td>\n",
       "      <td>39473368.04</td>\n",
       "      <td>33590.20</td>\n",
       "      <td>direct</td>\n",
       "      <td>NaN</td>\n",
       "      <td>2021-02-01 12:00:00</td>\n",
       "    </tr>\n",
       "    <tr>\n",
       "      <th>10002</th>\n",
       "      <td>1612152000</td>\n",
       "      <td>33945.41</td>\n",
       "      <td>33404.87</td>\n",
       "      <td>33590.20</td>\n",
       "      <td>1430.06</td>\n",
       "      <td>48159838.72</td>\n",
       "      <td>33576.82</td>\n",
       "      <td>direct</td>\n",
       "      <td>NaN</td>\n",
       "      <td>2021-02-01 13:00:00</td>\n",
       "    </tr>\n",
       "    <tr>\n",
       "      <th>10003</th>\n",
       "      <td>1612155600</td>\n",
       "      <td>33907.89</td>\n",
       "      <td>33467.87</td>\n",
       "      <td>33576.82</td>\n",
       "      <td>1198.20</td>\n",
       "      <td>40319458.23</td>\n",
       "      <td>33803.02</td>\n",
       "      <td>direct</td>\n",
       "      <td>NaN</td>\n",
       "      <td>2021-02-01 14:00:00</td>\n",
       "    </tr>\n",
       "    <tr>\n",
       "      <th>10004</th>\n",
       "      <td>1612159200</td>\n",
       "      <td>33950.67</td>\n",
       "      <td>33739.63</td>\n",
       "      <td>33803.02</td>\n",
       "      <td>569.39</td>\n",
       "      <td>19288055.21</td>\n",
       "      <td>33897.06</td>\n",
       "      <td>direct</td>\n",
       "      <td>NaN</td>\n",
       "      <td>2021-02-01 15:00:00</td>\n",
       "    </tr>\n",
       "  </tbody>\n",
       "</table>\n",
       "<p>10005 rows × 10 columns</p>\n",
       "</div>"
      ],
      "text/plain": [
       "             time      high       low      open  volumefrom     volumeto  \\\n",
       "0      1576144800   7219.93   7149.15   7170.18     1536.79  11041994.81   \n",
       "1      1576148400   7208.36   7166.03   7166.14      785.11   5654607.43   \n",
       "2      1576152000   7222.43   7194.87   7199.79      672.46   4855213.22   \n",
       "3      1576155600   7211.80   7187.29   7199.97      807.61   5821087.81   \n",
       "4      1576159200   7229.22   7152.84   7201.38     1606.06  11537799.57   \n",
       "...           ...       ...       ...       ...         ...          ...   \n",
       "10000  1612144800  33847.46  33257.39  33450.01     2066.49  69445570.35   \n",
       "10001  1612148400  33779.76  33505.50  33675.45     1173.82  39473368.04   \n",
       "10002  1612152000  33945.41  33404.87  33590.20     1430.06  48159838.72   \n",
       "10003  1612155600  33907.89  33467.87  33576.82     1198.20  40319458.23   \n",
       "10004  1612159200  33950.67  33739.63  33803.02      569.39  19288055.21   \n",
       "\n",
       "          close conversionType conversionSymbol              timeUTC  \n",
       "0       7166.14         direct              NaN  2019-12-12 19:00:00  \n",
       "1       7199.79         direct              NaN  2019-12-12 20:00:00  \n",
       "2       7199.97         direct              NaN  2019-12-12 21:00:00  \n",
       "3       7201.38         direct              NaN  2019-12-12 22:00:00  \n",
       "4       7173.50         direct              NaN  2019-12-12 23:00:00  \n",
       "...         ...            ...              ...                  ...  \n",
       "10000  33675.45         direct              NaN  2021-02-01 11:00:00  \n",
       "10001  33590.20         direct              NaN  2021-02-01 12:00:00  \n",
       "10002  33576.82         direct              NaN  2021-02-01 13:00:00  \n",
       "10003  33803.02         direct              NaN  2021-02-01 14:00:00  \n",
       "10004  33897.06         direct              NaN  2021-02-01 15:00:00  \n",
       "\n",
       "[10005 rows x 10 columns]"
      ]
     },
     "execution_count": 5,
     "metadata": {},
     "output_type": "execute_result"
    }
   ],
   "source": [
    "data"
   ]
  },
  {
   "cell_type": "code",
   "execution_count": 6,
   "id": "e989a5da",
   "metadata": {
    "colab": {
     "base_uri": "https://localhost:8080/",
     "height": 52
    },
    "executionInfo": {
     "elapsed": 32,
     "status": "ok",
     "timestamp": 1633486384438,
     "user": {
      "displayName": "정찬휘",
      "photoUrl": "https://lh3.googleusercontent.com/a/default-user=s64",
      "userId": "00470938762273561607"
     },
     "user_tz": -540
    },
    "id": "ecmM3d_30KAs",
    "outputId": "a794f2b9-8835-4a3e-83ae-083dc37d024b"
   },
   "outputs": [
    {
     "data": {
      "text/plain": [
       "\"\\nfrom sklearn.preprocessing import MinMaxScaler\\nvalues = data[['close','high','low','open','volumefrom','volumeto']].values.reshape(-1,6)\\nvalues = values.astype('float32')\\nscaler = MinMaxScaler(feature_range=(0, 1))\\nscaled = scaler.fit_transform(values) \""
      ]
     },
     "execution_count": 6,
     "metadata": {},
     "output_type": "execute_result"
    }
   ],
   "source": [
    "'''\n",
    "from sklearn.preprocessing import MinMaxScaler\n",
    "values = data[['close','high','low','open','volumefrom','volumeto']].values.reshape(-1,6)\n",
    "values = values.astype('float32')\n",
    "scaler = MinMaxScaler(feature_range=(0, 1))\n",
    "scaled = scaler.fit_transform(values) '''"
   ]
  },
  {
   "cell_type": "code",
   "execution_count": null,
   "id": "63acea29",
   "metadata": {
    "executionInfo": {
     "elapsed": 32,
     "status": "ok",
     "timestamp": 1633486384438,
     "user": {
      "displayName": "정찬휘",
      "photoUrl": "https://lh3.googleusercontent.com/a/default-user=s64",
      "userId": "00470938762273561607"
     },
     "user_tz": -540
    },
    "id": "X5ExpXth2hiB"
   },
   "outputs": [],
   "source": []
  },
  {
   "cell_type": "code",
   "execution_count": 7,
   "id": "d270b43f",
   "metadata": {
    "executionInfo": {
     "elapsed": 32,
     "status": "ok",
     "timestamp": 1633486384439,
     "user": {
      "displayName": "정찬휘",
      "photoUrl": "https://lh3.googleusercontent.com/a/default-user=s64",
      "userId": "00470938762273561607"
     },
     "user_tz": -540
    },
    "id": "PsE6b0_g2hmy"
   },
   "outputs": [],
   "source": [
    "from sklearn.preprocessing import MinMaxScaler\n",
    "values = data[['close','high','low','open','volumefrom','volumeto']].values.reshape(-1,6)\n",
    "values = values.astype('float32')\n",
    "scaler = MinMaxScaler(feature_range=(0, 1))\n",
    "scaled=scaler.fit_transform(values)\n",
    "#scaled = (values-(np.min(values)))/(np.max(values)-(np.min(values)))\n",
    "#scaled = (values - np.mean(values))/np.std(values) "
   ]
  },
  {
   "cell_type": "code",
   "execution_count": 8,
   "id": "0e63401c",
   "metadata": {
    "colab": {
     "base_uri": "https://localhost:8080/"
    },
    "executionInfo": {
     "elapsed": 34,
     "status": "ok",
     "timestamp": 1633486384441,
     "user": {
      "displayName": "정찬휘",
      "photoUrl": "https://lh3.googleusercontent.com/a/default-user=s64",
      "userId": "00470938762273561607"
     },
     "user_tz": -540
    },
    "id": "_B4qE-UN2hvT",
    "outputId": "299f57d8-28c7-481a-f37d-15ab85fdb56b"
   },
   "outputs": [
    {
     "data": {
      "text/plain": [
       "7859574300.0"
      ]
     },
     "execution_count": 8,
     "metadata": {},
     "output_type": "execute_result"
    }
   ],
   "source": [
    "np.max(values)"
   ]
  },
  {
   "cell_type": "code",
   "execution_count": 9,
   "id": "971489ee",
   "metadata": {
    "colab": {
     "base_uri": "https://localhost:8080/"
    },
    "executionInfo": {
     "elapsed": 29,
     "status": "ok",
     "timestamp": 1633486384441,
     "user": {
      "displayName": "정찬휘",
      "photoUrl": "https://lh3.googleusercontent.com/a/default-user=s64",
      "userId": "00470938762273561607"
     },
     "user_tz": -540
    },
    "id": "6cWtwC-qVft6",
    "outputId": "9abb571f-a070-48e2-b2c2-021b4df93867"
   },
   "outputs": [
    {
     "data": {
      "text/plain": [
       "161.86"
      ]
     },
     "execution_count": 9,
     "metadata": {},
     "output_type": "execute_result"
    }
   ],
   "source": [
    "np.min(values)"
   ]
  },
  {
   "cell_type": "code",
   "execution_count": 10,
   "id": "d9e94772",
   "metadata": {
    "colab": {
     "base_uri": "https://localhost:8080/"
    },
    "executionInfo": {
     "elapsed": 28,
     "status": "ok",
     "timestamp": 1633486384442,
     "user": {
      "displayName": "정찬휘",
      "photoUrl": "https://lh3.googleusercontent.com/a/default-user=s64",
      "userId": "00470938762273561607"
     },
     "user_tz": -540
    },
    "id": "CbI7Yl4bVfwT",
    "outputId": "d96e635a-b118-433d-d026-81c70b79ea11"
   },
   "outputs": [
    {
     "data": {
      "text/plain": [
       "7859574300.0"
      ]
     },
     "execution_count": 10,
     "metadata": {},
     "output_type": "execute_result"
    }
   ],
   "source": [
    "np.max(values)-np.min(values)"
   ]
  },
  {
   "cell_type": "code",
   "execution_count": 11,
   "id": "4d260284",
   "metadata": {
    "colab": {
     "base_uri": "https://localhost:8080/"
    },
    "executionInfo": {
     "elapsed": 27,
     "status": "ok",
     "timestamp": 1633486384442,
     "user": {
      "displayName": "정찬휘",
      "photoUrl": "https://lh3.googleusercontent.com/a/default-user=s64",
      "userId": "00470938762273561607"
     },
     "user_tz": -540
    },
    "id": "CwnRXtC61J1C",
    "outputId": "a6d41e2f-9ee7-43c4-ee47-be4947536072"
   },
   "outputs": [
    {
     "data": {
      "text/plain": [
       "array([[7.8535259e-02, 6.9533341e-02, 8.6421244e-02, 7.8643724e-02,\n",
       "        5.8386968e-03, 1.2568906e-03],\n",
       "       [7.9438612e-02, 6.9223486e-02, 8.6877085e-02, 7.8535259e-02,\n",
       "        2.6466567e-03, 5.7133357e-04],\n",
       "       [7.9443455e-02, 6.9600292e-02, 8.7655909e-02, 7.9438612e-02,\n",
       "        2.1682840e-03, 4.6960887e-04],\n",
       "       ...,\n",
       "       [7.8754401e-01, 7.8523761e-01, 7.9544908e-01, 7.8790319e-01,\n",
       "        5.3854641e-03, 5.9802183e-03],\n",
       "       [7.9361647e-01, 7.8423285e-01, 7.9715037e-01, 7.8754401e-01,\n",
       "        4.4008605e-03, 4.9825124e-03],\n",
       "       [7.9614097e-01, 7.8537852e-01, 8.0448914e-01, 7.9361647e-01,\n",
       "        1.7305929e-03, 2.3062201e-03]], dtype=float32)"
      ]
     },
     "execution_count": 11,
     "metadata": {},
     "output_type": "execute_result"
    }
   ],
   "source": [
    "scaled"
   ]
  },
  {
   "cell_type": "code",
   "execution_count": 12,
   "id": "3f39b977",
   "metadata": {
    "colab": {
     "base_uri": "https://localhost:8080/"
    },
    "executionInfo": {
     "elapsed": 25,
     "status": "ok",
     "timestamp": 1633486384442,
     "user": {
      "displayName": "정찬휘",
      "photoUrl": "https://lh3.googleusercontent.com/a/default-user=s64",
      "userId": "00470938762273561607"
     },
     "user_tz": -540
    },
    "id": "UOxfRK1W0KFn",
    "outputId": "04db0f78-ce7c-4366-b805-8975d8cd8709"
   },
   "outputs": [
    {
     "name": "stdout",
     "output_type": "stream",
     "text": [
      "8004 1000 1001\n"
     ]
    }
   ],
   "source": [
    "\n",
    "train_size = int(len(scaled) * 0.80)\n",
    "val_size = int(len(scaled) * 0.10)\n",
    "\n",
    "test_size = len(scaled) - train_size-val_size\n",
    "train,val, test = scaled[0:train_size,:],scaled[train_size:train_size+val_size,:], scaled[train_size+val_size:,:]\n",
    "print(len(train),len(val), len(test))"
   ]
  },
  {
   "cell_type": "code",
   "execution_count": 13,
   "id": "7aa61502",
   "metadata": {
    "executionInfo": {
     "elapsed": 23,
     "status": "ok",
     "timestamp": 1633486384443,
     "user": {
      "displayName": "정찬휘",
      "photoUrl": "https://lh3.googleusercontent.com/a/default-user=s64",
      "userId": "00470938762273561607"
     },
     "user_tz": -540
    },
    "id": "TdpxFqBp0KH5"
   },
   "outputs": [],
   "source": [
    "def create_dataset_multistep(dataset, look_back=1,predict=1):\n",
    "    dataX, dataY = [], []\n",
    "    for i in range(len(dataset) - look_back-predict):\n",
    "        a = dataset[i:(i + look_back)]\n",
    "        dataX.append(a)\n",
    "        dataY.append(dataset[i+ look_back-1: i+ look_back+predict-1, 0])\n",
    "    print(len(dataY))\n",
    "    return np.array(dataX), np.array(dataY)"
   ]
  },
  {
   "cell_type": "code",
   "execution_count": 14,
   "id": "8317a607",
   "metadata": {
    "colab": {
     "base_uri": "https://localhost:8080/"
    },
    "executionInfo": {
     "elapsed": 23,
     "status": "ok",
     "timestamp": 1633486384443,
     "user": {
      "displayName": "정찬휘",
      "photoUrl": "https://lh3.googleusercontent.com/a/default-user=s64",
      "userId": "00470938762273561607"
     },
     "user_tz": -540
    },
    "id": "9EKnGyt00KKG",
    "outputId": "857f7848-e8cf-42e7-e568-7d544776c9df"
   },
   "outputs": [
    {
     "name": "stdout",
     "output_type": "stream",
     "text": [
      "7812\n",
      "808\n",
      "809\n"
     ]
    }
   ],
   "source": [
    "look_back = 168\n",
    "predict=24\n",
    "trainX, trainY = create_dataset_multistep(train, look_back,predict)\n",
    "valX, valY = create_dataset_multistep(val, look_back,predict)\n",
    "testX, testY = create_dataset_multistep(test, look_back,predict)"
   ]
  },
  {
   "cell_type": "code",
   "execution_count": 15,
   "id": "5fedd203",
   "metadata": {
    "colab": {
     "base_uri": "https://localhost:8080/"
    },
    "executionInfo": {
     "elapsed": 21,
     "status": "ok",
     "timestamp": 1633486384443,
     "user": {
      "displayName": "정찬휘",
      "photoUrl": "https://lh3.googleusercontent.com/a/default-user=s64",
      "userId": "00470938762273561607"
     },
     "user_tz": -540
    },
    "id": "l_RyHmWu1CG5",
    "outputId": "2aa441ad-49dd-42af-e9cd-53f89d4b4a3f"
   },
   "outputs": [
    {
     "data": {
      "text/plain": [
       "array([[[0.5081322 , 0.4972723 , 0.50418204, 0.49842197, 0.01987398,\n",
       "         0.01396313],\n",
       "        [0.50627834, 0.49758053, 0.51247734, 0.5081322 , 0.01269652,\n",
       "         0.00910186],\n",
       "        [0.5095518 , 0.50080806, 0.5140396 , 0.50627834, 0.01281198,\n",
       "         0.00923004],\n",
       "        ...,\n",
       "        [0.60594934, 0.5949154 , 0.61132294, 0.602308  , 0.00614555,\n",
       "         0.00532355],\n",
       "        [0.6126975 , 0.6016524 , 0.61389863, 0.60594934, 0.00730702,\n",
       "         0.00630235],\n",
       "        [0.61675006, 0.611603  , 0.6242047 , 0.6126975 , 0.01305175,\n",
       "         0.01107979]],\n",
       "\n",
       "       [[0.50627834, 0.49758053, 0.51247734, 0.5081322 , 0.01269652,\n",
       "         0.00910186],\n",
       "        [0.5095518 , 0.50080806, 0.5140396 , 0.50627834, 0.01281198,\n",
       "         0.00923004],\n",
       "        [0.4960037 , 0.49831617, 0.5053867 , 0.5095518 , 0.01790486,\n",
       "         0.01260215],\n",
       "        ...,\n",
       "        [0.6126975 , 0.6016524 , 0.61389863, 0.60594934, 0.00730702,\n",
       "         0.00630235],\n",
       "        [0.61675006, 0.611603  , 0.6242047 , 0.6126975 , 0.01305175,\n",
       "         0.01107979],\n",
       "        [0.61774707, 0.6077011 , 0.62571454, 0.61675006, 0.0088737 ,\n",
       "         0.00765403]],\n",
       "\n",
       "       [[0.5095518 , 0.50080806, 0.5140396 , 0.50627834, 0.01281198,\n",
       "         0.00923004],\n",
       "        [0.4960037 , 0.49831617, 0.5053867 , 0.5095518 , 0.01790486,\n",
       "         0.01260215],\n",
       "        [0.498434  , 0.4908719 , 0.5054164 , 0.4960037 , 0.01146439,\n",
       "         0.00815706],\n",
       "        ...,\n",
       "        [0.61675006, 0.611603  , 0.6242047 , 0.6126975 , 0.01305175,\n",
       "         0.01107979],\n",
       "        [0.61774707, 0.6077011 , 0.62571454, 0.61675006, 0.0088737 ,\n",
       "         0.00765403],\n",
       "        [0.6077144 , 0.6070164 , 0.6168551 , 0.61774707, 0.01457281,\n",
       "         0.01219954]],\n",
       "\n",
       "       ...,\n",
       "\n",
       "       [[0.7679244 , 0.75712943, 0.7679005 , 0.758502  , 0.00683018,\n",
       "         0.00719298],\n",
       "        [0.76877314, 0.7597617 , 0.77710855, 0.7679244 , 0.00627915,\n",
       "         0.00671501],\n",
       "        [0.7657224 , 0.76235634, 0.7736668 , 0.76877314, 0.00365941,\n",
       "         0.00412266],\n",
       "        ...,\n",
       "        [0.80513406, 0.79426485, 0.81098056, 0.8020041 , 0.00320903,\n",
       "         0.00383742],\n",
       "        [0.79286665, 0.79408437, 0.8039461 , 0.80513406, 0.01195363,\n",
       "         0.01265744],\n",
       "        [0.797428  , 0.7883947 , 0.80268013, 0.79286665, 0.00405095,\n",
       "         0.00466651]],\n",
       "\n",
       "       [[0.76877314, 0.7597617 , 0.77710855, 0.7679244 , 0.00627915,\n",
       "         0.00671501],\n",
       "        [0.7657224 , 0.76235634, 0.7736668 , 0.76877314, 0.00365941,\n",
       "         0.00412266],\n",
       "        [0.76692826, 0.7556167 , 0.7719104 , 0.7657224 , 0.00173828,\n",
       "         0.00222572],\n",
       "        ...,\n",
       "        [0.79286665, 0.79408437, 0.8039461 , 0.80513406, 0.01195363,\n",
       "         0.01265744],\n",
       "        [0.797428  , 0.7883947 , 0.80268013, 0.79286665, 0.00405095,\n",
       "         0.00466651],\n",
       "        [0.8005765 , 0.7901552 , 0.8069133 , 0.797428  , 0.00266292,\n",
       "         0.00326508]],\n",
       "\n",
       "       [[0.7657224 , 0.76235634, 0.7736668 , 0.76877314, 0.00365941,\n",
       "         0.00412266],\n",
       "        [0.76692826, 0.7556167 , 0.7719104 , 0.7657224 , 0.00173828,\n",
       "         0.00222572],\n",
       "        [0.7629991 , 0.7602531 , 0.7739066 , 0.76692826, 0.0025227 ,\n",
       "         0.00300547],\n",
       "        ...,\n",
       "        [0.797428  , 0.7883947 , 0.80268013, 0.79286665, 0.00405095,\n",
       "         0.00466651],\n",
       "        [0.8005765 , 0.7901552 , 0.8069133 , 0.797428  , 0.00266292,\n",
       "         0.00326508],\n",
       "        [0.7925669 , 0.7885774 , 0.8037714 , 0.8005765 , 0.00275635,\n",
       "         0.0033448 ]]], dtype=float32)"
      ]
     },
     "execution_count": 15,
     "metadata": {},
     "output_type": "execute_result"
    }
   ],
   "source": [
    "testX"
   ]
  },
  {
   "cell_type": "code",
   "execution_count": 16,
   "id": "9dab91f9",
   "metadata": {
    "colab": {
     "base_uri": "https://localhost:8080/"
    },
    "executionInfo": {
     "elapsed": 11,
     "status": "ok",
     "timestamp": 1633486384859,
     "user": {
      "displayName": "정찬휘",
      "photoUrl": "https://lh3.googleusercontent.com/a/default-user=s64",
      "userId": "00470938762273561607"
     },
     "user_tz": -540
    },
    "id": "cbOcy2dP0KMv",
    "outputId": "fa138729-3008-43e1-eff7-47f5b35233c2"
   },
   "outputs": [
    {
     "name": "stdout",
     "output_type": "stream",
     "text": [
      "(7812, 168, 6)\n",
      "(7812, 24)\n"
     ]
    }
   ],
   "source": [
    "\n",
    "print(trainX.shape)\n",
    "print(trainY.shape)"
   ]
  },
  {
   "cell_type": "code",
   "execution_count": 17,
   "id": "7c402cff",
   "metadata": {
    "executionInfo": {
     "elapsed": 8,
     "status": "ok",
     "timestamp": 1633486384860,
     "user": {
      "displayName": "정찬휘",
      "photoUrl": "https://lh3.googleusercontent.com/a/default-user=s64",
      "userId": "00470938762273561607"
     },
     "user_tz": -540
    },
    "id": "zTYfgj_E0KO_"
   },
   "outputs": [],
   "source": [
    "SMALL_SIZE = 20\n",
    "MEDIUM_SIZE = 23\n",
    "BIGGER_SIZE = 25\n",
    "\n",
    "plt.rc('font', size=SMALL_SIZE) # controls default text sizes\n",
    "plt.rc('axes', titlesize=SMALL_SIZE) # fontsize of the axes title\n",
    "plt.rc('axes', labelsize=MEDIUM_SIZE) # fontsize of the x and y labels\n",
    "plt.rc('xtick', labelsize=SMALL_SIZE) # fontsize of the tick labels\n",
    "plt.rc('ytick', labelsize=SMALL_SIZE) # fontsize of the tick labels\n",
    "plt.rc('legend', fontsize=MEDIUM_SIZE) # legend fontsize\n",
    "plt.rc('figure', titlesize=BIGGER_SIZE) # fontsize of the figure title"
   ]
  },
  {
   "cell_type": "markdown",
   "id": "0cc2f9e7",
   "metadata": {
    "id": "Cz16l9PO3WqB"
   },
   "source": [
    "CNN-LSTM"
   ]
  },
  {
   "cell_type": "code",
   "execution_count": 30,
   "id": "bdf2d195",
   "metadata": {
    "executionInfo": {
     "elapsed": 7,
     "status": "ok",
     "timestamp": 1633486384861,
     "user": {
      "displayName": "정찬휘",
      "photoUrl": "https://lh3.googleusercontent.com/a/default-user=s64",
      "userId": "00470938762273561607"
     },
     "user_tz": -540
    },
    "id": "h7t1J8_M3bpM"
   },
   "outputs": [],
   "source": [
    "from tensorflow.keras.models import Model\n",
    "\n",
    "first_input = Input(shape=(168,6))\n",
    "\n",
    "in1=Conv1D(filters=64, kernel_size=3, activation='relu',padding='same')(first_input)\n",
    "#in1= BatchNormalization(scale=False)(in1)\n",
    "\n",
    "in1=Conv1D(filters=64, kernel_size=2, activation='relu',padding='same')(in1)\n",
    "#in1= BatchNormalization(scale=False)(in1)\n",
    "#in1=Conv1D(filters=64, kernel_size=3, activation='relu',padding='same')(in1)\n",
    "\n",
    "in1=Conv1D(filters=64, kernel_size=1, activation='relu',padding='same')(in1)\n",
    "in1=Conv1D(filters=64, kernel_size=3, activation='relu',padding='same')(in1)\n",
    "#in1= BatchNormalization(scale=False)(in1)\n",
    "\n",
    "in1=Conv1D(filters=64, kernel_size=2, activation='relu',padding='same')(in1)\n",
    "#in1= BatchNormalization(scale=False)(in1)\n",
    "#in1=Conv1D(filters=64, kernel_size=3, activation='relu',padding='same')(in1)\n",
    "\n",
    "in1=Conv1D(filters=64, kernel_size=1, activation='relu',padding='same')(in1)\n",
    "#in1= BatchNormalization(scale=False)(in1)\n",
    "\n",
    "#in1=add([in0,in1],name='extractor')\n",
    "#attn_layer = AttentionLayer(name='attention_layer')\n",
    "#attn_out, attn_states = attn_layer([in1,in1])\n",
    "\n",
    "    # Concat attention input and LSTM output, in original code it was decoder LSTM\n",
    "#concat_out = Concatenate(axis=-1, name='concat_layer')([in1, attn_out])\n",
    "in1=MaxPooling1D(pool_size=2, name='extractor')(in1)\n",
    "#in1=Dropout(0.5)(in1)\n",
    "#in1=Flatten()(in1)\n",
    "#in1=Dense(100, activation='relu')(in1)\n",
    "in1=LSTM(100)(in1)\n",
    "in1=Dense(100)(in1)\n",
    "in1=Dropout(0.5)(in1)\n",
    "out=Dense(24)(in1)\n",
    "model=tf.keras.Model(inputs=[first_input],outputs=[out])\n",
    "model.compile(optimizer='adam', loss='mse')\n",
    "\n",
    "checkpoint_path = \"saved_weights/btc_cnnlstm_multistep.hdf5\"\n",
    "cb = tf.keras.callbacks.ModelCheckpoint(filepath=checkpoint_path,\n",
    "                                                 save_best_only=True,\n",
    "                                        monitor='val_loss',mode='min',\n",
    "                                                 verbose=1)"
   ]
  },
  {
   "cell_type": "code",
   "execution_count": 31,
   "id": "d927a427",
   "metadata": {
    "executionInfo": {
     "elapsed": 7,
     "status": "ok",
     "timestamp": 1633486384861,
     "user": {
      "displayName": "정찬휘",
      "photoUrl": "https://lh3.googleusercontent.com/a/default-user=s64",
      "userId": "00470938762273561607"
     },
     "user_tz": -540
    },
    "id": "MDAM0gpL3brW"
   },
   "outputs": [],
   "source": [
    "model.load_weights(\"C:/Users/mozzimerci/jupyter notebook/time/chan/ff/saved_weights/btc_cnnlstm_multistep.hdf5\")"
   ]
  },
  {
   "cell_type": "code",
   "execution_count": 20,
   "id": "a689a070",
   "metadata": {},
   "outputs": [
    {
     "name": "stdout",
     "output_type": "stream",
     "text": [
      "Model: \"functional_1\"\n",
      "_________________________________________________________________\n",
      "Layer (type)                 Output Shape              Param #   \n",
      "=================================================================\n",
      "input_1 (InputLayer)         [(None, 168, 6)]          0         \n",
      "_________________________________________________________________\n",
      "conv1d (Conv1D)              (None, 168, 64)           1216      \n",
      "_________________________________________________________________\n",
      "conv1d_1 (Conv1D)            (None, 168, 64)           8256      \n",
      "_________________________________________________________________\n",
      "conv1d_2 (Conv1D)            (None, 168, 64)           4160      \n",
      "_________________________________________________________________\n",
      "conv1d_3 (Conv1D)            (None, 168, 64)           12352     \n",
      "_________________________________________________________________\n",
      "conv1d_4 (Conv1D)            (None, 168, 64)           8256      \n",
      "_________________________________________________________________\n",
      "conv1d_5 (Conv1D)            (None, 168, 64)           4160      \n",
      "_________________________________________________________________\n",
      "extractor (MaxPooling1D)     (None, 84, 64)            0         \n",
      "_________________________________________________________________\n",
      "lstm (LSTM)                  (None, 100)               66000     \n",
      "_________________________________________________________________\n",
      "dense (Dense)                (None, 100)               10100     \n",
      "_________________________________________________________________\n",
      "dropout (Dropout)            (None, 100)               0         \n",
      "_________________________________________________________________\n",
      "dense_1 (Dense)              (None, 24)                2424      \n",
      "=================================================================\n",
      "Total params: 116,924\n",
      "Trainable params: 116,924\n",
      "Non-trainable params: 0\n",
      "_________________________________________________________________\n"
     ]
    }
   ],
   "source": [
    "model.summary()"
   ]
  },
  {
   "cell_type": "code",
   "execution_count": 22,
   "id": "b79f1adf",
   "metadata": {
    "colab": {
     "base_uri": "https://localhost:8080/",
     "height": 356
    },
    "executionInfo": {
     "elapsed": 545,
     "status": "ok",
     "timestamp": 1633486385400,
     "user": {
      "displayName": "정찬휘",
      "photoUrl": "https://lh3.googleusercontent.com/a/default-user=s64",
      "userId": "00470938762273561607"
     },
     "user_tz": -540
    },
    "id": "fA_6wI5x3iXq",
    "outputId": "6d1b9567-a84e-4ff1-f667-01078324d068"
   },
   "outputs": [
    {
     "name": "stdout",
     "output_type": "stream",
     "text": [
      "1.0\n",
      "0.0\n",
      "1.0\n",
      "(168, 6)\n"
     ]
    },
    {
     "data": {
      "text/plain": [
       "<matplotlib.colorbar.Colorbar at 0x1287685c5b0>"
      ]
     },
     "execution_count": 22,
     "metadata": {},
     "output_type": "execute_result"
    },
    {
     "data": {
      "image/png": "[encoded data removed]",
      "text/plain": [
       "<Figure size 1080x360 with 2 Axes>"
      ]
     },
     "metadata": {
      "needs_background": "light"
     },
     "output_type": "display_data"
    }
   ],
   "source": [
    "id_=24*12\n",
    "import matplotlib.pyplot as plt\n",
    "import numpy as np\n",
    "\n",
    "X_test=testX\n",
    "grad_weight = get_integrated_gradients(X_test[id_], model, baseline = X_test[id_-1])\n",
    "\n",
    "grad_weight_abs = abs(grad_weight)\n",
    "\n",
    "grad_weight_abs_z = (grad_weight_abs-(np.min(grad_weight_abs)))/(np.max(grad_weight_abs)-(np.min(grad_weight_abs)))\n",
    "\n",
    "print(np.max(grad_weight_abs_z))\n",
    "print(np.min(grad_weight_abs_z))\n",
    "print(np.max(grad_weight_abs_z)-np.min(grad_weight_abs_z))\n",
    "#grad_weight=grad_weight.reshape(48,4)\n",
    "\n",
    "print(grad_weight_abs_z.shape)\n",
    "\n",
    "#plt.plot(X_test[8], 'k')\n",
    "a=grad_weight_abs_z.numpy()\n",
    "a=a.reshape(168,6)\n",
    "a=a.transpose()\n",
    "#print(a)\n",
    "fig, ax = plt.subplots(1,1, figsize=(15,5))\n",
    "\n",
    "y_label_list = [1,2,3,4,5,6]\n",
    "x_label_list = [0,24,48,72,96,120,144,168]\n",
    "ax.set_xticks([0,24,48,72,96,120,144,168])\n",
    "\n",
    "ax.set_yticks([8,24,40,56,72,88])\n",
    "\n",
    "ax.set_yticklabels(y_label_list)\n",
    "ax.set_xticklabels(x_label_list)\n",
    "\n",
    "ax.set_yticklabels(y_label_list)\n",
    "ax.set_xticklabels(x_label_list)\n",
    "ax.set_xlabel('Time (Hours)')\n",
    "ax.set_ylabel('Feature')\n",
    "plt.subplots_adjust(bottom=0.15)\n",
    "\n",
    "plt.imshow(a,extent = [0 , 168, 0 , 96], vmin=0, vmax=0.5, cmap=\"Blues\", interpolation='nearest')\n",
    "plt.colorbar()\n",
    "\n",
    "#plt.savefig('png/btc_feature int_grad_cnn-lstm(1).png')"
   ]
  },
  {
   "cell_type": "code",
   "execution_count": 32,
   "id": "d5e3d6a2",
   "metadata": {},
   "outputs": [
    {
     "name": "stdout",
     "output_type": "stream",
     "text": [
      "1.0\n",
      "0.0\n",
      "1.0\n",
      "(168, 6)\n"
     ]
    },
    {
     "data": {
      "text/plain": [
       "<matplotlib.colorbar.Colorbar at 0x12877ebd5b0>"
      ]
     },
     "execution_count": 32,
     "metadata": {},
     "output_type": "execute_result"
    },
    {
     "data": {
      "image/png": "[encoded data removed]",
      "text/plain": [
       "<Figure size 1080x360 with 2 Axes>"
      ]
     },
     "metadata": {
      "needs_background": "light"
     },
     "output_type": "display_data"
    }
   ],
   "source": [
    "import matplotlib.pyplot as plt\n",
    "import numpy as np\n",
    "\n",
    "X_test=testX\n",
    "grad_weight = get_integrated_gradients_r(X_test[id_], model, baseline1 = X_test[id_-1])\n",
    "\n",
    "grad_weight_abs = abs(grad_weight)\n",
    "\n",
    "grad_weight_abs_z = (grad_weight_abs-(np.min(grad_weight_abs)))/(np.max(grad_weight_abs)-(np.min(grad_weight_abs)))\n",
    "\n",
    "print(np.max(grad_weight_abs_z))\n",
    "print(np.min(grad_weight_abs_z))\n",
    "print(np.max(grad_weight_abs_z)-np.min(grad_weight_abs_z))\n",
    "#grad_weight=grad_weight.reshape(48,4)\n",
    "\n",
    "print(grad_weight_abs_z.shape)\n",
    "\n",
    "#plt.plot(X_test[8], 'k')\n",
    "a=grad_weight_abs_z.numpy()\n",
    "a=a.reshape(168,6)\n",
    "a=a.transpose()\n",
    "#print(a)\n",
    "fig, ax = plt.subplots(1,1, figsize=(15,5))\n",
    "\n",
    "y_label_list = [1,2,3,4,5,6]\n",
    "x_label_list = [0,24,48,72,96,120,144,168]\n",
    "ax.set_xticks([0,24,48,72,96,120,144,168])\n",
    "\n",
    "ax.set_yticks([8,24,40,56,72,88])\n",
    "\n",
    "ax.set_yticklabels(y_label_list)\n",
    "ax.set_xticklabels(x_label_list)\n",
    "\n",
    "ax.set_yticklabels(y_label_list)\n",
    "ax.set_xticklabels(x_label_list)\n",
    "ax.set_xlabel('Time (Hours)')\n",
    "ax.set_ylabel('Feature')\n",
    "plt.subplots_adjust(bottom=0.15)\n",
    "\n",
    "plt.imshow(a,extent = [0 , 168, 0 , 96], vmin=0, vmax=0.5, cmap=\"Blues\", interpolation='nearest')\n",
    "plt.colorbar()"
   ]
  },
  {
   "cell_type": "markdown",
   "id": "15a144ab",
   "metadata": {
    "id": "P3BtB__O3Wsj"
   },
   "source": [
    "LSTM-CNN"
   ]
  },
  {
   "cell_type": "code",
   "execution_count": 33,
   "id": "28ba5d94",
   "metadata": {
    "executionInfo": {
     "elapsed": 262,
     "status": "ok",
     "timestamp": 1633486385659,
     "user": {
      "displayName": "정찬휘",
      "photoUrl": "https://lh3.googleusercontent.com/a/default-user=s64",
      "userId": "00470938762273561607"
     },
     "user_tz": -540
    },
    "id": "mzFbY4jg3cIX"
   },
   "outputs": [],
   "source": [
    "from tensorflow.keras.models import Model\n",
    "\n",
    "first_input = Input(shape=(168,6))\n",
    "\n",
    "in0=LSTM(64,return_sequences=True)(first_input)\n",
    "#in1=add([first_input,in0])\n",
    "in0=Conv1D(filters=64, kernel_size=3, activation='relu',padding='same')(in0)\n",
    "#in1= BatchNormalization(scale=False)(in0)\n",
    "\n",
    "in1=Conv1D(filters=64, kernel_size=2, activation='relu',padding='same')(in0)\n",
    "#in1= BatchNormalization(scale=False)(in1)\n",
    "#in1=Conv1D(filters=64, kernel_size=3, activation='relu',padding='same')(in0)\n",
    "\n",
    "in1=Conv1D(filters=64, kernel_size=1, activation='relu',padding='same')(in1)\n",
    "#in1= BatchNormalization(scale=False)(in1)\n",
    "\n",
    "#in1=add([in0,in1],name='extractor1')\n",
    "\n",
    "#ad=Dropout(0.5)(ad)\n",
    "#in0=LSTM(64,return_sequences=True)(ad)\n",
    "#in1=add([first_input,in0])\n",
    "in0=Conv1D(filters=64, kernel_size=3, activation='relu',padding='same')(in1)\n",
    "#in1= BatchNormalization(scale=False)(in0)\n",
    "\n",
    "in1=Conv1D(filters=64, kernel_size=2, activation='relu',padding='same')(in0)\n",
    "#in1= BatchNormalization(scale=False)(in1)\n",
    "#in1=Conv1D(filters=64, kernel_size=3, activation='relu',padding='same')(in0)\n",
    "\n",
    "in1=Conv1D(filters=64, kernel_size=1, activation='relu',padding='same',name='extractor')(in1)\n",
    "#in1= BatchNormalization(scale=False)(in1)\n",
    "\n",
    "in1=Flatten()(in1)\n",
    "in1=Dense(100, activation='relu')(in1)\n",
    "\n",
    "in1=Dropout(0.5)(in1)\n",
    "out=Dense(24,'relu')(in1)\n",
    "model=tf.keras.Model(inputs=[first_input],outputs=[out])\n",
    "model.compile(optimizer='adam', loss='mse')\n",
    "\n",
    "checkpoint_path = \"saved_weights/btc_lstmcnn_mulstep.hdf5\"\n",
    "cb = tf.keras.callbacks.ModelCheckpoint(filepath=checkpoint_path,\n",
    "                                                 save_best_only=True,\n",
    "                                        monitor='val_loss',mode='min',\n",
    "                                                 verbose=1)"
   ]
  },
  {
   "cell_type": "code",
   "execution_count": 34,
   "id": "5c997a6c",
   "metadata": {
    "executionInfo": {
     "elapsed": 315,
     "status": "ok",
     "timestamp": 1633486385969,
     "user": {
      "displayName": "정찬휘",
      "photoUrl": "https://lh3.googleusercontent.com/a/default-user=s64",
      "userId": "00470938762273561607"
     },
     "user_tz": -540
    },
    "id": "mRn9KcmQ3cKp"
   },
   "outputs": [],
   "source": [
    "model.load_weights(\"C:/Users/mozzimerci/jupyter notebook/time/chan/ff/saved_weights/btc_lstmcnn_mulstep.hdf5\")"
   ]
  },
  {
   "cell_type": "code",
   "execution_count": 25,
   "id": "7f8aa1b5",
   "metadata": {
    "colab": {
     "base_uri": "https://localhost:8080/",
     "height": 365
    },
    "executionInfo": {
     "elapsed": 512,
     "status": "ok",
     "timestamp": 1633486386479,
     "user": {
      "displayName": "정찬휘",
      "photoUrl": "https://lh3.googleusercontent.com/a/default-user=s64",
      "userId": "00470938762273561607"
     },
     "user_tz": -540
    },
    "id": "4oZ3dgm83iqa",
    "outputId": "b13d418d-18a1-47d9-f8a4-76c189a7b619"
   },
   "outputs": [
    {
     "name": "stdout",
     "output_type": "stream",
     "text": [
      "1.0\n",
      "0.0\n",
      "1.0\n",
      "(168, 6)\n"
     ]
    },
    {
     "data": {
      "text/plain": [
       "<matplotlib.colorbar.Colorbar at 0x12877366b20>"
      ]
     },
     "execution_count": 25,
     "metadata": {},
     "output_type": "execute_result"
    },
    {
     "data": {
      "image/png": "[encoded data removed]",
      "text/plain": [
       "<Figure size 1080x360 with 2 Axes>"
      ]
     },
     "metadata": {
      "needs_background": "light"
     },
     "output_type": "display_data"
    }
   ],
   "source": [
    "import matplotlib.pyplot as plt\n",
    "import numpy as np\n",
    "\n",
    "X_test=testX\n",
    "grad_weight = get_integrated_gradients(X_test[id_], model, baseline = X_test[id_-1])\n",
    "\n",
    "grad_weight_abs = abs(grad_weight)\n",
    "\n",
    "grad_weight_abs_z = (grad_weight_abs-(np.min(grad_weight_abs)))/(np.max(grad_weight_abs)-(np.min(grad_weight_abs)))\n",
    "\n",
    "print(np.max(grad_weight_abs_z))\n",
    "print(np.min(grad_weight_abs_z))\n",
    "print(np.max(grad_weight_abs_z)-np.min(grad_weight_abs_z))\n",
    "#grad_weight=grad_weight.reshape(48,4)\n",
    "\n",
    "print(grad_weight_abs_z.shape)\n",
    "\n",
    "#plt.plot(X_test[8], 'k')\n",
    "a=grad_weight_abs_z.numpy()\n",
    "a=a.reshape(168,6)\n",
    "a=a.transpose()\n",
    "#print(a)\n",
    "fig, ax = plt.subplots(1,1, figsize=(15,5))\n",
    "\n",
    "y_label_list = [1,2,3,4,5,6]\n",
    "x_label_list = [0,24,48,72,96,120,144,168]\n",
    "ax.set_xticks([0,24,48,72,96,120,144,168])\n",
    "\n",
    "ax.set_yticks([8,24,40,56,72,88])\n",
    "\n",
    "ax.set_yticklabels(y_label_list)\n",
    "ax.set_xticklabels(x_label_list)\n",
    "\n",
    "ax.set_yticklabels(y_label_list)\n",
    "ax.set_xticklabels(x_label_list)\n",
    "ax.set_xlabel('Time (Hours)')\n",
    "ax.set_ylabel('Feature')\n",
    "plt.subplots_adjust(bottom=0.15)\n",
    "\n",
    "plt.imshow(a,extent = [0 , 168, 0 , 96], vmin=0, vmax=0.5, cmap=\"Blues\", interpolation='nearest')\n",
    "plt.colorbar()"
   ]
  },
  {
   "cell_type": "code",
   "execution_count": 35,
   "id": "ad43ee37",
   "metadata": {},
   "outputs": [
    {
     "name": "stdout",
     "output_type": "stream",
     "text": [
      "1.0\n",
      "0.0\n",
      "1.0\n",
      "(168, 6)\n"
     ]
    },
    {
     "data": {
      "text/plain": [
       "<matplotlib.colorbar.Colorbar at 0x128776cacd0>"
      ]
     },
     "execution_count": 35,
     "metadata": {},
     "output_type": "execute_result"
    },
    {
     "data": {
      "image/png": "[encoded data removed]",
      "text/plain": [
       "<Figure size 1080x360 with 2 Axes>"
      ]
     },
     "metadata": {
      "needs_background": "light"
     },
     "output_type": "display_data"
    }
   ],
   "source": [
    "import matplotlib.pyplot as plt\n",
    "import numpy as np\n",
    "\n",
    "X_test=testX\n",
    "grad_weight = get_integrated_gradients_r(X_test[id_], model, baseline1 = X_test[id_-1])\n",
    "\n",
    "grad_weight_abs = abs(grad_weight)\n",
    "\n",
    "grad_weight_abs_z = (grad_weight_abs-(np.min(grad_weight_abs)))/(np.max(grad_weight_abs)-(np.min(grad_weight_abs)))\n",
    "\n",
    "print(np.max(grad_weight_abs_z))\n",
    "print(np.min(grad_weight_abs_z))\n",
    "print(np.max(grad_weight_abs_z)-np.min(grad_weight_abs_z))\n",
    "#grad_weight=grad_weight.reshape(48,4)\n",
    "\n",
    "print(grad_weight_abs_z.shape)\n",
    "\n",
    "#plt.plot(X_test[8], 'k')\n",
    "a=grad_weight_abs_z.numpy()\n",
    "a=a.reshape(168,6)\n",
    "a=a.transpose()\n",
    "#print(a)\n",
    "fig, ax = plt.subplots(1,1, figsize=(15,5))\n",
    "\n",
    "y_label_list = [1,2,3,4,5,6]\n",
    "x_label_list = [0,24,48,72,96,120,144,168]\n",
    "ax.set_xticks([0,24,48,72,96,120,144,168])\n",
    "\n",
    "ax.set_yticks([8,24,40,56,72,88])\n",
    "\n",
    "ax.set_yticklabels(y_label_list)\n",
    "ax.set_xticklabels(x_label_list)\n",
    "\n",
    "ax.set_yticklabels(y_label_list)\n",
    "ax.set_xticklabels(x_label_list)\n",
    "ax.set_xlabel('Time (Hours)')\n",
    "ax.set_ylabel('Feature')\n",
    "plt.subplots_adjust(bottom=0.15)\n",
    "\n",
    "plt.imshow(a,extent = [0 , 168, 0 , 96], vmin=0, vmax=0.5, cmap=\"Blues\", interpolation='nearest')\n",
    "plt.colorbar()"
   ]
  },
  {
   "cell_type": "markdown",
   "id": "813fa64a",
   "metadata": {
    "id": "ySAHBQ4j0gBJ"
   },
   "source": [
    "LSTM-resCNN\n",
    "\n",
    "\n"
   ]
  },
  {
   "cell_type": "code",
   "execution_count": 36,
   "id": "b1fd9a80",
   "metadata": {
    "executionInfo": {
     "elapsed": 271,
     "status": "ok",
     "timestamp": 1633486386748,
     "user": {
      "displayName": "정찬휘",
      "photoUrl": "https://lh3.googleusercontent.com/a/default-user=s64",
      "userId": "00470938762273561607"
     },
     "user_tz": -540
    },
    "id": "XjwEnyBw0KTB"
   },
   "outputs": [],
   "source": [
    "from tensorflow.keras.models import Model\n",
    "\n",
    "first_input = Input(shape=(168,6))\n",
    "\n",
    "in0=LSTM(64,return_sequences=True)(first_input)\n",
    "#in1=add([first_input,in0])\n",
    "in0=Conv1D(filters=64, kernel_size=3, activation='relu',padding='same')(in0)\n",
    "#in1= BatchNormalization(scale=False)(in0)\n",
    "\n",
    "in1=Conv1D(filters=64, kernel_size=2, activation='relu',padding='same')(in0)\n",
    "#in1= BatchNormalization(scale=False)(in1)\n",
    "#in1=Conv1D(filters=64, kernel_size=3, activation='relu',padding='same')(in0)\n",
    "\n",
    "in1=Conv1D(filters=64, kernel_size=1, activation='relu',padding='same')(in1)\n",
    "#in1= BatchNormalization(scale=False)(in1)\n",
    "\n",
    "in1=add([in0,in1],name='extractor1')\n",
    "\n",
    "#ad=Dropout(0.5)(ad)\n",
    "#in0=LSTM(64,return_sequences=True)(ad)\n",
    "#in1=add([first_input,in0])\n",
    "in0=Conv1D(filters=64, kernel_size=3, activation='relu',padding='same')(in1)\n",
    "#in1= BatchNormalization(scale=False)(in0)\n",
    "\n",
    "in1=Conv1D(filters=64, kernel_size=2, activation='relu',padding='same')(in0)\n",
    "#in1= BatchNormalization(scale=False)(in1)\n",
    "#in1=Conv1D(filters=64, kernel_size=3, activation='relu',padding='same')(in0)\n",
    "\n",
    "in1=Conv1D(filters=64, kernel_size=1, activation='relu',padding='same')(in1)\n",
    "#in1= BatchNormalization(scale=False)(in1)\n",
    "\n",
    "in1=add([in0,in1],name='extractor')\n",
    "\n",
    "\n",
    "in1=Flatten()(in1)\n",
    "in1=Dense(100, activation='relu')(in1)\n",
    "in1=Dropout(0.5)(in1)\n",
    "\n",
    "out=Dense(24,'relu')(in1)\n",
    "model=tf.keras.Model(inputs=[first_input],outputs=[out])\n",
    "model.compile(optimizer='adam', loss='mse')\n",
    "\n",
    "checkpoint_path = \"saved_weights/btc_lstmrescnn_mulstep.hdf5\"\n",
    "cb = tf.keras.callbacks.ModelCheckpoint(filepath=checkpoint_path,\n",
    "                                                 save_best_only=True,\n",
    "                                        monitor='val_loss',mode='min',\n",
    "                                                 verbose=1)"
   ]
  },
  {
   "cell_type": "code",
   "execution_count": 37,
   "id": "faa341cf",
   "metadata": {
    "executionInfo": {
     "elapsed": 8,
     "status": "ok",
     "timestamp": 1633486386750,
     "user": {
      "displayName": "정찬휘",
      "photoUrl": "https://lh3.googleusercontent.com/a/default-user=s64",
      "userId": "00470938762273561607"
     },
     "user_tz": -540
    },
    "id": "SLzXhBmc0lid"
   },
   "outputs": [],
   "source": [
    "model.load_weights(\"C:/Users/mozzimerci/jupyter notebook/time/chan/ff/saved_weights/btc_lstmrescnn_mulstep.hdf5\")"
   ]
  },
  {
   "cell_type": "code",
   "execution_count": 28,
   "id": "95736454",
   "metadata": {},
   "outputs": [
    {
     "name": "stdout",
     "output_type": "stream",
     "text": [
      "1.0\n",
      "0.0\n",
      "1.0\n",
      "(168, 6)\n"
     ]
    },
    {
     "data": {
      "text/plain": [
       "<matplotlib.colorbar.Colorbar at 0x12874878970>"
      ]
     },
     "execution_count": 28,
     "metadata": {},
     "output_type": "execute_result"
    },
    {
     "data": {
      "image/png": "[encoded data removed]",
      "text/plain": [
       "<Figure size 1080x360 with 2 Axes>"
      ]
     },
     "metadata": {
      "needs_background": "light"
     },
     "output_type": "display_data"
    }
   ],
   "source": [
    "import matplotlib.pyplot as plt\n",
    "import numpy as np\n",
    "\n",
    "X_test=testX\n",
    "grad_weight = get_integrated_gradients(X_test[id_], model, baseline = X_test[id_-1])\n",
    "\n",
    "grad_weight_abs = abs(grad_weight)\n",
    "\n",
    "grad_weight_abs_z = (grad_weight_abs-(np.min(grad_weight_abs)))/(np.max(grad_weight_abs)-(np.min(grad_weight_abs)))\n",
    "\n",
    "print(np.max(grad_weight_abs_z))\n",
    "print(np.min(grad_weight_abs_z))\n",
    "print(np.max(grad_weight_abs_z)-np.min(grad_weight_abs_z))\n",
    "#grad_weight=grad_weight.reshape(48,4)\n",
    "\n",
    "print(grad_weight_abs_z.shape)\n",
    "\n",
    "#plt.plot(X_test[8], 'k')\n",
    "a=grad_weight_abs_z.numpy()\n",
    "a=a.reshape(168,6)\n",
    "a=a.transpose()\n",
    "#print(a)\n",
    "fig, ax = plt.subplots(1,1, figsize=(15,5))\n",
    "\n",
    "y_label_list = [1,2,3,4,5,6]\n",
    "x_label_list = [0,24,48,72,96,120,144,168]\n",
    "ax.set_xticks([0,24,48,72,96,120,144,168])\n",
    "\n",
    "ax.set_yticks([8,24,40,56,72,88])\n",
    "\n",
    "ax.set_yticklabels(y_label_list)\n",
    "ax.set_xticklabels(x_label_list)\n",
    "\n",
    "ax.set_yticklabels(y_label_list)\n",
    "ax.set_xticklabels(x_label_list)\n",
    "ax.set_xlabel('Time (Hours)')\n",
    "ax.set_ylabel('Feature')\n",
    "plt.subplots_adjust(bottom=0.15)\n",
    "\n",
    "plt.imshow(a,extent = [0 , 168, 0 , 96], vmin=0, vmax=0.5, cmap=\"Blues\", interpolation='nearest')\n",
    "plt.colorbar()"
   ]
  },
  {
   "cell_type": "code",
   "execution_count": 38,
   "id": "01c41777",
   "metadata": {},
   "outputs": [
    {
     "name": "stdout",
     "output_type": "stream",
     "text": [
      "1.0\n",
      "0.0\n",
      "1.0\n",
      "(168, 6)\n"
     ]
    },
    {
     "data": {
      "text/plain": [
       "<matplotlib.colorbar.Colorbar at 0x12879a34850>"
      ]
     },
     "execution_count": 38,
     "metadata": {},
     "output_type": "execute_result"
    },
    {
     "data": {
      "image/png": "[encoded data removed]",
      "text/plain": [
       "<Figure size 1080x360 with 2 Axes>"
      ]
     },
     "metadata": {
      "needs_background": "light"
     },
     "output_type": "display_data"
    }
   ],
   "source": [
    "import matplotlib.pyplot as plt\n",
    "import numpy as np\n",
    "\n",
    "X_test=testX\n",
    "grad_weight = get_integrated_gradients_r(X_test[id_], model, baseline1 = X_test[id_-1])\n",
    "\n",
    "grad_weight_abs = abs(grad_weight)\n",
    "\n",
    "grad_weight_abs_z = (grad_weight_abs-(np.min(grad_weight_abs)))/(np.max(grad_weight_abs)-(np.min(grad_weight_abs)))\n",
    "\n",
    "print(np.max(grad_weight_abs_z))\n",
    "print(np.min(grad_weight_abs_z))\n",
    "print(np.max(grad_weight_abs_z)-np.min(grad_weight_abs_z))\n",
    "#grad_weight=grad_weight.reshape(48,4)\n",
    "\n",
    "print(grad_weight_abs_z.shape)\n",
    "\n",
    "#plt.plot(X_test[8], 'k')\n",
    "a=grad_weight_abs_z.numpy()\n",
    "a=a.reshape(168,6)\n",
    "a=a.transpose()\n",
    "#print(a)\n",
    "fig, ax = plt.subplots(1,1, figsize=(15,5))\n",
    "\n",
    "y_label_list = [1,2,3,4,5,6]\n",
    "x_label_list = [0,24,48,72,96,120,144,168]\n",
    "ax.set_xticks([0,24,48,72,96,120,144,168])\n",
    "\n",
    "ax.set_yticks([8,24,40,56,72,88])\n",
    "\n",
    "ax.set_yticklabels(y_label_list)\n",
    "ax.set_xticklabels(x_label_list)\n",
    "\n",
    "ax.set_yticklabels(y_label_list)\n",
    "ax.set_xticklabels(x_label_list)\n",
    "ax.set_xlabel('Time (Hours)')\n",
    "ax.set_ylabel('Feature')\n",
    "plt.subplots_adjust(bottom=0.15)\n",
    "\n",
    "plt.imshow(a,extent = [0 , 168, 0 , 96], vmin=0, vmax=0.5, cmap=\"Blues\", interpolation='nearest')\n",
    "plt.colorbar()"
   ]
  },
  {
   "cell_type": "code",
   "execution_count": null,
   "id": "7856950b",
   "metadata": {},
   "outputs": [],
   "source": []
  }
 ],
 "metadata": {
  "colab": {
   "collapsed_sections": [],
   "name": "Untitled.ipynb",
   "provenance": []
  },
  "kernelspec": {
   "display_name": "Python 3",
   "language": "python",
   "name": "python3"
  },
  "language_info": {
   "codemirror_mode": {
    "name": "ipython",
    "version": 3
   },
   "file_extension": ".py",
   "mimetype": "text/x-python",
   "name": "python",
   "nbconvert_exporter": "python",
   "pygments_lexer": "ipython3",
   "version": "3.8.8"
  }
 },
 "nbformat": 4,
 "nbformat_minor": 5
}
