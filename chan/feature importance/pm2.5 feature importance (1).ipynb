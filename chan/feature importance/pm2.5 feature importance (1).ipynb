{
 "cells": [
  {
   "cell_type": "markdown",
   "id": "HzNzgawuB2H9",
   "metadata": {
    "id": "HzNzgawuB2H9"
   },
   "source": [
    "#pm2.5"
   ]
  },
  {
   "cell_type": "code",
   "execution_count": 18,
   "id": "9y_MLa92Bx3I",
   "metadata": {
    "executionInfo": {
     "elapsed": 2975,
     "status": "ok",
     "timestamp": 1633486372290,
     "user": {
      "displayName": "정찬휘",
      "photoUrl": "https://lh3.googleusercontent.com/a/default-user=s64",
      "userId": "00470938762273561607"
     },
     "user_tz": -540
    },
    "id": "9y_MLa92Bx3I"
   },
   "outputs": [],
   "source": [
    "import tensorflow as tf\n",
    "from tensorflow.keras.models import Model\n",
    "import numpy as np\n",
    "from tensorflow.keras.models import Sequential\n",
    "from tensorflow.keras.layers import LSTM, Bidirectional\n",
    "from tensorflow.keras.layers import Dense\n",
    "import matplotlib.pyplot as plt\n",
    "from sklearn.preprocessing import MinMaxScaler\n",
    "from sklearn.metrics import mean_squared_error\n",
    "from tensorflow.keras.layers import Activation, Dense, Dropout\n",
    "from tensorflow.keras import optimizers\n",
    "from pandas import Series\n",
    "import math\n",
    "import numpy\n",
    "from tensorflow.keras.layers import *\n",
    "from tensorflow.keras import layers\n",
    "import pandas as pd\n",
    "\n",
    "data = pd.read_csv(\"https://raw.githubusercontent.com/ikwak2/hj19_timeseries/main/bike_pm2.5/PRSA_data_2010.1.1-2014.12.31.csv?token=ATB7FVYSDM5VD6QOACJUTLDBMQKUE\")"
   ]
  },
  {
   "cell_type": "code",
   "execution_count": 2,
   "id": "EHux1QrMBx5Q",
   "metadata": {
    "executionInfo": {
     "elapsed": 23,
     "status": "ok",
     "timestamp": 1633486372294,
     "user": {
      "displayName": "정찬휘",
      "photoUrl": "https://lh3.googleusercontent.com/a/default-user=s64",
      "userId": "00470938762273561607"
     },
     "user_tz": -540
    },
    "id": "EHux1QrMBx5Q"
   },
   "outputs": [],
   "source": [
    "def gradient_importance(seq, model):\n",
    "\n",
    "    seq = tf.Variable(seq[np.newaxis,:,:], dtype=tf.float32)\n",
    "\n",
    "    with tf.GradientTape() as tape:\n",
    "        predictions = model(seq)\n",
    "\n",
    "    grads = tape.gradient(predictions, seq)\n",
    "    grads = tf.reduce_mean(grads, axis=1).numpy()[0]\n",
    "    \n",
    "    return grads\n",
    "\n",
    "def gradient_weight(seq, model):\n",
    "\n",
    "    seq = tf.Variable(seq[np.newaxis,:,:], dtype=tf.float32)\n",
    "\n",
    "    with tf.GradientTape() as tape:\n",
    "        predictions = model(seq)\n",
    "\n",
    "    grad = tape.gradient(predictions, seq)\n",
    "    #gr=grads\n",
    "    #grads = tf.reduce_mean(grads, axis=1).numpy()[0]\n",
    "    \n",
    "    return grad\n",
    "\n",
    "\n",
    "def activation_grad(seq, model):\n",
    "    \n",
    "    seq = seq[np.newaxis,:,:]\n",
    "    grad_model = Model([model.inputs], \n",
    "                       [model.get_layer('extractor').output, \n",
    "                        model.output])\n",
    "\n",
    "    # Obtain the predicted value and the intermediate filters\n",
    "    with tf.GradientTape() as tape:\n",
    "        seq_outputs, predictions = grad_model(seq)\n",
    "\n",
    "    # Extract filters and gradients\n",
    "    output = seq_outputs[0]\n",
    "    grads = tape.gradient(predictions, seq_outputs)[0]\n",
    "\n",
    "    # Average gradients spatially\n",
    "    weights = tf.reduce_mean(grads, axis=0)\n",
    "    \n",
    "    # Get a ponderated map of filters according to grad importance\n",
    "    cam = np.ones(output.shape[0], dtype=np.float32)\n",
    "    for index, w in enumerate(weights):\n",
    "        cam += w * output[:, index]\n",
    "\n",
    "    time = int(seq.shape[1]/output.shape[0])\n",
    "    cam = zoom(cam.numpy(), time, order=1)\n",
    "    heatmap = (cam - cam.min())/(cam.max() - cam.min())\n",
    "    \n",
    "    return heatmap"
   ]
  },
  {
   "cell_type": "code",
   "execution_count": 3,
   "id": "MSL9TK9q5TMM",
   "metadata": {
    "executionInfo": {
     "elapsed": 22,
     "status": "ok",
     "timestamp": 1633486372295,
     "user": {
      "displayName": "정찬휘",
      "photoUrl": "https://lh3.googleusercontent.com/a/default-user=s64",
      "userId": "00470938762273561607"
     },
     "user_tz": -540
    },
    "id": "MSL9TK9q5TMM"
   },
   "outputs": [],
   "source": [
    "data['pm2.5'] = data['pm2.5'].fillna(method='ffill').fillna(method='bfill')"
   ]
  },
  {
   "cell_type": "code",
   "execution_count": 4,
   "id": "m2ZbtiWZ5TOQ",
   "metadata": {
    "executionInfo": {
     "elapsed": 22,
     "status": "ok",
     "timestamp": 1633486372295,
     "user": {
      "displayName": "정찬휘",
      "photoUrl": "https://lh3.googleusercontent.com/a/default-user=s64",
      "userId": "00470938762273561607"
     },
     "user_tz": -540
    },
    "id": "m2ZbtiWZ5TOQ"
   },
   "outputs": [],
   "source": [
    "\n",
    "data['cbwd']=data['cbwd'].factorize()[0]"
   ]
  },
  {
   "cell_type": "code",
   "execution_count": 5,
   "id": "tD1UfxF-5TQk",
   "metadata": {
    "colab": {
     "base_uri": "https://localhost:8080/"
    },
    "executionInfo": {
     "elapsed": 23,
     "status": "ok",
     "timestamp": 1633486372296,
     "user": {
      "displayName": "정찬휘",
      "photoUrl": "https://lh3.googleusercontent.com/a/default-user=s64",
      "userId": "00470938762273561607"
     },
     "user_tz": -540
    },
    "id": "tD1UfxF-5TQk",
    "outputId": "0a0d21c4-b819-4c4c-9738-85f8da50d9f1"
   },
   "outputs": [
    {
     "data": {
      "text/plain": [
       "Index(['pm2.5', 'DEWP', 'TEMP', 'PRES', 'cbwd', 'Iws', 'Is', 'Ir'], dtype='object')"
      ]
     },
     "execution_count": 5,
     "metadata": {},
     "output_type": "execute_result"
    }
   ],
   "source": [
    "data.columns[5:]"
   ]
  },
  {
   "cell_type": "code",
   "execution_count": 6,
   "id": "5RUmNv9h5TS0",
   "metadata": {
    "executionInfo": {
     "elapsed": 15,
     "status": "ok",
     "timestamp": 1633486372296,
     "user": {
      "displayName": "정찬휘",
      "photoUrl": "https://lh3.googleusercontent.com/a/default-user=s64",
      "userId": "00470938762273561607"
     },
     "user_tz": -540
    },
    "id": "5RUmNv9h5TS0"
   },
   "outputs": [],
   "source": [
    "\n",
    "from sklearn.preprocessing import MinMaxScaler\n",
    "values = data[data.columns[5:]].values.reshape(-1,8)\n",
    "values = values.astype('float32')\n",
    "scaler = MinMaxScaler(feature_range=(0, 1))\n",
    "scaled=scaler.fit_transform(values)\n",
    "#caled = (values-(np.min(values)))/(np.max(values)-(np.min(values)))\n",
    "#scaled = (values - np.mean(values))/np.std(values) "
   ]
  },
  {
   "cell_type": "code",
   "execution_count": 7,
   "id": "YqOiEOdc95sz",
   "metadata": {
    "colab": {
     "base_uri": "https://localhost:8080/"
    },
    "executionInfo": {
     "elapsed": 15,
     "status": "ok",
     "timestamp": 1633486372297,
     "user": {
      "displayName": "정찬휘",
      "photoUrl": "https://lh3.googleusercontent.com/a/default-user=s64",
      "userId": "00470938762273561607"
     },
     "user_tz": -540
    },
    "id": "YqOiEOdc95sz",
    "outputId": "dad1a8d5-4891-4ac0-cdf0-6dfaa8f4a885"
   },
   "outputs": [
    {
     "data": {
      "text/plain": [
       "1046.0"
      ]
     },
     "execution_count": 7,
     "metadata": {},
     "output_type": "execute_result"
    }
   ],
   "source": [
    "np.max(values)"
   ]
  },
  {
   "cell_type": "code",
   "execution_count": 8,
   "id": "Y0slWSKfVc5a",
   "metadata": {
    "colab": {
     "base_uri": "https://localhost:8080/"
    },
    "executionInfo": {
     "elapsed": 14,
     "status": "ok",
     "timestamp": 1633486372297,
     "user": {
      "displayName": "정찬휘",
      "photoUrl": "https://lh3.googleusercontent.com/a/default-user=s64",
      "userId": "00470938762273561607"
     },
     "user_tz": -540
    },
    "id": "Y0slWSKfVc5a",
    "outputId": "25435b03-7e93-48f2-dee4-053e6d885767"
   },
   "outputs": [
    {
     "data": {
      "text/plain": [
       "-40.0"
      ]
     },
     "execution_count": 8,
     "metadata": {},
     "output_type": "execute_result"
    }
   ],
   "source": [
    "np.min(values)"
   ]
  },
  {
   "cell_type": "code",
   "execution_count": 9,
   "id": "ao3v70t4Vc7X",
   "metadata": {
    "colab": {
     "base_uri": "https://localhost:8080/"
    },
    "executionInfo": {
     "elapsed": 14,
     "status": "ok",
     "timestamp": 1633486372298,
     "user": {
      "displayName": "정찬휘",
      "photoUrl": "https://lh3.googleusercontent.com/a/default-user=s64",
      "userId": "00470938762273561607"
     },
     "user_tz": -540
    },
    "id": "ao3v70t4Vc7X",
    "outputId": "e7a3dab5-3ae8-4a03-824d-c15d02f7d11f"
   },
   "outputs": [
    {
     "data": {
      "text/plain": [
       "1086.0"
      ]
     },
     "execution_count": 9,
     "metadata": {},
     "output_type": "execute_result"
    }
   ],
   "source": [
    "np.max(values)-np.min(values)"
   ]
  },
  {
   "cell_type": "code",
   "execution_count": 10,
   "id": "R9wAx-rs9kpi",
   "metadata": {
    "colab": {
     "base_uri": "https://localhost:8080/",
     "height": 52
    },
    "executionInfo": {
     "elapsed": 17,
     "status": "ok",
     "timestamp": 1633486372303,
     "user": {
      "displayName": "정찬휘",
      "photoUrl": "https://lh3.googleusercontent.com/a/default-user=s64",
      "userId": "00470938762273561607"
     },
     "user_tz": -540
    },
    "id": "R9wAx-rs9kpi",
    "outputId": "041d6e66-456f-470d-8316-4bedd3796656"
   },
   "outputs": [
    {
     "data": {
      "text/plain": [
       "\"\\nfrom sklearn.preprocessing import MinMaxScaler\\nvalues = data[data.columns[5:]].values.reshape(-1,8)\\nvalues = values.astype('float32')\\nscaler = MinMaxScaler(feature_range=(0, 1))\\nscaled=scaler.fit_transform(values)\\n\""
      ]
     },
     "execution_count": 10,
     "metadata": {},
     "output_type": "execute_result"
    }
   ],
   "source": [
    "'''\n",
    "from sklearn.preprocessing import MinMaxScaler\n",
    "values = data[data.columns[5:]].values.reshape(-1,8)\n",
    "values = values.astype('float32')\n",
    "scaler = MinMaxScaler(feature_range=(0, 1))\n",
    "scaled=scaler.fit_transform(values)\n",
    "'''"
   ]
  },
  {
   "cell_type": "code",
   "execution_count": null,
   "id": "IDUakMpH96B_",
   "metadata": {
    "executionInfo": {
     "elapsed": 17,
     "status": "ok",
     "timestamp": 1633486372304,
     "user": {
      "displayName": "정찬휘",
      "photoUrl": "https://lh3.googleusercontent.com/a/default-user=s64",
      "userId": "00470938762273561607"
     },
     "user_tz": -540
    },
    "id": "IDUakMpH96B_"
   },
   "outputs": [],
   "source": []
  },
  {
   "cell_type": "code",
   "execution_count": 11,
   "id": "2TQQ4z3T5dkY",
   "metadata": {
    "colab": {
     "base_uri": "https://localhost:8080/"
    },
    "executionInfo": {
     "elapsed": 17,
     "status": "ok",
     "timestamp": 1633486372304,
     "user": {
      "displayName": "정찬휘",
      "photoUrl": "https://lh3.googleusercontent.com/a/default-user=s64",
      "userId": "00470938762273561607"
     },
     "user_tz": -540
    },
    "id": "2TQQ4z3T5dkY",
    "outputId": "d714a3e1-efe0-4716-d289-0927aa3502e2"
   },
   "outputs": [
    {
     "name": "stdout",
     "output_type": "stream",
     "text": [
      "35059 4382 4383 8765\n"
     ]
    }
   ],
   "source": [
    "train_size = int(len(scaled) * 0.80)\n",
    "val_size = int(len(scaled) * 0.10)\n",
    "\n",
    "test_size = len(scaled) - train_size-val_size\n",
    "train,val, test,test1 = scaled[0:train_size,:],scaled[train_size:train_size+val_size,:], scaled[train_size+val_size:,:],scaled[train_size:,]\n",
    "print(len(train),len(val), len(test),len(test1))"
   ]
  },
  {
   "cell_type": "code",
   "execution_count": 12,
   "id": "I6ZuaFHL5dma",
   "metadata": {
    "executionInfo": {
     "elapsed": 16,
     "status": "ok",
     "timestamp": 1633486372305,
     "user": {
      "displayName": "정찬휘",
      "photoUrl": "https://lh3.googleusercontent.com/a/default-user=s64",
      "userId": "00470938762273561607"
     },
     "user_tz": -540
    },
    "id": "I6ZuaFHL5dma"
   },
   "outputs": [],
   "source": [
    "\n",
    "def create_dataset_multistep(dataset, look_back=1,predict=1):\n",
    "    dataX, dataY = [], []\n",
    "    for i in range(len(dataset) - look_back-predict):\n",
    "        a = dataset[i:(i + look_back)]\n",
    "        dataX.append(a)\n",
    "        dataY.append(dataset[i+ look_back: i+ look_back+predict, 0])\n",
    "    print(len(dataY))\n",
    "    return np.array(dataX), np.array(dataY)"
   ]
  },
  {
   "cell_type": "code",
   "execution_count": 13,
   "id": "j7BHIUj15doY",
   "metadata": {
    "colab": {
     "base_uri": "https://localhost:8080/"
    },
    "executionInfo": {
     "elapsed": 442,
     "status": "ok",
     "timestamp": 1633486372731,
     "user": {
      "displayName": "정찬휘",
      "photoUrl": "https://lh3.googleusercontent.com/a/default-user=s64",
      "userId": "00470938762273561607"
     },
     "user_tz": -540
    },
    "id": "j7BHIUj15doY",
    "outputId": "74cdba77-28bc-4a7f-b447-864307bd0671"
   },
   "outputs": [
    {
     "name": "stdout",
     "output_type": "stream",
     "text": [
      "34867\n",
      "4190\n",
      "4191\n"
     ]
    }
   ],
   "source": [
    "look_back = 168\n",
    "predict=24\n",
    "\n",
    "trainX, trainY = create_dataset_multistep(train, look_back,predict)\n",
    "valX, valY = create_dataset_multistep(val, look_back,predict)\n",
    "testX, testY = create_dataset_multistep(test, look_back,predict)"
   ]
  },
  {
   "cell_type": "code",
   "execution_count": 14,
   "id": "LHhEKRNL5dqy",
   "metadata": {
    "colab": {
     "base_uri": "https://localhost:8080/"
    },
    "executionInfo": {
     "elapsed": 4,
     "status": "ok",
     "timestamp": 1633486372731,
     "user": {
      "displayName": "정찬휘",
      "photoUrl": "https://lh3.googleusercontent.com/a/default-user=s64",
      "userId": "00470938762273561607"
     },
     "user_tz": -540
    },
    "id": "LHhEKRNL5dqy",
    "outputId": "de9e264d-9ebd-4aba-824c-2763b8ae6a38"
   },
   "outputs": [
    {
     "name": "stdout",
     "output_type": "stream",
     "text": [
      "(34867, 168, 8)\n",
      "(34867, 24)\n"
     ]
    }
   ],
   "source": [
    "print(trainX.shape)\n",
    "print(trainY.shape)"
   ]
  },
  {
   "cell_type": "markdown",
   "id": "4QPBjhdq1qZT",
   "metadata": {
    "id": "4QPBjhdq1qZT"
   },
   "source": [
    "cnn-lstm"
   ]
  },
  {
   "cell_type": "code",
   "execution_count": 15,
   "id": "17ftBV1_2Jgh",
   "metadata": {
    "executionInfo": {
     "elapsed": 379,
     "status": "ok",
     "timestamp": 1633486373108,
     "user": {
      "displayName": "정찬휘",
      "photoUrl": "https://lh3.googleusercontent.com/a/default-user=s64",
      "userId": "00470938762273561607"
     },
     "user_tz": -540
    },
    "id": "17ftBV1_2Jgh"
   },
   "outputs": [
    {
     "name": "stdout",
     "output_type": "stream",
     "text": [
      "Epoch 1/20\n",
      "349/349 [==============================] - ETA: 0s - loss: 0.0060\n",
      "Epoch 00001: val_loss improved from inf to 0.00544, saving model to C:/Users/mozzimerci/jupyter notebook/time/chan/ff/saved_weights\\pm2.5_1dcnn-lstm_multi3.hdf5\n",
      "349/349 [==============================] - 40s 114ms/step - loss: 0.0060 - val_loss: 0.0054\n",
      "Epoch 2/20\n",
      "349/349 [==============================] - ETA: 0s - loss: 0.0051\n",
      "Epoch 00002: val_loss improved from 0.00544 to 0.00504, saving model to C:/Users/mozzimerci/jupyter notebook/time/chan/ff/saved_weights\\pm2.5_1dcnn-lstm_multi3.hdf5\n",
      "349/349 [==============================] - 38s 108ms/step - loss: 0.0051 - val_loss: 0.0050\n",
      "Epoch 3/20\n",
      "349/349 [==============================] - ETA: 0s - loss: 0.0048\n",
      "Epoch 00003: val_loss did not improve from 0.00504\n",
      "349/349 [==============================] - 38s 109ms/step - loss: 0.0048 - val_loss: 0.0053\n",
      "Epoch 4/20\n",
      "349/349 [==============================] - ETA: 0s - loss: 0.0046\n",
      "Epoch 00004: val_loss improved from 0.00504 to 0.00490, saving model to C:/Users/mozzimerci/jupyter notebook/time/chan/ff/saved_weights\\pm2.5_1dcnn-lstm_multi3.hdf5\n",
      "349/349 [==============================] - 39s 111ms/step - loss: 0.0046 - val_loss: 0.0049\n",
      "Epoch 5/20\n",
      "349/349 [==============================] - ETA: 0s - loss: 0.0044\n",
      "Epoch 00005: val_loss did not improve from 0.00490\n",
      "349/349 [==============================] - 38s 108ms/step - loss: 0.0044 - val_loss: 0.0071\n",
      "Epoch 6/20\n",
      "349/349 [==============================] - ETA: 0s - loss: 0.0041\n",
      "Epoch 00006: val_loss did not improve from 0.00490\n",
      "349/349 [==============================] - 38s 108ms/step - loss: 0.0041 - val_loss: 0.0058\n",
      "Epoch 7/20\n",
      "349/349 [==============================] - ETA: 0s - loss: 0.0037\n",
      "Epoch 00007: val_loss did not improve from 0.00490\n",
      "349/349 [==============================] - 38s 109ms/step - loss: 0.0037 - val_loss: 0.0054\n",
      "Epoch 8/20\n",
      "349/349 [==============================] - ETA: 0s - loss: 0.0032\n",
      "Epoch 00008: val_loss did not improve from 0.00490\n",
      "349/349 [==============================] - 38s 109ms/step - loss: 0.0032 - val_loss: 0.0060\n",
      "Epoch 9/20\n",
      "349/349 [==============================] - ETA: 0s - loss: 0.0028\n",
      "Epoch 00009: val_loss did not improve from 0.00490\n",
      "349/349 [==============================] - 38s 109ms/step - loss: 0.0028 - val_loss: 0.0057\n",
      "Epoch 10/20\n",
      "349/349 [==============================] - ETA: 0s - loss: 0.0024\n",
      "Epoch 00010: val_loss did not improve from 0.00490\n",
      "349/349 [==============================] - 39s 112ms/step - loss: 0.0024 - val_loss: 0.0076\n",
      "Epoch 11/20\n",
      "349/349 [==============================] - ETA: 0s - loss: 0.0022\n",
      "Epoch 00011: val_loss did not improve from 0.00490\n",
      "349/349 [==============================] - 39s 112ms/step - loss: 0.0022 - val_loss: 0.0070\n",
      "Epoch 12/20\n",
      "349/349 [==============================] - ETA: 0s - loss: 0.0020\n",
      "Epoch 00012: val_loss did not improve from 0.00490\n",
      "349/349 [==============================] - 40s 113ms/step - loss: 0.0020 - val_loss: 0.0074\n",
      "Epoch 13/20\n",
      "349/349 [==============================] - ETA: 0s - loss: 0.0018\n",
      "Epoch 00013: val_loss did not improve from 0.00490\n",
      "349/349 [==============================] - 38s 110ms/step - loss: 0.0018 - val_loss: 0.0072\n",
      "Epoch 14/20\n",
      "349/349 [==============================] - ETA: 0s - loss: 0.0017\n",
      "Epoch 00014: val_loss did not improve from 0.00490\n",
      "349/349 [==============================] - 39s 110ms/step - loss: 0.0017 - val_loss: 0.0080\n",
      "Epoch 15/20\n",
      "349/349 [==============================] - ETA: 0s - loss: 0.0016\n",
      "Epoch 00015: val_loss did not improve from 0.00490\n",
      "349/349 [==============================] - 37s 107ms/step - loss: 0.0016 - val_loss: 0.0075\n",
      "Epoch 16/20\n",
      "349/349 [==============================] - ETA: 0s - loss: 0.0015\n",
      "Epoch 00016: val_loss did not improve from 0.00490\n",
      "349/349 [==============================] - 39s 111ms/step - loss: 0.0015 - val_loss: 0.0077\n",
      "Epoch 17/20\n",
      "349/349 [==============================] - ETA: 0s - loss: 0.0014\n",
      "Epoch 00017: val_loss did not improve from 0.00490\n",
      "349/349 [==============================] - 39s 111ms/step - loss: 0.0014 - val_loss: 0.0080\n",
      "Epoch 18/20\n",
      "349/349 [==============================] - ETA: 0s - loss: 0.0013\n",
      "Epoch 00018: val_loss did not improve from 0.00490\n",
      "349/349 [==============================] - 37s 107ms/step - loss: 0.0013 - val_loss: 0.0079\n",
      "Epoch 19/20\n",
      "349/349 [==============================] - ETA: 0s - loss: 0.0013\n",
      "Epoch 00019: val_loss did not improve from 0.00490\n",
      "349/349 [==============================] - 38s 108ms/step - loss: 0.0013 - val_loss: 0.0080\n",
      "Epoch 20/20\n",
      "349/349 [==============================] - ETA: 0s - loss: 0.0013\n",
      "Epoch 00020: val_loss did not improve from 0.00490\n",
      "349/349 [==============================] - 37s 106ms/step - loss: 0.0013 - val_loss: 0.0083\n"
     ]
    }
   ],
   "source": [
    "first_input = Input(shape=(168,8))\n",
    "\n",
    "in1=Conv1D(filters=64, kernel_size=3, activation='relu',padding='same')(first_input)\n",
    "#in1= BatchNormalization(scale=False)(in1)\n",
    "\n",
    "in1=Conv1D(filters=64, kernel_size=2, activation='relu',padding='same')(in1)\n",
    "#in1= BatchNormalization(scale=False)(in1)\n",
    "in1=Conv1D(filters=64, kernel_size=1, activation='relu',padding='same')(in1)\n",
    "\n",
    "in1=Conv1D(filters=64, kernel_size=3, activation='relu',padding='same')(in1)\n",
    "in1=Conv1D(filters=64, kernel_size=2, activation='relu',padding='same')(in1)\n",
    "\n",
    "in1=Conv1D(filters=64, kernel_size=1, activation='relu',padding='same')(in1)\n",
    "\n",
    "#in1= BatchNormalization(scale=False)(in1)\n",
    "\n",
    "#in1=add([in0,in1],name='extractor')\n",
    "#attn_layer25 = AttentionLayer(name='attention_layer')\n",
    "#attn_out, attn_states = attn_layer([in1,in1])\n",
    "\n",
    "    # Concat attention input and LSTM output, in original code it was decoder LSTM\n",
    "#concat_out = Concatenate(axis=-1, name='concat_layer')([in1, attn_out])\n",
    "in1=MaxPooling1D(pool_size=2, name='extractor')(in1)\n",
    "#in1=Dropout(0.5)(in1)\n",
    "#in1=Flatten()(in1)\n",
    "#in1=Dense(100, activation='relu')(in1)\n",
    "in1=LSTM(100)(in1)\n",
    "in1=Dense(100)(in1)\n",
    "in1=Dropout(0.5)(in1)\n",
    "out=Dense(24)(in1)\n",
    "model=tf.keras.Model(inputs=[first_input],outputs=[out])\n",
    "model.compile(optimizer='adam', loss='mse')\n",
    "\n",
    "checkpoint_path = \"C:/Users/mozzimerci/jupyter notebook/time/chan/ff/saved_weights/pm2.5_1dcnn-lstm_multi3.hdf5\"\n",
    "cb = tf.keras.callbacks.ModelCheckpoint(filepath=checkpoint_path,\n",
    "                                                 save_best_only=True,\n",
    "                                        monitor='val_loss',mode='min',\n",
    "                                                 verbose=1)\n",
    "\n",
    "#history=model.fit(trainX, trainY, epochs=20, batch_size=100, validation_data=(valX, valY), verbose=1, callbacks=[cb])"
   ]
  },
  {
   "cell_type": "code",
   "execution_count": 16,
   "id": "Dk5Q83yJ2KTO",
   "metadata": {
    "executionInfo": {
     "elapsed": 6,
     "status": "ok",
     "timestamp": 1633486373108,
     "user": {
      "displayName": "정찬휘",
      "photoUrl": "https://lh3.googleusercontent.com/a/default-user=s64",
      "userId": "00470938762273561607"
     },
     "user_tz": -540
    },
    "id": "Dk5Q83yJ2KTO"
   },
   "outputs": [],
   "source": [
    "model.load_weights(\"C:/Users/mozzimerci/jupyter notebook/time/chan/ff/saved_weights/pm2.5_1dcnn-lstm_multi3.hdf5\")"
   ]
  },
  {
   "cell_type": "code",
   "execution_count": 19,
   "id": "67eb9b93",
   "metadata": {},
   "outputs": [
    {
     "name": "stdout",
     "output_type": "stream",
     "text": [
      "[0.4528521  0.5306867  0.60852903 0.6267509  0.6442561  0.6244917\n",
      " 0.6038158  0.58677804 0.5698883  0.4087113  0.24024244 0.24628004\n",
      " 0.26351255 0.318895   0.37725338 0.35448185 0.32423925 0.33480313\n",
      " 0.3497141  0.36266965 0.3753759  0.38196662 0.3877082  0.41440612\n",
      " 0.44429815 0.44122872 0.43258908 0.4397641  0.44987613 0.44709495\n",
      " 0.44169614 0.41636154 0.38662532 0.35794082 0.3295134  0.3279631\n",
      " 0.33333853 0.3622022  0.39757872 0.42935604 0.46007386 0.44208565\n",
      " 0.4086256  0.45744845 0.5341456  0.6103598  0.68639475 0.7204936\n",
      " 0.73852074 0.7189355  0.68407315 0.58577305 0.4601284  0.4403172\n",
      " 0.4687836  0.42513362 0.34669918 0.34041226 0.37084183 0.43031427\n",
      " 0.5053832  0.522569   0.50698805 0.50056094 0.49958712 0.51215315\n",
      " 0.53321075 0.6087082  0.7201353  0.7438494  0.70672005 0.6476371\n",
      " 0.5725526  0.52508533 0.49875352 0.5041913  0.53518176 0.55324006\n",
      " 0.5603761  0.61953694 0.7248251  0.79782176 0.8407784  0.9012636\n",
      " 0.97884107 1.         0.9633381  0.8715352  0.7204469  0.6301164\n",
      " 0.60832644 0.5617628  0.4858525  0.4548854  0.47978374 0.51053274\n",
      " 0.54890853 0.5968511  0.6579128  0.7024665  0.7232514  0.7064396\n",
      " 0.63267946 0.5949191  0.6145199  0.59748214 0.5189698  0.46589333\n",
      " 0.4577601  0.4473754  0.43281502 0.4173042  0.3999003  0.38283914\n",
      " 0.36648697 0.3721974  0.4262944  0.4656129  0.47064552 0.47505492\n",
      " 0.4779218  0.4842321  0.49953258 0.5215017  0.5619888  0.58289057\n",
      " 0.5460183  0.5133139  0.49376762 0.47623128 0.46547264 0.45330393\n",
      " 0.43604025 0.41703153 0.39129183 0.37124693 0.37502533 0.38188094\n",
      " 0.40265033 0.41694582 0.39929262 0.38702264 0.4037176  0.42151883\n",
      " 0.4458095  0.4690251  0.48516694 0.5010673  0.5151992  0.5278042\n",
      " 0.5278042  0.5243374  0.48836884 0.4529222  0.42306134 0.39397952\n",
      " 0.37482277 0.3549415  0.3239666  0.2944719  0.2941447  0.29351366\n",
      " 0.2849675  0.273313   0.13547623 0.         0.05731447 0.11463673]\n"
     ]
    },
    {
     "data": {
      "image/png": "[encoded data removed]",
      "text/plain": [
       "<Figure size 1080x360 with 3 Axes>"
      ]
     },
     "metadata": {
      "needs_background": "light"
     },
     "output_type": "display_data"
    }
   ],
   "source": [
    "from scipy.ndimage import zoom\n",
    "import random\n",
    "import pylab\n",
    "\n",
    "X_test=testX.copy()\n",
    "id_=24*12\n",
    "testX_inverse=X_test[id_][:,0]*(np.max(values)-np.min(values))+np.min(values)\n",
    "testX_inverse\n",
    "\n",
    "X_test=testX.copy()\n",
    "activation = activation_grad(X_test[id_], model)\n",
    "print(activation)\n",
    "plt.figure(figsize=(15,5))\n",
    "\n",
    "plt.plot(testX_inverse/100000, 'k')\n",
    "#plt.plot(yhat, label='predict')\n",
    "#plt.plot(testY, label='true')\n",
    "plt.ylabel('PM2.5'); plt.xlabel('Time lags'); #plt.title(pd.to_datetime(test_date[sequence_length+id_]))\n",
    "plt.twinx()\n",
    "#plt.xticks(a)\n",
    "plt.imshow(np.vstack([activation]*120), alpha=0.5, cmap='viridis')\n",
    "plt.axis('off'); plt.colorbar()\n",
    "plt.axis('off')\n",
    "#pylab.pcolor(np.vstack([activation]*120),cmap='jet',alpha=0.35)\n",
    "\n",
    "#pylab.colorbar()\n",
    "\n",
    "np.set_printoptions(False)\n",
    "\n",
    "plt.savefig('C:/Users/mozzimerci/jupyter notebook/time/chan/ff/png/pm2.5_grad cam_cnn-lstm(1).png', dpi=300)"
   ]
  },
  {
   "cell_type": "code",
   "execution_count": 20,
   "id": "a4d1f6e0",
   "metadata": {},
   "outputs": [
    {
     "name": "stdout",
     "output_type": "stream",
     "text": [
      "1.0\n",
      "0.0\n",
      "1.0\n",
      "(1, 168, 8)\n"
     ]
    },
    {
     "data": {
      "text/plain": [
       "<Figure size 432x1440 with 0 Axes>"
      ]
     },
     "metadata": {},
     "output_type": "display_data"
    },
    {
     "data": {
      "image/png": "[encoded data removed]",
      "text/plain": [
       "<Figure size 432x288 with 2 Axes>"
      ]
     },
     "metadata": {
      "needs_background": "light"
     },
     "output_type": "display_data"
    }
   ],
   "source": [
    "import matplotlib.pyplot as plt\n",
    "import numpy as np\n",
    "\n",
    "X_test=testX\n",
    "\n",
    "grad_weight = gradient_weight(X_test[4], model)\n",
    "\n",
    "grad_weight_abs = abs(grad_weight)\n",
    "\n",
    "grad_weight_abs_z = (grad_weight_abs-(np.min(grad_weight_abs)))/(np.max(grad_weight_abs)-(np.min(grad_weight_abs)))\n",
    "\n",
    "print(np.max(grad_weight_abs_z))\n",
    "print(np.min(grad_weight_abs_z))\n",
    "print(np.max(grad_weight_abs_z)-np.min(grad_weight_abs_z))\n",
    "#grad_weight=grad_weight.reshape(48,4)\n",
    "\n",
    "print(grad_weight.shape)\n",
    "plt.figure(figsize=(6,20))\n",
    "\n",
    "#plt.plot(X_test[8], 'k')\n",
    "a=grad_weight.numpy()\n",
    "a=a.reshape(168,8)\n",
    "a=a.transpose()\n",
    "\n",
    "#print(a)\n",
    "fig, ax = plt.subplots(1,1)\n",
    "\n",
    "extent = [0 , 168, 0 , 8]\n",
    "y_label_list = [2,4,6,8]\n",
    "x_label_list = [0,24,48,72,96,120,144,168]\n",
    "ax.set_xticks([0,24,48,72,96,120,144,168])\n",
    "\n",
    "ax.set_yticks([24,48,72,96])\n",
    "\n",
    "ax.set_xticklabels(x_label_list)\n",
    "ax.set_yticklabels(y_label_list)\n",
    "\n",
    "ax.set_xticklabels(x_label_list)\n",
    "ax.set_yticklabels(y_label_list)\n",
    "ax.set_ylabel('Feature')\n",
    "ax.set_xlabel('Time Lag')\n",
    "\n",
    "plt.imshow(a,extent = [0 , 168, 0 , 96], vmin=0, vmax=0.5, cmap=\"Blues\", interpolation='nearest')\n",
    "plt.colorbar()\n",
    "\n",
    "plt.savefig('C:/Users/mozzimerci/jupyter notebook/time/chan/ff/png/pm2.5_feature importance_cnn-lstm(1).png', dpi=300)"
   ]
  },
  {
   "cell_type": "markdown",
   "id": "4aY5hV_U1zOG",
   "metadata": {
    "id": "4aY5hV_U1zOG"
   },
   "source": [
    "lstm-cnn"
   ]
  },
  {
   "cell_type": "code",
   "execution_count": 21,
   "id": "txj7TVef2S_T",
   "metadata": {
    "executionInfo": {
     "elapsed": 376,
     "status": "ok",
     "timestamp": 1633486373903,
     "user": {
      "displayName": "정찬휘",
      "photoUrl": "https://lh3.googleusercontent.com/a/default-user=s64",
      "userId": "00470938762273561607"
     },
     "user_tz": -540
    },
    "id": "txj7TVef2S_T"
   },
   "outputs": [
    {
     "name": "stdout",
     "output_type": "stream",
     "text": [
      "Epoch 1/100\n",
      "349/349 [==============================] - ETA: 0s - loss: 0.0072\n",
      "Epoch 00001: saving model to C:/Users/mozzimerci/jupyter notebook/time/chan/ff/saved_weights\\pm2.5_lstmrescnn_multi.hdf5\n",
      "349/349 [==============================] - 51s 146ms/step - loss: 0.0072 - val_loss: 0.0058\n",
      "Epoch 2/100\n",
      "349/349 [==============================] - ETA: 0s - loss: 0.0053\n",
      "Epoch 00002: saving model to C:/Users/mozzimerci/jupyter notebook/time/chan/ff/saved_weights\\pm2.5_lstmrescnn_multi.hdf5\n",
      "349/349 [==============================] - 51s 145ms/step - loss: 0.0053 - val_loss: 0.0052\n",
      "Epoch 3/100\n",
      "349/349 [==============================] - ETA: 0s - loss: 0.0049\n",
      "Epoch 00003: saving model to C:/Users/mozzimerci/jupyter notebook/time/chan/ff/saved_weights\\pm2.5_lstmrescnn_multi.hdf5\n",
      "349/349 [==============================] - 50s 143ms/step - loss: 0.0049 - val_loss: 0.0056\n",
      "Epoch 4/100\n",
      "349/349 [==============================] - ETA: 0s - loss: 0.0047\n",
      "Epoch 00004: saving model to C:/Users/mozzimerci/jupyter notebook/time/chan/ff/saved_weights\\pm2.5_lstmrescnn_multi.hdf5\n",
      "349/349 [==============================] - 49s 139ms/step - loss: 0.0047 - val_loss: 0.0056\n",
      "Epoch 5/100\n",
      "349/349 [==============================] - ETA: 0s - loss: 0.0043\n",
      "Epoch 00005: saving model to C:/Users/mozzimerci/jupyter notebook/time/chan/ff/saved_weights\\pm2.5_lstmrescnn_multi.hdf5\n",
      "349/349 [==============================] - 48s 137ms/step - loss: 0.0043 - val_loss: 0.0059\n",
      "Epoch 6/100\n",
      "349/349 [==============================] - ETA: 0s - loss: 0.0040\n",
      "Epoch 00006: saving model to C:/Users/mozzimerci/jupyter notebook/time/chan/ff/saved_weights\\pm2.5_lstmrescnn_multi.hdf5\n",
      "349/349 [==============================] - 50s 143ms/step - loss: 0.0040 - val_loss: 0.0058\n",
      "Epoch 7/100\n",
      "349/349 [==============================] - ETA: 0s - loss: 0.0037\n",
      "Epoch 00007: saving model to C:/Users/mozzimerci/jupyter notebook/time/chan/ff/saved_weights\\pm2.5_lstmrescnn_multi.hdf5\n",
      "349/349 [==============================] - 48s 137ms/step - loss: 0.0037 - val_loss: 0.0064\n",
      "Epoch 8/100\n",
      "349/349 [==============================] - ETA: 0s - loss: 0.0034\n",
      "Epoch 00008: saving model to C:/Users/mozzimerci/jupyter notebook/time/chan/ff/saved_weights\\pm2.5_lstmrescnn_multi.hdf5\n",
      "349/349 [==============================] - 48s 136ms/step - loss: 0.0034 - val_loss: 0.0057\n",
      "Epoch 9/100\n",
      "349/349 [==============================] - ETA: 0s - loss: 0.0033\n",
      "Epoch 00009: saving model to C:/Users/mozzimerci/jupyter notebook/time/chan/ff/saved_weights\\pm2.5_lstmrescnn_multi.hdf5\n",
      "349/349 [==============================] - 48s 137ms/step - loss: 0.0033 - val_loss: 0.0057\n",
      "Epoch 10/100\n",
      "349/349 [==============================] - ETA: 0s - loss: 0.0031\n",
      "Epoch 00010: saving model to C:/Users/mozzimerci/jupyter notebook/time/chan/ff/saved_weights\\pm2.5_lstmrescnn_multi.hdf5\n",
      "349/349 [==============================] - 48s 136ms/step - loss: 0.0031 - val_loss: 0.0065\n",
      "Epoch 11/100\n",
      "349/349 [==============================] - ETA: 0s - loss: 0.0030\n",
      "Epoch 00011: saving model to C:/Users/mozzimerci/jupyter notebook/time/chan/ff/saved_weights\\pm2.5_lstmrescnn_multi.hdf5\n",
      "349/349 [==============================] - 47s 135ms/step - loss: 0.0030 - val_loss: 0.0058\n",
      "Epoch 12/100\n",
      "349/349 [==============================] - ETA: 0s - loss: 0.0030\n",
      "Epoch 00012: saving model to C:/Users/mozzimerci/jupyter notebook/time/chan/ff/saved_weights\\pm2.5_lstmrescnn_multi.hdf5\n",
      "349/349 [==============================] - 48s 138ms/step - loss: 0.0030 - val_loss: 0.0061\n",
      "Epoch 13/100\n",
      "349/349 [==============================] - ETA: 0s - loss: 0.0028\n",
      "Epoch 00013: saving model to C:/Users/mozzimerci/jupyter notebook/time/chan/ff/saved_weights\\pm2.5_lstmrescnn_multi.hdf5\n",
      "349/349 [==============================] - 48s 137ms/step - loss: 0.0028 - val_loss: 0.0062\n",
      "Epoch 14/100\n",
      "349/349 [==============================] - ETA: 0s - loss: 0.0027\n",
      "Epoch 00014: saving model to C:/Users/mozzimerci/jupyter notebook/time/chan/ff/saved_weights\\pm2.5_lstmrescnn_multi.hdf5\n",
      "349/349 [==============================] - 47s 136ms/step - loss: 0.0027 - val_loss: 0.0059\n",
      "Epoch 15/100\n",
      "349/349 [==============================] - ETA: 0s - loss: 0.0027\n",
      "Epoch 00015: saving model to C:/Users/mozzimerci/jupyter notebook/time/chan/ff/saved_weights\\pm2.5_lstmrescnn_multi.hdf5\n",
      "349/349 [==============================] - 48s 137ms/step - loss: 0.0027 - val_loss: 0.0061\n",
      "Epoch 16/100\n",
      "349/349 [==============================] - ETA: 0s - loss: 0.0026\n",
      "Epoch 00016: saving model to C:/Users/mozzimerci/jupyter notebook/time/chan/ff/saved_weights\\pm2.5_lstmrescnn_multi.hdf5\n",
      "349/349 [==============================] - 48s 138ms/step - loss: 0.0026 - val_loss: 0.0058\n",
      "Epoch 17/100\n",
      "349/349 [==============================] - ETA: 0s - loss: 0.0025\n",
      "Epoch 00017: saving model to C:/Users/mozzimerci/jupyter notebook/time/chan/ff/saved_weights\\pm2.5_lstmrescnn_multi.hdf5\n",
      "349/349 [==============================] - 48s 137ms/step - loss: 0.0025 - val_loss: 0.0061\n",
      "Epoch 18/100\n",
      "349/349 [==============================] - ETA: 0s - loss: 0.0025\n",
      "Epoch 00018: saving model to C:/Users/mozzimerci/jupyter notebook/time/chan/ff/saved_weights\\pm2.5_lstmrescnn_multi.hdf5\n",
      "349/349 [==============================] - 48s 137ms/step - loss: 0.0025 - val_loss: 0.0061\n",
      "Epoch 19/100\n",
      "349/349 [==============================] - ETA: 0s - loss: 0.0025\n",
      "Epoch 00019: saving model to C:/Users/mozzimerci/jupyter notebook/time/chan/ff/saved_weights\\pm2.5_lstmrescnn_multi.hdf5\n",
      "349/349 [==============================] - 48s 137ms/step - loss: 0.0025 - val_loss: 0.0062\n",
      "Epoch 20/100\n",
      "349/349 [==============================] - ETA: 0s - loss: 0.0024\n",
      "Epoch 00020: saving model to C:/Users/mozzimerci/jupyter notebook/time/chan/ff/saved_weights\\pm2.5_lstmrescnn_multi.hdf5\n",
      "349/349 [==============================] - 48s 137ms/step - loss: 0.0024 - val_loss: 0.0062\n",
      "Epoch 21/100\n",
      "349/349 [==============================] - ETA: 0s - loss: 0.0024\n",
      "Epoch 00021: saving model to C:/Users/mozzimerci/jupyter notebook/time/chan/ff/saved_weights\\pm2.5_lstmrescnn_multi.hdf5\n",
      "349/349 [==============================] - 49s 139ms/step - loss: 0.0024 - val_loss: 0.0063\n",
      "Epoch 22/100\n",
      "349/349 [==============================] - ETA: 0s - loss: 0.0023\n",
      "Epoch 00022: saving model to C:/Users/mozzimerci/jupyter notebook/time/chan/ff/saved_weights\\pm2.5_lstmrescnn_multi.hdf5\n",
      "349/349 [==============================] - 49s 140ms/step - loss: 0.0023 - val_loss: 0.0062\n",
      "Epoch 23/100\n",
      "349/349 [==============================] - ETA: 0s - loss: 0.0023\n",
      "Epoch 00023: saving model to C:/Users/mozzimerci/jupyter notebook/time/chan/ff/saved_weights\\pm2.5_lstmrescnn_multi.hdf5\n",
      "349/349 [==============================] - 49s 140ms/step - loss: 0.0023 - val_loss: 0.0063\n",
      "Epoch 24/100\n",
      "349/349 [==============================] - ETA: 0s - loss: 0.0022\n",
      "Epoch 00024: saving model to C:/Users/mozzimerci/jupyter notebook/time/chan/ff/saved_weights\\pm2.5_lstmrescnn_multi.hdf5\n",
      "349/349 [==============================] - 49s 140ms/step - loss: 0.0022 - val_loss: 0.0065\n",
      "Epoch 25/100\n",
      "349/349 [==============================] - ETA: 0s - loss: 0.0022\n",
      "Epoch 00025: saving model to C:/Users/mozzimerci/jupyter notebook/time/chan/ff/saved_weights\\pm2.5_lstmrescnn_multi.hdf5\n",
      "349/349 [==============================] - 49s 140ms/step - loss: 0.0022 - val_loss: 0.0061\n",
      "Epoch 26/100\n",
      "349/349 [==============================] - ETA: 0s - loss: 0.0022\n",
      "Epoch 00026: saving model to C:/Users/mozzimerci/jupyter notebook/time/chan/ff/saved_weights\\pm2.5_lstmrescnn_multi.hdf5\n",
      "349/349 [==============================] - 49s 140ms/step - loss: 0.0022 - val_loss: 0.0062\n",
      "Epoch 27/100\n",
      "349/349 [==============================] - ETA: 0s - loss: 0.0021\n",
      "Epoch 00027: saving model to C:/Users/mozzimerci/jupyter notebook/time/chan/ff/saved_weights\\pm2.5_lstmrescnn_multi.hdf5\n",
      "349/349 [==============================] - 49s 140ms/step - loss: 0.0021 - val_loss: 0.0063\n",
      "Epoch 28/100\n",
      "349/349 [==============================] - ETA: 0s - loss: 0.0021\n",
      "Epoch 00028: saving model to C:/Users/mozzimerci/jupyter notebook/time/chan/ff/saved_weights\\pm2.5_lstmrescnn_multi.hdf5\n",
      "349/349 [==============================] - 49s 140ms/step - loss: 0.0021 - val_loss: 0.0062\n",
      "Epoch 29/100\n"
     ]
    },
    {
     "name": "stdout",
     "output_type": "stream",
     "text": [
      "349/349 [==============================] - ETA: 0s - loss: 0.0021\n",
      "Epoch 00029: saving model to C:/Users/mozzimerci/jupyter notebook/time/chan/ff/saved_weights\\pm2.5_lstmrescnn_multi.hdf5\n",
      "349/349 [==============================] - 48s 139ms/step - loss: 0.0021 - val_loss: 0.0062\n",
      "Epoch 30/100\n",
      "349/349 [==============================] - ETA: 0s - loss: 0.0021\n",
      "Epoch 00030: saving model to C:/Users/mozzimerci/jupyter notebook/time/chan/ff/saved_weights\\pm2.5_lstmrescnn_multi.hdf5\n",
      "349/349 [==============================] - 49s 139ms/step - loss: 0.0021 - val_loss: 0.0064\n",
      "Epoch 31/100\n",
      "349/349 [==============================] - ETA: 0s - loss: 0.0021\n",
      "Epoch 00031: saving model to C:/Users/mozzimerci/jupyter notebook/time/chan/ff/saved_weights\\pm2.5_lstmrescnn_multi.hdf5\n",
      "349/349 [==============================] - 49s 140ms/step - loss: 0.0021 - val_loss: 0.0062\n",
      "Epoch 32/100\n",
      "349/349 [==============================] - ETA: 0s - loss: 0.0020\n",
      "Epoch 00032: saving model to C:/Users/mozzimerci/jupyter notebook/time/chan/ff/saved_weights\\pm2.5_lstmrescnn_multi.hdf5\n",
      "349/349 [==============================] - 48s 139ms/step - loss: 0.0020 - val_loss: 0.0061\n",
      "Epoch 33/100\n",
      "349/349 [==============================] - ETA: 0s - loss: 0.0020\n",
      "Epoch 00033: saving model to C:/Users/mozzimerci/jupyter notebook/time/chan/ff/saved_weights\\pm2.5_lstmrescnn_multi.hdf5\n",
      "349/349 [==============================] - 49s 139ms/step - loss: 0.0020 - val_loss: 0.0061\n",
      "Epoch 34/100\n",
      "349/349 [==============================] - ETA: 0s - loss: 0.0020\n",
      "Epoch 00034: saving model to C:/Users/mozzimerci/jupyter notebook/time/chan/ff/saved_weights\\pm2.5_lstmrescnn_multi.hdf5\n",
      "349/349 [==============================] - 49s 139ms/step - loss: 0.0020 - val_loss: 0.0063\n",
      "Epoch 35/100\n",
      "349/349 [==============================] - ETA: 0s - loss: 0.0020\n",
      "Epoch 00035: saving model to C:/Users/mozzimerci/jupyter notebook/time/chan/ff/saved_weights\\pm2.5_lstmrescnn_multi.hdf5\n",
      "349/349 [==============================] - 49s 140ms/step - loss: 0.0020 - val_loss: 0.0065\n",
      "Epoch 36/100\n",
      "349/349 [==============================] - ETA: 0s - loss: 0.0020\n",
      "Epoch 00036: saving model to C:/Users/mozzimerci/jupyter notebook/time/chan/ff/saved_weights\\pm2.5_lstmrescnn_multi.hdf5\n",
      "349/349 [==============================] - 49s 141ms/step - loss: 0.0020 - val_loss: 0.0062\n",
      "Epoch 37/100\n",
      "349/349 [==============================] - ETA: 0s - loss: 0.0019\n",
      "Epoch 00037: saving model to C:/Users/mozzimerci/jupyter notebook/time/chan/ff/saved_weights\\pm2.5_lstmrescnn_multi.hdf5\n",
      "349/349 [==============================] - 50s 142ms/step - loss: 0.0019 - val_loss: 0.0062\n",
      "Epoch 38/100\n",
      "349/349 [==============================] - ETA: 0s - loss: 0.0019\n",
      "Epoch 00038: saving model to C:/Users/mozzimerci/jupyter notebook/time/chan/ff/saved_weights\\pm2.5_lstmrescnn_multi.hdf5\n",
      "349/349 [==============================] - 49s 139ms/step - loss: 0.0019 - val_loss: 0.0063\n",
      "Epoch 39/100\n",
      "349/349 [==============================] - ETA: 0s - loss: 0.0019\n",
      "Epoch 00039: saving model to C:/Users/mozzimerci/jupyter notebook/time/chan/ff/saved_weights\\pm2.5_lstmrescnn_multi.hdf5\n",
      "349/349 [==============================] - 49s 139ms/step - loss: 0.0019 - val_loss: 0.0063\n",
      "Epoch 40/100\n",
      "349/349 [==============================] - ETA: 0s - loss: 0.0019\n",
      "Epoch 00040: saving model to C:/Users/mozzimerci/jupyter notebook/time/chan/ff/saved_weights\\pm2.5_lstmrescnn_multi.hdf5\n",
      "349/349 [==============================] - 49s 140ms/step - loss: 0.0019 - val_loss: 0.0064\n",
      "Epoch 41/100\n",
      "349/349 [==============================] - ETA: 0s - loss: 0.0019\n",
      "Epoch 00041: saving model to C:/Users/mozzimerci/jupyter notebook/time/chan/ff/saved_weights\\pm2.5_lstmrescnn_multi.hdf5\n",
      "349/349 [==============================] - 49s 140ms/step - loss: 0.0019 - val_loss: 0.0061\n",
      "Epoch 42/100\n",
      "349/349 [==============================] - ETA: 0s - loss: 0.0019\n",
      "Epoch 00042: saving model to C:/Users/mozzimerci/jupyter notebook/time/chan/ff/saved_weights\\pm2.5_lstmrescnn_multi.hdf5\n",
      "349/349 [==============================] - 49s 140ms/step - loss: 0.0019 - val_loss: 0.0063\n",
      "Epoch 43/100\n",
      "349/349 [==============================] - ETA: 0s - loss: 0.0019\n",
      "Epoch 00043: saving model to C:/Users/mozzimerci/jupyter notebook/time/chan/ff/saved_weights\\pm2.5_lstmrescnn_multi.hdf5\n",
      "349/349 [==============================] - 49s 139ms/step - loss: 0.0019 - val_loss: 0.0064\n",
      "Epoch 44/100\n",
      "349/349 [==============================] - ETA: 0s - loss: 0.0019\n",
      "Epoch 00044: saving model to C:/Users/mozzimerci/jupyter notebook/time/chan/ff/saved_weights\\pm2.5_lstmrescnn_multi.hdf5\n",
      "349/349 [==============================] - 49s 140ms/step - loss: 0.0019 - val_loss: 0.0063\n",
      "Epoch 45/100\n",
      "349/349 [==============================] - ETA: 0s - loss: 0.0019\n",
      "Epoch 00045: saving model to C:/Users/mozzimerci/jupyter notebook/time/chan/ff/saved_weights\\pm2.5_lstmrescnn_multi.hdf5\n",
      "349/349 [==============================] - 49s 140ms/step - loss: 0.0019 - val_loss: 0.0064\n",
      "Epoch 46/100\n",
      "349/349 [==============================] - ETA: 0s - loss: 0.0018\n",
      "Epoch 00046: saving model to C:/Users/mozzimerci/jupyter notebook/time/chan/ff/saved_weights\\pm2.5_lstmrescnn_multi.hdf5\n",
      "349/349 [==============================] - 49s 140ms/step - loss: 0.0018 - val_loss: 0.0063\n",
      "Epoch 47/100\n",
      "349/349 [==============================] - ETA: 0s - loss: 0.0018\n",
      "Epoch 00047: saving model to C:/Users/mozzimerci/jupyter notebook/time/chan/ff/saved_weights\\pm2.5_lstmrescnn_multi.hdf5\n",
      "349/349 [==============================] - 49s 140ms/step - loss: 0.0018 - val_loss: 0.0059\n",
      "Epoch 48/100\n",
      "349/349 [==============================] - ETA: 0s - loss: 0.0018\n",
      "Epoch 00048: saving model to C:/Users/mozzimerci/jupyter notebook/time/chan/ff/saved_weights\\pm2.5_lstmrescnn_multi.hdf5\n",
      "349/349 [==============================] - 49s 141ms/step - loss: 0.0018 - val_loss: 0.0063\n",
      "Epoch 49/100\n",
      "349/349 [==============================] - ETA: 0s - loss: 0.0018\n",
      "Epoch 00049: saving model to C:/Users/mozzimerci/jupyter notebook/time/chan/ff/saved_weights\\pm2.5_lstmrescnn_multi.hdf5\n",
      "349/349 [==============================] - 49s 140ms/step - loss: 0.0018 - val_loss: 0.0065\n",
      "Epoch 50/100\n",
      "349/349 [==============================] - ETA: 0s - loss: 0.0018\n",
      "Epoch 00050: saving model to C:/Users/mozzimerci/jupyter notebook/time/chan/ff/saved_weights\\pm2.5_lstmrescnn_multi.hdf5\n",
      "349/349 [==============================] - 49s 140ms/step - loss: 0.0018 - val_loss: 0.0061\n",
      "Epoch 51/100\n",
      "349/349 [==============================] - ETA: 0s - loss: 0.0018\n",
      "Epoch 00051: saving model to C:/Users/mozzimerci/jupyter notebook/time/chan/ff/saved_weights\\pm2.5_lstmrescnn_multi.hdf5\n",
      "349/349 [==============================] - 50s 142ms/step - loss: 0.0018 - val_loss: 0.0064\n",
      "Epoch 52/100\n",
      "349/349 [==============================] - ETA: 0s - loss: 0.0018\n",
      "Epoch 00052: saving model to C:/Users/mozzimerci/jupyter notebook/time/chan/ff/saved_weights\\pm2.5_lstmrescnn_multi.hdf5\n",
      "349/349 [==============================] - 49s 140ms/step - loss: 0.0018 - val_loss: 0.0062\n",
      "Epoch 53/100\n",
      "349/349 [==============================] - ETA: 0s - loss: 0.0018\n",
      "Epoch 00053: saving model to C:/Users/mozzimerci/jupyter notebook/time/chan/ff/saved_weights\\pm2.5_lstmrescnn_multi.hdf5\n",
      "349/349 [==============================] - 49s 141ms/step - loss: 0.0018 - val_loss: 0.0062\n",
      "Epoch 54/100\n",
      "349/349 [==============================] - ETA: 0s - loss: 0.0018\n",
      "Epoch 00054: saving model to C:/Users/mozzimerci/jupyter notebook/time/chan/ff/saved_weights\\pm2.5_lstmrescnn_multi.hdf5\n",
      "349/349 [==============================] - 49s 140ms/step - loss: 0.0018 - val_loss: 0.0064\n",
      "Epoch 55/100\n",
      "349/349 [==============================] - ETA: 0s - loss: 0.0018\n",
      "Epoch 00055: saving model to C:/Users/mozzimerci/jupyter notebook/time/chan/ff/saved_weights\\pm2.5_lstmrescnn_multi.hdf5\n",
      "349/349 [==============================] - 49s 140ms/step - loss: 0.0018 - val_loss: 0.0063\n",
      "Epoch 56/100\n",
      "349/349 [==============================] - ETA: 0s - loss: 0.0018\n",
      "Epoch 00056: saving model to C:/Users/mozzimerci/jupyter notebook/time/chan/ff/saved_weights\\pm2.5_lstmrescnn_multi.hdf5\n",
      "349/349 [==============================] - 49s 140ms/step - loss: 0.0018 - val_loss: 0.0067\n",
      "Epoch 57/100\n"
     ]
    },
    {
     "name": "stdout",
     "output_type": "stream",
     "text": [
      "349/349 [==============================] - ETA: 0s - loss: 0.0018\n",
      "Epoch 00057: saving model to C:/Users/mozzimerci/jupyter notebook/time/chan/ff/saved_weights\\pm2.5_lstmrescnn_multi.hdf5\n",
      "349/349 [==============================] - 49s 142ms/step - loss: 0.0018 - val_loss: 0.0062\n",
      "Epoch 58/100\n",
      "349/349 [==============================] - ETA: 0s - loss: 0.0018\n",
      "Epoch 00058: saving model to C:/Users/mozzimerci/jupyter notebook/time/chan/ff/saved_weights\\pm2.5_lstmrescnn_multi.hdf5\n",
      "349/349 [==============================] - 49s 141ms/step - loss: 0.0018 - val_loss: 0.0063\n",
      "Epoch 59/100\n",
      "349/349 [==============================] - ETA: 0s - loss: 0.0018\n",
      "Epoch 00059: saving model to C:/Users/mozzimerci/jupyter notebook/time/chan/ff/saved_weights\\pm2.5_lstmrescnn_multi.hdf5\n",
      "349/349 [==============================] - 49s 141ms/step - loss: 0.0018 - val_loss: 0.0064\n",
      "Epoch 60/100\n",
      "349/349 [==============================] - ETA: 0s - loss: 0.0017\n",
      "Epoch 00060: saving model to C:/Users/mozzimerci/jupyter notebook/time/chan/ff/saved_weights\\pm2.5_lstmrescnn_multi.hdf5\n",
      "349/349 [==============================] - 49s 141ms/step - loss: 0.0017 - val_loss: 0.0064\n",
      "Epoch 61/100\n",
      "349/349 [==============================] - ETA: 0s - loss: 0.0017\n",
      "Epoch 00061: saving model to C:/Users/mozzimerci/jupyter notebook/time/chan/ff/saved_weights\\pm2.5_lstmrescnn_multi.hdf5\n",
      "349/349 [==============================] - 49s 141ms/step - loss: 0.0017 - val_loss: 0.0064\n",
      "Epoch 62/100\n",
      "349/349 [==============================] - ETA: 0s - loss: 0.0017\n",
      "Epoch 00062: saving model to C:/Users/mozzimerci/jupyter notebook/time/chan/ff/saved_weights\\pm2.5_lstmrescnn_multi.hdf5\n",
      "349/349 [==============================] - 49s 141ms/step - loss: 0.0017 - val_loss: 0.0063\n",
      "Epoch 63/100\n",
      "349/349 [==============================] - ETA: 0s - loss: 0.0017\n",
      "Epoch 00063: saving model to C:/Users/mozzimerci/jupyter notebook/time/chan/ff/saved_weights\\pm2.5_lstmrescnn_multi.hdf5\n",
      "349/349 [==============================] - 49s 141ms/step - loss: 0.0017 - val_loss: 0.0062\n",
      "Epoch 64/100\n",
      "349/349 [==============================] - ETA: 0s - loss: 0.0017\n",
      "Epoch 00064: saving model to C:/Users/mozzimerci/jupyter notebook/time/chan/ff/saved_weights\\pm2.5_lstmrescnn_multi.hdf5\n",
      "349/349 [==============================] - 49s 141ms/step - loss: 0.0017 - val_loss: 0.0063\n",
      "Epoch 65/100\n",
      "349/349 [==============================] - ETA: 0s - loss: 0.0017\n",
      "Epoch 00065: saving model to C:/Users/mozzimerci/jupyter notebook/time/chan/ff/saved_weights\\pm2.5_lstmrescnn_multi.hdf5\n",
      "349/349 [==============================] - 49s 140ms/step - loss: 0.0017 - val_loss: 0.0064\n",
      "Epoch 66/100\n",
      "349/349 [==============================] - ETA: 0s - loss: 0.0017\n",
      "Epoch 00066: saving model to C:/Users/mozzimerci/jupyter notebook/time/chan/ff/saved_weights\\pm2.5_lstmrescnn_multi.hdf5\n",
      "349/349 [==============================] - 49s 140ms/step - loss: 0.0017 - val_loss: 0.0064\n",
      "Epoch 67/100\n",
      "349/349 [==============================] - ETA: 0s - loss: 0.0017\n",
      "Epoch 00067: saving model to C:/Users/mozzimerci/jupyter notebook/time/chan/ff/saved_weights\\pm2.5_lstmrescnn_multi.hdf5\n",
      "349/349 [==============================] - 49s 141ms/step - loss: 0.0017 - val_loss: 0.0063\n",
      "Epoch 68/100\n",
      "349/349 [==============================] - ETA: 0s - loss: 0.0017\n",
      "Epoch 00068: saving model to C:/Users/mozzimerci/jupyter notebook/time/chan/ff/saved_weights\\pm2.5_lstmrescnn_multi.hdf5\n",
      "349/349 [==============================] - 49s 140ms/step - loss: 0.0017 - val_loss: 0.0066\n",
      "Epoch 69/100\n",
      "349/349 [==============================] - ETA: 0s - loss: 0.0017\n",
      "Epoch 00069: saving model to C:/Users/mozzimerci/jupyter notebook/time/chan/ff/saved_weights\\pm2.5_lstmrescnn_multi.hdf5\n",
      "349/349 [==============================] - 49s 141ms/step - loss: 0.0017 - val_loss: 0.0064\n",
      "Epoch 70/100\n",
      "349/349 [==============================] - ETA: 0s - loss: 0.0017\n",
      "Epoch 00070: saving model to C:/Users/mozzimerci/jupyter notebook/time/chan/ff/saved_weights\\pm2.5_lstmrescnn_multi.hdf5\n",
      "349/349 [==============================] - 49s 141ms/step - loss: 0.0017 - val_loss: 0.0063\n",
      "Epoch 71/100\n",
      "349/349 [==============================] - ETA: 0s - loss: 0.0017\n",
      "Epoch 00071: saving model to C:/Users/mozzimerci/jupyter notebook/time/chan/ff/saved_weights\\pm2.5_lstmrescnn_multi.hdf5\n",
      "349/349 [==============================] - 49s 140ms/step - loss: 0.0017 - val_loss: 0.0066\n",
      "Epoch 72/100\n",
      "349/349 [==============================] - ETA: 0s - loss: 0.0017\n",
      "Epoch 00072: saving model to C:/Users/mozzimerci/jupyter notebook/time/chan/ff/saved_weights\\pm2.5_lstmrescnn_multi.hdf5\n",
      "349/349 [==============================] - 49s 141ms/step - loss: 0.0017 - val_loss: 0.0065\n",
      "Epoch 73/100\n",
      "349/349 [==============================] - ETA: 0s - loss: 0.0017\n",
      "Epoch 00073: saving model to C:/Users/mozzimerci/jupyter notebook/time/chan/ff/saved_weights\\pm2.5_lstmrescnn_multi.hdf5\n",
      "349/349 [==============================] - 49s 140ms/step - loss: 0.0017 - val_loss: 0.0064\n",
      "Epoch 74/100\n",
      "349/349 [==============================] - ETA: 0s - loss: 0.0016\n",
      "Epoch 00074: saving model to C:/Users/mozzimerci/jupyter notebook/time/chan/ff/saved_weights\\pm2.5_lstmrescnn_multi.hdf5\n",
      "349/349 [==============================] - 49s 141ms/step - loss: 0.0016 - val_loss: 0.0062\n",
      "Epoch 75/100\n",
      "349/349 [==============================] - ETA: 0s - loss: 0.0016\n",
      "Epoch 00075: saving model to C:/Users/mozzimerci/jupyter notebook/time/chan/ff/saved_weights\\pm2.5_lstmrescnn_multi.hdf5\n",
      "349/349 [==============================] - 49s 141ms/step - loss: 0.0016 - val_loss: 0.0063\n",
      "Epoch 76/100\n",
      "349/349 [==============================] - ETA: 0s - loss: 0.0016\n",
      "Epoch 00076: saving model to C:/Users/mozzimerci/jupyter notebook/time/chan/ff/saved_weights\\pm2.5_lstmrescnn_multi.hdf5\n",
      "349/349 [==============================] - 50s 143ms/step - loss: 0.0016 - val_loss: 0.0068\n",
      "Epoch 77/100\n",
      "349/349 [==============================] - ETA: 0s - loss: 0.0016\n",
      "Epoch 00077: saving model to C:/Users/mozzimerci/jupyter notebook/time/chan/ff/saved_weights\\pm2.5_lstmrescnn_multi.hdf5\n",
      "349/349 [==============================] - 49s 141ms/step - loss: 0.0016 - val_loss: 0.0065\n",
      "Epoch 78/100\n",
      "349/349 [==============================] - ETA: 0s - loss: 0.0016\n",
      "Epoch 00078: saving model to C:/Users/mozzimerci/jupyter notebook/time/chan/ff/saved_weights\\pm2.5_lstmrescnn_multi.hdf5\n",
      "349/349 [==============================] - 50s 142ms/step - loss: 0.0016 - val_loss: 0.0062\n",
      "Epoch 79/100\n",
      "349/349 [==============================] - ETA: 0s - loss: 0.0016\n",
      "Epoch 00079: saving model to C:/Users/mozzimerci/jupyter notebook/time/chan/ff/saved_weights\\pm2.5_lstmrescnn_multi.hdf5\n",
      "349/349 [==============================] - 55s 158ms/step - loss: 0.0016 - val_loss: 0.0063\n",
      "Epoch 80/100\n",
      "349/349 [==============================] - ETA: 0s - loss: 0.0016\n",
      "Epoch 00080: saving model to C:/Users/mozzimerci/jupyter notebook/time/chan/ff/saved_weights\\pm2.5_lstmrescnn_multi.hdf5\n",
      "349/349 [==============================] - 52s 149ms/step - loss: 0.0016 - val_loss: 0.0064\n",
      "Epoch 81/100\n",
      "349/349 [==============================] - ETA: 0s - loss: 0.0016\n",
      "Epoch 00081: saving model to C:/Users/mozzimerci/jupyter notebook/time/chan/ff/saved_weights\\pm2.5_lstmrescnn_multi.hdf5\n",
      "349/349 [==============================] - 52s 148ms/step - loss: 0.0016 - val_loss: 0.0065\n",
      "Epoch 82/100\n",
      "349/349 [==============================] - ETA: 0s - loss: 0.0016\n",
      "Epoch 00082: saving model to C:/Users/mozzimerci/jupyter notebook/time/chan/ff/saved_weights\\pm2.5_lstmrescnn_multi.hdf5\n",
      "349/349 [==============================] - 53s 151ms/step - loss: 0.0016 - val_loss: 0.0066\n",
      "Epoch 83/100\n",
      "349/349 [==============================] - ETA: 0s - loss: 0.0016\n",
      "Epoch 00083: saving model to C:/Users/mozzimerci/jupyter notebook/time/chan/ff/saved_weights\\pm2.5_lstmrescnn_multi.hdf5\n",
      "349/349 [==============================] - 52s 149ms/step - loss: 0.0016 - val_loss: 0.0065\n",
      "Epoch 84/100\n",
      "349/349 [==============================] - ETA: 0s - loss: 0.0016\n",
      "Epoch 00084: saving model to C:/Users/mozzimerci/jupyter notebook/time/chan/ff/saved_weights\\pm2.5_lstmrescnn_multi.hdf5\n",
      "349/349 [==============================] - 53s 152ms/step - loss: 0.0016 - val_loss: 0.0065\n",
      "Epoch 85/100\n"
     ]
    },
    {
     "name": "stdout",
     "output_type": "stream",
     "text": [
      "349/349 [==============================] - ETA: 0s - loss: 0.0016\n",
      "Epoch 00085: saving model to C:/Users/mozzimerci/jupyter notebook/time/chan/ff/saved_weights\\pm2.5_lstmrescnn_multi.hdf5\n",
      "349/349 [==============================] - 52s 150ms/step - loss: 0.0016 - val_loss: 0.0065\n",
      "Epoch 86/100\n",
      "349/349 [==============================] - ETA: 0s - loss: 0.0016\n",
      "Epoch 00086: saving model to C:/Users/mozzimerci/jupyter notebook/time/chan/ff/saved_weights\\pm2.5_lstmrescnn_multi.hdf5\n",
      "349/349 [==============================] - 53s 151ms/step - loss: 0.0016 - val_loss: 0.0065\n",
      "Epoch 87/100\n",
      "349/349 [==============================] - ETA: 0s - loss: 0.0016\n",
      "Epoch 00087: saving model to C:/Users/mozzimerci/jupyter notebook/time/chan/ff/saved_weights\\pm2.5_lstmrescnn_multi.hdf5\n",
      "349/349 [==============================] - 52s 149ms/step - loss: 0.0016 - val_loss: 0.0066\n",
      "Epoch 88/100\n",
      "349/349 [==============================] - ETA: 0s - loss: 0.0016\n",
      "Epoch 00088: saving model to C:/Users/mozzimerci/jupyter notebook/time/chan/ff/saved_weights\\pm2.5_lstmrescnn_multi.hdf5\n",
      "349/349 [==============================] - 51s 145ms/step - loss: 0.0016 - val_loss: 0.0066\n",
      "Epoch 89/100\n",
      "349/349 [==============================] - ETA: 0s - loss: 0.0016\n",
      "Epoch 00089: saving model to C:/Users/mozzimerci/jupyter notebook/time/chan/ff/saved_weights\\pm2.5_lstmrescnn_multi.hdf5\n",
      "349/349 [==============================] - 51s 147ms/step - loss: 0.0016 - val_loss: 0.0065\n",
      "Epoch 90/100\n",
      "349/349 [==============================] - ETA: 0s - loss: 0.0016\n",
      "Epoch 00090: saving model to C:/Users/mozzimerci/jupyter notebook/time/chan/ff/saved_weights\\pm2.5_lstmrescnn_multi.hdf5\n",
      "349/349 [==============================] - 51s 145ms/step - loss: 0.0016 - val_loss: 0.0065\n",
      "Epoch 91/100\n",
      "349/349 [==============================] - ETA: 0s - loss: 0.0016\n",
      "Epoch 00091: saving model to C:/Users/mozzimerci/jupyter notebook/time/chan/ff/saved_weights\\pm2.5_lstmrescnn_multi.hdf5\n",
      "349/349 [==============================] - 50s 144ms/step - loss: 0.0016 - val_loss: 0.0064\n",
      "Epoch 92/100\n",
      "349/349 [==============================] - ETA: 0s - loss: 0.0016\n",
      "Epoch 00092: saving model to C:/Users/mozzimerci/jupyter notebook/time/chan/ff/saved_weights\\pm2.5_lstmrescnn_multi.hdf5\n",
      "349/349 [==============================] - 50s 144ms/step - loss: 0.0016 - val_loss: 0.0064\n",
      "Epoch 93/100\n",
      "349/349 [==============================] - ETA: 0s - loss: 0.0016\n",
      "Epoch 00093: saving model to C:/Users/mozzimerci/jupyter notebook/time/chan/ff/saved_weights\\pm2.5_lstmrescnn_multi.hdf5\n",
      "349/349 [==============================] - 50s 144ms/step - loss: 0.0016 - val_loss: 0.0064\n",
      "Epoch 94/100\n",
      "349/349 [==============================] - ETA: 0s - loss: 0.0016\n",
      "Epoch 00094: saving model to C:/Users/mozzimerci/jupyter notebook/time/chan/ff/saved_weights\\pm2.5_lstmrescnn_multi.hdf5\n",
      "349/349 [==============================] - 50s 144ms/step - loss: 0.0016 - val_loss: 0.0065\n",
      "Epoch 95/100\n",
      "349/349 [==============================] - ETA: 0s - loss: 0.0016\n",
      "Epoch 00095: saving model to C:/Users/mozzimerci/jupyter notebook/time/chan/ff/saved_weights\\pm2.5_lstmrescnn_multi.hdf5\n",
      "349/349 [==============================] - 50s 145ms/step - loss: 0.0016 - val_loss: 0.0064\n",
      "Epoch 96/100\n",
      "349/349 [==============================] - ETA: 0s - loss: 0.0016\n",
      "Epoch 00096: saving model to C:/Users/mozzimerci/jupyter notebook/time/chan/ff/saved_weights\\pm2.5_lstmrescnn_multi.hdf5\n",
      "349/349 [==============================] - 50s 145ms/step - loss: 0.0016 - val_loss: 0.0063\n",
      "Epoch 97/100\n",
      "349/349 [==============================] - ETA: 0s - loss: 0.0015\n",
      "Epoch 00097: saving model to C:/Users/mozzimerci/jupyter notebook/time/chan/ff/saved_weights\\pm2.5_lstmrescnn_multi.hdf5\n",
      "349/349 [==============================] - 50s 144ms/step - loss: 0.0015 - val_loss: 0.0069\n",
      "Epoch 98/100\n",
      "349/349 [==============================] - ETA: 0s - loss: 0.0016\n",
      "Epoch 00098: saving model to C:/Users/mozzimerci/jupyter notebook/time/chan/ff/saved_weights\\pm2.5_lstmrescnn_multi.hdf5\n",
      "349/349 [==============================] - 51s 147ms/step - loss: 0.0016 - val_loss: 0.0063\n",
      "Epoch 99/100\n",
      "349/349 [==============================] - ETA: 0s - loss: 0.0015\n",
      "Epoch 00099: saving model to C:/Users/mozzimerci/jupyter notebook/time/chan/ff/saved_weights\\pm2.5_lstmrescnn_multi.hdf5\n",
      "349/349 [==============================] - 52s 149ms/step - loss: 0.0015 - val_loss: 0.0068\n",
      "Epoch 100/100\n",
      "349/349 [==============================] - ETA: 0s - loss: 0.0015\n",
      "Epoch 00100: saving model to C:/Users/mozzimerci/jupyter notebook/time/chan/ff/saved_weights\\pm2.5_lstmrescnn_multi.hdf5\n",
      "349/349 [==============================] - 52s 148ms/step - loss: 0.0015 - val_loss: 0.0065\n"
     ]
    }
   ],
   "source": [
    "from tensorflow.keras.models import Model\n",
    "\n",
    "first_input = Input(shape=(168,8))\n",
    "\n",
    "\n",
    "in0=LSTM(64,return_sequences=True)(first_input)\n",
    "#in1=add([first_input,in0])\n",
    "in0=Conv1D(filters=64, kernel_size=3, activation='relu',padding='same')(in0)\n",
    "#in1= BatchNormalization(scale=False)(in0)\n",
    "\n",
    "in1=Conv1D(filters=64, kernel_size=2, activation='relu',padding='same')(in0)\n",
    "#in1= BatchNormalization(scale=False)(in1)\n",
    "#in1=Conv1D(filters=64, kernel_size=3, activation='relu',padding='same')(in0)\n",
    "\n",
    "in1=Conv1D(filters=64, kernel_size=1, activation='relu',padding='same')(in1)\n",
    "#in1= BatchNormalization(scale=False)(in1)\n",
    "\n",
    "in1=add([in0,in1],name='extractor1')\n",
    "\n",
    "#ad=Dropout(0.5)(ad)\n",
    "#in0=LSTM(64,return_sequences=True)(ad)\n",
    "#in1=add([first_input,in0])\n",
    "in0=Conv1D(filters=64, kernel_size=3, activation='relu',padding='same')(in1)\n",
    "#in1= BatchNormalization(scale=False)(in0)\n",
    "\n",
    "in1=Conv1D(filters=64, kernel_size=2, activation='relu',padding='same')(in0)\n",
    "#in1= BatchNormalization(scale=False)(in1)\n",
    "#in1=Conv1D(filters=64, kernel_size=3, activation='relu',padding='same')(in0)\n",
    "\n",
    "in1=Conv1D(filters=64, kernel_size=1, activation='relu',padding='same',name='extractor')(in1)\n",
    "#in1= BatchNormalization(scale=False)(in1)\n",
    "\n",
    "#ad1=add([in0,in1])\n",
    "\n",
    "\n",
    "#in0=Conv1D(filters=64, kernel_size=3, activation='relu',padding='same')(ad1)\n",
    "#in1= BatchNormalization(scale=False)(in0)\n",
    "\n",
    "#in1=Conv1D(filters=64, kernel_size=3, activation='relu',padding='same')(in0)\n",
    "#in1= BatchNormalization(scale=False)(in1)\n",
    "#in1=Conv1D(filters=64, kernel_size=3, activation='relu',padding='same')(in0)\n",
    "\n",
    "#in1=Conv1D(filters=64, kernel_size=1, activation='relu',padding='same')(in1)\n",
    "#in1= BatchNormalization(scale=False)(in1)\n",
    "\n",
    "#in1=add([ad1,in1],name='extractor2')\n",
    "#in0=Conv1D(filters=64, kernel_size=5, activation='relu',padding='same')(in1)\n",
    "#in1= BatchNormalization(scale=False)(in0)\n",
    "\n",
    "#in1=Conv1D(filters=64, kernel_size=3, activation='relu',padding='same')(in0)\n",
    "#in1= BatchNormalization(scale=False)(in1)\n",
    "#in1=Conv1D(filters=64, kernel_size=3, activation='relu',padding='same')(in0)\n",
    "\n",
    "#in1=Conv1D(filters=64, kernel_size=1, activation='relu',padding='same')(in1)\n",
    "#in1= BatchNormalization(scale=False)(in1)\n",
    "\n",
    "in1=add([in0,in1])\n",
    "\n",
    "#attn_layer = AttentionLayer(name='attention_layer')\n",
    "#attn_out, attn_states = attn_layer([in1,in1]\n",
    "\n",
    "    # Concat attention input and LSTM output, in original code it was decoder LSTM\n",
    "#concat_out = Concatenate(axis=-1, name='concat_layer')([in1, attn_out])\n",
    "#in1=MaxPooling1D(pool_size=2, name='extractor')(in1)\n",
    "in1=Flatten()(in1)\n",
    "\n",
    "in1=Dense(100, activation='relu')(in1)\n",
    "in1=Dropout(0.5)(in1)\n",
    "\n",
    "out=Dense(24,'relu')(in1)\n",
    "model=tf.keras.Model(inputs=[first_input],outputs=[out])\n",
    "model.compile(optimizer='adam', loss='mse')\n",
    "\n",
    "checkpoint_path = \"C:/Users/mozzimerci/jupyter notebook/time/chan/ff/saved_weights/pm2.5_lstmcnn_multi.hdf5\"\n",
    "cb = tf.keras.callbacks.ModelCheckpoint(filepath=checkpoint_path,\n",
    "                                                 save_best_only=False,\n",
    "                                        monitor='val_loss',mode='min',\n",
    "                                                 verbose=1)\n",
    "\n",
    "\n",
    "#history=model.fit(trainX, trainY, epochs=100, batch_size=100, validation_data=(valX, valY), verbose=1, callbacks=[cb])"
   ]
  },
  {
   "cell_type": "code",
   "execution_count": 23,
   "id": "4kRG-eQB2Sn4",
   "metadata": {
    "executionInfo": {
     "elapsed": 8,
     "status": "ok",
     "timestamp": 1633486373905,
     "user": {
      "displayName": "정찬휘",
      "photoUrl": "https://lh3.googleusercontent.com/a/default-user=s64",
      "userId": "00470938762273561607"
     },
     "user_tz": -540
    },
    "id": "4kRG-eQB2Sn4"
   },
   "outputs": [],
   "source": [
    "model.load_weights(\"C:/Users/mozzimerci/jupyter notebook/time/chan/ff/saved_weights/pm2.5_lstmcnn_multi.hdf5\")"
   ]
  },
  {
   "cell_type": "code",
   "execution_count": 24,
   "id": "1c1c050c",
   "metadata": {},
   "outputs": [
    {
     "name": "stdout",
     "output_type": "stream",
     "text": [
      "[0. 0. 0. 0. 0. 0. 0. 0. 0. 0. 0. 0. 0. 0. 0. 0. 0. 0. 0. 0. 0. 0. 0. 0.\n",
      " 0. 0. 0. 0. 0. 0. 0. 0. 0. 0. 0. 0. 0. 0. 0. 0. 0. 0. 0. 0. 0. 0. 0. 0.\n",
      " 0. 0. 0. 0. 0. 0. 0. 0. 0. 0. 0. 0. 0. 0. 0. 0. 0. 0. 0. 0. 0. 0. 0. 0.\n",
      " 0. 0. 0. 0. 0. 0. 0. 0. 0. 0. 0. 0. 0. 0. 0. 0. 0. 0. 0. 0. 0. 0. 0. 0.\n",
      " 0. 0. 0. 0. 0. 0. 0. 0. 0. 0. 0. 0. 0. 0. 0. 0. 0. 0. 0. 0. 0. 0. 0. 0.\n",
      " 0. 0. 0. 0. 0. 0. 0. 0. 0. 0. 0. 0. 0. 0. 0. 0. 0. 0. 0. 0. 0. 0. 0. 0.\n",
      " 0. 0. 0. 0. 0. 0. 0. 0. 0. 0. 0. 0. 0. 0. 0. 0. 0. 0. 0. 0. 0. 0. 1. 1.]\n"
     ]
    },
    {
     "data": {
      "image/png": "[encoded data removed]",
      "text/plain": [
       "<Figure size 1080x360 with 3 Axes>"
      ]
     },
     "metadata": {
      "needs_background": "light"
     },
     "output_type": "display_data"
    }
   ],
   "source": [
    "from scipy.ndimage import zoom\n",
    "import random\n",
    "import pylab\n",
    "\n",
    "X_test=testX.copy()\n",
    "id_=24*12\n",
    "testX_inverse=X_test[id_][:,0]*(np.max(values)-np.min(values))+np.min(values)\n",
    "testX_inverse\n",
    "\n",
    "X_test=testX.copy()\n",
    "activation = activation_grad(X_test[id_], model)\n",
    "print(activation)\n",
    "plt.figure(figsize=(15,5))\n",
    "\n",
    "plt.plot(testX_inverse/100000, 'k')\n",
    "#plt.plot(yhat, label='predict')\n",
    "#plt.plot(testY, label='true')\n",
    "plt.ylabel('PM2.5'); plt.xlabel('Time lags'); #plt.title(pd.to_datetime(test_date[sequence_length+id_]))\n",
    "plt.twinx()\n",
    "#plt.xticks(a)\n",
    "plt.imshow(np.vstack([activation]*120), alpha=0.5, cmap='viridis')\n",
    "plt.axis('off'); plt.colorbar()\n",
    "plt.axis('off')\n",
    "#pylab.pcolor(np.vstack([activation]*120),cmap='jet',alpha=0.35)\n",
    "\n",
    "#pylab.colorbar()\n",
    "\n",
    "np.set_printoptions(False)\n",
    "\n",
    "plt.savefig('C:/Users/mozzimerci/jupyter notebook/time/chan/ff/png/pm2.5_grad cam_lstm-cnn(1).png', dpi=300)"
   ]
  },
  {
   "cell_type": "code",
   "execution_count": 26,
   "id": "1008ca9d",
   "metadata": {},
   "outputs": [
    {
     "name": "stdout",
     "output_type": "stream",
     "text": [
      "1.0\n",
      "0.0\n",
      "1.0\n",
      "(1, 168, 8)\n"
     ]
    },
    {
     "data": {
      "text/plain": [
       "<Figure size 432x1440 with 0 Axes>"
      ]
     },
     "metadata": {},
     "output_type": "display_data"
    },
    {
     "data": {
      "image/png": "[encoded data removed]",
      "text/plain": [
       "<Figure size 432x288 with 2 Axes>"
      ]
     },
     "metadata": {
      "needs_background": "light"
     },
     "output_type": "display_data"
    }
   ],
   "source": [
    "import matplotlib.pyplot as plt\n",
    "import numpy as np\n",
    "\n",
    "X_test=testX\n",
    "\n",
    "grad_weight = gradient_weight(X_test[4], model)\n",
    "\n",
    "grad_weight_abs = abs(grad_weight)\n",
    "\n",
    "grad_weight_abs_z = (grad_weight_abs-(np.min(grad_weight_abs)))/(np.max(grad_weight_abs)-(np.min(grad_weight_abs)))\n",
    "\n",
    "print(np.max(grad_weight_abs_z))\n",
    "print(np.min(grad_weight_abs_z))\n",
    "print(np.max(grad_weight_abs_z)-np.min(grad_weight_abs_z))\n",
    "#grad_weight=grad_weight.reshape(48,4)\n",
    "\n",
    "print(grad_weight.shape)\n",
    "plt.figure(figsize=(6,20))\n",
    "\n",
    "#plt.plot(X_test[8], 'k')\n",
    "a=grad_weight.numpy()\n",
    "a=a.reshape(168,8)\n",
    "a=a.transpose()\n",
    "\n",
    "#print(a)\n",
    "fig, ax = plt.subplots(1,1)\n",
    "\n",
    "extent = [0 , 168, 0 , 8]\n",
    "y_label_list = [2,4,6,8]\n",
    "x_label_list = [0,24,48,72,96,120,144,168]\n",
    "ax.set_xticks([0,24,48,72,96,120,144,168])\n",
    "\n",
    "ax.set_yticks([24,48,72,96])\n",
    "\n",
    "ax.set_xticklabels(x_label_list)\n",
    "ax.set_yticklabels(y_label_list)\n",
    "\n",
    "ax.set_xticklabels(x_label_list)\n",
    "ax.set_yticklabels(y_label_list)\n",
    "ax.set_ylabel('Feature')\n",
    "ax.set_xlabel('Time Lag')\n",
    "\n",
    "plt.imshow(a,extent = [0 , 168, 0 , 96], vmin=0, vmax=0.5, cmap=\"Blues\", interpolation='nearest')\n",
    "plt.colorbar()\n",
    "\n",
    "plt.savefig('C:/Users/mozzimerci/jupyter notebook/time/chan/ff/png/pm2.5_feature importance_lstm-cnn(1).png', dpi=300)"
   ]
  },
  {
   "cell_type": "markdown",
   "id": "sBP3zpX41qbi",
   "metadata": {
    "id": "sBP3zpX41qbi"
   },
   "source": [
    "lstm-rescnn"
   ]
  },
  {
   "cell_type": "code",
   "execution_count": 27,
   "id": "dfREQ_yp2Slz",
   "metadata": {
    "executionInfo": {
     "elapsed": 253,
     "status": "ok",
     "timestamp": 1633486374965,
     "user": {
      "displayName": "정찬휘",
      "photoUrl": "https://lh3.googleusercontent.com/a/default-user=s64",
      "userId": "00470938762273561607"
     },
     "user_tz": -540
    },
    "id": "dfREQ_yp2Slz"
   },
   "outputs": [
    {
     "name": "stdout",
     "output_type": "stream",
     "text": [
      "Epoch 1/100\n",
      "349/349 [==============================] - ETA: 0s - loss: 0.0077\n",
      "Epoch 00001: saving model to C:/Users/mozzimerci/jupyter notebook/time/chan/ff/saved_weights\\pm2.5_lstmrescnn_multi.hdf5\n",
      "349/349 [==============================] - 53s 152ms/step - loss: 0.0077 - val_loss: 0.0056\n",
      "Epoch 2/100\n",
      "349/349 [==============================] - ETA: 0s - loss: 0.0054\n",
      "Epoch 00002: saving model to C:/Users/mozzimerci/jupyter notebook/time/chan/ff/saved_weights\\pm2.5_lstmrescnn_multi.hdf5\n",
      "349/349 [==============================] - 52s 150ms/step - loss: 0.0054 - val_loss: 0.0055\n",
      "Epoch 3/100\n",
      "349/349 [==============================] - ETA: 0s - loss: 0.0050\n",
      "Epoch 00003: saving model to C:/Users/mozzimerci/jupyter notebook/time/chan/ff/saved_weights\\pm2.5_lstmrescnn_multi.hdf5\n",
      "349/349 [==============================] - 53s 152ms/step - loss: 0.0050 - val_loss: 0.0053\n",
      "Epoch 4/100\n",
      "349/349 [==============================] - ETA: 0s - loss: 0.0048\n",
      "Epoch 00004: saving model to C:/Users/mozzimerci/jupyter notebook/time/chan/ff/saved_weights\\pm2.5_lstmrescnn_multi.hdf5\n",
      "349/349 [==============================] - 53s 153ms/step - loss: 0.0048 - val_loss: 0.0055\n",
      "Epoch 5/100\n",
      "349/349 [==============================] - ETA: 0s - loss: 0.0045\n",
      "Epoch 00005: saving model to C:/Users/mozzimerci/jupyter notebook/time/chan/ff/saved_weights\\pm2.5_lstmrescnn_multi.hdf5\n",
      "349/349 [==============================] - 52s 150ms/step - loss: 0.0045 - val_loss: 0.0055\n",
      "Epoch 6/100\n",
      "349/349 [==============================] - ETA: 0s - loss: 0.0043\n",
      "Epoch 00006: saving model to C:/Users/mozzimerci/jupyter notebook/time/chan/ff/saved_weights\\pm2.5_lstmrescnn_multi.hdf5\n",
      "349/349 [==============================] - 53s 153ms/step - loss: 0.0043 - val_loss: 0.0057\n",
      "Epoch 7/100\n",
      "349/349 [==============================] - ETA: 0s - loss: 0.0040\n",
      "Epoch 00007: saving model to C:/Users/mozzimerci/jupyter notebook/time/chan/ff/saved_weights\\pm2.5_lstmrescnn_multi.hdf5\n",
      "349/349 [==============================] - 56s 160ms/step - loss: 0.0040 - val_loss: 0.0059\n",
      "Epoch 8/100\n",
      "349/349 [==============================] - ETA: 0s - loss: 0.0038\n",
      "Epoch 00008: saving model to C:/Users/mozzimerci/jupyter notebook/time/chan/ff/saved_weights\\pm2.5_lstmrescnn_multi.hdf5\n",
      "349/349 [==============================] - 52s 150ms/step - loss: 0.0038 - val_loss: 0.0056\n",
      "Epoch 9/100\n",
      "349/349 [==============================] - ETA: 0s - loss: 0.0036\n",
      "Epoch 00009: saving model to C:/Users/mozzimerci/jupyter notebook/time/chan/ff/saved_weights\\pm2.5_lstmrescnn_multi.hdf5\n",
      "349/349 [==============================] - 53s 151ms/step - loss: 0.0036 - val_loss: 0.0058\n",
      "Epoch 10/100\n",
      "349/349 [==============================] - ETA: 0s - loss: 0.0034\n",
      "Epoch 00010: saving model to C:/Users/mozzimerci/jupyter notebook/time/chan/ff/saved_weights\\pm2.5_lstmrescnn_multi.hdf5\n",
      "349/349 [==============================] - 52s 149ms/step - loss: 0.0034 - val_loss: 0.0058\n",
      "Epoch 11/100\n",
      "349/349 [==============================] - ETA: 0s - loss: 0.0032\n",
      "Epoch 00011: saving model to C:/Users/mozzimerci/jupyter notebook/time/chan/ff/saved_weights\\pm2.5_lstmrescnn_multi.hdf5\n",
      "349/349 [==============================] - 52s 150ms/step - loss: 0.0032 - val_loss: 0.0063\n",
      "Epoch 12/100\n",
      "349/349 [==============================] - ETA: 0s - loss: 0.0031\n",
      "Epoch 00012: saving model to C:/Users/mozzimerci/jupyter notebook/time/chan/ff/saved_weights\\pm2.5_lstmrescnn_multi.hdf5\n",
      "349/349 [==============================] - 52s 149ms/step - loss: 0.0031 - val_loss: 0.0062\n",
      "Epoch 13/100\n",
      "349/349 [==============================] - ETA: 0s - loss: 0.0030\n",
      "Epoch 00013: saving model to C:/Users/mozzimerci/jupyter notebook/time/chan/ff/saved_weights\\pm2.5_lstmrescnn_multi.hdf5\n",
      "349/349 [==============================] - 52s 149ms/step - loss: 0.0030 - val_loss: 0.0058\n",
      "Epoch 14/100\n",
      "349/349 [==============================] - ETA: 0s - loss: 0.0029\n",
      "Epoch 00014: saving model to C:/Users/mozzimerci/jupyter notebook/time/chan/ff/saved_weights\\pm2.5_lstmrescnn_multi.hdf5\n",
      "349/349 [==============================] - 52s 150ms/step - loss: 0.0029 - val_loss: 0.0063\n",
      "Epoch 15/100\n",
      "349/349 [==============================] - ETA: 0s - loss: 0.0028\n",
      "Epoch 00015: saving model to C:/Users/mozzimerci/jupyter notebook/time/chan/ff/saved_weights\\pm2.5_lstmrescnn_multi.hdf5\n",
      "349/349 [==============================] - 53s 151ms/step - loss: 0.0028 - val_loss: 0.0063\n",
      "Epoch 16/100\n",
      "349/349 [==============================] - ETA: 0s - loss: 0.0027\n",
      "Epoch 00016: saving model to C:/Users/mozzimerci/jupyter notebook/time/chan/ff/saved_weights\\pm2.5_lstmrescnn_multi.hdf5\n",
      "349/349 [==============================] - 52s 150ms/step - loss: 0.0027 - val_loss: 0.0064\n",
      "Epoch 17/100\n",
      "349/349 [==============================] - ETA: 0s - loss: 0.0026\n",
      "Epoch 00017: saving model to C:/Users/mozzimerci/jupyter notebook/time/chan/ff/saved_weights\\pm2.5_lstmrescnn_multi.hdf5\n",
      "349/349 [==============================] - 52s 149ms/step - loss: 0.0026 - val_loss: 0.0061\n",
      "Epoch 18/100\n",
      "349/349 [==============================] - ETA: 0s - loss: 0.0026\n",
      "Epoch 00018: saving model to C:/Users/mozzimerci/jupyter notebook/time/chan/ff/saved_weights\\pm2.5_lstmrescnn_multi.hdf5\n",
      "349/349 [==============================] - 52s 150ms/step - loss: 0.0026 - val_loss: 0.0063\n",
      "Epoch 19/100\n",
      "349/349 [==============================] - ETA: 0s - loss: 0.0025\n",
      "Epoch 00019: saving model to C:/Users/mozzimerci/jupyter notebook/time/chan/ff/saved_weights\\pm2.5_lstmrescnn_multi.hdf5\n",
      "349/349 [==============================] - 52s 150ms/step - loss: 0.0025 - val_loss: 0.0062\n",
      "Epoch 20/100\n",
      "349/349 [==============================] - ETA: 0s - loss: 0.0024\n",
      "Epoch 00020: saving model to C:/Users/mozzimerci/jupyter notebook/time/chan/ff/saved_weights\\pm2.5_lstmrescnn_multi.hdf5\n",
      "349/349 [==============================] - 52s 150ms/step - loss: 0.0024 - val_loss: 0.0073\n",
      "Epoch 21/100\n",
      "349/349 [==============================] - ETA: 0s - loss: 0.0024\n",
      "Epoch 00021: saving model to C:/Users/mozzimerci/jupyter notebook/time/chan/ff/saved_weights\\pm2.5_lstmrescnn_multi.hdf5\n",
      "349/349 [==============================] - 52s 150ms/step - loss: 0.0024 - val_loss: 0.0063\n",
      "Epoch 22/100\n",
      "349/349 [==============================] - ETA: 0s - loss: 0.0024\n",
      "Epoch 00022: saving model to C:/Users/mozzimerci/jupyter notebook/time/chan/ff/saved_weights\\pm2.5_lstmrescnn_multi.hdf5\n",
      "349/349 [==============================] - 52s 150ms/step - loss: 0.0024 - val_loss: 0.0067\n",
      "Epoch 23/100\n",
      "349/349 [==============================] - ETA: 0s - loss: 0.0023\n",
      "Epoch 00023: saving model to C:/Users/mozzimerci/jupyter notebook/time/chan/ff/saved_weights\\pm2.5_lstmrescnn_multi.hdf5\n",
      "349/349 [==============================] - 53s 152ms/step - loss: 0.0023 - val_loss: 0.0067\n",
      "Epoch 24/100\n",
      "349/349 [==============================] - ETA: 0s - loss: 0.0023\n",
      "Epoch 00024: saving model to C:/Users/mozzimerci/jupyter notebook/time/chan/ff/saved_weights\\pm2.5_lstmrescnn_multi.hdf5\n",
      "349/349 [==============================] - 58s 165ms/step - loss: 0.0023 - val_loss: 0.0065\n",
      "Epoch 25/100\n",
      "349/349 [==============================] - ETA: 0s - loss: 0.0023\n",
      "Epoch 00025: saving model to C:/Users/mozzimerci/jupyter notebook/time/chan/ff/saved_weights\\pm2.5_lstmrescnn_multi.hdf5\n",
      "349/349 [==============================] - 56s 161ms/step - loss: 0.0023 - val_loss: 0.0065\n",
      "Epoch 26/100\n",
      "349/349 [==============================] - ETA: 0s - loss: 0.0022\n",
      "Epoch 00026: saving model to C:/Users/mozzimerci/jupyter notebook/time/chan/ff/saved_weights\\pm2.5_lstmrescnn_multi.hdf5\n",
      "349/349 [==============================] - 54s 155ms/step - loss: 0.0022 - val_loss: 0.0069\n",
      "Epoch 27/100\n",
      "349/349 [==============================] - ETA: 0s - loss: 0.0022\n",
      "Epoch 00027: saving model to C:/Users/mozzimerci/jupyter notebook/time/chan/ff/saved_weights\\pm2.5_lstmrescnn_multi.hdf5\n",
      "349/349 [==============================] - 55s 158ms/step - loss: 0.0022 - val_loss: 0.0063\n",
      "Epoch 28/100\n",
      "349/349 [==============================] - ETA: 0s - loss: 0.0022\n",
      "Epoch 00028: saving model to C:/Users/mozzimerci/jupyter notebook/time/chan/ff/saved_weights\\pm2.5_lstmrescnn_multi.hdf5\n",
      "349/349 [==============================] - 54s 155ms/step - loss: 0.0022 - val_loss: 0.0074\n",
      "Epoch 29/100\n"
     ]
    },
    {
     "name": "stdout",
     "output_type": "stream",
     "text": [
      "349/349 [==============================] - ETA: 0s - loss: 0.0022\n",
      "Epoch 00029: saving model to C:/Users/mozzimerci/jupyter notebook/time/chan/ff/saved_weights\\pm2.5_lstmrescnn_multi.hdf5\n",
      "349/349 [==============================] - 53s 153ms/step - loss: 0.0022 - val_loss: 0.0068\n",
      "Epoch 30/100\n",
      "349/349 [==============================] - ETA: 0s - loss: 0.0021\n",
      "Epoch 00030: saving model to C:/Users/mozzimerci/jupyter notebook/time/chan/ff/saved_weights\\pm2.5_lstmrescnn_multi.hdf5\n",
      "349/349 [==============================] - 53s 152ms/step - loss: 0.0021 - val_loss: 0.0066\n",
      "Epoch 31/100\n",
      "349/349 [==============================] - ETA: 0s - loss: 0.0021\n",
      "Epoch 00031: saving model to C:/Users/mozzimerci/jupyter notebook/time/chan/ff/saved_weights\\pm2.5_lstmrescnn_multi.hdf5\n",
      "349/349 [==============================] - 53s 151ms/step - loss: 0.0021 - val_loss: 0.0069\n",
      "Epoch 32/100\n",
      "349/349 [==============================] - ETA: 0s - loss: 0.0021\n",
      "Epoch 00032: saving model to C:/Users/mozzimerci/jupyter notebook/time/chan/ff/saved_weights\\pm2.5_lstmrescnn_multi.hdf5\n",
      "349/349 [==============================] - 53s 151ms/step - loss: 0.0021 - val_loss: 0.0069\n",
      "Epoch 33/100\n",
      "349/349 [==============================] - ETA: 0s - loss: 0.0021\n",
      "Epoch 00033: saving model to C:/Users/mozzimerci/jupyter notebook/time/chan/ff/saved_weights\\pm2.5_lstmrescnn_multi.hdf5\n",
      "349/349 [==============================] - 53s 151ms/step - loss: 0.0021 - val_loss: 0.0067\n",
      "Epoch 34/100\n",
      "349/349 [==============================] - ETA: 0s - loss: 0.0020\n",
      "Epoch 00034: saving model to C:/Users/mozzimerci/jupyter notebook/time/chan/ff/saved_weights\\pm2.5_lstmrescnn_multi.hdf5\n",
      "349/349 [==============================] - 53s 151ms/step - loss: 0.0020 - val_loss: 0.0070\n",
      "Epoch 35/100\n",
      "349/349 [==============================] - ETA: 0s - loss: 0.0020\n",
      "Epoch 00035: saving model to C:/Users/mozzimerci/jupyter notebook/time/chan/ff/saved_weights\\pm2.5_lstmrescnn_multi.hdf5\n",
      "349/349 [==============================] - 53s 151ms/step - loss: 0.0020 - val_loss: 0.0068\n",
      "Epoch 36/100\n",
      "349/349 [==============================] - ETA: 0s - loss: 0.0020\n",
      "Epoch 00036: saving model to C:/Users/mozzimerci/jupyter notebook/time/chan/ff/saved_weights\\pm2.5_lstmrescnn_multi.hdf5\n",
      "349/349 [==============================] - 53s 151ms/step - loss: 0.0020 - val_loss: 0.0069\n",
      "Epoch 37/100\n",
      "349/349 [==============================] - ETA: 0s - loss: 0.0020\n",
      "Epoch 00037: saving model to C:/Users/mozzimerci/jupyter notebook/time/chan/ff/saved_weights\\pm2.5_lstmrescnn_multi.hdf5\n",
      "349/349 [==============================] - 53s 152ms/step - loss: 0.0020 - val_loss: 0.0067\n",
      "Epoch 38/100\n",
      "349/349 [==============================] - ETA: 0s - loss: 0.0020\n",
      "Epoch 00038: saving model to C:/Users/mozzimerci/jupyter notebook/time/chan/ff/saved_weights\\pm2.5_lstmrescnn_multi.hdf5\n",
      "349/349 [==============================] - 54s 153ms/step - loss: 0.0020 - val_loss: 0.0067\n",
      "Epoch 39/100\n",
      "349/349 [==============================] - ETA: 0s - loss: 0.0019\n",
      "Epoch 00039: saving model to C:/Users/mozzimerci/jupyter notebook/time/chan/ff/saved_weights\\pm2.5_lstmrescnn_multi.hdf5\n",
      "349/349 [==============================] - 53s 153ms/step - loss: 0.0019 - val_loss: 0.0068\n",
      "Epoch 40/100\n",
      "349/349 [==============================] - ETA: 0s - loss: 0.0019\n",
      "Epoch 00040: saving model to C:/Users/mozzimerci/jupyter notebook/time/chan/ff/saved_weights\\pm2.5_lstmrescnn_multi.hdf5\n",
      "349/349 [==============================] - 53s 151ms/step - loss: 0.0019 - val_loss: 0.0066\n",
      "Epoch 41/100\n",
      "349/349 [==============================] - ETA: 0s - loss: 0.0019\n",
      "Epoch 00041: saving model to C:/Users/mozzimerci/jupyter notebook/time/chan/ff/saved_weights\\pm2.5_lstmrescnn_multi.hdf5\n",
      "349/349 [==============================] - 53s 152ms/step - loss: 0.0019 - val_loss: 0.0067\n",
      "Epoch 42/100\n",
      "349/349 [==============================] - ETA: 0s - loss: 0.0019\n",
      "Epoch 00042: saving model to C:/Users/mozzimerci/jupyter notebook/time/chan/ff/saved_weights\\pm2.5_lstmrescnn_multi.hdf5\n",
      "349/349 [==============================] - 53s 151ms/step - loss: 0.0019 - val_loss: 0.0068\n",
      "Epoch 43/100\n",
      "349/349 [==============================] - ETA: 0s - loss: 0.0019\n",
      "Epoch 00043: saving model to C:/Users/mozzimerci/jupyter notebook/time/chan/ff/saved_weights\\pm2.5_lstmrescnn_multi.hdf5\n",
      "349/349 [==============================] - 52s 150ms/step - loss: 0.0019 - val_loss: 0.0064\n",
      "Epoch 44/100\n",
      "349/349 [==============================] - ETA: 0s - loss: 0.0019\n",
      "Epoch 00044: saving model to C:/Users/mozzimerci/jupyter notebook/time/chan/ff/saved_weights\\pm2.5_lstmrescnn_multi.hdf5\n",
      "349/349 [==============================] - 53s 151ms/step - loss: 0.0019 - val_loss: 0.0063\n",
      "Epoch 45/100\n",
      "349/349 [==============================] - ETA: 0s - loss: 0.0018\n",
      "Epoch 00045: saving model to C:/Users/mozzimerci/jupyter notebook/time/chan/ff/saved_weights\\pm2.5_lstmrescnn_multi.hdf5\n",
      "349/349 [==============================] - 53s 151ms/step - loss: 0.0018 - val_loss: 0.0072\n",
      "Epoch 46/100\n",
      "349/349 [==============================] - ETA: 0s - loss: 0.0018\n",
      "Epoch 00046: saving model to C:/Users/mozzimerci/jupyter notebook/time/chan/ff/saved_weights\\pm2.5_lstmrescnn_multi.hdf5\n",
      "349/349 [==============================] - 53s 151ms/step - loss: 0.0018 - val_loss: 0.0067\n",
      "Epoch 47/100\n",
      "349/349 [==============================] - ETA: 0s - loss: 0.0018\n",
      "Epoch 00047: saving model to C:/Users/mozzimerci/jupyter notebook/time/chan/ff/saved_weights\\pm2.5_lstmrescnn_multi.hdf5\n",
      "349/349 [==============================] - 52s 150ms/step - loss: 0.0018 - val_loss: 0.0070\n",
      "Epoch 48/100\n",
      "349/349 [==============================] - ETA: 0s - loss: 0.0018\n",
      "Epoch 00048: saving model to C:/Users/mozzimerci/jupyter notebook/time/chan/ff/saved_weights\\pm2.5_lstmrescnn_multi.hdf5\n",
      "349/349 [==============================] - 53s 151ms/step - loss: 0.0018 - val_loss: 0.0066\n",
      "Epoch 49/100\n",
      "349/349 [==============================] - ETA: 0s - loss: 0.0018\n",
      "Epoch 00049: saving model to C:/Users/mozzimerci/jupyter notebook/time/chan/ff/saved_weights\\pm2.5_lstmrescnn_multi.hdf5\n",
      "349/349 [==============================] - 53s 151ms/step - loss: 0.0018 - val_loss: 0.0065\n",
      "Epoch 50/100\n",
      "349/349 [==============================] - ETA: 0s - loss: 0.0017\n",
      "Epoch 00050: saving model to C:/Users/mozzimerci/jupyter notebook/time/chan/ff/saved_weights\\pm2.5_lstmrescnn_multi.hdf5\n",
      "349/349 [==============================] - 53s 151ms/step - loss: 0.0017 - val_loss: 0.0064\n",
      "Epoch 51/100\n",
      "349/349 [==============================] - ETA: 0s - loss: 0.0017\n",
      "Epoch 00051: saving model to C:/Users/mozzimerci/jupyter notebook/time/chan/ff/saved_weights\\pm2.5_lstmrescnn_multi.hdf5\n",
      "349/349 [==============================] - 52s 148ms/step - loss: 0.0017 - val_loss: 0.0070\n",
      "Epoch 52/100\n",
      "349/349 [==============================] - ETA: 0s - loss: 0.0017\n",
      "Epoch 00052: saving model to C:/Users/mozzimerci/jupyter notebook/time/chan/ff/saved_weights\\pm2.5_lstmrescnn_multi.hdf5\n",
      "349/349 [==============================] - 56s 162ms/step - loss: 0.0017 - val_loss: 0.0070\n",
      "Epoch 53/100\n",
      "349/349 [==============================] - ETA: 0s - loss: 0.0017\n",
      "Epoch 00053: saving model to C:/Users/mozzimerci/jupyter notebook/time/chan/ff/saved_weights\\pm2.5_lstmrescnn_multi.hdf5\n",
      "349/349 [==============================] - 56s 159ms/step - loss: 0.0017 - val_loss: 0.0071\n",
      "Epoch 54/100\n",
      "349/349 [==============================] - ETA: 0s - loss: 0.0017\n",
      "Epoch 00054: saving model to C:/Users/mozzimerci/jupyter notebook/time/chan/ff/saved_weights\\pm2.5_lstmrescnn_multi.hdf5\n",
      "349/349 [==============================] - 57s 163ms/step - loss: 0.0017 - val_loss: 0.0070\n",
      "Epoch 55/100\n",
      "349/349 [==============================] - ETA: 0s - loss: 0.0017\n",
      "Epoch 00055: saving model to C:/Users/mozzimerci/jupyter notebook/time/chan/ff/saved_weights\\pm2.5_lstmrescnn_multi.hdf5\n",
      "349/349 [==============================] - 53s 153ms/step - loss: 0.0017 - val_loss: 0.0068\n",
      "Epoch 56/100\n",
      "349/349 [==============================] - ETA: 0s - loss: 0.0017\n",
      "Epoch 00056: saving model to C:/Users/mozzimerci/jupyter notebook/time/chan/ff/saved_weights\\pm2.5_lstmrescnn_multi.hdf5\n",
      "349/349 [==============================] - 52s 148ms/step - loss: 0.0017 - val_loss: 0.0066\n",
      "Epoch 57/100\n"
     ]
    },
    {
     "name": "stdout",
     "output_type": "stream",
     "text": [
      "349/349 [==============================] - ETA: 0s - loss: 0.0017\n",
      "Epoch 00057: saving model to C:/Users/mozzimerci/jupyter notebook/time/chan/ff/saved_weights\\pm2.5_lstmrescnn_multi.hdf5\n",
      "349/349 [==============================] - 54s 155ms/step - loss: 0.0017 - val_loss: 0.0069\n",
      "Epoch 58/100\n",
      "349/349 [==============================] - ETA: 0s - loss: 0.0017\n",
      "Epoch 00058: saving model to C:/Users/mozzimerci/jupyter notebook/time/chan/ff/saved_weights\\pm2.5_lstmrescnn_multi.hdf5\n",
      "349/349 [==============================] - 53s 152ms/step - loss: 0.0017 - val_loss: 0.0070\n",
      "Epoch 59/100\n",
      "349/349 [==============================] - ETA: 0s - loss: 0.0017\n",
      "Epoch 00059: saving model to C:/Users/mozzimerci/jupyter notebook/time/chan/ff/saved_weights\\pm2.5_lstmrescnn_multi.hdf5\n",
      "349/349 [==============================] - 53s 152ms/step - loss: 0.0017 - val_loss: 0.0068\n",
      "Epoch 60/100\n",
      "349/349 [==============================] - ETA: 0s - loss: 0.0017\n",
      "Epoch 00060: saving model to C:/Users/mozzimerci/jupyter notebook/time/chan/ff/saved_weights\\pm2.5_lstmrescnn_multi.hdf5\n",
      "349/349 [==============================] - 54s 154ms/step - loss: 0.0017 - val_loss: 0.0070\n",
      "Epoch 61/100\n",
      "349/349 [==============================] - ETA: 0s - loss: 0.0017\n",
      "Epoch 00061: saving model to C:/Users/mozzimerci/jupyter notebook/time/chan/ff/saved_weights\\pm2.5_lstmrescnn_multi.hdf5\n",
      "349/349 [==============================] - 53s 152ms/step - loss: 0.0017 - val_loss: 0.0068\n",
      "Epoch 62/100\n",
      "349/349 [==============================] - ETA: 0s - loss: 0.0017\n",
      "Epoch 00062: saving model to C:/Users/mozzimerci/jupyter notebook/time/chan/ff/saved_weights\\pm2.5_lstmrescnn_multi.hdf5\n",
      "349/349 [==============================] - 53s 153ms/step - loss: 0.0017 - val_loss: 0.0068\n",
      "Epoch 63/100\n",
      "349/349 [==============================] - ETA: 0s - loss: 0.0017\n",
      "Epoch 00063: saving model to C:/Users/mozzimerci/jupyter notebook/time/chan/ff/saved_weights\\pm2.5_lstmrescnn_multi.hdf5\n",
      "349/349 [==============================] - 54s 154ms/step - loss: 0.0017 - val_loss: 0.0067\n",
      "Epoch 64/100\n",
      "349/349 [==============================] - ETA: 0s - loss: 0.0016\n",
      "Epoch 00064: saving model to C:/Users/mozzimerci/jupyter notebook/time/chan/ff/saved_weights\\pm2.5_lstmrescnn_multi.hdf5\n",
      "349/349 [==============================] - 53s 151ms/step - loss: 0.0016 - val_loss: 0.0065\n",
      "Epoch 65/100\n",
      "349/349 [==============================] - ETA: 0s - loss: 0.0016\n",
      "Epoch 00065: saving model to C:/Users/mozzimerci/jupyter notebook/time/chan/ff/saved_weights\\pm2.5_lstmrescnn_multi.hdf5\n",
      "349/349 [==============================] - 53s 151ms/step - loss: 0.0016 - val_loss: 0.0066\n",
      "Epoch 66/100\n",
      "349/349 [==============================] - ETA: 0s - loss: 0.0016\n",
      "Epoch 00066: saving model to C:/Users/mozzimerci/jupyter notebook/time/chan/ff/saved_weights\\pm2.5_lstmrescnn_multi.hdf5\n",
      "349/349 [==============================] - 52s 150ms/step - loss: 0.0016 - val_loss: 0.0070\n",
      "Epoch 67/100\n",
      "349/349 [==============================] - ETA: 0s - loss: 0.0016\n",
      "Epoch 00067: saving model to C:/Users/mozzimerci/jupyter notebook/time/chan/ff/saved_weights\\pm2.5_lstmrescnn_multi.hdf5\n",
      "349/349 [==============================] - 53s 151ms/step - loss: 0.0016 - val_loss: 0.0071\n",
      "Epoch 68/100\n",
      "349/349 [==============================] - ETA: 0s - loss: 0.0016\n",
      "Epoch 00068: saving model to C:/Users/mozzimerci/jupyter notebook/time/chan/ff/saved_weights\\pm2.5_lstmrescnn_multi.hdf5\n",
      "349/349 [==============================] - 53s 152ms/step - loss: 0.0016 - val_loss: 0.0065\n",
      "Epoch 69/100\n",
      "349/349 [==============================] - ETA: 0s - loss: 0.0016\n",
      "Epoch 00069: saving model to C:/Users/mozzimerci/jupyter notebook/time/chan/ff/saved_weights\\pm2.5_lstmrescnn_multi.hdf5\n",
      "349/349 [==============================] - 52s 150ms/step - loss: 0.0016 - val_loss: 0.0067\n",
      "Epoch 70/100\n",
      "349/349 [==============================] - ETA: 0s - loss: 0.0016\n",
      "Epoch 00070: saving model to C:/Users/mozzimerci/jupyter notebook/time/chan/ff/saved_weights\\pm2.5_lstmrescnn_multi.hdf5\n",
      "349/349 [==============================] - 53s 151ms/step - loss: 0.0016 - val_loss: 0.0068\n",
      "Epoch 71/100\n",
      "349/349 [==============================] - ETA: 0s - loss: 0.0016\n",
      "Epoch 00071: saving model to C:/Users/mozzimerci/jupyter notebook/time/chan/ff/saved_weights\\pm2.5_lstmrescnn_multi.hdf5\n",
      "349/349 [==============================] - 54s 154ms/step - loss: 0.0016 - val_loss: 0.0069\n",
      "Epoch 72/100\n",
      "349/349 [==============================] - ETA: 0s - loss: 0.0016\n",
      "Epoch 00072: saving model to C:/Users/mozzimerci/jupyter notebook/time/chan/ff/saved_weights\\pm2.5_lstmrescnn_multi.hdf5\n",
      "349/349 [==============================] - 54s 154ms/step - loss: 0.0016 - val_loss: 0.0069\n",
      "Epoch 73/100\n",
      "349/349 [==============================] - ETA: 0s - loss: 0.0016\n",
      "Epoch 00073: saving model to C:/Users/mozzimerci/jupyter notebook/time/chan/ff/saved_weights\\pm2.5_lstmrescnn_multi.hdf5\n",
      "349/349 [==============================] - 53s 151ms/step - loss: 0.0016 - val_loss: 0.0067\n",
      "Epoch 74/100\n",
      "349/349 [==============================] - ETA: 0s - loss: 0.0016\n",
      "Epoch 00074: saving model to C:/Users/mozzimerci/jupyter notebook/time/chan/ff/saved_weights\\pm2.5_lstmrescnn_multi.hdf5\n",
      "349/349 [==============================] - 53s 151ms/step - loss: 0.0016 - val_loss: 0.0067\n",
      "Epoch 75/100\n",
      "349/349 [==============================] - ETA: 0s - loss: 0.0016\n",
      "Epoch 00075: saving model to C:/Users/mozzimerci/jupyter notebook/time/chan/ff/saved_weights\\pm2.5_lstmrescnn_multi.hdf5\n",
      "349/349 [==============================] - 53s 151ms/step - loss: 0.0016 - val_loss: 0.0067\n",
      "Epoch 76/100\n",
      "349/349 [==============================] - ETA: 0s - loss: 0.0016\n",
      "Epoch 00076: saving model to C:/Users/mozzimerci/jupyter notebook/time/chan/ff/saved_weights\\pm2.5_lstmrescnn_multi.hdf5\n",
      "349/349 [==============================] - 53s 152ms/step - loss: 0.0016 - val_loss: 0.0070\n",
      "Epoch 77/100\n",
      "349/349 [==============================] - ETA: 0s - loss: 0.0016\n",
      "Epoch 00077: saving model to C:/Users/mozzimerci/jupyter notebook/time/chan/ff/saved_weights\\pm2.5_lstmrescnn_multi.hdf5\n",
      "349/349 [==============================] - 53s 153ms/step - loss: 0.0016 - val_loss: 0.0069\n",
      "Epoch 78/100\n",
      "349/349 [==============================] - ETA: 0s - loss: 0.0016\n",
      "Epoch 00078: saving model to C:/Users/mozzimerci/jupyter notebook/time/chan/ff/saved_weights\\pm2.5_lstmrescnn_multi.hdf5\n",
      "349/349 [==============================] - 53s 152ms/step - loss: 0.0016 - val_loss: 0.0068\n",
      "Epoch 79/100\n",
      "349/349 [==============================] - ETA: 0s - loss: 0.0016\n",
      "Epoch 00079: saving model to C:/Users/mozzimerci/jupyter notebook/time/chan/ff/saved_weights\\pm2.5_lstmrescnn_multi.hdf5\n",
      "349/349 [==============================] - 53s 153ms/step - loss: 0.0016 - val_loss: 0.0069\n",
      "Epoch 80/100\n",
      "349/349 [==============================] - ETA: 0s - loss: 0.0015\n",
      "Epoch 00080: saving model to C:/Users/mozzimerci/jupyter notebook/time/chan/ff/saved_weights\\pm2.5_lstmrescnn_multi.hdf5\n",
      "349/349 [==============================] - 53s 153ms/step - loss: 0.0015 - val_loss: 0.0068\n",
      "Epoch 81/100\n",
      "349/349 [==============================] - ETA: 0s - loss: 0.0016\n",
      "Epoch 00081: saving model to C:/Users/mozzimerci/jupyter notebook/time/chan/ff/saved_weights\\pm2.5_lstmrescnn_multi.hdf5\n",
      "349/349 [==============================] - 53s 153ms/step - loss: 0.0016 - val_loss: 0.0070\n",
      "Epoch 82/100\n",
      "349/349 [==============================] - ETA: 0s - loss: 0.0016\n",
      "Epoch 00082: saving model to C:/Users/mozzimerci/jupyter notebook/time/chan/ff/saved_weights\\pm2.5_lstmrescnn_multi.hdf5\n",
      "349/349 [==============================] - 53s 152ms/step - loss: 0.0016 - val_loss: 0.0066\n",
      "Epoch 83/100\n",
      "349/349 [==============================] - ETA: 0s - loss: 0.0015\n",
      "Epoch 00083: saving model to C:/Users/mozzimerci/jupyter notebook/time/chan/ff/saved_weights\\pm2.5_lstmrescnn_multi.hdf5\n",
      "349/349 [==============================] - 53s 153ms/step - loss: 0.0015 - val_loss: 0.0069\n",
      "Epoch 84/100\n",
      "349/349 [==============================] - ETA: 0s - loss: 0.0015\n",
      "Epoch 00084: saving model to C:/Users/mozzimerci/jupyter notebook/time/chan/ff/saved_weights\\pm2.5_lstmrescnn_multi.hdf5\n",
      "349/349 [==============================] - 53s 152ms/step - loss: 0.0015 - val_loss: 0.0067\n",
      "Epoch 85/100\n"
     ]
    },
    {
     "name": "stdout",
     "output_type": "stream",
     "text": [
      "349/349 [==============================] - ETA: 0s - loss: 0.0015\n",
      "Epoch 00085: saving model to C:/Users/mozzimerci/jupyter notebook/time/chan/ff/saved_weights\\pm2.5_lstmrescnn_multi.hdf5\n",
      "349/349 [==============================] - 53s 152ms/step - loss: 0.0015 - val_loss: 0.0068\n",
      "Epoch 86/100\n",
      "349/349 [==============================] - ETA: 0s - loss: 0.0015\n",
      "Epoch 00086: saving model to C:/Users/mozzimerci/jupyter notebook/time/chan/ff/saved_weights\\pm2.5_lstmrescnn_multi.hdf5\n",
      "349/349 [==============================] - 53s 152ms/step - loss: 0.0015 - val_loss: 0.0065\n",
      "Epoch 87/100\n",
      "349/349 [==============================] - ETA: 0s - loss: 0.0015\n",
      "Epoch 00087: saving model to C:/Users/mozzimerci/jupyter notebook/time/chan/ff/saved_weights\\pm2.5_lstmrescnn_multi.hdf5\n",
      "349/349 [==============================] - 53s 151ms/step - loss: 0.0015 - val_loss: 0.0067\n",
      "Epoch 88/100\n",
      "349/349 [==============================] - ETA: 0s - loss: 0.0015\n",
      "Epoch 00088: saving model to C:/Users/mozzimerci/jupyter notebook/time/chan/ff/saved_weights\\pm2.5_lstmrescnn_multi.hdf5\n",
      "349/349 [==============================] - 51s 148ms/step - loss: 0.0015 - val_loss: 0.0068\n",
      "Epoch 89/100\n",
      "349/349 [==============================] - ETA: 0s - loss: 0.0015\n",
      "Epoch 00089: saving model to C:/Users/mozzimerci/jupyter notebook/time/chan/ff/saved_weights\\pm2.5_lstmrescnn_multi.hdf5\n",
      "349/349 [==============================] - 51s 147ms/step - loss: 0.0015 - val_loss: 0.0067\n",
      "Epoch 90/100\n",
      "349/349 [==============================] - ETA: 0s - loss: 0.0015\n",
      "Epoch 00090: saving model to C:/Users/mozzimerci/jupyter notebook/time/chan/ff/saved_weights\\pm2.5_lstmrescnn_multi.hdf5\n",
      "349/349 [==============================] - 51s 147ms/step - loss: 0.0015 - val_loss: 0.0066\n",
      "Epoch 91/100\n",
      "349/349 [==============================] - ETA: 0s - loss: 0.0015\n",
      "Epoch 00091: saving model to C:/Users/mozzimerci/jupyter notebook/time/chan/ff/saved_weights\\pm2.5_lstmrescnn_multi.hdf5\n",
      "349/349 [==============================] - 53s 152ms/step - loss: 0.0015 - val_loss: 0.0068\n",
      "Epoch 92/100\n",
      "349/349 [==============================] - ETA: 0s - loss: 0.0015\n",
      "Epoch 00092: saving model to C:/Users/mozzimerci/jupyter notebook/time/chan/ff/saved_weights\\pm2.5_lstmrescnn_multi.hdf5\n",
      "349/349 [==============================] - 54s 154ms/step - loss: 0.0015 - val_loss: 0.0068\n",
      "Epoch 93/100\n",
      "349/349 [==============================] - ETA: 0s - loss: 0.0015\n",
      "Epoch 00093: saving model to C:/Users/mozzimerci/jupyter notebook/time/chan/ff/saved_weights\\pm2.5_lstmrescnn_multi.hdf5\n",
      "349/349 [==============================] - 54s 155ms/step - loss: 0.0015 - val_loss: 0.0071\n",
      "Epoch 94/100\n",
      "349/349 [==============================] - ETA: 0s - loss: 0.0015\n",
      "Epoch 00094: saving model to C:/Users/mozzimerci/jupyter notebook/time/chan/ff/saved_weights\\pm2.5_lstmrescnn_multi.hdf5\n",
      "349/349 [==============================] - 54s 155ms/step - loss: 0.0015 - val_loss: 0.0069\n",
      "Epoch 95/100\n",
      "349/349 [==============================] - ETA: 0s - loss: 0.0015\n",
      "Epoch 00095: saving model to C:/Users/mozzimerci/jupyter notebook/time/chan/ff/saved_weights\\pm2.5_lstmrescnn_multi.hdf5\n",
      "349/349 [==============================] - 56s 160ms/step - loss: 0.0015 - val_loss: 0.0068\n",
      "Epoch 96/100\n",
      "349/349 [==============================] - ETA: 0s - loss: 0.0015\n",
      "Epoch 00096: saving model to C:/Users/mozzimerci/jupyter notebook/time/chan/ff/saved_weights\\pm2.5_lstmrescnn_multi.hdf5\n",
      "349/349 [==============================] - 55s 156ms/step - loss: 0.0015 - val_loss: 0.0066\n",
      "Epoch 97/100\n",
      "349/349 [==============================] - ETA: 0s - loss: 0.0015\n",
      "Epoch 00097: saving model to C:/Users/mozzimerci/jupyter notebook/time/chan/ff/saved_weights\\pm2.5_lstmrescnn_multi.hdf5\n",
      "349/349 [==============================] - 55s 158ms/step - loss: 0.0015 - val_loss: 0.0069\n",
      "Epoch 98/100\n",
      "349/349 [==============================] - ETA: 0s - loss: 0.0015\n",
      "Epoch 00098: saving model to C:/Users/mozzimerci/jupyter notebook/time/chan/ff/saved_weights\\pm2.5_lstmrescnn_multi.hdf5\n",
      "349/349 [==============================] - 57s 162ms/step - loss: 0.0015 - val_loss: 0.0067\n",
      "Epoch 99/100\n",
      "349/349 [==============================] - ETA: 0s - loss: 0.0015\n",
      "Epoch 00099: saving model to C:/Users/mozzimerci/jupyter notebook/time/chan/ff/saved_weights\\pm2.5_lstmrescnn_multi.hdf5\n",
      "349/349 [==============================] - 54s 154ms/step - loss: 0.0015 - val_loss: 0.0068\n",
      "Epoch 100/100\n",
      "349/349 [==============================] - ETA: 0s - loss: 0.0015\n",
      "Epoch 00100: saving model to C:/Users/mozzimerci/jupyter notebook/time/chan/ff/saved_weights\\pm2.5_lstmrescnn_multi.hdf5\n",
      "349/349 [==============================] - 56s 161ms/step - loss: 0.0015 - val_loss: 0.0067\n"
     ]
    }
   ],
   "source": [
    "from tensorflow.keras.models import Model\n",
    "\n",
    "first_input = Input(shape=(168,8))\n",
    "\n",
    "\n",
    "in0=LSTM(64,return_sequences=True)(first_input)\n",
    "#in1=add([first_input,in0])\n",
    "in0=Conv1D(filters=64, kernel_size=3, activation='relu',padding='same')(in0)\n",
    "#in1= BatchNormalization(scale=False)(in0)\n",
    "\n",
    "in1=Conv1D(filters=64, kernel_size=2, activation='relu',padding='same')(in0)\n",
    "#in1= BatchNormalization(scale=False)(in1)\n",
    "#in1=Conv1D(filters=64, kernel_size=3, activation='relu',padding='same')(in0)\n",
    "\n",
    "in1=Conv1D(filters=64, kernel_size=1, activation='relu',padding='same')(in1)\n",
    "#in1= BatchNormalization(scale=False)(in1)\n",
    "\n",
    "in1=add([in0,in1],name='extractor1')\n",
    "\n",
    "#ad=Dropout(0.5)(ad)\n",
    "#in0=LSTM(64,return_sequences=True)(ad)\n",
    "#in1=add([first_input,in0])\n",
    "in0=Conv1D(filters=64, kernel_size=3, activation='relu',padding='same')(in1)\n",
    "#in1= BatchNormalization(scale=False)(in0)\n",
    "\n",
    "in1=Conv1D(filters=64, kernel_size=2, activation='relu',padding='same')(in0)\n",
    "#in1= BatchNormalization(scale=False)(in1)\n",
    "#in1=Conv1D(filters=64, kernel_size=3, activation='relu',padding='same')(in0)\n",
    "\n",
    "in1=Conv1D(filters=64, kernel_size=1, activation='relu',padding='same',name='extractor')(in1)\n",
    "#in1= BatchNormalization(scale=False)(in1)\n",
    "\n",
    "#ad1=add([in0,in1])\n",
    "\n",
    "\n",
    "#in0=Conv1D(filters=64, kernel_size=3, activation='relu',padding='same')(ad1)\n",
    "#in1= BatchNormalization(scale=False)(in0)\n",
    "\n",
    "#in1=Conv1D(filters=64, kernel_size=3, activation='relu',padding='same')(in0)\n",
    "#in1= BatchNormalization(scale=False)(in1)\n",
    "#in1=Conv1D(filters=64, kernel_size=3, activation='relu',padding='same')(in0)\n",
    "\n",
    "#in1=Conv1D(filters=64, kernel_size=1, activation='relu',padding='same')(in1)\n",
    "#in1= BatchNormalization(scale=False)(in1)\n",
    "\n",
    "#in1=add([ad1,in1],name='extractor2')\n",
    "#in0=Conv1D(filters=64, kernel_size=5, activation='relu',padding='same')(in1)\n",
    "#in1= BatchNormalization(scale=False)(in0)\n",
    "\n",
    "#in1=Conv1D(filters=64, kernel_size=3, activation='relu',padding='same')(in0)\n",
    "#in1= BatchNormalization(scale=False)(in1)\n",
    "#in1=Conv1D(filters=64, kernel_size=3, activation='relu',padding='same')(in0)\n",
    "\n",
    "#in1=Conv1D(filters=64, kernel_size=1, activation='relu',padding='same')(in1)\n",
    "#in1= BatchNormalization(scale=False)(in1)\n",
    "\n",
    "in1=add([in0,in1])\n",
    "\n",
    "#attn_layer = AttentionLayer(name='attention_layer')\n",
    "#attn_out, attn_states = attn_layer([in1,in1]\n",
    "\n",
    "    # Concat attention input and LSTM output, in original code it was decoder LSTM\n",
    "#concat_out = Concatenate(axis=-1, name='concat_layer')([in1, attn_out])\n",
    "#in1=MaxPooling1D(pool_size=2, name='extractor')(in1)\n",
    "in1=Flatten()(in1)\n",
    "\n",
    "in1=Dense(100, activation='relu')(in1)\n",
    "in1=Dropout(0.5)(in1)\n",
    "\n",
    "out=Dense(24,'relu')(in1)\n",
    "model=tf.keras.Model(inputs=[first_input],outputs=[out])\n",
    "model.compile(optimizer='adam', loss='mse')\n",
    "\n",
    "checkpoint_path = \"C:/Users/mozzimerci/jupyter notebook/time/chan/ff/saved_weights/pm2.5_lstmrescnn_multi.hdf5\"\n",
    "cb = tf.keras.callbacks.ModelCheckpoint(filepath=checkpoint_path,\n",
    "                                                 save_best_only=False,\n",
    "                                        monitor='val_loss',mode='min',\n",
    "                                                 verbose=1)\n",
    "\n",
    "#history=model.fit(trainX, trainY, epochs=100, batch_size=100, validation_data=(valX, valY), verbose=1, callbacks=[cb])"
   ]
  },
  {
   "cell_type": "code",
   "execution_count": 28,
   "id": "FIGo2WYi2TBm",
   "metadata": {
    "executionInfo": {
     "elapsed": 351,
     "status": "ok",
     "timestamp": 1633486375314,
     "user": {
      "displayName": "정찬휘",
      "photoUrl": "https://lh3.googleusercontent.com/a/default-user=s64",
      "userId": "00470938762273561607"
     },
     "user_tz": -540
    },
    "id": "FIGo2WYi2TBm"
   },
   "outputs": [],
   "source": [
    "model.load_weights(\"C:/Users/mozzimerci/jupyter notebook/time/chan/ff/saved_weights/pm2.5_lstmrescnn_multi.hdf5\")"
   ]
  },
  {
   "cell_type": "code",
   "execution_count": 29,
   "id": "WExPcGUCJ_TD",
   "metadata": {
    "executionInfo": {
     "elapsed": 4,
     "status": "ok",
     "timestamp": 1633486375844,
     "user": {
      "displayName": "정찬휘",
      "photoUrl": "https://lh3.googleusercontent.com/a/default-user=s64",
      "userId": "00470938762273561607"
     },
     "user_tz": -540
    },
    "id": "WExPcGUCJ_TD"
   },
   "outputs": [
    {
     "name": "stdout",
     "output_type": "stream",
     "text": [
      "[0. 0. 0. 0. 0. 0. 0. 0. 0. 0. 0. 0. 0. 0. 0. 0. 0. 0. 0. 0. 0. 0. 0. 0.\n",
      " 0. 0. 0. 0. 0. 0. 0. 0. 0. 0. 0. 0. 0. 0. 0. 0. 0. 0. 0. 0. 0. 0. 0. 0.\n",
      " 0. 0. 0. 0. 0. 0. 0. 0. 0. 0. 0. 0. 0. 0. 0. 0. 0. 0. 0. 0. 0. 0. 0. 0.\n",
      " 0. 0. 0. 0. 0. 0. 0. 0. 0. 0. 0. 0. 0. 0. 0. 0. 0. 0. 0. 0. 0. 0. 0. 0.\n",
      " 0. 0. 0. 0. 0. 0. 0. 0. 0. 0. 0. 0. 0. 0. 0. 0. 0. 0. 0. 0. 0. 0. 0. 0.\n",
      " 0. 0. 0. 0. 0. 0. 0. 0. 0. 0. 0. 0. 0. 0. 0. 0. 0. 0. 0. 0. 0. 0. 0. 0.\n",
      " 0. 0. 0. 0. 0. 0. 0. 0. 0. 0. 0. 0. 0. 0. 0. 0. 0. 0. 0. 0. 1. 0. 1. 0.]\n"
     ]
    },
    {
     "data": {
      "image/png": "[encoded data removed]",
      "text/plain": [
       "<Figure size 1080x360 with 3 Axes>"
      ]
     },
     "metadata": {
      "needs_background": "light"
     },
     "output_type": "display_data"
    }
   ],
   "source": [
    "from scipy.ndimage import zoom\n",
    "import random\n",
    "import pylab\n",
    "\n",
    "X_test=testX.copy()\n",
    "id_=24*12\n",
    "testX_inverse=X_test[id_][:,0]*(np.max(values)-np.min(values))+np.min(values)\n",
    "testX_inverse\n",
    "\n",
    "X_test=testX.copy()\n",
    "activation = activation_grad(X_test[id_], model)\n",
    "print(activation)\n",
    "plt.figure(figsize=(15,5))\n",
    "\n",
    "plt.plot(testX_inverse/100000, 'k')\n",
    "#plt.plot(yhat, label='predict')\n",
    "#plt.plot(testY, label='true')\n",
    "plt.ylabel('Rented Bike Count'); plt.xlabel('Time lags'); #plt.title(pd.to_datetime(test_date[sequence_length+id_]))\n",
    "plt.twinx()\n",
    "#plt.xticks(a)\n",
    "plt.imshow(np.vstack([activation]*120), alpha=0.5, cmap='viridis')\n",
    "plt.axis('off'); plt.colorbar()\n",
    "plt.axis('off')\n",
    "#pylab.pcolor(np.vstack([activation]*120),cmap='jet',alpha=0.35)\n",
    "\n",
    "#pylab.colorbar()\n",
    "\n",
    "np.set_printoptions(False)\n",
    "\n",
    "plt.savefig('C:/Users/mozzimerci/jupyter notebook/time/chan/ff/png/pm2.5_grad cam_lstm-rescnn(1).png', dpi=300)"
   ]
  },
  {
   "cell_type": "code",
   "execution_count": 30,
   "id": "f20be116",
   "metadata": {},
   "outputs": [
    {
     "name": "stdout",
     "output_type": "stream",
     "text": [
      "1.0\n",
      "0.0\n",
      "1.0\n",
      "(1, 168, 8)\n"
     ]
    },
    {
     "data": {
      "text/plain": [
       "<Figure size 432x1440 with 0 Axes>"
      ]
     },
     "metadata": {},
     "output_type": "display_data"
    },
    {
     "data": {
      "image/png": "[encoded data removed]",
      "text/plain": [
       "<Figure size 432x288 with 2 Axes>"
      ]
     },
     "metadata": {
      "needs_background": "light"
     },
     "output_type": "display_data"
    }
   ],
   "source": [
    "import matplotlib.pyplot as plt\n",
    "import numpy as np\n",
    "\n",
    "X_test=testX\n",
    "\n",
    "grad_weight = gradient_weight(X_test[4], model)\n",
    "\n",
    "grad_weight_abs = abs(grad_weight)\n",
    "\n",
    "grad_weight_abs_z = (grad_weight_abs-(np.min(grad_weight_abs)))/(np.max(grad_weight_abs)-(np.min(grad_weight_abs)))\n",
    "\n",
    "print(np.max(grad_weight_abs_z))\n",
    "print(np.min(grad_weight_abs_z))\n",
    "print(np.max(grad_weight_abs_z)-np.min(grad_weight_abs_z))\n",
    "#grad_weight=grad_weight.reshape(48,4)\n",
    "\n",
    "print(grad_weight.shape)\n",
    "plt.figure(figsize=(6,20))\n",
    "\n",
    "#plt.plot(X_test[8], 'k')\n",
    "a=grad_weight.numpy()\n",
    "a=a.reshape(168,8)\n",
    "a=a.transpose()\n",
    "\n",
    "#print(a)\n",
    "fig, ax = plt.subplots(1,1)\n",
    "\n",
    "extent = [0 , 168, 0 , 8]\n",
    "y_label_list = [2,4,6,8]\n",
    "x_label_list = [0,24,48,72,96,120,144,168]\n",
    "ax.set_xticks([0,24,48,72,96,120,144,168])\n",
    "\n",
    "ax.set_yticks([24,48,72,96])\n",
    "\n",
    "ax.set_xticklabels(x_label_list)\n",
    "ax.set_yticklabels(y_label_list)\n",
    "\n",
    "ax.set_xticklabels(x_label_list)\n",
    "ax.set_yticklabels(y_label_list)\n",
    "ax.set_ylabel('Feature')\n",
    "ax.set_xlabel('Time Lag')\n",
    "\n",
    "plt.imshow(a,extent = [0 , 168, 0 , 96], vmin=0, vmax=0.5, cmap=\"Blues\", interpolation='nearest')\n",
    "plt.colorbar()\n",
    "\n",
    "plt.savefig('C:/Users/mozzimerci/jupyter notebook/time/chan/ff/png/pm2.5_feature importance_lstm-rescnn(1).png', dpi=300)"
   ]
  },
  {
   "cell_type": "code",
   "execution_count": null,
   "id": "a1172572",
   "metadata": {},
   "outputs": [],
   "source": []
  },
  {
   "cell_type": "code",
   "execution_count": null,
   "id": "f4eb22eb",
   "metadata": {},
   "outputs": [],
   "source": []
  },
  {
   "cell_type": "code",
   "execution_count": null,
   "id": "786bd6bb",
   "metadata": {},
   "outputs": [],
   "source": []
  },
  {
   "cell_type": "code",
   "execution_count": null,
   "id": "cc964585",
   "metadata": {},
   "outputs": [],
   "source": []
  }
 ],
 "metadata": {
  "colab": {
   "collapsed_sections": [],
   "name": "pm2.5 feature importance.ipynb",
   "provenance": []
  },
  "kernelspec": {
   "display_name": "Python 3",
   "language": "python",
   "name": "python3"
  },
  "language_info": {
   "codemirror_mode": {
    "name": "ipython",
    "version": 3
   },
   "file_extension": ".py",
   "mimetype": "text/x-python",
   "name": "python",
   "nbconvert_exporter": "python",
   "pygments_lexer": "ipython3",
   "version": "3.8.8"
  }
 },
 "nbformat": 4,
 "nbformat_minor": 5
}
