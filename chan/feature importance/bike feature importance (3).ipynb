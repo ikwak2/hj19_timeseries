{
 "cells": [
  {
   "cell_type": "markdown",
   "id": "DyAhNSSJ1qC4",
   "metadata": {
    "id": "DyAhNSSJ1qC4"
   },
   "source": [
    "#bike\n"
   ]
  },
  {
   "cell_type": "code",
   "execution_count": 83,
   "id": "ZDsDiL689VNY",
   "metadata": {
    "executionInfo": {
     "elapsed": 2724,
     "status": "ok",
     "timestamp": 1633486367286,
     "user": {
      "displayName": "정찬휘",
      "photoUrl": "https://lh3.googleusercontent.com/a/default-user=s64",
      "userId": "00470938762273561607"
     },
     "user_tz": -540
    },
    "id": "ZDsDiL689VNY"
   },
   "outputs": [],
   "source": [
    "\n",
    "import tensorflow as tf\n",
    "\n",
    "import numpy as np\n",
    "from tensorflow.keras.models import Sequential\n",
    "from tensorflow.keras.layers import LSTM, Bidirectional\n",
    "from tensorflow.keras.layers import Dense\n",
    "import matplotlib.pyplot as plt\n",
    "from sklearn.preprocessing import MinMaxScaler\n",
    "from sklearn.metrics import mean_squared_error\n",
    "from tensorflow.keras.layers import Activation, Dense, Dropout\n",
    "from tensorflow.keras import optimizers\n",
    "from pandas import Series\n",
    "import math\n",
    "import numpy\n",
    "from tensorflow.keras.layers import *\n",
    "from tensorflow.keras import layers\n",
    "import pandas as pd\n",
    "\n",
    "data = pd.read_csv(\"https://raw.githubusercontent.com/ikwak2/hj19_timeseries/main/bike_pm2.5/SeoulBikeData%20(1).csv?token=ATB7FV3LACXEJIJXMV3DQDLBMQM56\")"
   ]
  },
  {
   "cell_type": "code",
   "execution_count": 84,
   "id": "xQlGEgBq9VPh",
   "metadata": {
    "executionInfo": {
     "elapsed": 27,
     "status": "ok",
     "timestamp": 1633486367289,
     "user": {
      "displayName": "정찬휘",
      "photoUrl": "https://lh3.googleusercontent.com/a/default-user=s64",
      "userId": "00470938762273561607"
     },
     "user_tz": -540
    },
    "id": "xQlGEgBq9VPh"
   },
   "outputs": [],
   "source": [
    "data['Holiday']=data['Holiday'].factorize()[0]"
   ]
  },
  {
   "cell_type": "code",
   "execution_count": 85,
   "id": "7TlUv15E9VRt",
   "metadata": {
    "executionInfo": {
     "elapsed": 27,
     "status": "ok",
     "timestamp": 1633486367289,
     "user": {
      "displayName": "정찬휘",
      "photoUrl": "https://lh3.googleusercontent.com/a/default-user=s64",
      "userId": "00470938762273561607"
     },
     "user_tz": -540
    },
    "id": "7TlUv15E9VRt"
   },
   "outputs": [],
   "source": [
    "data['Seasons']=data['Seasons'].factorize()[0]\n",
    "data['Functioning Day']=data['Functioning Day'].factorize()[0]"
   ]
  },
  {
   "cell_type": "code",
   "execution_count": 86,
   "id": "6FxkSurA9VUE",
   "metadata": {
    "colab": {
     "base_uri": "https://localhost:8080/"
    },
    "executionInfo": {
     "elapsed": 27,
     "status": "ok",
     "timestamp": 1633486367290,
     "user": {
      "displayName": "정찬휘",
      "photoUrl": "https://lh3.googleusercontent.com/a/default-user=s64",
      "userId": "00470938762273561607"
     },
     "user_tz": -540
    },
    "id": "6FxkSurA9VUE",
    "outputId": "5722c7f5-ac0f-48ba-9058-10f4fccdb03c"
   },
   "outputs": [
    {
     "data": {
      "text/plain": [
       "0        254\n",
       "1        204\n",
       "2        173\n",
       "3        107\n",
       "4         78\n",
       "        ... \n",
       "8755    1003\n",
       "8756     764\n",
       "8757     694\n",
       "8758     712\n",
       "8759     584\n",
       "Name: Rented Bike Count, Length: 8760, dtype: int64"
      ]
     },
     "execution_count": 86,
     "metadata": {},
     "output_type": "execute_result"
    }
   ],
   "source": [
    "data['Rented Bike Count']"
   ]
  },
  {
   "cell_type": "code",
   "execution_count": 87,
   "id": "eAnh40DV9VWa",
   "metadata": {
    "executionInfo": {
     "elapsed": 14,
     "status": "ok",
     "timestamp": 1633486367290,
     "user": {
      "displayName": "정찬휘",
      "photoUrl": "https://lh3.googleusercontent.com/a/default-user=s64",
      "userId": "00470938762273561607"
     },
     "user_tz": -540
    },
    "id": "eAnh40DV9VWa"
   },
   "outputs": [],
   "source": [
    "data=data.drop(['Hour'],axis=1)"
   ]
  },
  {
   "cell_type": "code",
   "execution_count": 88,
   "id": "79eM7zrc9VYj",
   "metadata": {
    "colab": {
     "base_uri": "https://localhost:8080/"
    },
    "executionInfo": {
     "elapsed": 13,
     "status": "ok",
     "timestamp": 1633486367290,
     "user": {
      "displayName": "정찬휘",
      "photoUrl": "https://lh3.googleusercontent.com/a/default-user=s64",
      "userId": "00470938762273561607"
     },
     "user_tz": -540
    },
    "id": "79eM7zrc9VYj",
    "outputId": "36746a89-b595-4db2-aa39-0479ae658584"
   },
   "outputs": [
    {
     "data": {
      "text/plain": [
       "Index(['Rented Bike Count', 'Temperature', 'Humidity(%)', 'Wind speed (m/s)',\n",
       "       'Visibility (10m)', 'Dew point temperature', 'Solar Radiation (MJ/m2)',\n",
       "       'Rainfall(mm)', 'Snowfall (cm)'],\n",
       "      dtype='object')"
      ]
     },
     "execution_count": 88,
     "metadata": {},
     "output_type": "execute_result"
    }
   ],
   "source": [
    "data.columns[1:-3]"
   ]
  },
  {
   "cell_type": "code",
   "execution_count": 89,
   "id": "CaoBZRtZ9vn9",
   "metadata": {
    "colab": {
     "base_uri": "https://localhost:8080/"
    },
    "executionInfo": {
     "elapsed": 12,
     "status": "ok",
     "timestamp": 1633486367291,
     "user": {
      "displayName": "정찬휘",
      "photoUrl": "https://lh3.googleusercontent.com/a/default-user=s64",
      "userId": "00470938762273561607"
     },
     "user_tz": -540
    },
    "id": "CaoBZRtZ9vn9",
    "outputId": "c2118ce1-84cf-487e-cb36-37e3e9abf1df"
   },
   "outputs": [
    {
     "data": {
      "text/plain": [
       "9"
      ]
     },
     "execution_count": 89,
     "metadata": {},
     "output_type": "execute_result"
    }
   ],
   "source": [
    "cols=data.columns[1:-3] \n",
    "len(cols)"
   ]
  },
  {
   "cell_type": "code",
   "execution_count": 90,
   "id": "wujZa93c9vp0",
   "metadata": {
    "executionInfo": {
     "elapsed": 9,
     "status": "ok",
     "timestamp": 1633486367291,
     "user": {
      "displayName": "정찬휘",
      "photoUrl": "https://lh3.googleusercontent.com/a/default-user=s64",
      "userId": "00470938762273561607"
     },
     "user_tz": -540
    },
    "id": "wujZa93c9vp0"
   },
   "outputs": [],
   "source": [
    "from sklearn.preprocessing import MinMaxScaler\n",
    "values = data[cols].values.reshape(-1,9)\n",
    "values = values.astype('float32')\n",
    "#scaler = MinMaxScaler(feature_range=(0, 1))\n",
    "#scaled=scaler.fit_transform(values)\n",
    "scaled = (values-(np.min(values)))/(np.max(values)-(np.min(values)))\n",
    "#scaled = (values - np.mean(values))/np.std(values) "
   ]
  },
  {
   "cell_type": "code",
   "execution_count": 91,
   "id": "ZPMgKJGb9vr5",
   "metadata": {
    "executionInfo": {
     "elapsed": 14,
     "status": "ok",
     "timestamp": 1633486367669,
     "user": {
      "displayName": "정찬휘",
      "photoUrl": "https://lh3.googleusercontent.com/a/default-user=s64",
      "userId": "00470938762273561607"
     },
     "user_tz": -540
    },
    "id": "ZPMgKJGb9vr5"
   },
   "outputs": [],
   "source": [
    "# fill missing values with a value at the same time one day ago\n",
    "def fill_missing(values):\n",
    "    one_day = 7 * 24\n",
    "    for row in range(values.shape[0]):\n",
    "        for col in range(values.shape[1]):\n",
    "            if values[row,0]==0:\n",
    "                values[row,0] = values[row - one_day,0]"
   ]
  },
  {
   "cell_type": "code",
   "execution_count": 92,
   "id": "iyuzMESv9vuS",
   "metadata": {
    "executionInfo": {
     "elapsed": 14,
     "status": "ok",
     "timestamp": 1633486367669,
     "user": {
      "displayName": "정찬휘",
      "photoUrl": "https://lh3.googleusercontent.com/a/default-user=s64",
      "userId": "00470938762273561607"
     },
     "user_tz": -540
    },
    "id": "iyuzMESv9vuS"
   },
   "outputs": [],
   "source": [
    "fill_missing(values)"
   ]
  },
  {
   "cell_type": "code",
   "execution_count": 93,
   "id": "fBsc1yeE9VbD",
   "metadata": {
    "colab": {
     "base_uri": "https://localhost:8080/"
    },
    "executionInfo": {
     "elapsed": 14,
     "status": "ok",
     "timestamp": 1633486367670,
     "user": {
      "displayName": "정찬휘",
      "photoUrl": "https://lh3.googleusercontent.com/a/default-user=s64",
      "userId": "00470938762273561607"
     },
     "user_tz": -540
    },
    "id": "fBsc1yeE9VbD",
    "outputId": "5f8b535f-025d-494b-e784-ba28874e3fae"
   },
   "outputs": [
    {
     "data": {
      "text/plain": [
       "0"
      ]
     },
     "execution_count": 93,
     "metadata": {},
     "output_type": "execute_result"
    }
   ],
   "source": [
    "sum(pd.DataFrame(values)[0]==0)"
   ]
  },
  {
   "cell_type": "code",
   "execution_count": null,
   "id": "Yb3eWO4H97ws",
   "metadata": {
    "executionInfo": {
     "elapsed": 12,
     "status": "ok",
     "timestamp": 1633486367670,
     "user": {
      "displayName": "정찬휘",
      "photoUrl": "https://lh3.googleusercontent.com/a/default-user=s64",
      "userId": "00470938762273561607"
     },
     "user_tz": -540
    },
    "id": "Yb3eWO4H97ws"
   },
   "outputs": [],
   "source": []
  },
  {
   "cell_type": "code",
   "execution_count": 94,
   "id": "jL8mMzxM97y9",
   "metadata": {
    "colab": {
     "base_uri": "https://localhost:8080/"
    },
    "executionInfo": {
     "elapsed": 13,
     "status": "ok",
     "timestamp": 1633486367671,
     "user": {
      "displayName": "정찬휘",
      "photoUrl": "https://lh3.googleusercontent.com/a/default-user=s64",
      "userId": "00470938762273561607"
     },
     "user_tz": -540
    },
    "id": "jL8mMzxM97y9",
    "outputId": "3a055c6a-d0d7-48c2-8d9b-1c6665f29c0f"
   },
   "outputs": [
    {
     "name": "stdout",
     "output_type": "stream",
     "text": [
      "7008 876 876\n"
     ]
    }
   ],
   "source": [
    "\n",
    "train_size = int(len(scaled) * 0.80)\n",
    "val_size = int(len(scaled) * 0.10)\n",
    "\n",
    "test_size = len(scaled) - train_size-val_size\n",
    "train,val, test = scaled[0:train_size,:],scaled[train_size:train_size+val_size,:], scaled[train_size+val_size:,:]\n",
    "print(len(train),len(val), len(test))"
   ]
  },
  {
   "cell_type": "code",
   "execution_count": 95,
   "id": "-M48YJg-971g",
   "metadata": {
    "executionInfo": {
     "elapsed": 10,
     "status": "ok",
     "timestamp": 1633486367671,
     "user": {
      "displayName": "정찬휘",
      "photoUrl": "https://lh3.googleusercontent.com/a/default-user=s64",
      "userId": "00470938762273561607"
     },
     "user_tz": -540
    },
    "id": "-M48YJg-971g"
   },
   "outputs": [],
   "source": [
    "\n",
    "def create_dataset_multistep(dataset, look_back=1,predict=1):\n",
    "    dataX, dataY = [], []\n",
    "    for i in range(len(dataset) - look_back-predict):\n",
    "        a = dataset[i:(i + look_back)]\n",
    "        dataX.append(a)\n",
    "        dataY.append(dataset[i+ look_back-1: i+ look_back+predict-1, 0])\n",
    "    print(len(dataY))\n",
    "    return np.array(dataX), np.array(dataY)"
   ]
  },
  {
   "cell_type": "code",
   "execution_count": 96,
   "id": "Uf9I_XaP974K",
   "metadata": {
    "colab": {
     "base_uri": "https://localhost:8080/"
    },
    "executionInfo": {
     "elapsed": 10,
     "status": "ok",
     "timestamp": 1633486367671,
     "user": {
      "displayName": "정찬휘",
      "photoUrl": "https://lh3.googleusercontent.com/a/default-user=s64",
      "userId": "00470938762273561607"
     },
     "user_tz": -540
    },
    "id": "Uf9I_XaP974K",
    "outputId": "f1599efd-b8cc-4f9c-fd6c-556297a2cd19"
   },
   "outputs": [
    {
     "name": "stdout",
     "output_type": "stream",
     "text": [
      "6816\n",
      "684\n",
      "684\n"
     ]
    }
   ],
   "source": [
    "look_back = 168\n",
    "predict=24\n",
    "\n",
    "trainX, trainY = create_dataset_multistep(train, look_back,predict)\n",
    "valX, valY = create_dataset_multistep(val, look_back,predict)\n",
    "testX, testY = create_dataset_multistep(test, look_back,predict)"
   ]
  },
  {
   "cell_type": "code",
   "execution_count": 97,
   "id": "u_1ry8uG-BB0",
   "metadata": {
    "executionInfo": {
     "elapsed": 258,
     "status": "ok",
     "timestamp": 1633486367921,
     "user": {
      "displayName": "정찬휘",
      "photoUrl": "https://lh3.googleusercontent.com/a/default-user=s64",
      "userId": "00470938762273561607"
     },
     "user_tz": -540
    },
    "id": "u_1ry8uG-BB0"
   },
   "outputs": [],
   "source": [
    "def gradient_importance(seq, model):\n",
    "\n",
    "    seq = tf.Variable(seq[np.newaxis,:,:], dtype=tf.float32)\n",
    "\n",
    "    with tf.GradientTape() as tape:\n",
    "        predictions = model(seq)\n",
    "\n",
    "    grads = tape.gradient(predictions, seq)\n",
    "    grads = tf.reduce_mean(grads, axis=1).numpy()[0]\n",
    "    \n",
    "    return grads\n",
    "\n",
    "\n",
    "\n",
    "def activation_grad(seq, model):\n",
    "    \n",
    "    seq = seq[np.newaxis,:,:]\n",
    "    grad_model = Model([model.inputs], \n",
    "                       [model.get_layer('extractor').output, \n",
    "                        model.output])\n",
    "\n",
    "    # Obtain the predicted value and the intermediate filters\n",
    "    with tf.GradientTape() as tape:\n",
    "        seq_outputs, predictions = grad_model(seq)\n",
    "\n",
    "    # Extract filters and gradients\n",
    "    output = seq_outputs[0]\n",
    "    grads = tape.gradient(predictions, seq_outputs)[0]\n",
    "\n",
    "    # Average gradients spatially\n",
    "    weights = tf.reduce_mean(grads, axis=0)\n",
    "    \n",
    "    # Get a ponderated map of filters according to grad importance\n",
    "    cam = np.ones(output.shape[0], dtype=np.float32)\n",
    "    for index, w in enumerate(weights):\n",
    "        cam += w * output[:, index]\n",
    "\n",
    "    time = int(seq.shape[1]/output.shape[0])\n",
    "    cam = zoom(cam.numpy(), time, order=1)\n",
    "    heatmap = (cam - cam.min())/(cam.max() - cam.min())\n",
    "    \n",
    "    return heatmap"
   ]
  },
  {
   "cell_type": "code",
   "execution_count": 98,
   "id": "nBv0iPcp-BEJ",
   "metadata": {
    "executionInfo": {
     "elapsed": 5,
     "status": "ok",
     "timestamp": 1633486367922,
     "user": {
      "displayName": "정찬휘",
      "photoUrl": "https://lh3.googleusercontent.com/a/default-user=s64",
      "userId": "00470938762273561607"
     },
     "user_tz": -540
    },
    "id": "nBv0iPcp-BEJ"
   },
   "outputs": [],
   "source": [
    "class CharacterTable(object):\n",
    "    def __init__(self, chars):\n",
    "        \"\"\"Initialize character table.\n",
    "        # Arguments\n",
    "            chars: Characters that can appear in the input.\n",
    "        \"\"\"\n",
    "        self.chars = sorted(set(chars))\n",
    "        self.char_indices = dict((c, i) for i, c in enumerate(self.chars))\n",
    "        self.indices_char = dict((i, c) for i, c in enumerate(self.chars))\n",
    "\n",
    "    def encode(self, C, num_rows):\n",
    "        \"\"\"One hot encode given string C.\n",
    "        # Arguments\n",
    "            num_rows: Number of rows in the returned one hot encoding. This is\n",
    "                used to keep the # of rows for each data the same.\n",
    "        \"\"\"\n",
    "        x = np.zeros((num_rows, len(self.chars)))\n",
    "        for i, c in enumerate(C):\n",
    "            x[i, self.char_indices[c]] = 1\n",
    "        return x\n",
    "\n",
    "    def decode(self, x, calc_argmax=True):\n",
    "        if calc_argmax:\n",
    "            x = x.argmax(axis=-1)\n",
    "        return ''.join(self.indices_char[x] for x in x)"
   ]
  },
  {
   "cell_type": "code",
   "execution_count": 99,
   "id": "63f903a8",
   "metadata": {},
   "outputs": [],
   "source": [
    "from tensorflow.keras.models import Model"
   ]
  },
  {
   "cell_type": "markdown",
   "id": "ELjbTRKu1qFK",
   "metadata": {
    "id": "ELjbTRKu1qFK"
   },
   "source": [
    "cnn-lstm"
   ]
  },
  {
   "cell_type": "code",
   "execution_count": 100,
   "id": "x7-VO8oF2Tfo",
   "metadata": {
    "executionInfo": {
     "elapsed": 902,
     "status": "ok",
     "timestamp": 1633486368820,
     "user": {
      "displayName": "정찬휘",
      "photoUrl": "https://lh3.googleusercontent.com/a/default-user=s64",
      "userId": "00470938762273561607"
     },
     "user_tz": -540
    },
    "id": "x7-VO8oF2Tfo"
   },
   "outputs": [],
   "source": [
    "first_input = Input(shape=(168,9))\n",
    "\n",
    "in1=Conv1D(filters=64, kernel_size=3, activation='relu',padding='same')(first_input)\n",
    "#in1= BatchNormalization(scale=False)(in1)\n",
    "\n",
    "#in0=Conv1D(filters=64, kernel_size=3, activation='relu',padding='same')(in1)\n",
    "#in0= BatchNormalization(scale=False)(in0)\n",
    "in1=Conv1D(filters=64, kernel_size=2, activation='relu',padding='same')(in1)\n",
    "\n",
    "in1=Conv1D(filters=64, kernel_size=1, activation='relu',padding='same')(in1)\n",
    "in1=Conv1D(filters=64, kernel_size=3, activation='relu',padding='same')(in1)\n",
    "#in1= BatchNormalization(scale=False)(in1)\n",
    "\n",
    "#in0=Conv1D(filters=64, kernel_size=3, activation='relu',padding='same')(in1)\n",
    "#in0= BatchNormalization(scale=False)(in0)\n",
    "in1=Conv1D(filters=64, kernel_size=2, activation='relu',padding='same')(in1)\n",
    "\n",
    "in1=Conv1D(filters=64, kernel_size=1, activation='relu',padding='same')(in1)\n",
    "\n",
    "    # Concat attention input and LSTM output, in original code it was decoder LSTM\n",
    "#concat_out = Concatenate(axis=-1, name='concat_layer')([in1, attn_out])\n",
    "in1=MaxPooling1D(pool_size=2, name='extractor')(in1)\n",
    "#in1=Flatten()(in1)\n",
    "#in1=Dense(100, activation='relu')(in1)\n",
    "in1=LSTM(100, return_sequences=False)(in1)\n",
    "#in1=RepeatVector(24)(in1)\n",
    "#in1=LSTM(50, return_sequences=True)(in1)\n",
    "#in1=Dropout(0.3)(in1)\n",
    "in1=Dense(100)(in1)\n",
    "#in1=RepeatVector(24)(in1)\n",
    "\n",
    "in1=Dropout(0.3)(in1)\n",
    "out=Dense(24)(in1)\n",
    "model=tf.keras.Model(inputs=[first_input],outputs=[out])\n",
    "model.compile(optimizer='adam', loss='mse')\n",
    "\n",
    "checkpoint_path = \"C:/Users/mozzimerci/jupyter notebook/time/chan/ff/saved_weights/bike_1cnnlstm.hdf5\"\n",
    "cb = tf.keras.callbacks.ModelCheckpoint(filepath=checkpoint_path,\n",
    "                                                 save_best_only=True,\n",
    "                                        monitor='val_loss',mode='min',\n",
    "                                                 verbose=1)\n",
    "\n",
    "#history=model.fit(trainX, trainY, epochs=30, batch_size=100, validation_data=(valX, valY), verbose=1, callbacks=[cb])"
   ]
  },
  {
   "cell_type": "code",
   "execution_count": 101,
   "id": "7ah-SGxx2Thw",
   "metadata": {
    "executionInfo": {
     "elapsed": 3,
     "status": "ok",
     "timestamp": 1633486368821,
     "user": {
      "displayName": "정찬휘",
      "photoUrl": "https://lh3.googleusercontent.com/a/default-user=s64",
      "userId": "00470938762273561607"
     },
     "user_tz": -540
    },
    "id": "7ah-SGxx2Thw"
   },
   "outputs": [],
   "source": [
    "model.load_weights(\"C:/Users/mozzimerci/jupyter notebook/time/chan/ff/saved_weights/bike_1cnnlstm.hdf5\")"
   ]
  },
  {
   "cell_type": "code",
   "execution_count": 102,
   "id": "9fc3f784",
   "metadata": {},
   "outputs": [],
   "source": [
    "SMALL_SIZE = 20\n",
    "MEDIUM_SIZE = 23\n",
    "BIGGER_SIZE = 25\n",
    "\n",
    "plt.rc('font', size=SMALL_SIZE) # controls default text sizes\n",
    "plt.rc('axes', titlesize=SMALL_SIZE) # fontsize of the axes title\n",
    "plt.rc('axes', labelsize=MEDIUM_SIZE) # fontsize of the x and y labels\n",
    "plt.rc('xtick', labelsize=SMALL_SIZE) # fontsize of the tick labels\n",
    "plt.rc('ytick', labelsize=SMALL_SIZE) # fontsize of the tick labels\n",
    "plt.rc('legend', fontsize=MEDIUM_SIZE) # legend fontsize\n",
    "plt.rc('figure', titlesize=BIGGER_SIZE) # fontsize of the figure title"
   ]
  },
  {
   "cell_type": "code",
   "execution_count": 103,
   "id": "75c4add8",
   "metadata": {},
   "outputs": [],
   "source": [
    "id_=24*24+12\n",
    "\n",
    "testX_inverse=X_test[id_][:,0]*(np.max(values)-np.min(values))+np.min(values)"
   ]
  },
  {
   "cell_type": "code",
   "execution_count": 104,
   "id": "171b7cb8",
   "metadata": {
    "scrolled": true
   },
   "outputs": [
    {
     "name": "stdout",
     "output_type": "stream",
     "text": [
      "[0. 0. 0. 0. 0. 1. 1. 1. 0. 0. 1. 1. 0. 1. 1. 1. 1. 1. 0. 0. 0. 0. 0. 0.\n",
      " 0. 0. 0. 1. 1. 1. 1. 1. 0. 0. 1. 1. 1. 1. 1. 1. 1. 1. 0. 0. 0. 0. 0. 0.\n",
      " 0. 0. 0. 0. 0. 0. 1. 1. 0. 0. 1. 1. 1. 1. 1. 1. 1. 1. 0. 0. 0. 0. 0. 0.\n",
      " 0. 0. 0. 0. 1. 1. 1. 1. 0. 0. 0. 1. 1. 1. 1. 1. 1. 1. 0. 0. 0. 0. 1. 1.\n",
      " 1. 0. 0. 0. 1. 1. 1. 1. 0. 0. 0. 1. 1. 1. 1. 1. 1. 1. 0. 0. 0. 1. 1. 1.\n",
      " 1. 1. 0. 0. 0. 0. 0. 0. 0. 0. 0. 0. 0. 0. 0. 0. 0. 0. 0. 0. 0. 0. 0. 0.\n",
      " 0. 0. 0. 0. 0. 0. 0. 0. 0. 0. 0. 0. 0. 0. 0. 0. 0. 0. 0. 0. 0. 0. 0. 1.]\n"
     ]
    },
    {
     "data": {
      "image/png": "[encoded data removed]",
      "text/plain": [
       "<Figure size 1080x360 with 3 Axes>"
      ]
     },
     "metadata": {
      "needs_background": "light"
     },
     "output_type": "display_data"
    }
   ],
   "source": [
    "from scipy.ndimage import zoom\n",
    "import random\n",
    "import pylab\n",
    "\n",
    "#id_=24*20\n",
    "\n",
    "\n",
    "X_test=testX.copy()\n",
    "activation = activation_grad(X_test[id_], model)\n",
    "print(activation)\n",
    "plt.figure(figsize=(15,5))\n",
    "\n",
    "plt.plot(testX_inverse,'k')\n",
    "#plt.plot(X_test[id_])\n",
    "#plt.plot(yhat, label='predict')\n",
    "#plt.plot(testY, label='true')\n",
    "plt.ylabel('Rented Bike Count'); plt.xlabel('time lags'); #plt.title(pd.to_datetime(test_date[sequence_length+id_]))\n",
    "plt.twinx()\n",
    "#plt.xticks(a)\n",
    "plt.imshow(np.vstack([activation]*120), alpha=0.5, cmap='viridis')\n",
    "plt.axis('off'); plt.colorbar()\n",
    "plt.axis('off')\n",
    "#pylab.pcolor(np.vstack([activation]*120),cmap='jet',alpha=0.35)\n",
    "\n",
    "#pylab.colorbar()\n",
    "\n",
    "plt.savefig('C:/Users/mozzimerci/jupyter notebook/time/chan/ff/png1/bike_grad cam_cnn-lstm.png', dpi=300)"
   ]
  },
  {
   "cell_type": "code",
   "execution_count": 114,
   "id": "eb866d62",
   "metadata": {},
   "outputs": [
    {
     "name": "stdout",
     "output_type": "stream",
     "text": [
      "(1, 168, 9)\n"
     ]
    },
    {
     "data": {
      "text/plain": [
       "<Figure size 432x1440 with 0 Axes>"
      ]
     },
     "metadata": {},
     "output_type": "display_data"
    },
    {
     "data": {
      "image/png": "[encoded data removed]",
      "text/plain": [
       "<Figure size 432x288 with 2 Axes>"
      ]
     },
     "metadata": {
      "needs_background": "light"
     },
     "output_type": "display_data"
    }
   ],
   "source": [
    "import matplotlib.pyplot as plt\n",
    "import numpy as np\n",
    "\n",
    "X_test=testX\n",
    "\n",
    "grad_weight = gradient_weight(X_test[4], model)\n",
    "\n",
    "grad_weight_abs = abs(grad_weight)\n",
    "\n",
    "grad_weight_abs_z = (grad_weight_abs-(np.min(grad_weight_abs)))/(np.max(grad_weight_abs)-(np.min(grad_weight_abs)))\n",
    "#grad_weight=grad_weight.reshape(48,4)\n",
    "\n",
    "print(grad_weight_abs_z.shape)\n",
    "plt.figure(figsize=(6,20))\n",
    "\n",
    "#plt.plot(X_test[8], 'k')\n",
    "a=grad_weight_abs_z.numpy()\n",
    "a=a.reshape(168,9)\n",
    "a=a.transpose()\n",
    "\n",
    "#print(a)\n",
    "fig, ax = plt.subplots(1,1)\n",
    "\n",
    "extent = [0 , 168, 0 , 9]\n",
    "y_label_list = [1,3,5,7,9]\n",
    "x_label_list = [0,24,48,72,96,120,144,168]\n",
    "ax.set_xticks([0,24,48,72,96,120,144,168])\n",
    "\n",
    "ax.set_yticks([10,30,50,70,90])\n",
    "\n",
    "ax.set_xticklabels(x_label_list)\n",
    "ax.set_yticklabels(y_label_list)\n",
    "\n",
    "ax.set_xticklabels(x_label_list)\n",
    "ax.set_yticklabels(y_label_list)\n",
    "ax.set_ylabel('Feature')\n",
    "ax.set_xlabel('Time Lag')\n",
    "\n",
    "plt.imshow(a,extent = [0 , 168, 0 , 90], vmin=0, vmax=0.5, cmap=\"Blues\", interpolation='nearest')\n",
    "plt.colorbar()\n",
    "\n",
    "plt.savefig('C:/Users/mozzimerci/jupyter notebook/time/chan/ff/png/bike_feature importance_cnn-lstm(1).png')"
   ]
  },
  {
   "cell_type": "markdown",
   "id": "4llG17oX1qHl",
   "metadata": {
    "id": "4llG17oX1qHl"
   },
   "source": [
    "lstm-cnn"
   ]
  },
  {
   "cell_type": "code",
   "execution_count": 118,
   "id": "hLQAWWzQ2Tyv",
   "metadata": {
    "colab": {
     "base_uri": "https://localhost:8080/"
    },
    "executionInfo": {
     "elapsed": 238,
     "status": "ok",
     "timestamp": 1633486369826,
     "user": {
      "displayName": "정찬휘",
      "photoUrl": "https://lh3.googleusercontent.com/a/default-user=s64",
      "userId": "00470938762273561607"
     },
     "user_tz": -540
    },
    "id": "hLQAWWzQ2Tyv",
    "outputId": "1b822cc0-fa88-4ba0-93c6-efb707ae95d6"
   },
   "outputs": [
    {
     "name": "stdout",
     "output_type": "stream",
     "text": [
      "Model: \"functional_41\"\n",
      "_________________________________________________________________\n",
      "Layer (type)                 Output Shape              Param #   \n",
      "=================================================================\n",
      "input_11 (InputLayer)        [(None, 168, 9)]          0         \n",
      "_________________________________________________________________\n",
      "lstm_10 (LSTM)               (None, 168, 64)           18944     \n",
      "_________________________________________________________________\n",
      "conv1d_58 (Conv1D)           (None, 168, 64)           12352     \n",
      "_________________________________________________________________\n",
      "conv1d_59 (Conv1D)           (None, 168, 64)           8256      \n",
      "_________________________________________________________________\n",
      "conv1d_60 (Conv1D)           (None, 168, 64)           4160      \n",
      "_________________________________________________________________\n",
      "conv1d_61 (Conv1D)           (None, 168, 64)           12352     \n",
      "_________________________________________________________________\n",
      "conv1d_62 (Conv1D)           (None, 168, 64)           8256      \n",
      "_________________________________________________________________\n",
      "extractor (Conv1D)           (None, 168, 64)           4160      \n",
      "_________________________________________________________________\n",
      "flatten_6 (Flatten)          (None, 10752)             0         \n",
      "_________________________________________________________________\n",
      "dropout_10 (Dropout)         (None, 10752)             0         \n",
      "_________________________________________________________________\n",
      "dense_14 (Dense)             (None, 24)                258072    \n",
      "=================================================================\n",
      "Total params: 326,552\n",
      "Trainable params: 326,552\n",
      "Non-trainable params: 0\n",
      "_________________________________________________________________\n"
     ]
    }
   ],
   "source": [
    "first_input = Input(shape=(168,9))\n",
    "\n",
    "\n",
    "in0=LSTM(64,return_sequences=True)(first_input)\n",
    "#in1=add([first_input,in0])\n",
    "in0=Conv1D(filters=64, kernel_size=3, activation='relu',padding='same')(in0)\n",
    "#in1= BatchNormalization(scale=False)(in0)\n",
    "\n",
    "in1=Conv1D(filters=64, kernel_size=2, activation='relu',padding='same')(in0)\n",
    "#in1= BatchNormalization(scale=False)(in1)\n",
    "#in1=Conv1D(filters=64, kernel_size=3, activation='relu',padding='same')(in0)\n",
    "\n",
    "in1=Conv1D(filters=64, kernel_size=1, activation='relu',padding='same')(in1)\n",
    "#in1= BatchNormalization(scale=False)(in1)\n",
    "\n",
    "\n",
    "#ad=Dropout(0.5)(ad)\n",
    "#in0=LSTM(64,return_sequences=True)(ad)\n",
    "#in1=add([first_input,in0])\n",
    "in0=Conv1D(filters=64, kernel_size=3, activation='relu',padding='same')(in1)\n",
    "#in1= BatchNormalization(scale=False)(in0)\n",
    "\n",
    "in1=Conv1D(filters=64, kernel_size=2, activation='relu',padding='same')(in0)\n",
    "#in1= BatchNormalization(scale=False)(in1)\n",
    "#in1=Conv1D(filters=64, kernel_size=3, activation='relu',padding='same')(in0)\n",
    "\n",
    "in1=Conv1D(filters=64, kernel_size=1, activation='relu',padding='same',name='extractor')(in1)\n",
    "#in1= BatchNormalization(scale=False)(in1)\n",
    "\n",
    "\n",
    "\n",
    "\n",
    "in1=Flatten()(in1)\n",
    "#in1=Dense(100, activation='relu')(in1)\n",
    "in1=Dropout(0.5)(in1)\n",
    "\n",
    "out=Dense(24,'relu')(in1)\n",
    "model=tf.keras.Model(inputs=[first_input],outputs=[out])\n",
    "model.compile(optimizer='adam', loss='mse')\n",
    "\n",
    "model.summary()\n",
    "\n",
    "checkpoint_path = \"C:/Users/mozzimerci/jupyter notebook/time/chan/ff/saved_weights/bike_lstmcnn_multi.hdf5\"\n",
    "cb = tf.keras.callbacks.ModelCheckpoint(filepath=checkpoint_path,\n",
    "                                                 save_best_only=True,\n",
    "                                        monitor='val_loss',mode='min',\n",
    "                                                 verbose=1)\n",
    "\n",
    "#history=model.fit(trainX, trainY,validation_data=[valX,valY],epochs=30, verbose=1, callbacks=[cb])"
   ]
  },
  {
   "cell_type": "code",
   "execution_count": 119,
   "id": "41L4PEIK2T0d",
   "metadata": {
    "executionInfo": {
     "elapsed": 2,
     "status": "ok",
     "timestamp": 1633486369827,
     "user": {
      "displayName": "정찬휘",
      "photoUrl": "https://lh3.googleusercontent.com/a/default-user=s64",
      "userId": "00470938762273561607"
     },
     "user_tz": -540
    },
    "id": "41L4PEIK2T0d"
   },
   "outputs": [],
   "source": [
    "model.load_weights('C:/Users/mozzimerci/jupyter notebook/time/chan/ff/saved_weights/bike_lstmcnn_multi.hdf5')"
   ]
  },
  {
   "cell_type": "code",
   "execution_count": 123,
   "id": "24affa55",
   "metadata": {},
   "outputs": [
    {
     "name": "stdout",
     "output_type": "stream",
     "text": [
      "[0. 0. 0. 0. 0. 0. 0. 0. 0. 0. 0. 0. 0. 0. 0. 0. 0. 1. 1. 1. 1. 1. 1. 0.\n",
      " 0. 0. 0. 0. 0. 0. 0. 0. 0. 0. 0. 0. 0. 0. 0. 0. 0. 0. 1. 1. 1. 1. 0. 0.\n",
      " 0. 0. 0. 0. 0. 0. 0. 0. 0. 0. 0. 0. 0. 0. 0. 0. 0. 0. 0. 0. 0. 0. 0. 0.\n",
      " 0. 0. 0. 0. 0. 0. 0. 0. 0. 0. 0. 0. 0. 0. 0. 0. 0. 0. 0. 0. 0. 0. 0. 0.\n",
      " 0. 0. 0. 0. 0. 0. 0. 0. 0. 0. 0. 0. 0. 0. 0. 0. 0. 0. 0. 0. 0. 0. 0. 0.\n",
      " 0. 0. 0. 0. 0. 0. 0. 0. 0. 0. 0. 0. 0. 0. 0. 0. 0. 0. 0. 0. 0. 0. 0. 0.\n",
      " 0. 0. 0. 0. 0. 0. 0. 0. 0. 0. 0. 0. 0. 0. 0. 0. 0. 0. 0. 0. 0. 0. 0. 0.]\n"
     ]
    },
    {
     "data": {
      "image/png": "[encoded data removed]",
      "text/plain": [
       "<Figure size 1080x360 with 3 Axes>"
      ]
     },
     "metadata": {
      "needs_background": "light"
     },
     "output_type": "display_data"
    }
   ],
   "source": [
    "from scipy.ndimage import zoom\n",
    "import random\n",
    "import pylab\n",
    "\n",
    "#id_=24*20\n",
    "\n",
    "\n",
    "X_test=testX.copy()\n",
    "activation = activation_grad(X_test[id_], model)\n",
    "print(activation)\n",
    "plt.figure(figsize=(15,5))\n",
    "\n",
    "plt.plot(testX_inverse,'k')\n",
    "#plt.plot(X_test[id_])\n",
    "#plt.plot(yhat, label='predict')\n",
    "#plt.plot(testY, label='true')\n",
    "plt.ylabel('Rented Bike Count'); plt.xlabel('time lags'); #plt.title(pd.to_datetime(test_date[sequence_length+id_]))\n",
    "plt.twinx()\n",
    "#plt.xticks(a)\n",
    "plt.imshow(np.vstack([activation]*120), alpha=0.5, cmap='viridis')\n",
    "plt.axis('off'); plt.colorbar()\n",
    "plt.axis('off')\n",
    "#pylab.pcolor(np.vstack([activation]*120),cmap='jet',alpha=0.35)\n",
    "\n",
    "#pylab.colorbar()\n",
    "\n",
    "plt.savefig('C:/Users/mozzimerci/jupyter notebook/time/chan/ff/png1/bike_grad cam_lstm-cnn.png', dpi=300)"
   ]
  },
  {
   "cell_type": "code",
   "execution_count": 119,
   "id": "c5dd5668",
   "metadata": {},
   "outputs": [
    {
     "name": "stdout",
     "output_type": "stream",
     "text": [
      "(1, 168, 9)\n"
     ]
    },
    {
     "data": {
      "text/plain": [
       "<Figure size 432x1440 with 0 Axes>"
      ]
     },
     "metadata": {},
     "output_type": "display_data"
    },
    {
     "data": {
      "image/png": "[encoded data removed]",
      "text/plain": [
       "<Figure size 432x288 with 2 Axes>"
      ]
     },
     "metadata": {
      "needs_background": "light"
     },
     "output_type": "display_data"
    }
   ],
   "source": [
    "import matplotlib.pyplot as plt\n",
    "import numpy as np\n",
    "\n",
    "X_test=testX\n",
    "\n",
    "grad_weight = gradient_weight(X_test[4], model)\n",
    "\n",
    "grad_weight_abs = abs(grad_weight)\n",
    "\n",
    "grad_weight_abs_z = (grad_weight_abs-(np.min(grad_weight_abs)))/(np.max(grad_weight_abs)-(np.min(grad_weight_abs)))\n",
    "#grad_weight=grad_weight.reshape(48,4)\n",
    "\n",
    "print(grad_weight_abs_z.shape)\n",
    "plt.figure(figsize=(6,20))\n",
    "\n",
    "#plt.plot(X_test[8], 'k')\n",
    "a=grad_weight_abs_z.numpy()\n",
    "a=a.reshape(168,9)\n",
    "a=a.transpose()\n",
    "\n",
    "#print(a)\n",
    "fig, ax = plt.subplots(1,1)\n",
    "\n",
    "extent = [0 , 168, 0 , 9]\n",
    "y_label_list = [1,3,5,7,9]\n",
    "x_label_list = [0,24,48,72,96,120,144,168]\n",
    "ax.set_xticks([0,24,48,72,96,120,144,168])\n",
    "\n",
    "ax.set_yticks([10,30,50,70,90])\n",
    "\n",
    "ax.set_xticklabels(x_label_list)\n",
    "ax.set_yticklabels(y_label_list)\n",
    "\n",
    "ax.set_xticklabels(x_label_list)\n",
    "ax.set_yticklabels(y_label_list)\n",
    "ax.set_ylabel('Feature')\n",
    "ax.set_xlabel('Time Lag')\n",
    "\n",
    "plt.imshow(a,extent = [0 , 168, 0 , 90], vmin=0, vmax=0.5, cmap=\"Blues\", interpolation='nearest')\n",
    "plt.colorbar()\n",
    "\n",
    "plt.savefig('C:/Users/mozzimerci/jupyter notebook/time/chan/ff/png/bike_feature importance_lstm-cnn(1).png')"
   ]
  },
  {
   "cell_type": "markdown",
   "id": "Er-SDgcy1qJ0",
   "metadata": {
    "id": "Er-SDgcy1qJ0"
   },
   "source": [
    "lstm-rescnn"
   ]
  },
  {
   "cell_type": "code",
   "execution_count": 112,
   "id": "IE-TZG_02UGH",
   "metadata": {
    "colab": {
     "base_uri": "https://localhost:8080/"
    },
    "executionInfo": {
     "elapsed": 782,
     "status": "ok",
     "timestamp": 1633486371312,
     "user": {
      "displayName": "정찬휘",
      "photoUrl": "https://lh3.googleusercontent.com/a/default-user=s64",
      "userId": "00470938762273561607"
     },
     "user_tz": -540
    },
    "id": "IE-TZG_02UGH",
    "outputId": "8fab2968-d92c-4739-feeb-ce5c24718473"
   },
   "outputs": [
    {
     "name": "stdout",
     "output_type": "stream",
     "text": [
      "Model: \"functional_33\"\n",
      "__________________________________________________________________________________________________\n",
      "Layer (type)                    Output Shape         Param #     Connected to                     \n",
      "==================================================================================================\n",
      "input_9 (InputLayer)            [(None, 168, 9)]     0                                            \n",
      "__________________________________________________________________________________________________\n",
      "lstm_8 (LSTM)                   (None, 168, 64)      18944       input_9[0][0]                    \n",
      "__________________________________________________________________________________________________\n",
      "conv1d_47 (Conv1D)              (None, 168, 64)      12352       lstm_8[0][0]                     \n",
      "__________________________________________________________________________________________________\n",
      "conv1d_48 (Conv1D)              (None, 168, 64)      8256        conv1d_47[0][0]                  \n",
      "__________________________________________________________________________________________________\n",
      "conv1d_49 (Conv1D)              (None, 168, 64)      4160        conv1d_48[0][0]                  \n",
      "__________________________________________________________________________________________________\n",
      "extractor1 (Add)                (None, 168, 64)      0           conv1d_47[0][0]                  \n",
      "                                                                 conv1d_49[0][0]                  \n",
      "__________________________________________________________________________________________________\n",
      "conv1d_50 (Conv1D)              (None, 168, 64)      12352       extractor1[0][0]                 \n",
      "__________________________________________________________________________________________________\n",
      "conv1d_51 (Conv1D)              (None, 168, 64)      8256        conv1d_50[0][0]                  \n",
      "__________________________________________________________________________________________________\n",
      "conv1d_52 (Conv1D)              (None, 168, 64)      4160        conv1d_51[0][0]                  \n",
      "__________________________________________________________________________________________________\n",
      "extractor (Add)                 (None, 168, 64)      0           conv1d_50[0][0]                  \n",
      "                                                                 conv1d_52[0][0]                  \n",
      "__________________________________________________________________________________________________\n",
      "flatten_4 (Flatten)             (None, 10752)        0           extractor[0][0]                  \n",
      "__________________________________________________________________________________________________\n",
      "dropout_8 (Dropout)             (None, 10752)        0           flatten_4[0][0]                  \n",
      "__________________________________________________________________________________________________\n",
      "dense_12 (Dense)                (None, 24)           258072      dropout_8[0][0]                  \n",
      "==================================================================================================\n",
      "Total params: 326,552\n",
      "Trainable params: 326,552\n",
      "Non-trainable params: 0\n",
      "__________________________________________________________________________________________________\n"
     ]
    }
   ],
   "source": [
    "first_input = Input(shape=(168,9))\n",
    "\n",
    "\n",
    "in0=LSTM(64,return_sequences=True)(first_input)\n",
    "#in1=add([first_input,in0])\n",
    "in0=Conv1D(filters=64, kernel_size=3, activation='relu',padding='same')(in0)\n",
    "#in1= BatchNormalization(scale=False)(in0)\n",
    "\n",
    "in1=Conv1D(filters=64, kernel_size=2, activation='relu',padding='same')(in0)\n",
    "#in1= BatchNormalization(scale=False)(in1)\n",
    "#in1=Conv1D(filters=64, kernel_size=3, activation='relu',padding='same')(in0)\n",
    "\n",
    "in1=Conv1D(filters=64, kernel_size=1, activation='relu',padding='same')(in1)\n",
    "#in1= BatchNormalization(scale=False)(in1)\n",
    "\n",
    "in1=add([in0,in1],name='extractor1')\n",
    "\n",
    "#ad=Dropout(0.5)(ad)\n",
    "#in0=LSTM(64,return_sequences=True)(ad)\n",
    "#in1=add([first_input,in0])\n",
    "in0=Conv1D(filters=64, kernel_size=3, activation='relu',padding='same')(in1)\n",
    "#in1= BatchNormalization(scale=False)(in0)\n",
    "\n",
    "in1=Conv1D(filters=64, kernel_size=2, activation='relu',padding='same')(in0)\n",
    "#in1= BatchNormalization(scale=False)(in1)\n",
    "#in1=Conv1D(filters=64, kernel_size=3, activation='relu',padding='same')(in0)\n",
    "\n",
    "in1=Conv1D(filters=64, kernel_size=1, activation='relu',padding='same')(in1)\n",
    "#in1= BatchNormalization(scale=False)(in1)\n",
    "\n",
    "#ad1=add([in0,in1])\n",
    "\n",
    "\n",
    "#in0=Conv1D(filters=64, kernel_size=3, activation='relu',padding='same')(ad1)\n",
    "#in1= BatchNormalization(scale=False)(in0)\n",
    "\n",
    "#in1=Conv1D(filters=64, kernel_size=3, activation='relu',padding='same')(in0)\n",
    "#in1= BatchNormalization(scale=False)(in1)\n",
    "#in1=Conv1D(filters=64, kernel_size=3, activation='relu',padding='same')(in0)\n",
    "\n",
    "#in1=Conv1D(filters=64, kernel_size=1, activation='relu',padding='same')(in1)\n",
    "#in1= BatchNormalization(scale=False)(in1)\n",
    "\n",
    "#in1=add([ad1,in1],name='extractor2')\n",
    "#in0=Conv1D(filters=64, kernel_size=5, activation='relu',padding='same')(in1)\n",
    "#in1= BatchNormalization(scale=False)(in0)\n",
    "\n",
    "#in1=Conv1D(filters=64, kernel_size=3, activation='relu',padding='same')(in0)\n",
    "#in1= BatchNormalization(scale=False)(in1)\n",
    "#in1=Conv1D(filters=64, kernel_size=3, activation='relu',padding='same')(in0)\n",
    "\n",
    "#in1=Conv1D(filters=64, kernel_size=1, activation='relu',padding='same')(in1)\n",
    "#in1= BatchNormalization(scale=False)(in1)\n",
    "\n",
    "in1=add([in0,in1],name='extractor')\n",
    "\n",
    "#attn_layer = AttentionLayer(name='attention_layer')\n",
    "#attn_out, attn_states = attn_layer([in1,in1])\n",
    "\n",
    "    # Concat attention input and LSTM output, in original code it was decoder LSTM\n",
    "#concat_out = Concatenate(axis=-1, name='concat_layer')([in1, attn_out])\n",
    "#in1=MaxPooling1D(pool_sizaae=2, name='extractor')(in1)\n",
    "in1=Flatten()(in1)\n",
    "#in1=Dense(100, activation='relu')(in1)\n",
    "\n",
    "in1=Dropout(0.5)(in1)\n",
    "out=Dense(24,'relu')(in1)\n",
    "model=tf.keras.Model(inputs=[first_input],outputs=[out])\n",
    "model.compile(optimizer='adam', loss='mse')\n",
    "\n",
    "model.summary()\n",
    "\n",
    "checkpoint_path = \"C:/Users/mozzimerci/jupyter notebook/time/chan/ff/saved_weights/bike_reslstmcnn_multi1.hdf5\"\n",
    "cb = tf.keras.callbacks.ModelCheckpoint(filepath=checkpoint_path,\n",
    "                                                 save_best_only=False,\n",
    "                                        monitor='val_loss',mode='min',\n",
    "                                                 verbose=1)\n",
    "\n",
    "#history=model.fit(trainX, trainY,validation_data=[valX,valY],epochs=30, verbose=1,callbacks=[cb])"
   ]
  },
  {
   "cell_type": "code",
   "execution_count": 113,
   "id": "kjleHQeT2UIY",
   "metadata": {
    "executionInfo": {
     "elapsed": 2,
     "status": "ok",
     "timestamp": 1633486371312,
     "user": {
      "displayName": "정찬휘",
      "photoUrl": "https://lh3.googleusercontent.com/a/default-user=s64",
      "userId": "00470938762273561607"
     },
     "user_tz": -540
    },
    "id": "kjleHQeT2UIY"
   },
   "outputs": [],
   "source": [
    "model.load_weights('C:/Users/mozzimerci/jupyter notebook/time/chan/ff/saved_weights/bike_reslstmcnn_multi2.hdf5')"
   ]
  },
  {
   "cell_type": "code",
   "execution_count": 115,
   "id": "e8bf4ebf",
   "metadata": {},
   "outputs": [
    {
     "name": "stdout",
     "output_type": "stream",
     "text": [
      "[0. 0. 0. 0. 0. 0. 0. 1. 1. 0. 0. 0. 0. 0. 0. 0. 0. 1. 1. 0. 0. 0. 0. 0.\n",
      " 0. 0. 0. 0. 0. 0. 0. 0. 0. 0. 0. 0. 0. 0. 0. 0. 0. 0. 0. 0. 0. 0. 0. 0.\n",
      " 0. 0. 0. 0. 0. 0. 0. 1. 1. 0. 0. 0. 0. 0. 0. 0. 0. 0. 0. 0. 0. 0. 0. 0.\n",
      " 0. 0. 0. 0. 0. 0. 0. 0. 0. 0. 0. 0. 0. 0. 0. 0. 0. 0. 0. 0. 0. 0. 0. 0.\n",
      " 0. 0. 0. 0. 0. 0. 0. 0. 0. 0. 0. 0. 0. 0. 0. 0. 0. 0. 0. 0. 0. 0. 0. 0.\n",
      " 0. 0. 0. 0. 0. 0. 0. 0. 0. 0. 0. 0. 0. 0. 0. 0. 0. 0. 0. 0. 0. 0. 0. 0.\n",
      " 0. 0. 0. 0. 0. 0. 0. 0. 0. 0. 0. 0. 0. 0. 0. 0. 0. 0. 0. 0. 0. 0. 0. 0.]\n"
     ]
    },
    {
     "data": {
      "image/png": "[encoded data removed]",
      "text/plain": [
       "<Figure size 1080x360 with 3 Axes>"
      ]
     },
     "metadata": {
      "needs_background": "light"
     },
     "output_type": "display_data"
    }
   ],
   "source": [
    "\n",
    "from scipy.ndimage import zoom\n",
    "import random\n",
    "import pylab\n",
    "\n",
    "#id_=24*20\n",
    "\n",
    "\n",
    "X_test=testX.copy()\n",
    "activation = activation_grad(X_test[id_], model)\n",
    "print(activation)\n",
    "plt.figure(figsize=(15,5))\n",
    "\n",
    "plt.plot(testX_inverse,'k')\n",
    "#plt.plot(X_test[id_])\n",
    "#plt.plot(yhat, label='predict')\n",
    "#plt.plot(testY, label='true')\n",
    "plt.ylabel('Rented Bike Count'); plt.xlabel('time lags'); #plt.title(pd.to_datetime(test_date[sequence_length+id_]))\n",
    "plt.twinx()\n",
    "#plt.xticks(a)\n",
    "plt.imshow(np.vstack([activation]*120), alpha=0.5, cmap='viridis')\n",
    "plt.axis('off'); plt.colorbar()\n",
    "plt.axis('off')\n",
    "#pylab.pcolor(np.vstack([activation]*120),cmap='jet',alpha=0.35)\n",
    "\n",
    "#pylab.colorbar()\n",
    "\n",
    "plt.savefig('C:/Users/mozzimerci/jupyter notebook/time/chan/ff/png/bike_grad cam_lstm-rescnn.png', dpi=300)"
   ]
  },
  {
   "cell_type": "code",
   "execution_count": 124,
   "id": "cb56a680",
   "metadata": {},
   "outputs": [
    {
     "name": "stdout",
     "output_type": "stream",
     "text": [
      "1.0253315\n",
      "tf.Tensor(\n",
      "[[[0. 0. 0. ... 0. 0. 0.]\n",
      "  [0. 0. 0. ... 0. 0. 0.]\n",
      "  [1. 0. 0. ... 0. 0. 0.]\n",
      "  ...\n",
      "  [0. 0. 0. ... 0. 0. 0.]\n",
      "  [0. 0. 0. ... 0. 0. 0.]\n",
      "  [1. 0. 0. ... 0. 0. 0.]]], shape=(1, 168, 9), dtype=float32)\n"
     ]
    }
   ],
   "source": [
    "X_test=testX\n",
    "grad_weight = gradient_weight(X_test[4], model)\n",
    "grad_weight_abs = abs(grad_weight)\n",
    "print(np.max(grad_weight_abs))\n",
    "print(grad_weight_abs)"
   ]
  },
  {
   "cell_type": "code",
   "execution_count": 125,
   "id": "924eb222",
   "metadata": {},
   "outputs": [
    {
     "name": "stdout",
     "output_type": "stream",
     "text": [
      "1.0\n",
      "tf.Tensor(\n",
      "[[[0. 0. 0. ... 0. 0. 0.]\n",
      "  [0. 0. 0. ... 0. 0. 0.]\n",
      "  [1. 0. 0. ... 0. 0. 0.]\n",
      "  ...\n",
      "  [0. 0. 0. ... 0. 0. 0.]\n",
      "  [0. 0. 0. ... 0. 0. 0.]\n",
      "  [1. 0. 0. ... 0. 0. 0.]]], shape=(1, 168, 9), dtype=float32)\n"
     ]
    }
   ],
   "source": [
    "grad_weight_abs_z = (grad_weight_abs-(np.min(grad_weight_abs)))/(np.max(grad_weight_abs)-(np.min(grad_weight_abs)))\n",
    "print(np.max(grad_weight_abs_z))\n",
    "print(grad_weight_abs_z)"
   ]
  },
  {
   "cell_type": "code",
   "execution_count": 126,
   "id": "ATnPTPl0hxMe",
   "metadata": {
    "executionInfo": {
     "elapsed": 6,
     "status": "ok",
     "timestamp": 1633486372163,
     "user": {
      "displayName": "정찬휘",
      "photoUrl": "https://lh3.googleusercontent.com/a/default-user=s64",
      "userId": "00470938762273561607"
     },
     "user_tz": -540
    },
    "id": "ATnPTPl0hxMe"
   },
   "outputs": [
    {
     "name": "stdout",
     "output_type": "stream",
     "text": [
      "(1, 168, 9)\n"
     ]
    },
    {
     "data": {
      "text/plain": [
       "<Figure size 432x1440 with 0 Axes>"
      ]
     },
     "metadata": {},
     "output_type": "display_data"
    },
    {
     "data": {
      "image/png": "[encoded data removed]",
      "text/plain": [
       "<Figure size 432x288 with 2 Axes>"
      ]
     },
     "metadata": {
      "needs_background": "light"
     },
     "output_type": "display_data"
    }
   ],
   "source": [
    "import matplotlib.pyplot as plt\n",
    "import numpy as np\n",
    "\n",
    "X_test=testX\n",
    "\n",
    "grad_weight = gradient_weight(X_test[4], model)\n",
    "\n",
    "grad_weight_abs = abs(grad_weight)\n",
    "\n",
    "grad_weight_abs_z = (grad_weight_abs-(np.min(grad_weight_abs)))/(np.max(grad_weight_abs)-(np.min(grad_weight_abs)))\n",
    "#grad_weight=grad_weight.reshape(48,4)\n",
    "\n",
    "print(grad_weight_abs_z.shape)\n",
    "plt.figure(figsize=(6,20))\n",
    "\n",
    "#plt.plot(X_test[8], 'k')\n",
    "a=grad_weight_abs_z.numpy()\n",
    "a=a.reshape(168,9)\n",
    "a=a.transpose()\n",
    "\n",
    "#print(a)\n",
    "fig, ax = plt.subplots(1,1)\n",
    "\n",
    "extent = [0 , 168, 0 , 9]\n",
    "y_label_list = [1,3,5,7,9]\n",
    "x_label_list = [0,24,48,72,96,120,144,168]\n",
    "ax.set_xticks([0,24,48,72,96,120,144,168])\n",
    "\n",
    "ax.set_yticks([10,30,50,70,90])\n",
    "\n",
    "ax.set_xticklabels(x_label_list)\n",
    "ax.set_yticklabels(y_label_list)\n",
    "\n",
    "ax.set_xticklabels(x_label_list)\n",
    "ax.set_yticklabels(y_label_list)\n",
    "ax.set_ylabel('Feature')\n",
    "ax.set_xlabel('Time Lag')\n",
    "\n",
    "plt.imshow(a,extent = [0 , 168, 0 , 90], vmin=0, vmax=0.5, cmap=\"Blues\", interpolation='nearest')\n",
    "plt.colorbar()\n",
    "\n",
    "plt.savefig('C:/Users/mozzimerci/jupyter notebook/time/chan/ff/png/bike_feature importance_lstm-rescnn(1).png')"
   ]
  },
  {
   "cell_type": "code",
   "execution_count": null,
   "id": "67b47224",
   "metadata": {},
   "outputs": [],
   "source": []
  },
  {
   "cell_type": "code",
   "execution_count": null,
   "id": "598d4eaf",
   "metadata": {},
   "outputs": [],
   "source": []
  },
  {
   "cell_type": "code",
   "execution_count": null,
   "id": "643bbb78",
   "metadata": {},
   "outputs": [],
   "source": []
  },
  {
   "cell_type": "code",
   "execution_count": null,
   "id": "edaf0434",
   "metadata": {},
   "outputs": [],
   "source": []
  },
  {
   "cell_type": "code",
   "execution_count": null,
   "id": "72402f2c",
   "metadata": {},
   "outputs": [],
   "source": []
  },
  {
   "cell_type": "code",
   "execution_count": null,
   "id": "34a5a987",
   "metadata": {},
   "outputs": [],
   "source": []
  },
  {
   "cell_type": "code",
   "execution_count": null,
   "id": "90eae5de",
   "metadata": {},
   "outputs": [],
   "source": []
  }
 ],
 "metadata": {
  "colab": {
   "collapsed_sections": [],
   "name": "bike feature importance.ipynb",
   "provenance": []
  },
  "kernelspec": {
   "display_name": "Python 3",
   "language": "python",
   "name": "python3"
  },
  "language_info": {
   "codemirror_mode": {
    "name": "ipython",
    "version": 3
   },
   "file_extension": ".py",
   "mimetype": "text/x-python",
   "name": "python",
   "nbconvert_exporter": "python",
   "pygments_lexer": "ipython3",
   "version": "3.8.8"
  }
 },
 "nbformat": 4,
 "nbformat_minor": 5
}
