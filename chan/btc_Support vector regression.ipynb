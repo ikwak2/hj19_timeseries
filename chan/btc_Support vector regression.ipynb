{
 "cells": [
  {
   "cell_type": "code",
   "execution_count": 1,
   "id": "85e8242b",
   "metadata": {},
   "outputs": [],
   "source": [
    "from graphviz import *\n",
    "from sklearn.datasets import load_iris\n",
    "from sklearn import tree\n",
    " \n",
    "from collections import Counter\n",
    "from itertools import chain, combinations\n",
    " \n",
    "import ast\n",
    "import matplotlib.pyplot as plt\n",
    "import pandas as pd\n",
    "import numpy as np \n",
    "import graphviz\n",
    "import seaborn as sns\n",
    "from sklearn import datasets, svm, metrics\n",
    "from pandas import DataFrame\n",
    "from sklearn.svm import SVR"
   ]
  },
  {
   "cell_type": "code",
   "execution_count": 2,
   "id": "44fab912",
   "metadata": {},
   "outputs": [],
   "source": [
    "import tensorflow as tf\n",
    "\n",
    "import numpy as np\n",
    "from tensorflow.keras.models import Sequential\n",
    "from tensorflow.keras.layers import LSTM, Bidirectional\n",
    "from tensorflow.keras.layers import Dense\n",
    "import matplotlib.pyplot as plt\n",
    "from sklearn.preprocessing import MinMaxScaler\n",
    "from sklearn.metrics import mean_squared_error\n",
    "from tensorflow.keras.layers import Activation, Dense, Dropout\n",
    "from tensorflow.keras import optimizers\n",
    "from pandas import Series\n",
    "import math\n",
    "import numpy\n",
    "from tensorflow.keras.layers import *\n",
    "from tensorflow.keras import layers\n",
    "import pandas as pd\n",
    "from math import *\n",
    "from sklearn.metrics import *\n",
    "\n",
    "data = pd.read_csv(\"C:\\\\Users\\\\mozzimerci\\\\jupyter notebook\\\\time\\\\btc\\\\bitcoin2000.csv\")"
   ]
  },
  {
   "cell_type": "code",
   "execution_count": 3,
   "id": "b1181342",
   "metadata": {},
   "outputs": [
    {
     "data": {
      "text/html": [
       "<div>\n",
       "<style scoped>\n",
       "    .dataframe tbody tr th:only-of-type {\n",
       "        vertical-align: middle;\n",
       "    }\n",
       "\n",
       "    .dataframe tbody tr th {\n",
       "        vertical-align: top;\n",
       "    }\n",
       "\n",
       "    .dataframe thead th {\n",
       "        text-align: right;\n",
       "    }\n",
       "</style>\n",
       "<table border=\"1\" class=\"dataframe\">\n",
       "  <thead>\n",
       "    <tr style=\"text-align: right;\">\n",
       "      <th></th>\n",
       "      <th>time</th>\n",
       "      <th>high</th>\n",
       "      <th>low</th>\n",
       "      <th>open</th>\n",
       "      <th>volumefrom</th>\n",
       "      <th>volumeto</th>\n",
       "      <th>close</th>\n",
       "      <th>conversionType</th>\n",
       "      <th>conversionSymbol</th>\n",
       "      <th>timeUTC</th>\n",
       "    </tr>\n",
       "  </thead>\n",
       "  <tbody>\n",
       "    <tr>\n",
       "      <th>0</th>\n",
       "      <td>1576144800</td>\n",
       "      <td>7219.93</td>\n",
       "      <td>7149.15</td>\n",
       "      <td>7170.18</td>\n",
       "      <td>1536.79</td>\n",
       "      <td>11041994.81</td>\n",
       "      <td>7166.14</td>\n",
       "      <td>direct</td>\n",
       "      <td>NaN</td>\n",
       "      <td>2019-12-12 19:00:00</td>\n",
       "    </tr>\n",
       "    <tr>\n",
       "      <th>1</th>\n",
       "      <td>1576148400</td>\n",
       "      <td>7208.36</td>\n",
       "      <td>7166.03</td>\n",
       "      <td>7166.14</td>\n",
       "      <td>785.11</td>\n",
       "      <td>5654607.43</td>\n",
       "      <td>7199.79</td>\n",
       "      <td>direct</td>\n",
       "      <td>NaN</td>\n",
       "      <td>2019-12-12 20:00:00</td>\n",
       "    </tr>\n",
       "    <tr>\n",
       "      <th>2</th>\n",
       "      <td>1576152000</td>\n",
       "      <td>7222.43</td>\n",
       "      <td>7194.87</td>\n",
       "      <td>7199.79</td>\n",
       "      <td>672.46</td>\n",
       "      <td>4855213.22</td>\n",
       "      <td>7199.97</td>\n",
       "      <td>direct</td>\n",
       "      <td>NaN</td>\n",
       "      <td>2019-12-12 21:00:00</td>\n",
       "    </tr>\n",
       "    <tr>\n",
       "      <th>3</th>\n",
       "      <td>1576155600</td>\n",
       "      <td>7211.80</td>\n",
       "      <td>7187.29</td>\n",
       "      <td>7199.97</td>\n",
       "      <td>807.61</td>\n",
       "      <td>5821087.81</td>\n",
       "      <td>7201.38</td>\n",
       "      <td>direct</td>\n",
       "      <td>NaN</td>\n",
       "      <td>2019-12-12 22:00:00</td>\n",
       "    </tr>\n",
       "    <tr>\n",
       "      <th>4</th>\n",
       "      <td>1576159200</td>\n",
       "      <td>7229.22</td>\n",
       "      <td>7152.84</td>\n",
       "      <td>7201.38</td>\n",
       "      <td>1606.06</td>\n",
       "      <td>11537799.57</td>\n",
       "      <td>7173.50</td>\n",
       "      <td>direct</td>\n",
       "      <td>NaN</td>\n",
       "      <td>2019-12-12 23:00:00</td>\n",
       "    </tr>\n",
       "    <tr>\n",
       "      <th>...</th>\n",
       "      <td>...</td>\n",
       "      <td>...</td>\n",
       "      <td>...</td>\n",
       "      <td>...</td>\n",
       "      <td>...</td>\n",
       "      <td>...</td>\n",
       "      <td>...</td>\n",
       "      <td>...</td>\n",
       "      <td>...</td>\n",
       "      <td>...</td>\n",
       "    </tr>\n",
       "    <tr>\n",
       "      <th>10000</th>\n",
       "      <td>1612144800</td>\n",
       "      <td>33847.46</td>\n",
       "      <td>33257.39</td>\n",
       "      <td>33450.01</td>\n",
       "      <td>2066.49</td>\n",
       "      <td>69445570.35</td>\n",
       "      <td>33675.45</td>\n",
       "      <td>direct</td>\n",
       "      <td>NaN</td>\n",
       "      <td>2021-02-01 11:00:00</td>\n",
       "    </tr>\n",
       "    <tr>\n",
       "      <th>10001</th>\n",
       "      <td>1612148400</td>\n",
       "      <td>33779.76</td>\n",
       "      <td>33505.50</td>\n",
       "      <td>33675.45</td>\n",
       "      <td>1173.82</td>\n",
       "      <td>39473368.04</td>\n",
       "      <td>33590.20</td>\n",
       "      <td>direct</td>\n",
       "      <td>NaN</td>\n",
       "      <td>2021-02-01 12:00:00</td>\n",
       "    </tr>\n",
       "    <tr>\n",
       "      <th>10002</th>\n",
       "      <td>1612152000</td>\n",
       "      <td>33945.41</td>\n",
       "      <td>33404.87</td>\n",
       "      <td>33590.20</td>\n",
       "      <td>1430.06</td>\n",
       "      <td>48159838.72</td>\n",
       "      <td>33576.82</td>\n",
       "      <td>direct</td>\n",
       "      <td>NaN</td>\n",
       "      <td>2021-02-01 13:00:00</td>\n",
       "    </tr>\n",
       "    <tr>\n",
       "      <th>10003</th>\n",
       "      <td>1612155600</td>\n",
       "      <td>33907.89</td>\n",
       "      <td>33467.87</td>\n",
       "      <td>33576.82</td>\n",
       "      <td>1198.20</td>\n",
       "      <td>40319458.23</td>\n",
       "      <td>33803.02</td>\n",
       "      <td>direct</td>\n",
       "      <td>NaN</td>\n",
       "      <td>2021-02-01 14:00:00</td>\n",
       "    </tr>\n",
       "    <tr>\n",
       "      <th>10004</th>\n",
       "      <td>1612159200</td>\n",
       "      <td>33950.67</td>\n",
       "      <td>33739.63</td>\n",
       "      <td>33803.02</td>\n",
       "      <td>569.39</td>\n",
       "      <td>19288055.21</td>\n",
       "      <td>33897.06</td>\n",
       "      <td>direct</td>\n",
       "      <td>NaN</td>\n",
       "      <td>2021-02-01 15:00:00</td>\n",
       "    </tr>\n",
       "  </tbody>\n",
       "</table>\n",
       "<p>10005 rows × 10 columns</p>\n",
       "</div>"
      ],
      "text/plain": [
       "             time      high       low      open  volumefrom     volumeto  \\\n",
       "0      1576144800   7219.93   7149.15   7170.18     1536.79  11041994.81   \n",
       "1      1576148400   7208.36   7166.03   7166.14      785.11   5654607.43   \n",
       "2      1576152000   7222.43   7194.87   7199.79      672.46   4855213.22   \n",
       "3      1576155600   7211.80   7187.29   7199.97      807.61   5821087.81   \n",
       "4      1576159200   7229.22   7152.84   7201.38     1606.06  11537799.57   \n",
       "...           ...       ...       ...       ...         ...          ...   \n",
       "10000  1612144800  33847.46  33257.39  33450.01     2066.49  69445570.35   \n",
       "10001  1612148400  33779.76  33505.50  33675.45     1173.82  39473368.04   \n",
       "10002  1612152000  33945.41  33404.87  33590.20     1430.06  48159838.72   \n",
       "10003  1612155600  33907.89  33467.87  33576.82     1198.20  40319458.23   \n",
       "10004  1612159200  33950.67  33739.63  33803.02      569.39  19288055.21   \n",
       "\n",
       "          close conversionType conversionSymbol              timeUTC  \n",
       "0       7166.14         direct              NaN  2019-12-12 19:00:00  \n",
       "1       7199.79         direct              NaN  2019-12-12 20:00:00  \n",
       "2       7199.97         direct              NaN  2019-12-12 21:00:00  \n",
       "3       7201.38         direct              NaN  2019-12-12 22:00:00  \n",
       "4       7173.50         direct              NaN  2019-12-12 23:00:00  \n",
       "...         ...            ...              ...                  ...  \n",
       "10000  33675.45         direct              NaN  2021-02-01 11:00:00  \n",
       "10001  33590.20         direct              NaN  2021-02-01 12:00:00  \n",
       "10002  33576.82         direct              NaN  2021-02-01 13:00:00  \n",
       "10003  33803.02         direct              NaN  2021-02-01 14:00:00  \n",
       "10004  33897.06         direct              NaN  2021-02-01 15:00:00  \n",
       "\n",
       "[10005 rows x 10 columns]"
      ]
     },
     "execution_count": 3,
     "metadata": {},
     "output_type": "execute_result"
    }
   ],
   "source": [
    "data"
   ]
  },
  {
   "cell_type": "code",
   "execution_count": 4,
   "id": "da3f027e",
   "metadata": {},
   "outputs": [],
   "source": [
    "def gradient_importance(seq, model):\n",
    "\n",
    "    seq = tf.Variable(seq[np.newaxis,:,:], dtype=tf.float32)\n",
    "\n",
    "    with tf.GradientTape() as tape:\n",
    "        predictions = model(seq)\n",
    "\n",
    "    grads = tape.gradient(predictions, seq)\n",
    "    grads = tf.reduce_mean(grads, axis=1).numpy()[0]\n",
    "    \n",
    "    return grads\n",
    "\n",
    "def gradient_weight(seq, model):\n",
    "\n",
    "    seq = tf.Variable(seq[np.newaxis,:,:], dtype=tf.float32)\n",
    "\n",
    "    with tf.GradientTape() as tape:\n",
    "        predictions = model(seq)\n",
    "\n",
    "    grad = tape.gradient(predictions, seq)\n",
    "    #gr=grads\n",
    "    #grads = tf.reduce_mean(grads, axis=1).numpy()[0]\n",
    "    \n",
    "    return grad\n",
    "\n",
    "\n",
    "def activation_grad(seq, model):\n",
    "    \n",
    "    seq = seq[np.newaxis,:,:]\n",
    "    grad_model = Model([model.inputs], \n",
    "                       [model.get_layer('extractor').output, \n",
    "                        model.output])\n",
    "\n",
    "    # Obtain the predicted value and the intermediate filters\n",
    "    with tf.GradientTape() as tape:\n",
    "        seq_outputs, predictions = grad_model(seq)\n",
    "\n",
    "    # Extract filters and gradients\n",
    "    output = seq_outputs[0]\n",
    "    grads = tape.gradient(predictions, seq_outputs)[0]\n",
    "\n",
    "    # Average gradients spatially\n",
    "    weights = tf.reduce_mean(grads, axis=0)\n",
    "    \n",
    "    # Get a ponderated map of filters according to grad importance\n",
    "    cam = np.ones(output.shape[0], dtype=np.float32)\n",
    "    for index, w in enumerate(weights):\n",
    "        cam += w * output[:, index]\n",
    "\n",
    "    time = int(seq.shape[1]/output.shape[0])\n",
    "    cam = zoom(cam.numpy(), time, order=1)\n",
    "    heatmap = (cam - cam.min())/(cam.max() - cam.min())\n",
    "    \n",
    "    return heatmap"
   ]
  },
  {
   "cell_type": "code",
   "execution_count": 5,
   "id": "cd56a0d8",
   "metadata": {},
   "outputs": [],
   "source": [
    "data.set_index(['timeUTC'],inplace=True)\n",
    "#data = data['item_cnt_day'].resample('D').sum()\n",
    "df=pd.DataFrame(data)"
   ]
  },
  {
   "cell_type": "code",
   "execution_count": 6,
   "id": "2c78b305",
   "metadata": {},
   "outputs": [
    {
     "data": {
      "text/html": [
       "<div>\n",
       "<style scoped>\n",
       "    .dataframe tbody tr th:only-of-type {\n",
       "        vertical-align: middle;\n",
       "    }\n",
       "\n",
       "    .dataframe tbody tr th {\n",
       "        vertical-align: top;\n",
       "    }\n",
       "\n",
       "    .dataframe thead th {\n",
       "        text-align: right;\n",
       "    }\n",
       "</style>\n",
       "<table border=\"1\" class=\"dataframe\">\n",
       "  <thead>\n",
       "    <tr style=\"text-align: right;\">\n",
       "      <th></th>\n",
       "      <th>time</th>\n",
       "      <th>high</th>\n",
       "      <th>low</th>\n",
       "      <th>open</th>\n",
       "      <th>volumefrom</th>\n",
       "      <th>volumeto</th>\n",
       "      <th>close</th>\n",
       "      <th>conversionType</th>\n",
       "      <th>conversionSymbol</th>\n",
       "    </tr>\n",
       "    <tr>\n",
       "      <th>timeUTC</th>\n",
       "      <th></th>\n",
       "      <th></th>\n",
       "      <th></th>\n",
       "      <th></th>\n",
       "      <th></th>\n",
       "      <th></th>\n",
       "      <th></th>\n",
       "      <th></th>\n",
       "      <th></th>\n",
       "    </tr>\n",
       "  </thead>\n",
       "  <tbody>\n",
       "    <tr>\n",
       "      <th>2019-12-12 19:00:00</th>\n",
       "      <td>1576144800</td>\n",
       "      <td>7219.93</td>\n",
       "      <td>7149.15</td>\n",
       "      <td>7170.18</td>\n",
       "      <td>1536.79</td>\n",
       "      <td>11041994.81</td>\n",
       "      <td>7166.14</td>\n",
       "      <td>direct</td>\n",
       "      <td>NaN</td>\n",
       "    </tr>\n",
       "    <tr>\n",
       "      <th>2019-12-12 20:00:00</th>\n",
       "      <td>1576148400</td>\n",
       "      <td>7208.36</td>\n",
       "      <td>7166.03</td>\n",
       "      <td>7166.14</td>\n",
       "      <td>785.11</td>\n",
       "      <td>5654607.43</td>\n",
       "      <td>7199.79</td>\n",
       "      <td>direct</td>\n",
       "      <td>NaN</td>\n",
       "    </tr>\n",
       "    <tr>\n",
       "      <th>2019-12-12 21:00:00</th>\n",
       "      <td>1576152000</td>\n",
       "      <td>7222.43</td>\n",
       "      <td>7194.87</td>\n",
       "      <td>7199.79</td>\n",
       "      <td>672.46</td>\n",
       "      <td>4855213.22</td>\n",
       "      <td>7199.97</td>\n",
       "      <td>direct</td>\n",
       "      <td>NaN</td>\n",
       "    </tr>\n",
       "    <tr>\n",
       "      <th>2019-12-12 22:00:00</th>\n",
       "      <td>1576155600</td>\n",
       "      <td>7211.80</td>\n",
       "      <td>7187.29</td>\n",
       "      <td>7199.97</td>\n",
       "      <td>807.61</td>\n",
       "      <td>5821087.81</td>\n",
       "      <td>7201.38</td>\n",
       "      <td>direct</td>\n",
       "      <td>NaN</td>\n",
       "    </tr>\n",
       "    <tr>\n",
       "      <th>2019-12-12 23:00:00</th>\n",
       "      <td>1576159200</td>\n",
       "      <td>7229.22</td>\n",
       "      <td>7152.84</td>\n",
       "      <td>7201.38</td>\n",
       "      <td>1606.06</td>\n",
       "      <td>11537799.57</td>\n",
       "      <td>7173.50</td>\n",
       "      <td>direct</td>\n",
       "      <td>NaN</td>\n",
       "    </tr>\n",
       "    <tr>\n",
       "      <th>...</th>\n",
       "      <td>...</td>\n",
       "      <td>...</td>\n",
       "      <td>...</td>\n",
       "      <td>...</td>\n",
       "      <td>...</td>\n",
       "      <td>...</td>\n",
       "      <td>...</td>\n",
       "      <td>...</td>\n",
       "      <td>...</td>\n",
       "    </tr>\n",
       "    <tr>\n",
       "      <th>2021-02-01 11:00:00</th>\n",
       "      <td>1612144800</td>\n",
       "      <td>33847.46</td>\n",
       "      <td>33257.39</td>\n",
       "      <td>33450.01</td>\n",
       "      <td>2066.49</td>\n",
       "      <td>69445570.35</td>\n",
       "      <td>33675.45</td>\n",
       "      <td>direct</td>\n",
       "      <td>NaN</td>\n",
       "    </tr>\n",
       "    <tr>\n",
       "      <th>2021-02-01 12:00:00</th>\n",
       "      <td>1612148400</td>\n",
       "      <td>33779.76</td>\n",
       "      <td>33505.50</td>\n",
       "      <td>33675.45</td>\n",
       "      <td>1173.82</td>\n",
       "      <td>39473368.04</td>\n",
       "      <td>33590.20</td>\n",
       "      <td>direct</td>\n",
       "      <td>NaN</td>\n",
       "    </tr>\n",
       "    <tr>\n",
       "      <th>2021-02-01 13:00:00</th>\n",
       "      <td>1612152000</td>\n",
       "      <td>33945.41</td>\n",
       "      <td>33404.87</td>\n",
       "      <td>33590.20</td>\n",
       "      <td>1430.06</td>\n",
       "      <td>48159838.72</td>\n",
       "      <td>33576.82</td>\n",
       "      <td>direct</td>\n",
       "      <td>NaN</td>\n",
       "    </tr>\n",
       "    <tr>\n",
       "      <th>2021-02-01 14:00:00</th>\n",
       "      <td>1612155600</td>\n",
       "      <td>33907.89</td>\n",
       "      <td>33467.87</td>\n",
       "      <td>33576.82</td>\n",
       "      <td>1198.20</td>\n",
       "      <td>40319458.23</td>\n",
       "      <td>33803.02</td>\n",
       "      <td>direct</td>\n",
       "      <td>NaN</td>\n",
       "    </tr>\n",
       "    <tr>\n",
       "      <th>2021-02-01 15:00:00</th>\n",
       "      <td>1612159200</td>\n",
       "      <td>33950.67</td>\n",
       "      <td>33739.63</td>\n",
       "      <td>33803.02</td>\n",
       "      <td>569.39</td>\n",
       "      <td>19288055.21</td>\n",
       "      <td>33897.06</td>\n",
       "      <td>direct</td>\n",
       "      <td>NaN</td>\n",
       "    </tr>\n",
       "  </tbody>\n",
       "</table>\n",
       "<p>10005 rows × 9 columns</p>\n",
       "</div>"
      ],
      "text/plain": [
       "                           time      high       low      open  volumefrom  \\\n",
       "timeUTC                                                                     \n",
       "2019-12-12 19:00:00  1576144800   7219.93   7149.15   7170.18     1536.79   \n",
       "2019-12-12 20:00:00  1576148400   7208.36   7166.03   7166.14      785.11   \n",
       "2019-12-12 21:00:00  1576152000   7222.43   7194.87   7199.79      672.46   \n",
       "2019-12-12 22:00:00  1576155600   7211.80   7187.29   7199.97      807.61   \n",
       "2019-12-12 23:00:00  1576159200   7229.22   7152.84   7201.38     1606.06   \n",
       "...                         ...       ...       ...       ...         ...   \n",
       "2021-02-01 11:00:00  1612144800  33847.46  33257.39  33450.01     2066.49   \n",
       "2021-02-01 12:00:00  1612148400  33779.76  33505.50  33675.45     1173.82   \n",
       "2021-02-01 13:00:00  1612152000  33945.41  33404.87  33590.20     1430.06   \n",
       "2021-02-01 14:00:00  1612155600  33907.89  33467.87  33576.82     1198.20   \n",
       "2021-02-01 15:00:00  1612159200  33950.67  33739.63  33803.02      569.39   \n",
       "\n",
       "                        volumeto     close conversionType conversionSymbol  \n",
       "timeUTC                                                                     \n",
       "2019-12-12 19:00:00  11041994.81   7166.14         direct              NaN  \n",
       "2019-12-12 20:00:00   5654607.43   7199.79         direct              NaN  \n",
       "2019-12-12 21:00:00   4855213.22   7199.97         direct              NaN  \n",
       "2019-12-12 22:00:00   5821087.81   7201.38         direct              NaN  \n",
       "2019-12-12 23:00:00  11537799.57   7173.50         direct              NaN  \n",
       "...                          ...       ...            ...              ...  \n",
       "2021-02-01 11:00:00  69445570.35  33675.45         direct              NaN  \n",
       "2021-02-01 12:00:00  39473368.04  33590.20         direct              NaN  \n",
       "2021-02-01 13:00:00  48159838.72  33576.82         direct              NaN  \n",
       "2021-02-01 14:00:00  40319458.23  33803.02         direct              NaN  \n",
       "2021-02-01 15:00:00  19288055.21  33897.06         direct              NaN  \n",
       "\n",
       "[10005 rows x 9 columns]"
      ]
     },
     "execution_count": 6,
     "metadata": {},
     "output_type": "execute_result"
    }
   ],
   "source": [
    "data"
   ]
  },
  {
   "cell_type": "code",
   "execution_count": 7,
   "id": "2e8b357a",
   "metadata": {},
   "outputs": [
    {
     "data": {
      "text/plain": [
       "Index(['high', 'low', 'open', 'volumefrom', 'volumeto', 'close'], dtype='object')"
      ]
     },
     "execution_count": 7,
     "metadata": {},
     "output_type": "execute_result"
    }
   ],
   "source": [
    "data.columns[1:7]"
   ]
  },
  {
   "cell_type": "code",
   "execution_count": 8,
   "id": "44dd5c57",
   "metadata": {},
   "outputs": [],
   "source": [
    "from sklearn.preprocessing import MinMaxScaler\n",
    "values = data[data.columns[1:7]].values.reshape(-1,6)\n",
    "values = values.astype('float32')\n",
    "scaler = MinMaxScaler(feature_range=(0, 1))\n",
    "scaled = scaler.fit_transform(values)\n",
    "#scaled = (values-(np.min(values)))/(np.max(values)-(np.min(values)))"
   ]
  },
  {
   "cell_type": "code",
   "execution_count": 9,
   "id": "a119e051",
   "metadata": {},
   "outputs": [
    {
     "data": {
      "text/plain": [
       "array([4.6234502e+03, 3.9489199e+03, 4.2406899e+03, 1.6186000e+02,\n",
       "       1.1648342e+06, 4.2406899e+03], dtype=float32)"
      ]
     },
     "execution_count": 9,
     "metadata": {},
     "output_type": "execute_result"
    }
   ],
   "source": [
    "values.min(axis=0)"
   ]
  },
  {
   "cell_type": "code",
   "execution_count": 10,
   "id": "a65bd27e",
   "metadata": {},
   "outputs": [
    {
     "data": {
      "text/plain": [
       "7859574300.0"
      ]
     },
     "execution_count": 10,
     "metadata": {},
     "output_type": "execute_result"
    }
   ],
   "source": [
    "np.max(values)"
   ]
  },
  {
   "cell_type": "code",
   "execution_count": 11,
   "id": "93ae1c97",
   "metadata": {},
   "outputs": [],
   "source": [
    "train_size = int(len(scaled) * 0.80)\n",
    "val_size = int(len(scaled) * 0.10)\n",
    "test_size = len(scaled) - train_size-val_size"
   ]
  },
  {
   "cell_type": "code",
   "execution_count": 12,
   "id": "a9830506",
   "metadata": {},
   "outputs": [
    {
     "name": "stdout",
     "output_type": "stream",
     "text": [
      "8004 1000 1001\n"
     ]
    }
   ],
   "source": [
    "train, val, test = scaled[0:train_size,:],scaled[train_size:train_size+val_size,:], scaled[train_size+val_size:,:]\n",
    "print(len(train),len(val), len(test))"
   ]
  },
  {
   "cell_type": "code",
   "execution_count": 13,
   "id": "5657918b",
   "metadata": {},
   "outputs": [],
   "source": [
    "train_x = train[:,1:]\n",
    "train_y = train[:,0]\n",
    "val_x = val[:,1:]\n",
    "val_y = val[:,0]\n",
    "test_x = test[:,1:]\n",
    "test_y = test[:,0]"
   ]
  },
  {
   "cell_type": "code",
   "execution_count": 14,
   "id": "13f41b88",
   "metadata": {},
   "outputs": [],
   "source": [
    "class CharacterTable(object):\n",
    "    def __init__(self, chars):\n",
    "        \"\"\"Initialize character table.\n",
    "        # Arguments\n",
    "            chars: Characters that can appear in the input.\n",
    "        \"\"\"\n",
    "        self.chars = sorted(set(chars))\n",
    "        self.char_indices = dict((c, i) for i, c in enumerate(self.chars))\n",
    "        self.indices_char = dict((i, c) for i, c in enumerate(self.chars))\n",
    "\n",
    "    def encode(self, C, num_rows):\n",
    "        \"\"\"One hot encode given string C.\n",
    "        # Arguments\n",
    "            num_rows: Number of rows in the returned one hot encoding. This is\n",
    "                used to keep the # of rows for each data the same.\n",
    "        \"\"\"\n",
    "        x = np.zeros((num_rows, len(self.chars)))\n",
    "        for i, c in enumerate(C):\n",
    "            x[i, self.char_indices[c]] = 1\n",
    "        return x\n",
    "\n",
    "    def decode(self, x, calc_argmax=True):\n",
    "        if calc_argmax:\n",
    "            x = x.argmax(axis=-1)\n",
    "        return ''.join(self.indices_char[x] for x in x)"
   ]
  },
  {
   "cell_type": "code",
   "execution_count": 15,
   "id": "df5ee609",
   "metadata": {},
   "outputs": [],
   "source": [
    "X_train_min, X_train_max = train_x.min(axis=0), train_x.max(axis=0)\n",
    "y_train_min, y_train_max = train_y.min(axis=0), train_y.max(axis=0)"
   ]
  },
  {
   "cell_type": "code",
   "execution_count": 16,
   "id": "640d2982",
   "metadata": {},
   "outputs": [],
   "source": [
    "train_x = (train_x - X_train_min)/(X_train_max - X_train_min+ 1e-9 )\n",
    "val_x= (val_x - X_train_min)/(X_train_max - X_train_min+ 1e-9 )\n",
    "test_x = (test_x - X_train_min)/(X_train_max - X_train_min+ 1e-9 )\n",
    "train_y = (train_y - y_train_min)/(y_train_max - y_train_min + 1e-9)\n",
    "val_y = (val_y - y_train_min)/(y_train_max - y_train_min+ 1e-9 )\n",
    "test_y = (test_y - y_train_min)/(y_train_max - y_train_min+ 1e-9 )"
   ]
  },
  {
   "cell_type": "markdown",
   "id": "76f869ef",
   "metadata": {},
   "source": [
    "## RMSE"
   ]
  },
  {
   "cell_type": "markdown",
   "id": "52d273e3",
   "metadata": {},
   "source": [
    "### kernel = linear"
   ]
  },
  {
   "cell_type": "code",
   "execution_count": 17,
   "id": "0e76791d",
   "metadata": {},
   "outputs": [
    {
     "name": "stdout",
     "output_type": "stream",
     "text": [
      "-------Validation-------\n",
      "       c      rmse\n",
      "0    0.1  0.150827\n",
      "1    1.0  0.136516\n",
      "2    2.0  0.136516\n",
      "3    3.0  0.136516\n",
      "4    4.0  0.136516\n",
      "5    5.0  0.136516\n",
      "6    6.0  0.136516\n",
      "7    7.0  0.136516\n",
      "8    8.0  0.136516\n",
      "9    9.0  0.136516\n",
      "10  10.0  0.136516\n"
     ]
    }
   ],
   "source": [
    "# C는 학습 오류에 대한 패널티 C 값이 클 수록 모델이 학습 데이터에 좀 더 최적화 됨.\n",
    "# 너무 크면 오버피팅 발생\n",
    "# Epsilon 은 임계점을 표현 즉, 예측한 값이 GT 범위 안에 있으면 패널티 부여 X\n",
    "\n",
    "# c가 커질수록 무조건 좋아짐?\n",
    "c_1_list = [0.1, 1, 2, 3, 4, 5, 6, 7, 8, 9 ,10]\n",
    "rmse_list = []\n",
    "\n",
    "# Validation\n",
    "for c_1 in c_1_list:\n",
    "    svr = SVR(kernel='linear', C=c_1, epsilon=0.1)\n",
    "    svr.fit(train_x, train_y)\n",
    "\n",
    "    yhat = svr.predict(val_x)\n",
    "    rmse = sqrt(mean_squared_error(val_y, yhat))\n",
    "    rmse_list.append(rmse)\n",
    "    \n",
    "    result = list(map(list, zip(c_1_list, rmse_list)))\n",
    "    result_df = DataFrame(result,columns=['c', 'rmse'])\n",
    "\n",
    "print('-------Validation-------')\n",
    "print(result_df)"
   ]
  },
  {
   "cell_type": "code",
   "execution_count": 18,
   "id": "27123569",
   "metadata": {},
   "outputs": [
    {
     "name": "stdout",
     "output_type": "stream",
     "text": [
      "Test RMSE : 0.39239483466725755\n"
     ]
    }
   ],
   "source": [
    "# Test\n",
    "best_c_1 = result_df.iloc[result_df['rmse'].argmin()]['c']\n",
    "svr = SVR(kernel='linear', C=best_c_1, epsilon=0.1) \n",
    "svr.fit(train_x, train_y)\n",
    "predict = svr.predict(test_x)\n",
    "test_rmse = sqrt(mean_squared_error(test_y, predict))\n",
    "\n",
    "print('Test RMSE :', test_rmse)"
   ]
  },
  {
   "cell_type": "markdown",
   "id": "7bb8da6c",
   "metadata": {},
   "source": [
    "### kernel = RBF \n",
    "c"
   ]
  },
  {
   "cell_type": "code",
   "execution_count": 19,
   "id": "a50bd290",
   "metadata": {},
   "outputs": [
    {
     "name": "stdout",
     "output_type": "stream",
     "text": [
      "-------Validation-------\n",
      "       c      rmse\n",
      "0    0.1  0.490795\n",
      "1    1.0  0.486367\n",
      "2    2.0  0.486367\n",
      "3    3.0  0.486367\n",
      "4    4.0  0.486367\n",
      "5    5.0  0.486367\n",
      "6    6.0  0.486367\n",
      "7    7.0  0.486367\n",
      "8    8.0  0.486367\n",
      "9    9.0  0.486367\n",
      "10  10.0  0.486367\n"
     ]
    }
   ],
   "source": [
    "c_1_list = [0.1, 1, 2, 3, 4, 5, 6, 7, 8, 9 ,10]\n",
    "rmse_list = []\n",
    "\n",
    "# Validation\n",
    "for c_1 in c_1_list:\n",
    "    svr = SVR(kernel='rbf', C=c_1, gamma = 1,  epsilon=0.1)\n",
    "    svr.fit(train_x, train_y)\n",
    "\n",
    "    yhat = svr.predict(val_x)\n",
    "    rmse = sqrt(mean_squared_error(val_y, yhat))\n",
    "    rmse_list.append(rmse)\n",
    "    \n",
    "    result = list(map(list, zip(c_1_list, rmse_list)))\n",
    "    result_df = DataFrame(result,columns=['c', 'rmse'])\n",
    "\n",
    "print('-------Validation-------')\n",
    "print(result_df)"
   ]
  },
  {
   "cell_type": "code",
   "execution_count": 20,
   "id": "272b3a12",
   "metadata": {},
   "outputs": [
    {
     "name": "stdout",
     "output_type": "stream",
     "text": [
      "Test RMSE : 2.006535611194728\n"
     ]
    }
   ],
   "source": [
    "# Test\n",
    "best_c_1 = result_df.iloc[result_df['rmse'].argmin()]['c']\n",
    "svr = svr = SVR(kernel='rbf', C=c_1, gamma = 1,  epsilon=0.1)\n",
    "svr.fit(train_x, train_y)\n",
    "predict = svr.predict(test_x)\n",
    "test_rmse = sqrt(mean_squared_error(test_y, predict))\n",
    "\n",
    "print('Test RMSE :', test_rmse)"
   ]
  },
  {
   "cell_type": "markdown",
   "id": "099262c4",
   "metadata": {},
   "source": [
    "### kernel = RBF \n",
    "gamma"
   ]
  },
  {
   "cell_type": "code",
   "execution_count": 21,
   "id": "8b76511a",
   "metadata": {},
   "outputs": [
    {
     "name": "stdout",
     "output_type": "stream",
     "text": [
      "-------Validation-------\n",
      "    gamma      rmse\n",
      "0     0.1  0.220922\n",
      "1     1.0  0.486367\n",
      "2     2.0  0.550987\n",
      "3     3.0  0.591570\n",
      "4     4.0  0.620055\n",
      "5     5.0  0.643434\n",
      "6     6.0  0.662464\n",
      "7     7.0  0.679882\n",
      "8     8.0  0.694203\n",
      "9     9.0  0.705128\n",
      "10   10.0  0.714239\n",
      "11  100.0  0.812011\n"
     ]
    }
   ],
   "source": [
    "gmm_list = [0.1, 1, 2, 3, 4, 5, 6, 7, 8, 9 ,10, 100]\n",
    "rmse_list = []\n",
    "\n",
    "# Validation\n",
    "for gmm in gmm_list:\n",
    "    svr = SVR(kernel='rbf', C=10, gamma = gmm,  epsilon=0.1)\n",
    "    svr.fit(train_x, train_y)\n",
    "\n",
    "    yhat = svr.predict(val_x)\n",
    "    rmse = sqrt(mean_squared_error(val_y, yhat))\n",
    "    rmse_list.append(rmse)\n",
    "    \n",
    "    result = list(map(list, zip(gmm_list, rmse_list)))\n",
    "    result_df = DataFrame(result,columns=['gamma', 'rmse'])\n",
    "\n",
    "print('-------Validation-------')\n",
    "print(result_df)"
   ]
  },
  {
   "cell_type": "code",
   "execution_count": 22,
   "id": "b895cdc3",
   "metadata": {},
   "outputs": [
    {
     "name": "stdout",
     "output_type": "stream",
     "text": [
      "Test RMSE : 1.4997827398827255\n"
     ]
    }
   ],
   "source": [
    "# Test\n",
    "best_gmm = result_df.iloc[result_df['rmse'].argmin()]['gamma']\n",
    "svr = svr = SVR(kernel='rbf', C=10, gamma = best_gmm,  epsilon=0.1)\n",
    "svr.fit(train_x, train_y)\n",
    "predict = svr.predict(test_x)\n",
    "test_rmse = sqrt(mean_squared_error(test_y, predict))\n",
    "\n",
    "print('Test RMSE :', test_rmse)"
   ]
  },
  {
   "cell_type": "markdown",
   "id": "6abba389",
   "metadata": {},
   "source": [
    "## MAE"
   ]
  },
  {
   "cell_type": "markdown",
   "id": "85a8282b",
   "metadata": {},
   "source": [
    "### kernel = linear"
   ]
  },
  {
   "cell_type": "code",
   "execution_count": 23,
   "id": "b0cc25c3",
   "metadata": {},
   "outputs": [
    {
     "name": "stdout",
     "output_type": "stream",
     "text": [
      "-------Validation-------\n",
      "       c       mae\n",
      "0    0.1  0.145816\n",
      "1    1.0  0.131663\n",
      "2    2.0  0.131663\n",
      "3    3.0  0.131663\n",
      "4    4.0  0.131663\n",
      "5    5.0  0.131663\n",
      "6    6.0  0.131663\n",
      "7    7.0  0.131663\n",
      "8    8.0  0.131663\n",
      "9    9.0  0.131663\n",
      "10  10.0  0.131663\n"
     ]
    }
   ],
   "source": [
    "c_1_list = [0.1, 1, 2, 3, 4, 5, 6, 7, 8, 9 ,10]\n",
    "mae_list = []\n",
    "\n",
    "# Validation\n",
    "for c_1 in c_1_list:\n",
    "    svr = SVR(kernel='linear', C=c_1, epsilon=0.1)\n",
    "    svr.fit(train_x, train_y)\n",
    "\n",
    "    yhat = svr.predict(val_x)\n",
    "    mae = mean_absolute_error(val_y, yhat)\n",
    "    mae_list.append(mae)\n",
    "    \n",
    "    result = list(map(list, zip(c_1_list, mae_list)))\n",
    "    result_df = DataFrame(result,columns=['c', 'mae'])\n",
    "\n",
    "print('-------Validation-------')\n",
    "print(result_df)"
   ]
  },
  {
   "cell_type": "code",
   "execution_count": 24,
   "id": "68ec5386",
   "metadata": {},
   "outputs": [
    {
     "name": "stdout",
     "output_type": "stream",
     "text": [
      "Test MAE : 0.13166275933489088\n"
     ]
    }
   ],
   "source": [
    "# Test\n",
    "best_c_1 = result_df.iloc[result_df['mae'].argmin()]['c']\n",
    "svr = SVR(kernel='linear', C=best_c_1, epsilon=0.1) \n",
    "svr.fit(train_x, train_y)\n",
    "predict = svr.predict(test_x)\n",
    "test_mae = mean_absolute_error(val_y, yhat)\n",
    "\n",
    "print('Test MAE :', test_mae)"
   ]
  },
  {
   "cell_type": "markdown",
   "id": "be6bf95e",
   "metadata": {},
   "source": [
    "### kernel = RBF \n",
    "c"
   ]
  },
  {
   "cell_type": "code",
   "execution_count": 25,
   "id": "dada3493",
   "metadata": {},
   "outputs": [
    {
     "name": "stdout",
     "output_type": "stream",
     "text": [
      "-------Validation-------\n",
      "       c       mae\n",
      "0    0.1  0.145816\n",
      "1    1.0  0.131663\n",
      "2    2.0  0.131663\n",
      "3    3.0  0.131663\n",
      "4    4.0  0.131663\n",
      "5    5.0  0.131663\n",
      "6    6.0  0.131663\n",
      "7    7.0  0.131663\n",
      "8    8.0  0.131663\n",
      "9    9.0  0.131663\n",
      "10  10.0  0.131663\n"
     ]
    }
   ],
   "source": [
    "c_1_list = [0.1, 1, 2, 3, 4, 5, 6, 7, 8, 9 ,10]\n",
    "rmse_list = []\n",
    "\n",
    "# Validation\n",
    "for c_1 in c_1_list:\n",
    "    svr = SVR(kernel='rbf', C=c_1, gamma = 1,  epsilon=0.1)\n",
    "    svr.fit(train_x, train_y)\n",
    "\n",
    "    yhat = svr.predict(val_x)\n",
    "    mae = mean_absolute_error(val_y, yhat)\n",
    "    mae_list.append(mae)\n",
    "    \n",
    "    result = list(map(list, zip(c_1_list, mae_list)))\n",
    "    result_df = DataFrame(result,columns=['c', 'mae'])\n",
    "\n",
    "print('-------Validation-------')\n",
    "print(result_df)"
   ]
  },
  {
   "cell_type": "code",
   "execution_count": 26,
   "id": "0d059b91",
   "metadata": {},
   "outputs": [
    {
     "name": "stdout",
     "output_type": "stream",
     "text": [
      "Test mae : 0.4137902366316792\n"
     ]
    }
   ],
   "source": [
    "# Test\n",
    "best_c_1 = result_df.iloc[result_df['mae'].argmin()]['c']\n",
    "svr = svr = SVR(kernel='rbf', C=c_1, gamma = 1,  epsilon=0.1)\n",
    "svr.fit(train_x, train_y)\n",
    "predict = svr.predict(test_x)\n",
    "test_mae = mean_absolute_error(val_y, yhat)\n",
    "\n",
    "print('Test mae :', test_mae)"
   ]
  },
  {
   "cell_type": "markdown",
   "id": "88e6c394",
   "metadata": {},
   "source": [
    "### kernel = RBF \n",
    "gamma"
   ]
  },
  {
   "cell_type": "code",
   "execution_count": 27,
   "id": "13072c62",
   "metadata": {},
   "outputs": [
    {
     "name": "stdout",
     "output_type": "stream",
     "text": [
      "-------Validation-------\n",
      "    gamma       mae\n",
      "0     0.1  0.145816\n",
      "1     1.0  0.131663\n",
      "2     2.0  0.131663\n",
      "3     3.0  0.131663\n",
      "4     4.0  0.131663\n",
      "5     5.0  0.131663\n",
      "6     6.0  0.131663\n",
      "7     7.0  0.131663\n",
      "8     8.0  0.131663\n",
      "9     9.0  0.131663\n",
      "10   10.0  0.131663\n",
      "11  100.0  0.420814\n"
     ]
    }
   ],
   "source": [
    "gmm_list = [0.1, 1, 2, 3, 4, 5, 6, 7, 8, 9 ,10, 100]\n",
    "rmse_list = []\n",
    "\n",
    "# Validation\n",
    "for gmm in gmm_list:\n",
    "    svr = SVR(kernel='rbf', C=10, gamma = gmm,  epsilon=0.1)\n",
    "    svr.fit(train_x, train_y)\n",
    "\n",
    "    yhat = svr.predict(val_x)\n",
    "    mae = mean_absolute_error(val_y, yhat)\n",
    "    mae_list.append(mae)\n",
    "    \n",
    "    result = list(map(list, zip(gmm_list, mae_list)))\n",
    "    result_df = DataFrame(result,columns=['gamma', 'mae'])\n",
    "\n",
    "print('-------Validation-------')\n",
    "print(result_df)"
   ]
  },
  {
   "cell_type": "code",
   "execution_count": 28,
   "id": "9fe3d402",
   "metadata": {},
   "outputs": [
    {
     "name": "stdout",
     "output_type": "stream",
     "text": [
      "Test mae : 0.7586128738898389\n"
     ]
    }
   ],
   "source": [
    "# Test\n",
    "best_gmm = result_df.iloc[result_df['mae'].argmin()]['gamma']\n",
    "svr = svr = SVR(kernel='rbf', C=10, gamma = best_gmm,  epsilon=0.1)\n",
    "svr.fit(train_x, train_y)\n",
    "predict = svr.predict(test_x)\n",
    "test_mae = mean_absolute_error(val_y, yhat)\n",
    "\n",
    "print('Test mae :', test_mae)"
   ]
  },
  {
   "cell_type": "code",
   "execution_count": null,
   "id": "fa5aa92a",
   "metadata": {},
   "outputs": [],
   "source": []
  },
  {
   "cell_type": "code",
   "execution_count": null,
   "id": "dd4001cf",
   "metadata": {},
   "outputs": [],
   "source": []
  }
 ],
 "metadata": {
  "kernelspec": {
   "display_name": "Python 3",
   "language": "python",
   "name": "python3"
  },
  "language_info": {
   "codemirror_mode": {
    "name": "ipython",
    "version": 3
   },
   "file_extension": ".py",
   "mimetype": "text/x-python",
   "name": "python",
   "nbconvert_exporter": "python",
   "pygments_lexer": "ipython3",
   "version": "3.8.8"
  }
 },
 "nbformat": 4,
 "nbformat_minor": 5
}
