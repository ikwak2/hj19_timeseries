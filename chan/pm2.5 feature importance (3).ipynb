{
 "cells": [
  {
   "cell_type": "markdown",
   "id": "HzNzgawuB2H9",
   "metadata": {
    "id": "HzNzgawuB2H9"
   },
   "source": [
    "#pm2.5"
   ]
  },
  {
   "cell_type": "code",
   "execution_count": 1,
   "id": "9y_MLa92Bx3I",
   "metadata": {
    "executionInfo": {
     "elapsed": 2975,
     "status": "ok",
     "timestamp": 1633486372290,
     "user": {
      "displayName": "정찬휘",
      "photoUrl": "https://lh3.googleusercontent.com/a/default-user=s64",
      "userId": "00470938762273561607"
     },
     "user_tz": -540
    },
    "id": "9y_MLa92Bx3I"
   },
   "outputs": [],
   "source": [
    "import tensorflow as tf\n",
    "from tensorflow.keras.models import Model\n",
    "import numpy as np\n",
    "from tensorflow.keras.models import Sequential\n",
    "from tensorflow.keras.layers import LSTM, Bidirectional\n",
    "from tensorflow.keras.layers import Dense\n",
    "import matplotlib.pyplot as plt\n",
    "from sklearn.preprocessing import MinMaxScaler\n",
    "from sklearn.metrics import mean_squared_error\n",
    "from tensorflow.keras.layers import Activation, Dense, Dropout\n",
    "from tensorflow.keras import optimizers\n",
    "from pandas import Series\n",
    "import math\n",
    "import numpy\n",
    "from tensorflow.keras.layers import *\n",
    "from tensorflow.keras import layers\n",
    "import pandas as pd\n",
    "\n",
    "data = pd.read_csv(\"https://raw.githubusercontent.com/ikwak2/hj19_timeseries/main/bike_pm2.5/PRSA_data_2010.1.1-2014.12.31.csv?token=ATB7FVYSDM5VD6QOACJUTLDBMQKUE\")"
   ]
  },
  {
   "cell_type": "code",
   "execution_count": 2,
   "id": "EHux1QrMBx5Q",
   "metadata": {
    "executionInfo": {
     "elapsed": 23,
     "status": "ok",
     "timestamp": 1633486372294,
     "user": {
      "displayName": "정찬휘",
      "photoUrl": "https://lh3.googleusercontent.com/a/default-user=s64",
      "userId": "00470938762273561607"
     },
     "user_tz": -540
    },
    "id": "EHux1QrMBx5Q"
   },
   "outputs": [],
   "source": [
    "def gradient_importance(seq, model):\n",
    "\n",
    "    seq = tf.Variable(seq[np.newaxis,:,:], dtype=tf.float32)\n",
    "\n",
    "    with tf.GradientTape() as tape:\n",
    "        predictions = model(seq)\n",
    "\n",
    "    grads = tape.gradient(predictions, seq)\n",
    "    grads = tf.reduce_mean(grads, axis=1).numpy()[0]\n",
    "    \n",
    "    return grads\n",
    "\n",
    "def gradient_weight(seq, model):\n",
    "\n",
    "    seq = tf.Variable(seq[np.newaxis,:,:], dtype=tf.float32)\n",
    "\n",
    "    with tf.GradientTape() as tape:\n",
    "        predictions = model(seq)\n",
    "\n",
    "    grad = tape.gradient(predictions, seq)\n",
    "    #gr=grads\n",
    "    #grads = tf.reduce_mean(grads, axis=1).numpy()[0]\n",
    "    \n",
    "    return grad\n",
    "\n",
    "\n",
    "def activation_grad(seq, model):\n",
    "    \n",
    "    seq = seq[np.newaxis,:,:]\n",
    "    grad_model = Model([model.inputs], \n",
    "                       [model.get_layer('extractor').output, \n",
    "                        model.output])\n",
    "\n",
    "    # Obtain the predicted value and the intermediate filters\n",
    "    with tf.GradientTape() as tape:\n",
    "        seq_outputs, predictions = grad_model(seq)\n",
    "\n",
    "    # Extract filters and gradients\n",
    "    output = seq_outputs[0]\n",
    "    grads = tape.gradient(predictions, seq_outputs)[0]\n",
    "\n",
    "    # Average gradients spatially\n",
    "    weights = tf.reduce_mean(grads, axis=0)\n",
    "    \n",
    "    # Get a ponderated map of filters according to grad importance\n",
    "    cam = np.ones(output.shape[0], dtype=np.float32)\n",
    "    for index, w in enumerate(weights):\n",
    "        cam += w * output[:, index]\n",
    "\n",
    "    time = int(seq.shape[1]/output.shape[0])\n",
    "    cam = zoom(cam.numpy(), time, order=1)\n",
    "    heatmap = (cam - cam.min())/(cam.max() - cam.min())\n",
    "    \n",
    "    return heatmap"
   ]
  },
  {
   "cell_type": "code",
   "execution_count": 3,
   "id": "MSL9TK9q5TMM",
   "metadata": {
    "executionInfo": {
     "elapsed": 22,
     "status": "ok",
     "timestamp": 1633486372295,
     "user": {
      "displayName": "정찬휘",
      "photoUrl": "https://lh3.googleusercontent.com/a/default-user=s64",
      "userId": "00470938762273561607"
     },
     "user_tz": -540
    },
    "id": "MSL9TK9q5TMM"
   },
   "outputs": [],
   "source": [
    "data['pm2.5'] = data['pm2.5'].fillna(method='ffill').fillna(method='bfill')"
   ]
  },
  {
   "cell_type": "code",
   "execution_count": 4,
   "id": "m2ZbtiWZ5TOQ",
   "metadata": {
    "executionInfo": {
     "elapsed": 22,
     "status": "ok",
     "timestamp": 1633486372295,
     "user": {
      "displayName": "정찬휘",
      "photoUrl": "https://lh3.googleusercontent.com/a/default-user=s64",
      "userId": "00470938762273561607"
     },
     "user_tz": -540
    },
    "id": "m2ZbtiWZ5TOQ"
   },
   "outputs": [],
   "source": [
    "\n",
    "data['cbwd']=data['cbwd'].factorize()[0]"
   ]
  },
  {
   "cell_type": "code",
   "execution_count": 5,
   "id": "tD1UfxF-5TQk",
   "metadata": {
    "colab": {
     "base_uri": "https://localhost:8080/"
    },
    "executionInfo": {
     "elapsed": 23,
     "status": "ok",
     "timestamp": 1633486372296,
     "user": {
      "displayName": "정찬휘",
      "photoUrl": "https://lh3.googleusercontent.com/a/default-user=s64",
      "userId": "00470938762273561607"
     },
     "user_tz": -540
    },
    "id": "tD1UfxF-5TQk",
    "outputId": "0a0d21c4-b819-4c4c-9738-85f8da50d9f1"
   },
   "outputs": [
    {
     "data": {
      "text/plain": [
       "Index(['pm2.5', 'DEWP', 'TEMP', 'PRES', 'cbwd', 'Iws', 'Is', 'Ir'], dtype='object')"
      ]
     },
     "execution_count": 5,
     "metadata": {},
     "output_type": "execute_result"
    }
   ],
   "source": [
    "data.columns[5:]"
   ]
  },
  {
   "cell_type": "code",
   "execution_count": 6,
   "id": "5RUmNv9h5TS0",
   "metadata": {
    "executionInfo": {
     "elapsed": 15,
     "status": "ok",
     "timestamp": 1633486372296,
     "user": {
      "displayName": "정찬휘",
      "photoUrl": "https://lh3.googleusercontent.com/a/default-user=s64",
      "userId": "00470938762273561607"
     },
     "user_tz": -540
    },
    "id": "5RUmNv9h5TS0"
   },
   "outputs": [],
   "source": [
    "\n",
    "from sklearn.preprocessing import MinMaxScaler\n",
    "values = data[data.columns[5:]].values.reshape(-1,8)\n",
    "values = values.astype('float32')\n",
    "#scaler = MinMaxScaler(feature_range=(0, 1))\n",
    "#scaled=scaler.fit_transform(values)\n",
    "scaled = (values-(np.min(values)))/(np.max(values)-(np.min(values)))\n",
    "#scaled = (values - np.mean(values))/np.std(values) "
   ]
  },
  {
   "cell_type": "code",
   "execution_count": 7,
   "id": "YqOiEOdc95sz",
   "metadata": {
    "colab": {
     "base_uri": "https://localhost:8080/"
    },
    "executionInfo": {
     "elapsed": 15,
     "status": "ok",
     "timestamp": 1633486372297,
     "user": {
      "displayName": "정찬휘",
      "photoUrl": "https://lh3.googleusercontent.com/a/default-user=s64",
      "userId": "00470938762273561607"
     },
     "user_tz": -540
    },
    "id": "YqOiEOdc95sz",
    "outputId": "dad1a8d5-4891-4ac0-cdf0-6dfaa8f4a885"
   },
   "outputs": [
    {
     "data": {
      "text/plain": [
       "1046.0"
      ]
     },
     "execution_count": 7,
     "metadata": {},
     "output_type": "execute_result"
    }
   ],
   "source": [
    "np.max(values)"
   ]
  },
  {
   "cell_type": "code",
   "execution_count": 8,
   "id": "Y0slWSKfVc5a",
   "metadata": {
    "colab": {
     "base_uri": "https://localhost:8080/"
    },
    "executionInfo": {
     "elapsed": 14,
     "status": "ok",
     "timestamp": 1633486372297,
     "user": {
      "displayName": "정찬휘",
      "photoUrl": "https://lh3.googleusercontent.com/a/default-user=s64",
      "userId": "00470938762273561607"
     },
     "user_tz": -540
    },
    "id": "Y0slWSKfVc5a",
    "outputId": "25435b03-7e93-48f2-dee4-053e6d885767"
   },
   "outputs": [
    {
     "data": {
      "text/plain": [
       "-40.0"
      ]
     },
     "execution_count": 8,
     "metadata": {},
     "output_type": "execute_result"
    }
   ],
   "source": [
    "np.min(values)"
   ]
  },
  {
   "cell_type": "code",
   "execution_count": 9,
   "id": "ao3v70t4Vc7X",
   "metadata": {
    "colab": {
     "base_uri": "https://localhost:8080/"
    },
    "executionInfo": {
     "elapsed": 14,
     "status": "ok",
     "timestamp": 1633486372298,
     "user": {
      "displayName": "정찬휘",
      "photoUrl": "https://lh3.googleusercontent.com/a/default-user=s64",
      "userId": "00470938762273561607"
     },
     "user_tz": -540
    },
    "id": "ao3v70t4Vc7X",
    "outputId": "e7a3dab5-3ae8-4a03-824d-c15d02f7d11f"
   },
   "outputs": [
    {
     "data": {
      "text/plain": [
       "1086.0"
      ]
     },
     "execution_count": 9,
     "metadata": {},
     "output_type": "execute_result"
    }
   ],
   "source": [
    "np.max(values)-np.min(values)"
   ]
  },
  {
   "cell_type": "code",
   "execution_count": 10,
   "id": "R9wAx-rs9kpi",
   "metadata": {
    "colab": {
     "base_uri": "https://localhost:8080/",
     "height": 52
    },
    "executionInfo": {
     "elapsed": 17,
     "status": "ok",
     "timestamp": 1633486372303,
     "user": {
      "displayName": "정찬휘",
      "photoUrl": "https://lh3.googleusercontent.com/a/default-user=s64",
      "userId": "00470938762273561607"
     },
     "user_tz": -540
    },
    "id": "R9wAx-rs9kpi",
    "outputId": "041d6e66-456f-470d-8316-4bedd3796656"
   },
   "outputs": [
    {
     "data": {
      "text/plain": [
       "\"\\nfrom sklearn.preprocessing import MinMaxScaler\\nvalues = data[data.columns[5:]].values.reshape(-1,8)\\nvalues = values.astype('float32')\\nscaler = MinMaxScaler(feature_range=(0, 1))\\nscaled=scaler.fit_transform(values)\\n\""
      ]
     },
     "execution_count": 10,
     "metadata": {},
     "output_type": "execute_result"
    }
   ],
   "source": [
    "'''\n",
    "from sklearn.preprocessing import MinMaxScaler\n",
    "values = data[data.columns[5:]].values.reshape(-1,8)\n",
    "values = values.astype('float32')\n",
    "scaler = MinMaxScaler(feature_range=(0, 1))\n",
    "scaled=scaler.fit_transform(values)\n",
    "'''"
   ]
  },
  {
   "cell_type": "code",
   "execution_count": null,
   "id": "IDUakMpH96B_",
   "metadata": {
    "executionInfo": {
     "elapsed": 17,
     "status": "ok",
     "timestamp": 1633486372304,
     "user": {
      "displayName": "정찬휘",
      "photoUrl": "https://lh3.googleusercontent.com/a/default-user=s64",
      "userId": "00470938762273561607"
     },
     "user_tz": -540
    },
    "id": "IDUakMpH96B_"
   },
   "outputs": [],
   "source": []
  },
  {
   "cell_type": "code",
   "execution_count": 11,
   "id": "2TQQ4z3T5dkY",
   "metadata": {
    "colab": {
     "base_uri": "https://localhost:8080/"
    },
    "executionInfo": {
     "elapsed": 17,
     "status": "ok",
     "timestamp": 1633486372304,
     "user": {
      "displayName": "정찬휘",
      "photoUrl": "https://lh3.googleusercontent.com/a/default-user=s64",
      "userId": "00470938762273561607"
     },
     "user_tz": -540
    },
    "id": "2TQQ4z3T5dkY",
    "outputId": "d714a3e1-efe0-4716-d289-0927aa3502e2"
   },
   "outputs": [
    {
     "name": "stdout",
     "output_type": "stream",
     "text": [
      "35059 4382 4383 8765\n"
     ]
    }
   ],
   "source": [
    "train_size = int(len(scaled) * 0.80)\n",
    "val_size = int(len(scaled) * 0.10)\n",
    "\n",
    "test_size = len(scaled) - train_size-val_size\n",
    "train,val, test,test1 = scaled[0:train_size,:],scaled[train_size:train_size+val_size,:], scaled[train_size+val_size:,:],scaled[train_size:,]\n",
    "print(len(train),len(val), len(test),len(test1))"
   ]
  },
  {
   "cell_type": "code",
   "execution_count": 12,
   "id": "I6ZuaFHL5dma",
   "metadata": {
    "executionInfo": {
     "elapsed": 16,
     "status": "ok",
     "timestamp": 1633486372305,
     "user": {
      "displayName": "정찬휘",
      "photoUrl": "https://lh3.googleusercontent.com/a/default-user=s64",
      "userId": "00470938762273561607"
     },
     "user_tz": -540
    },
    "id": "I6ZuaFHL5dma"
   },
   "outputs": [],
   "source": [
    "\n",
    "def create_dataset_multistep(dataset, look_back=1,predict=1):\n",
    "    dataX, dataY = [], []\n",
    "    for i in range(len(dataset) - look_back-predict):\n",
    "        a = dataset[i:(i + look_back)]\n",
    "        dataX.append(a)\n",
    "        dataY.append(dataset[i+ look_back: i+ look_back+predict, 0])\n",
    "    print(len(dataY))\n",
    "    return np.array(dataX), np.array(dataY)"
   ]
  },
  {
   "cell_type": "code",
   "execution_count": 13,
   "id": "j7BHIUj15doY",
   "metadata": {
    "colab": {
     "base_uri": "https://localhost:8080/"
    },
    "executionInfo": {
     "elapsed": 442,
     "status": "ok",
     "timestamp": 1633486372731,
     "user": {
      "displayName": "정찬휘",
      "photoUrl": "https://lh3.googleusercontent.com/a/default-user=s64",
      "userId": "00470938762273561607"
     },
     "user_tz": -540
    },
    "id": "j7BHIUj15doY",
    "outputId": "74cdba77-28bc-4a7f-b447-864307bd0671"
   },
   "outputs": [
    {
     "name": "stdout",
     "output_type": "stream",
     "text": [
      "34867\n",
      "4190\n",
      "4191\n"
     ]
    }
   ],
   "source": [
    "look_back = 168\n",
    "predict=24\n",
    "\n",
    "trainX, trainY = create_dataset_multistep(train, look_back,predict)\n",
    "valX, valY = create_dataset_multistep(val, look_back,predict)\n",
    "testX, testY = create_dataset_multistep(test, look_back,predict)"
   ]
  },
  {
   "cell_type": "code",
   "execution_count": 14,
   "id": "LHhEKRNL5dqy",
   "metadata": {
    "colab": {
     "base_uri": "https://localhost:8080/"
    },
    "executionInfo": {
     "elapsed": 4,
     "status": "ok",
     "timestamp": 1633486372731,
     "user": {
      "displayName": "정찬휘",
      "photoUrl": "https://lh3.googleusercontent.com/a/default-user=s64",
      "userId": "00470938762273561607"
     },
     "user_tz": -540
    },
    "id": "LHhEKRNL5dqy",
    "outputId": "de9e264d-9ebd-4aba-824c-2763b8ae6a38"
   },
   "outputs": [
    {
     "name": "stdout",
     "output_type": "stream",
     "text": [
      "(34867, 168, 8)\n",
      "(34867, 24)\n"
     ]
    }
   ],
   "source": [
    "print(trainX.shape)\n",
    "print(trainY.shape)"
   ]
  },
  {
   "cell_type": "markdown",
   "id": "4QPBjhdq1qZT",
   "metadata": {
    "id": "4QPBjhdq1qZT"
   },
   "source": [
    "cnn-lstm"
   ]
  },
  {
   "cell_type": "code",
   "execution_count": 19,
   "id": "17ftBV1_2Jgh",
   "metadata": {
    "executionInfo": {
     "elapsed": 379,
     "status": "ok",
     "timestamp": 1633486373108,
     "user": {
      "displayName": "정찬휘",
      "photoUrl": "https://lh3.googleusercontent.com/a/default-user=s64",
      "userId": "00470938762273561607"
     },
     "user_tz": -540
    },
    "id": "17ftBV1_2Jgh"
   },
   "outputs": [],
   "source": [
    "first_input = Input(shape=(168,8))\n",
    "\n",
    "in1=Conv1D(filters=64, kernel_size=3, activation='relu',padding='same')(first_input)\n",
    "#in1= BatchNormalization(scale=False)(in1)\n",
    "\n",
    "in1=Conv1D(filters=64, kernel_size=2, activation='relu',padding='same')(in1)\n",
    "#in1= BatchNormalization(scale=False)(in1)\n",
    "in1=Conv1D(filters=64, kernel_size=1, activation='relu',padding='same')(in1)\n",
    "\n",
    "in1=Conv1D(filters=64, kernel_size=3, activation='relu',padding='same')(in1)\n",
    "in1=Conv1D(filters=64, kernel_size=2, activation='relu',padding='same')(in1)\n",
    "\n",
    "in1=Conv1D(filters=64, kernel_size=1, activation='relu',padding='same')(in1)\n",
    "\n",
    "#in1= BatchNormalization(scale=False)(in1)\n",
    "\n",
    "#in1=add([in0,in1],name='extractor')\n",
    "#attn_layer25 = AttentionLayer(name='attention_layer')\n",
    "#attn_out, attn_states = attn_layer([in1,in1])\n",
    "\n",
    "    # Concat attention input and LSTM output, in original code it was decoder LSTM\n",
    "#concat_out = Concatenate(axis=-1, name='concat_layer')([in1, attn_out])\n",
    "in1=MaxPooling1D(pool_size=2, name='extractor')(in1)\n",
    "#in1=Dropout(0.5)(in1)\n",
    "#in1=Flatten()(in1)\n",
    "#in1=Dense(100, activation='relu')(in1)\n",
    "in1=LSTM(100)(in1)\n",
    "in1=Dense(100)(in1)\n",
    "in1=Dropout(0.5)(in1)\n",
    "out=Dense(24)(in1)\n",
    "model=tf.keras.Model(inputs=[first_input],outputs=[out])\n",
    "model.compile(optimizer='adam', loss='mse')\n",
    "\n",
    "checkpoint_path = \"C:/Users/mozzimerci/jupyter notebook/time/chan/ff/saved_weights/pm2.5_1dcnn-lstm_multi3.hdf5\"\n",
    "cb = tf.keras.callbacks.ModelCheckpoint(filepath=checkpoint_path,\n",
    "                                                 save_best_only=True,\n",
    "                                        monitor='val_loss',mode='min',\n",
    "                                                 verbose=1)\n",
    "\n",
    "#history=model.fit(trainX, trainY, epochs=20, batch_size=100, validation_data=(valX, valY), verbose=1, callbacks=[cb])"
   ]
  },
  {
   "cell_type": "code",
   "execution_count": 20,
   "id": "Dk5Q83yJ2KTO",
   "metadata": {
    "executionInfo": {
     "elapsed": 6,
     "status": "ok",
     "timestamp": 1633486373108,
     "user": {
      "displayName": "정찬휘",
      "photoUrl": "https://lh3.googleusercontent.com/a/default-user=s64",
      "userId": "00470938762273561607"
     },
     "user_tz": -540
    },
    "id": "Dk5Q83yJ2KTO"
   },
   "outputs": [],
   "source": [
    "model.load_weights(\"C:/Users/mozzimerci/jupyter notebook/time/chan/fff/saved_weights/pm2.5_1dcnn-lstm_multi3.hdf5\")"
   ]
  },
  {
   "cell_type": "code",
   "execution_count": 21,
   "id": "b0784b1d",
   "metadata": {},
   "outputs": [
    {
     "data": {
      "text/plain": [
       "array([ 31.      ,  57.      ,  43.      ,  35.      ,  31.      ,\n",
       "        30.      ,  25.      ,  33.      ,  39.      ,  40.      ,\n",
       "        60.      ,  68.      ,  57.      ,  51.      ,  26.      ,\n",
       "        50.      ,  42.      ,  43.      ,  74.      ,  87.      ,\n",
       "        78.      ,  77.      ,  91.      ,  99.      ,  92.      ,\n",
       "        83.      ,  94.      ,  90.      ,  68.      ,  60.      ,\n",
       "        53.      ,  51.      ,  52.      ,  51.      ,  47.      ,\n",
       "        47.      ,  59.      ,  59.      ,  74.      ,  93.      ,\n",
       "       101.      , 111.      , 139.      , 129.      , 127.      ,\n",
       "       114.      ,  98.      , 102.      , 106.      , 111.      ,\n",
       "       106.      , 105.      , 108.      , 107.000015, 113.      ,\n",
       "       126.      , 141.      , 158.      , 170.      , 176.      ,\n",
       "       183.      , 193.      , 215.      , 215.      , 210.00002 ,\n",
       "       214.      , 214.      , 272.      , 198.      , 176.      ,\n",
       "       159.      , 158.      , 137.      , 156.      , 161.      ,\n",
       "       163.      , 178.      , 179.99998 , 179.      , 182.      ,\n",
       "       192.      , 199.      , 208.      , 212.      , 193.      ,\n",
       "       205.      , 206.      , 212.      , 216.      , 232.      ,\n",
       "       223.      , 229.      , 206.      , 194.      , 211.      ,\n",
       "       225.      , 169.      , 144.      , 149.99998 , 144.      ,\n",
       "       143.      , 143.      , 145.      , 152.      , 164.99998 ,\n",
       "       176.      , 209.      , 224.      , 200.      , 188.      ,\n",
       "       184.      , 179.99998 , 189.      , 215.      , 179.99998 ,\n",
       "        81.      ,  78.      ,  24.      ,  26.      ,  29.      ,\n",
       "        22.      ,  14.      ,  11.      ,  12.      ,  11.      ,\n",
       "        13.      ,  12.      ,   9.      ,  10.      ,  10.      ,\n",
       "        14.999996,  18.      ,  18.      ,  14.      ,  16.      ,\n",
       "        10.      ,   9.      ,   6.      ,   8.      ,   6.      ,\n",
       "         3.      ,   2.      ,   8.      ,   8.      ,   7.      ,\n",
       "         6.      ,   8.      ,   6.      ,   9.      ,   8.      ,\n",
       "         7.      ,  10.      ,  10.      ,  11.      ,  10.      ,\n",
       "         7.      ,   8.      ,   7.      ,  10.      ,  17.      ,\n",
       "        22.      ,  28.      ,  28.      ,  26.      ,  25.      ,\n",
       "        20.      ,  11.      ,  28.      ], dtype=float32)"
      ]
     },
     "execution_count": 21,
     "metadata": {},
     "output_type": "execute_result"
    }
   ],
   "source": [
    "id_=24*117\n",
    "\n",
    "X_test=testX.copy()\n",
    "testX_inverse=X_test[id_][:,0]*(np.max(values)-np.min(values))+np.min(values)\n",
    "testX_inverse\n",
    "\n",
    "#X_test[id_][:,0].shape"
   ]
  },
  {
   "cell_type": "code",
   "execution_count": 22,
   "id": "67eb9b93",
   "metadata": {},
   "outputs": [
    {
     "name": "stdout",
     "output_type": "stream",
     "text": [
      "[0.08985545 0.06971435 0.04957324 0.04650261 0.04363775 0.04125563\n",
      " 0.03888539 0.06288853 0.08788487 0.14491308 0.20356762 0.2273373\n",
      " 0.24887523 0.25705037 0.2641888  0.30692434 0.3529363  0.38584265\n",
      " 0.41735223 0.41990843 0.41894293 0.40296063 0.3849207  0.36698362\n",
      " 0.34906635 0.31001872 0.26740187 0.22084783 0.17356174 0.16102992\n",
      " 0.15554948 0.18978937 0.23279004 0.23942196 0.23736829 0.23076801\n",
      " 0.22299647 0.25866482 0.30636245 0.34426254 0.37925822 0.3913389\n",
      " 0.39614668 0.39689058 0.39625746 0.40115625 0.40804535 0.41160667\n",
      " 0.4138938  0.4164421  0.41909724 0.42522663 0.43285176 0.4337777\n",
      " 0.43164885 0.43217906 0.43398744 0.44541126 0.46172595 0.4740362\n",
      " 0.48418984 0.49754864 0.51271975 0.52543753 0.5366992  0.5132975\n",
      " 0.46813628 0.4061737  0.33311966 0.2677422  0.20769082 0.17831409\n",
      " 0.17130229 0.1707681  0.17519201 0.18864976 0.20936859 0.22332886\n",
      " 0.23158711 0.2526146  0.284963   0.3330049  0.3956481  0.44400653\n",
      " 0.47841656 0.5043151  0.5214885  0.519692   0.49750513 0.451509\n",
      " 0.37864885 0.31673375 0.2677778  0.2385633  0.23388217 0.22450013\n",
      " 0.2089808  0.20583498 0.21965677 0.24850327 0.2990064  0.34587306\n",
      " 0.38723552 0.43865272 0.50608784 0.5820147  0.67217875 0.73875916\n",
      " 0.76368034 0.822228   0.94339913 1.         0.9297554  0.8137838\n",
      " 0.60298675 0.39935976 0.2114737  0.07828519 0.07199753 0.06684948\n",
      " 0.06450694 0.06195072 0.05883261 0.05592026 0.0535698  0.05028154\n",
      " 0.04422734 0.03962535 0.03960161 0.0396491  0.03994983 0.03978759\n",
      " 0.03793572 0.03578311 0.03245528 0.02953106 0.02827669 0.02732701\n",
      " 0.02775437 0.02807488 0.02786912 0.02758422 0.02687196 0.02614783\n",
      " 0.02534851 0.02448193 0.02315634 0.02187823 0.0209602  0.02010154\n",
      " 0.01971771 0.01929827 0.01851478 0.01698738 0.0074075  0.\n",
      " 0.02049724 0.04124772 0.06597498 0.08958242 0.09107816 0.09263722\n",
      " 0.09578303 0.09987456 0.14223816 0.18444742 0.21416841 0.24388546]\n"
     ]
    },
    {
     "data": {
      "image/png": "[encoded data removed]",
      "text/plain": [
       "<Figure size 1080x360 with 3 Axes>"
      ]
     },
     "metadata": {
      "needs_background": "light"
     },
     "output_type": "display_data"
    }
   ],
   "source": [
    "from scipy.ndimage import zoom\n",
    "import random\n",
    "import pylab\n",
    "from tensorflow.keras.models import Model\n",
    "\n",
    "#id_=24*20\n",
    "\n",
    "id_=24*127\n",
    "X_test=testX.copy()\n",
    "activation = activation_grad(X_test[id_], model)\n",
    "print(activation)\n",
    "plt.figure(figsize=(15,5))\n",
    "\n",
    "plt.plot(testX_inverse, 'k')\n",
    "#plt.plot(yhat, label='predict')\n",
    "#plt.plot(testY, label='true')\n",
    "plt.ylabel('pm2.5'); plt.xlabel('time lags'); #plt.title(pd.to_datetime(test_date[sequence_length+id_]))\n",
    "plt.twinx()\n",
    "#plt.xticks(a)\n",
    "plt.imshow(np.vstack([activation]*120), alpha=0.5, cmap='viridis')\n",
    "plt.axis('off'); plt.colorbar()\n",
    "plt.axis('off')\n",
    "#pylab.pcolor(np.vstack([activation]*120),cmap='jet',alpha=0.35)\n",
    "\n",
    "#pylab.colorbar()\n",
    "\n",
    "np.set_printoptions(False)\n",
    "\n",
    "plt.savefig('C:/Users/mozzimerci/jupyter notebook/time/chan/fff/png/pm2.5_grad cam_cnn-lstm(1).png', dpi=300)"
   ]
  },
  {
   "cell_type": "code",
   "execution_count": 23,
   "id": "a4d1f6e0",
   "metadata": {},
   "outputs": [
    {
     "name": "stdout",
     "output_type": "stream",
     "text": [
      "1.0\n",
      "0.0\n",
      "1.0\n",
      "(1, 168, 8)\n"
     ]
    },
    {
     "data": {
      "text/plain": [
       "<Figure size 432x1440 with 0 Axes>"
      ]
     },
     "metadata": {},
     "output_type": "display_data"
    },
    {
     "data": {
      "image/png": "[encoded data removed]",
      "text/plain": [
       "<Figure size 432x288 with 2 Axes>"
      ]
     },
     "metadata": {
      "needs_background": "light"
     },
     "output_type": "display_data"
    }
   ],
   "source": [
    "import matplotlib.pyplot as plt\n",
    "import numpy as np\n",
    "\n",
    "X_test=testX\n",
    "\n",
    "grad_weight = gradient_weight(X_test[4], model)\n",
    "\n",
    "grad_weight_abs = abs(grad_weight)\n",
    "\n",
    "grad_weight_abs_z = (grad_weight_abs-(np.min(grad_weight_abs)))/(np.max(grad_weight_abs)-(np.min(grad_weight_abs)))\n",
    "\n",
    "print(np.max(grad_weight_abs_z))\n",
    "print(np.min(grad_weight_abs_z))\n",
    "print(np.max(grad_weight_abs_z)-np.min(grad_weight_abs_z))\n",
    "#grad_weight=grad_weight.reshape(48,4)\n",
    "\n",
    "print(grad_weight.shape)\n",
    "plt.figure(figsize=(6,20))\n",
    "\n",
    "#plt.plot(X_test[8], 'k')\n",
    "a=grad_weight.numpy()\n",
    "a=a.reshape(168,8)\n",
    "a=a.transpose()\n",
    "\n",
    "#print(a)\n",
    "fig, ax = plt.subplots(1,1)\n",
    "\n",
    "extent = [0 , 168, 0 , 8]\n",
    "y_label_list = [2,4,6,8]\n",
    "x_label_list = [0,24,48,72,96,120,144,168]\n",
    "ax.set_xticks([0,24,48,72,96,120,144,168])\n",
    "\n",
    "ax.set_yticks([24,48,72,96])\n",
    "\n",
    "ax.set_xticklabels(x_label_list)\n",
    "ax.set_yticklabels(y_label_list)\n",
    "\n",
    "ax.set_xticklabels(x_label_list)\n",
    "ax.set_yticklabels(y_label_list)\n",
    "ax.set_ylabel('Feature')\n",
    "ax.set_xlabel('Time Lag')\n",
    "\n",
    "plt.imshow(a,extent = [0 , 168, 0 , 96], vmin=0, vmax=0.5, cmap=\"Blues\", interpolation='nearest')\n",
    "plt.colorbar()\n",
    "\n",
    "plt.savefig('C:/Users/mozzimerci/jupyter notebook/time/chan/fff/png/pm2.5_feature importance_cnn-lstm(1).png', dpi=300)"
   ]
  },
  {
   "cell_type": "markdown",
   "id": "4aY5hV_U1zOG",
   "metadata": {
    "id": "4aY5hV_U1zOG"
   },
   "source": [
    "lstm-cnn"
   ]
  },
  {
   "cell_type": "code",
   "execution_count": 24,
   "id": "txj7TVef2S_T",
   "metadata": {
    "executionInfo": {
     "elapsed": 376,
     "status": "ok",
     "timestamp": 1633486373903,
     "user": {
      "displayName": "정찬휘",
      "photoUrl": "https://lh3.googleusercontent.com/a/default-user=s64",
      "userId": "00470938762273561607"
     },
     "user_tz": -540
    },
    "id": "txj7TVef2S_T"
   },
   "outputs": [],
   "source": [
    "from tensorflow.keras.models import Model\n",
    "\n",
    "first_input = Input(shape=(168,8))\n",
    "\n",
    "\n",
    "in0=LSTM(64,return_sequences=True)(first_input)\n",
    "#in1=add([first_input,in0])\n",
    "in0=Conv1D(filters=64, kernel_size=3, activation='relu',padding='same')(in0)\n",
    "#in1= BatchNormalization(scale=False)(in0)\n",
    "\n",
    "in1=Conv1D(filters=64, kernel_size=2, activation='relu',padding='same')(in0)\n",
    "#in1= BatchNormalization(scale=False)(in1)\n",
    "#in1=Conv1D(filters=64, kernel_size=3, activation='relu',padding='same')(in0)\n",
    "\n",
    "in1=Conv1D(filters=64, kernel_size=1, activation='relu',padding='same')(in1)\n",
    "#in1= BatchNormalization(scale=False)(in1)\n",
    "\n",
    "in1=add([in0,in1],name='extractor1')\n",
    "\n",
    "#ad=Dropout(0.5)(ad)\n",
    "#in0=LSTM(64,return_sequences=True)(ad)\n",
    "#in1=add([first_input,in0])\n",
    "in0=Conv1D(filters=64, kernel_size=3, activation='relu',padding='same')(in1)\n",
    "#in1= BatchNormalization(scale=False)(in0)\n",
    "\n",
    "in1=Conv1D(filters=64, kernel_size=2, activation='relu',padding='same')(in0)\n",
    "#in1= BatchNormalization(scale=False)(in1)\n",
    "#in1=Conv1D(filters=64, kernel_size=3, activation='relu',padding='same')(in0)\n",
    "\n",
    "in1=Conv1D(filters=64, kernel_size=1, activation='relu',padding='same',name='extractor')(in1)\n",
    "#in1= BatchNormalization(scale=False)(in1)\n",
    "\n",
    "#ad1=add([in0,in1])\n",
    "\n",
    "\n",
    "#in0=Conv1D(filters=64, kernel_size=3, activation='relu',padding='same')(ad1)\n",
    "#in1= BatchNormalization(scale=False)(in0)\n",
    "\n",
    "#in1=Conv1D(filters=64, kernel_size=3, activation='relu',padding='same')(in0)\n",
    "#in1= BatchNormalization(scale=False)(in1)\n",
    "#in1=Conv1D(filters=64, kernel_size=3, activation='relu',padding='same')(in0)\n",
    "\n",
    "#in1=Conv1D(filters=64, kernel_size=1, activation='relu',padding='same')(in1)\n",
    "#in1= BatchNormalization(scale=False)(in1)\n",
    "\n",
    "#in1=add([ad1,in1],name='extractor2')\n",
    "#in0=Conv1D(filters=64, kernel_size=5, activation='relu',padding='same')(in1)\n",
    "#in1= BatchNormalization(scale=False)(in0)\n",
    "\n",
    "#in1=Conv1D(filters=64, kernel_size=3, activation='relu',padding='same')(in0)\n",
    "#in1= BatchNormalization(scale=False)(in1)\n",
    "#in1=Conv1D(filters=64, kernel_size=3, activation='relu',padding='same')(in0)\n",
    "\n",
    "#in1=Conv1D(filters=64, kernel_size=1, activation='relu',padding='same')(in1)\n",
    "#in1= BatchNormalization(scale=False)(in1)\n",
    "\n",
    "in1=add([in0,in1])\n",
    "\n",
    "#attn_layer = AttentionLayer(name='attention_layer')\n",
    "#attn_out, attn_states = attn_layer([in1,in1]\n",
    "\n",
    "    # Concat attention input and LSTM output, in original code it was decoder LSTM\n",
    "#concat_out = Concatenate(axis=-1, name='concat_layer')([in1, attn_out])\n",
    "#in1=MaxPooling1D(pool_size=2, name='extractor')(in1)\n",
    "in1=Flatten()(in1)\n",
    "\n",
    "in1=Dense(100, activation='relu')(in1)\n",
    "in1=Dropout(0.5)(in1)\n",
    "\n",
    "out=Dense(24,'relu')(in1)\n",
    "model=tf.keras.Model(inputs=[first_input],outputs=[out])\n",
    "model.compile(optimizer='adam', loss='mse')\n",
    "\n",
    "checkpoint_path = \"C:/Users/mozzimerci/jupyter notebook/time/chan/ff/saved_weights/pm2.5_lstmcnn_multi.hdf5\"\n",
    "cb = tf.keras.callbacks.ModelCheckpoint(filepath=checkpoint_path,\n",
    "                                                 save_best_only=False,\n",
    "                                        monitor='val_loss',mode='min',\n",
    "                                                 verbose=1)\n",
    "\n",
    "\n",
    "#history=model.fit(trainX, trainY, epochs=100, batch_size=100, validation_data=(valX, valY), verbose=1, callbacks=[cb])"
   ]
  },
  {
   "cell_type": "code",
   "execution_count": 25,
   "id": "4kRG-eQB2Sn4",
   "metadata": {
    "executionInfo": {
     "elapsed": 8,
     "status": "ok",
     "timestamp": 1633486373905,
     "user": {
      "displayName": "정찬휘",
      "photoUrl": "https://lh3.googleusercontent.com/a/default-user=s64",
      "userId": "00470938762273561607"
     },
     "user_tz": -540
    },
    "id": "4kRG-eQB2Sn4"
   },
   "outputs": [],
   "source": [
    "model.load_weights(\"C:/Users/mozzimerci/jupyter notebook/time/chan/fff/saved_weights/pm2.5_lstmcnn_multi.hdf5\")"
   ]
  },
  {
   "cell_type": "code",
   "execution_count": 26,
   "id": "0d5d27ef",
   "metadata": {},
   "outputs": [
    {
     "data": {
      "text/plain": [
       "array([ 11.,  11.,   9.,   7.,   4.,   3.,   4.,   7.,   6.,   6.,  33.,\n",
       "        40.,  40.,  48.,  44.,  41.,  44.,  45.,  79.,  76.,  79.,  90.,\n",
       "        73.,  70.,  66.,  59.,  62.,  60.,  41.,  38.,  33.,  18.,  28.,\n",
       "        46.,  51.,  57.,  37.,  35.,  41.,  46.,  56.,  69.,  79.,  76.,\n",
       "        65.,  69.,  74.,  79.,  78.,  87.,  82.,  74.,  77.,  84.,  87.,\n",
       "        91.,  77.,  74.,  84.,  89.,  94.,  92.,  97.,  92.,  98., 116.,\n",
       "       113., 101.,  87.,  54.,  50.,  42.,  38.,  38.,  39.,  33.,  34.,\n",
       "        40.,  48.,  45.,  39.,  44.,  57.,  77.,  76.,  98., 101., 104.,\n",
       "       106., 108.,  98.,  79.,  44.,  33.,  45.,  53.,  47.,  42.,  34.,\n",
       "        38.,  41.,  56.,  59.,  68.,  79.,  79., 111., 147., 153., 145.,\n",
       "       143., 144., 200., 239., 185., 163.,  28.,  12.,   9.,   9.,  11.,\n",
       "        15.,  13.,  14.,  17.,  18.,  16.,  11.,   7.,   9.,  13.,  16.,\n",
       "         8.,  19.,   8.,   9.,   5.,   2.,   2.,   3.,   3.,   6.,   4.,\n",
       "         4.,   5.,   6.,   6.,   5.,   4.,   6.,   5.,   3.,   5.,   7.,\n",
       "         9.,  11.,  12.,  15.,  17.,  12.,  11.,  12.,  12.,  11.,  13.,\n",
       "        15.,  21.,  21.], dtype=float32)"
      ]
     },
     "execution_count": 26,
     "metadata": {},
     "output_type": "execute_result"
    }
   ],
   "source": [
    "id_=24*127\n",
    "\n",
    "testX_inverse=X_test[id_][:,0]*(np.max(values)-np.min(values))+np.min(values)\n",
    "testX_inverse\n",
    "\n",
    "#X_test[id_][:,0].shape"
   ]
  },
  {
   "cell_type": "code",
   "execution_count": 27,
   "id": "1c1c050c",
   "metadata": {},
   "outputs": [
    {
     "name": "stdout",
     "output_type": "stream",
     "text": [
      "[0. 0. 0. 0. 0. 0. 0. 0. 0. 0. 0. 0. 0. 0. 0. 0. 0. 0. 0. 0. 0. 0. 0. 1.\n",
      " 0. 0. 0. 0. 0. 0. 0. 0. 0. 0. 0. 0. 0. 0. 0. 0. 0. 0. 0. 0. 0. 0. 0. 0.\n",
      " 0. 0. 0. 0. 0. 0. 0. 0. 0. 0. 0. 0. 0. 0. 0. 0. 0. 1. 1. 1. 1. 0. 0. 0.\n",
      " 0. 0. 0. 0. 0. 0. 0. 0. 0. 0. 0. 0. 0. 0. 0. 0. 0. 1. 1. 0. 0. 0. 0. 0.\n",
      " 0. 0. 0. 0. 0. 0. 0. 0. 0. 0. 0. 0. 0. 0. 0. 0. 1. 1. 1. 1. 0. 0. 0. 0.\n",
      " 0. 0. 0. 0. 0. 0. 0. 0. 0. 0. 0. 0. 0. 0. 0. 0. 0. 0. 0. 0. 0. 0. 0. 0.\n",
      " 0. 0. 0. 0. 0. 0. 0. 0. 0. 0. 0. 0. 0. 0. 0. 0. 0. 0. 0. 0. 0. 0. 1. 0.]\n"
     ]
    },
    {
     "data": {
      "image/png": "[encoded data removed]",
      "text/plain": [
       "<Figure size 1080x360 with 3 Axes>"
      ]
     },
     "metadata": {
      "needs_background": "light"
     },
     "output_type": "display_data"
    }
   ],
   "source": [
    "import random\n",
    "import pylab\n",
    "\n",
    "#id_=24*20\n",
    "\n",
    "\n",
    "X_test=testX.copy()\n",
    "activation = activation_grad(X_test[id_], model)\n",
    "print(activation)\n",
    "plt.figure(figsize=(15,5))\n",
    "\n",
    "plt.plot(testX_inverse, 'k')\n",
    "#plt.plot(yhat, label='predict')\n",
    "#plt.plot(testY, label='true')\n",
    "plt.ylabel('PM2.5'); plt.xlabel('time lags'); #plt.title(pd.to_datetime(test_date[sequence_length+id_]))\n",
    "plt.twinx()\n",
    "#plt.xticks(a)\n",
    "plt.imshow(np.vstack([activation]*120), alpha=0.5, cmap='viridis')\n",
    "plt.axis('off'); plt.colorbar()\n",
    "plt.axis('off')\n",
    "#pylab.pcolor(np.vstack([activation]*120),cmap='jet',alpha=0.35)\n",
    "\n",
    "#pylab.colorbar()\n",
    "\n",
    "np.set_printoptions(False)\n",
    "plt.savefig('C:/Users/mozzimerci/jupyter notebook/time/chan/ff/png/pm2.5_grad cam_lstm-cnn(1).png', dpi=300)"
   ]
  },
  {
   "cell_type": "code",
   "execution_count": 28,
   "id": "1008ca9d",
   "metadata": {},
   "outputs": [
    {
     "name": "stdout",
     "output_type": "stream",
     "text": [
      "1.0\n",
      "0.0\n",
      "1.0\n",
      "(1, 168, 8)\n"
     ]
    },
    {
     "data": {
      "text/plain": [
       "<Figure size 432x1440 with 0 Axes>"
      ]
     },
     "metadata": {},
     "output_type": "display_data"
    },
    {
     "data": {
      "image/png": "[encoded data removed]",
      "text/plain": [
       "<Figure size 432x288 with 2 Axes>"
      ]
     },
     "metadata": {
      "needs_background": "light"
     },
     "output_type": "display_data"
    }
   ],
   "source": [
    "import matplotlib.pyplot as plt\n",
    "import numpy as np\n",
    "\n",
    "X_test=testX\n",
    "\n",
    "grad_weight = gradient_weight(X_test[4], model)\n",
    "\n",
    "grad_weight_abs = abs(grad_weight)\n",
    "\n",
    "grad_weight_abs_z = (grad_weight_abs-(np.min(grad_weight_abs)))/(np.max(grad_weight_abs)-(np.min(grad_weight_abs)))\n",
    "\n",
    "print(np.max(grad_weight_abs_z))\n",
    "print(np.min(grad_weight_abs_z))\n",
    "print(np.max(grad_weight_abs_z)-np.min(grad_weight_abs_z))\n",
    "#grad_weight=grad_weight.reshape(48,4)\n",
    "\n",
    "print(grad_weight.shape)\n",
    "plt.figure(figsize=(6,20))\n",
    "\n",
    "#plt.plot(X_test[8], 'k')\n",
    "a=grad_weight.numpy()\n",
    "a=a.reshape(168,8)\n",
    "a=a.transpose()\n",
    "\n",
    "#print(a)\n",
    "fig, ax = plt.subplots(1,1)\n",
    "\n",
    "extent = [0 , 168, 0 , 8]\n",
    "y_label_list = [2,4,6,8]\n",
    "x_label_list = [0,24,48,72,96,120,144,168]\n",
    "ax.set_xticks([0,24,48,72,96,120,144,168])\n",
    "\n",
    "ax.set_yticks([24,48,72,96])\n",
    "\n",
    "ax.set_xticklabels(x_label_list)\n",
    "ax.set_yticklabels(y_label_list)\n",
    "\n",
    "ax.set_xticklabels(x_label_list)\n",
    "ax.set_yticklabels(y_label_list)\n",
    "ax.set_ylabel('Feature')\n",
    "ax.set_xlabel('Time Lag')\n",
    "\n",
    "plt.imshow(a,extent = [0 , 168, 0 , 96], vmin=0, vmax=0.5, cmap=\"Blues\", interpolation='nearest')\n",
    "plt.colorbar()\n",
    "\n",
    "plt.savefig('C:/Users/mozzimerci/jupyter notebook/time/chan/ff/png/pm2.5_feature importance_lstm-cnn(1).png', dpi=300)"
   ]
  },
  {
   "cell_type": "markdown",
   "id": "sBP3zpX41qbi",
   "metadata": {
    "id": "sBP3zpX41qbi"
   },
   "source": [
    "lstm-rescnn"
   ]
  },
  {
   "cell_type": "code",
   "execution_count": 29,
   "id": "dfREQ_yp2Slz",
   "metadata": {
    "executionInfo": {
     "elapsed": 253,
     "status": "ok",
     "timestamp": 1633486374965,
     "user": {
      "displayName": "정찬휘",
      "photoUrl": "https://lh3.googleusercontent.com/a/default-user=s64",
      "userId": "00470938762273561607"
     },
     "user_tz": -540
    },
    "id": "dfREQ_yp2Slz"
   },
   "outputs": [],
   "source": [
    "from tensorflow.keras.models import Model\n",
    "\n",
    "first_input = Input(shape=(168,8))\n",
    "\n",
    "\n",
    "in0=LSTM(64,return_sequences=True)(first_input)\n",
    "#in1=add([first_input,in0])\n",
    "in0=Conv1D(filters=64, kernel_size=3, activation='relu',padding='same')(in0)\n",
    "#in1= BatchNormalization(scale=False)(in0)\n",
    "\n",
    "in1=Conv1D(filters=64, kernel_size=2, activation='relu',padding='same')(in0)\n",
    "#in1= BatchNormalization(scale=False)(in1)\n",
    "#in1=Conv1D(filters=64, kernel_size=3, activation='relu',padding='same')(in0)\n",
    "\n",
    "in1=Conv1D(filters=64, kernel_size=1, activation='relu',padding='same')(in1)\n",
    "#in1= BatchNormalization(scale=False)(in1)\n",
    "\n",
    "in1=add([in0,in1],name='extractor1')\n",
    "\n",
    "#ad=Dropout(0.5)(ad)\n",
    "#in0=LSTM(64,return_sequences=True)(ad)\n",
    "#in1=add([first_input,in0])\n",
    "in0=Conv1D(filters=64, kernel_size=3, activation='relu',padding='same')(in1)\n",
    "#in1= BatchNormalization(scale=False)(in0)\n",
    "\n",
    "in1=Conv1D(filters=64, kernel_size=2, activation='relu',padding='same')(in0)\n",
    "#in1= BatchNormalization(scale=False)(in1)\n",
    "#in1=Conv1D(filters=64, kernel_size=3, activation='relu',padding='same')(in0)\n",
    "\n",
    "in1=Conv1D(filters=64, kernel_size=1, activation='relu',padding='same',name='extractor')(in1)\n",
    "#in1= BatchNormalization(scale=False)(in1)\n",
    "\n",
    "#ad1=add([in0,in1])\n",
    "\n",
    "\n",
    "#in0=Conv1D(filters=64, kernel_size=3, activation='relu',padding='same')(ad1)\n",
    "#in1= BatchNormalization(scale=False)(in0)\n",
    "\n",
    "#in1=Conv1D(filters=64, kernel_size=3, activation='relu',padding='same')(in0)\n",
    "#in1= BatchNormalization(scale=False)(in1)\n",
    "#in1=Conv1D(filters=64, kernel_size=3, activation='relu',padding='same')(in0)\n",
    "\n",
    "#in1=Conv1D(filters=64, kernel_size=1, activation='relu',padding='same')(in1)\n",
    "#in1= BatchNormalization(scale=False)(in1)\n",
    "\n",
    "#in1=add([ad1,in1],name='extractor2')\n",
    "#in0=Conv1D(filters=64, kernel_size=5, activation='relu',padding='same')(in1)\n",
    "#in1= BatchNormalization(scale=False)(in0)\n",
    "\n",
    "#in1=Conv1D(filters=64, kernel_size=3, activation='relu',padding='same')(in0)\n",
    "#in1= BatchNormalization(scale=False)(in1)\n",
    "#in1=Conv1D(filters=64, kernel_size=3, activation='relu',padding='same')(in0)\n",
    "\n",
    "#in1=Conv1D(filters=64, kernel_size=1, activation='relu',padding='same')(in1)\n",
    "#in1= BatchNormalization(scale=False)(in1)\n",
    "\n",
    "in1=add([in0,in1])\n",
    "\n",
    "#attn_layer = AttentionLayer(name='attention_layer')\n",
    "#attn_out, attn_states = attn_layer([in1,in1]\n",
    "\n",
    "    # Concat attention input and LSTM output, in original code it was decoder LSTM\n",
    "#concat_out = Concatenate(axis=-1, name='concat_layer')([in1, attn_out])\n",
    "#in1=MaxPooling1D(pool_size=2, name='extractor')(in1)\n",
    "in1=Flatten()(in1)\n",
    "\n",
    "in1=Dense(100, activation='relu')(in1)\n",
    "in1=Dropout(0.5)(in1)\n",
    "\n",
    "out=Dense(24,'relu')(in1)\n",
    "model=tf.keras.Model(inputs=[first_input],outputs=[out])\n",
    "model.compile(optimizer='adam', loss='mse')\n",
    "\n",
    "checkpoint_path = \"C:/Users/mozzimerci/jupyter notebook/time/chan/ff/saved_weights/pm2.5_lstmrescnn_multi.hdf5\"\n",
    "cb = tf.keras.callbacks.ModelCheckpoint(filepath=checkpoint_path,\n",
    "                                                 save_best_only=False,\n",
    "                                        monitor='val_loss',mode='min',\n",
    "                                                 verbose=1)\n",
    "\n",
    "#history=model.fit(trainX, trainY, epochs=100, batch_size=100, validation_data=(valX, valY), verbose=1, callbacks=[cb])"
   ]
  },
  {
   "cell_type": "code",
   "execution_count": 30,
   "id": "FIGo2WYi2TBm",
   "metadata": {
    "executionInfo": {
     "elapsed": 351,
     "status": "ok",
     "timestamp": 1633486375314,
     "user": {
      "displayName": "정찬휘",
      "photoUrl": "https://lh3.googleusercontent.com/a/default-user=s64",
      "userId": "00470938762273561607"
     },
     "user_tz": -540
    },
    "id": "FIGo2WYi2TBm"
   },
   "outputs": [],
   "source": [
    "model.load_weights(\"C:/Users/mozzimerci/jupyter notebook/time/chan/fff/saved_weights/pm2.5_lstmrescnn_multi.hdf5\")"
   ]
  },
  {
   "cell_type": "code",
   "execution_count": 31,
   "id": "ed605835",
   "metadata": {},
   "outputs": [
    {
     "data": {
      "text/plain": [
       "array([ 11.,  11.,   9.,   7.,   4.,   3.,   4.,   7.,   6.,   6.,  33.,\n",
       "        40.,  40.,  48.,  44.,  41.,  44.,  45.,  79.,  76.,  79.,  90.,\n",
       "        73.,  70.,  66.,  59.,  62.,  60.,  41.,  38.,  33.,  18.,  28.,\n",
       "        46.,  51.,  57.,  37.,  35.,  41.,  46.,  56.,  69.,  79.,  76.,\n",
       "        65.,  69.,  74.,  79.,  78.,  87.,  82.,  74.,  77.,  84.,  87.,\n",
       "        91.,  77.,  74.,  84.,  89.,  94.,  92.,  97.,  92.,  98., 116.,\n",
       "       113., 101.,  87.,  54.,  50.,  42.,  38.,  38.,  39.,  33.,  34.,\n",
       "        40.,  48.,  45.,  39.,  44.,  57.,  77.,  76.,  98., 101., 104.,\n",
       "       106., 108.,  98.,  79.,  44.,  33.,  45.,  53.,  47.,  42.,  34.,\n",
       "        38.,  41.,  56.,  59.,  68.,  79.,  79., 111., 147., 153., 145.,\n",
       "       143., 144., 200., 239., 185., 163.,  28.,  12.,   9.,   9.,  11.,\n",
       "        15.,  13.,  14.,  17.,  18.,  16.,  11.,   7.,   9.,  13.,  16.,\n",
       "         8.,  19.,   8.,   9.,   5.,   2.,   2.,   3.,   3.,   6.,   4.,\n",
       "         4.,   5.,   6.,   6.,   5.,   4.,   6.,   5.,   3.,   5.,   7.,\n",
       "         9.,  11.,  12.,  15.,  17.,  12.,  11.,  12.,  12.,  11.,  13.,\n",
       "        15.,  21.,  21.], dtype=float32)"
      ]
     },
     "execution_count": 31,
     "metadata": {},
     "output_type": "execute_result"
    }
   ],
   "source": [
    "id_=24*127\n",
    "\n",
    "testX_inverse=X_test[id_][:,0]*(np.max(values)-np.min(values))+np.min(values)\n",
    "testX_inverse\n",
    "\n",
    "#X_test[id_][:,0].shape"
   ]
  },
  {
   "cell_type": "code",
   "execution_count": 32,
   "id": "WExPcGUCJ_TD",
   "metadata": {
    "executionInfo": {
     "elapsed": 4,
     "status": "ok",
     "timestamp": 1633486375844,
     "user": {
      "displayName": "정찬휘",
      "photoUrl": "https://lh3.googleusercontent.com/a/default-user=s64",
      "userId": "00470938762273561607"
     },
     "user_tz": -540
    },
    "id": "WExPcGUCJ_TD"
   },
   "outputs": [
    {
     "name": "stdout",
     "output_type": "stream",
     "text": [
      "[0. 0. 0. 0. 0. 0. 0. 0. 0. 0. 0. 0. 0. 0. 0. 0. 0. 0. 0. 0. 0. 0. 0. 0.\n",
      " 0. 0. 0. 0. 0. 0. 0. 0. 0. 0. 0. 0. 0. 0. 0. 0. 0. 0. 0. 0. 0. 0. 0. 0.\n",
      " 0. 0. 0. 0. 0. 0. 0. 0. 0. 0. 0. 0. 0. 0. 0. 0. 0. 0. 0. 0. 0. 0. 0. 0.\n",
      " 0. 0. 0. 0. 0. 0. 0. 0. 0. 0. 0. 0. 0. 0. 0. 0. 0. 0. 0. 0. 0. 0. 0. 0.\n",
      " 0. 0. 0. 0. 0. 0. 0. 0. 0. 0. 0. 0. 0. 0. 0. 0. 0. 0. 0. 0. 0. 0. 0. 0.\n",
      " 0. 0. 0. 0. 0. 0. 0. 0. 0. 0. 0. 0. 0. 0. 0. 0. 0. 0. 0. 0. 0. 0. 0. 0.\n",
      " 0. 0. 0. 0. 0. 0. 0. 0. 0. 0. 0. 0. 0. 0. 0. 0. 0. 0. 0. 0. 0. 0. 0. 1.]\n"
     ]
    },
    {
     "data": {
      "image/png": "[encoded data removed]",
      "text/plain": [
       "<Figure size 1080x360 with 3 Axes>"
      ]
     },
     "metadata": {
      "needs_background": "light"
     },
     "output_type": "display_data"
    }
   ],
   "source": [
    "from scipy.ndimage import zoom\n",
    "import random\n",
    "import pylab\n",
    "\n",
    "#id_=24*20\n",
    "\n",
    "\n",
    "X_test=testX.copy()\n",
    "activation = activation_grad(X_test[id_], model)\n",
    "print(activation)\n",
    "plt.figure(figsize=(15,5))\n",
    "\n",
    "plt.plot(testX_inverse, 'k')\n",
    "#plt.plot(yhat, label='predict')\n",
    "#plt.plot(testY, label='true')\n",
    "plt.ylabel('PM2.5'); plt.xlabel('time lags'); #plt.title(pd.to_datetime(test_date[sequence_length+id_]))\n",
    "plt.twinx()\n",
    "#plt.xticks(a)\n",
    "plt.imshow(np.vstack([activation]*120), alpha=0.5, cmap='viridis')\n",
    "plt.axis('off'); plt.colorbar()\n",
    "plt.axis('off')\n",
    "#pylab.pcolor(np.vstack([activation]*120),cmap='jet',alpha=0.35)\n",
    "\n",
    "#pylab.colorbar()\n",
    "\n",
    "np.set_printoptions(False)\n",
    "\n",
    "plt.savefig('C:/Users/mozzimerci/jupyter notebook/time/chan/fff/png/pm2.5_grad cam_lstm-rescnn(1).png', dpi=300)"
   ]
  },
  {
   "cell_type": "code",
   "execution_count": 33,
   "id": "f20be116",
   "metadata": {},
   "outputs": [
    {
     "name": "stdout",
     "output_type": "stream",
     "text": [
      "1.0\n",
      "0.0\n",
      "1.0\n",
      "(1, 168, 8)\n"
     ]
    },
    {
     "data": {
      "text/plain": [
       "<Figure size 432x1440 with 0 Axes>"
      ]
     },
     "metadata": {},
     "output_type": "display_data"
    },
    {
     "data": {
      "image/png": "[encoded data removed]",
      "text/plain": [
       "<Figure size 432x288 with 2 Axes>"
      ]
     },
     "metadata": {
      "needs_background": "light"
     },
     "output_type": "display_data"
    }
   ],
   "source": [
    "import matplotlib.pyplot as plt\n",
    "import numpy as np\n",
    "\n",
    "X_test=testX\n",
    "\n",
    "grad_weight = gradient_weight(X_test[4], model)\n",
    "\n",
    "grad_weight_abs = abs(grad_weight)\n",
    "\n",
    "grad_weight_abs_z = (grad_weight_abs-(np.min(grad_weight_abs)))/(np.max(grad_weight_abs)-(np.min(grad_weight_abs)))\n",
    "\n",
    "print(np.max(grad_weight_abs_z))\n",
    "print(np.min(grad_weight_abs_z))\n",
    "print(np.max(grad_weight_abs_z)-np.min(grad_weight_abs_z))\n",
    "#grad_weight=grad_weight.reshape(48,4)\n",
    "\n",
    "print(grad_weight.shape)\n",
    "plt.figure(figsize=(6,20))\n",
    "\n",
    "#plt.plot(X_test[8], 'k')\n",
    "a=grad_weight.numpy()\n",
    "a=a.reshape(168,8)\n",
    "a=a.transpose()\n",
    "\n",
    "#print(a)\n",
    "fig, ax = plt.subplots(1,1)\n",
    "\n",
    "extent = [0 , 168, 0 , 8]\n",
    "y_label_list = [2,4,6,8]\n",
    "x_label_list = [0,24,48,72,96,120,144,168]\n",
    "ax.set_xticks([0,24,48,72,96,120,144,168])\n",
    "\n",
    "ax.set_yticks([24,48,72,96])\n",
    "\n",
    "ax.set_xticklabels(x_label_list)\n",
    "ax.set_yticklabels(y_label_list)\n",
    "\n",
    "ax.set_xticklabels(x_label_list)\n",
    "ax.set_yticklabels(y_label_list)\n",
    "ax.set_ylabel('Feature')\n",
    "ax.set_xlabel('Time Lag')\n",
    "\n",
    "plt.imshow(a,extent = [0 , 168, 0 , 96], vmin=0, vmax=0.5, cmap=\"Blues\", interpolation='nearest')\n",
    "plt.colorbar()\n",
    "\n",
    "plt.savefig('C:/Users/mozzimerci/jupyter notebook/time/chan/fff/png/pm2.5_feature importance_lstm-rescnn(1).png', dpi=300)"
   ]
  },
  {
   "cell_type": "code",
   "execution_count": null,
   "id": "a1172572",
   "metadata": {},
   "outputs": [],
   "source": []
  },
  {
   "cell_type": "code",
   "execution_count": null,
   "id": "f4eb22eb",
   "metadata": {},
   "outputs": [],
   "source": []
  },
  {
   "cell_type": "code",
   "execution_count": null,
   "id": "786bd6bb",
   "metadata": {},
   "outputs": [],
   "source": []
  },
  {
   "cell_type": "code",
   "execution_count": null,
   "id": "cc964585",
   "metadata": {},
   "outputs": [],
   "source": []
  }
 ],
 "metadata": {
  "colab": {
   "collapsed_sections": [],
   "name": "pm2.5 feature importance.ipynb",
   "provenance": []
  },
  "kernelspec": {
   "display_name": "Python 3",
   "language": "python",
   "name": "python3"
  },
  "language_info": {
   "codemirror_mode": {
    "name": "ipython",
    "version": 3
   },
   "file_extension": ".py",
   "mimetype": "text/x-python",
   "name": "python",
   "nbconvert_exporter": "python",
   "pygments_lexer": "ipython3",
   "version": "3.8.8"
  }
 },
 "nbformat": 4,
 "nbformat_minor": 5
}
