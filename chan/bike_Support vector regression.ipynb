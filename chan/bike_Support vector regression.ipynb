{
 "cells": [
  {
   "cell_type": "markdown",
   "id": "59d45cf8",
   "metadata": {},
   "source": [
    "# bike Decision tree regression"
   ]
  },
  {
   "cell_type": "code",
   "execution_count": 2,
   "id": "c91a910f",
   "metadata": {},
   "outputs": [],
   "source": [
    "import tensorflow as tf\n",
    "\n",
    "import numpy as np\n",
    "from tensorflow.keras.models import Sequential\n",
    "from tensorflow.keras.layers import LSTM, Bidirectional\n",
    "from tensorflow.keras.layers import Dense\n",
    "import matplotlib.pyplot as plt\n",
    "from sklearn.preprocessing import MinMaxScaler\n",
    "from sklearn.metrics import mean_squared_error\n",
    "from tensorflow.keras.layers import Activation, Dense, Dropout\n",
    "from tensorflow.keras import optimizers\n",
    "from pandas import Series\n",
    "import math\n",
    "import numpy\n",
    "from tensorflow.keras.layers import *\n",
    "from tensorflow.keras import layers\n",
    "import pandas as pd\n",
    "from math import *\n",
    "from sklearn.metrics import *\n",
    "\n",
    "data = pd.read_csv(\"C:\\\\Users\\\\mozzimerci\\\\jupyter notebook\\\\time\\\\bike_pm2.5\\\\SeoulBikeData (1).csv\",encoding='CP949')"
   ]
  },
  {
   "cell_type": "code",
   "execution_count": 3,
   "id": "0f70be8e",
   "metadata": {},
   "outputs": [],
   "source": [
    "from graphviz import *\n",
    "from sklearn.datasets import load_iris\n",
    "from sklearn import tree\n",
    " \n",
    "from collections import Counter\n",
    "from itertools import chain, combinations\n",
    " \n",
    "import ast\n",
    "import matplotlib.pyplot as plt\n",
    "import pandas as pd\n",
    "import numpy as np \n",
    "import graphviz\n",
    "import seaborn as sns\n",
    "from sklearn import datasets, svm, metrics\n",
    "from pandas import DataFrame\n",
    "from sklearn.svm import SVR"
   ]
  },
  {
   "cell_type": "code",
   "execution_count": 4,
   "id": "21aa812c",
   "metadata": {},
   "outputs": [
    {
     "data": {
      "text/html": [
       "<div>\n",
       "<style scoped>\n",
       "    .dataframe tbody tr th:only-of-type {\n",
       "        vertical-align: middle;\n",
       "    }\n",
       "\n",
       "    .dataframe tbody tr th {\n",
       "        vertical-align: top;\n",
       "    }\n",
       "\n",
       "    .dataframe thead th {\n",
       "        text-align: right;\n",
       "    }\n",
       "</style>\n",
       "<table border=\"1\" class=\"dataframe\">\n",
       "  <thead>\n",
       "    <tr style=\"text-align: right;\">\n",
       "      <th></th>\n",
       "      <th>Date</th>\n",
       "      <th>Rented Bike Count</th>\n",
       "      <th>Hour</th>\n",
       "      <th>Temperature</th>\n",
       "      <th>Humidity(%)</th>\n",
       "      <th>Wind speed (m/s)</th>\n",
       "      <th>Visibility (10m)</th>\n",
       "      <th>Dew point temperature</th>\n",
       "      <th>Solar Radiation (MJ/m2)</th>\n",
       "      <th>Rainfall(mm)</th>\n",
       "      <th>Snowfall (cm)</th>\n",
       "      <th>Seasons</th>\n",
       "      <th>Holiday</th>\n",
       "      <th>Functioning Day</th>\n",
       "    </tr>\n",
       "  </thead>\n",
       "  <tbody>\n",
       "    <tr>\n",
       "      <th>0</th>\n",
       "      <td>01/12/2017</td>\n",
       "      <td>254</td>\n",
       "      <td>0</td>\n",
       "      <td>-5.2</td>\n",
       "      <td>37</td>\n",
       "      <td>2.2</td>\n",
       "      <td>2000</td>\n",
       "      <td>-17.6</td>\n",
       "      <td>0.0</td>\n",
       "      <td>0.0</td>\n",
       "      <td>0.0</td>\n",
       "      <td>Winter</td>\n",
       "      <td>No Holiday</td>\n",
       "      <td>Yes</td>\n",
       "    </tr>\n",
       "    <tr>\n",
       "      <th>1</th>\n",
       "      <td>01/12/2017</td>\n",
       "      <td>204</td>\n",
       "      <td>1</td>\n",
       "      <td>-5.5</td>\n",
       "      <td>38</td>\n",
       "      <td>0.8</td>\n",
       "      <td>2000</td>\n",
       "      <td>-17.6</td>\n",
       "      <td>0.0</td>\n",
       "      <td>0.0</td>\n",
       "      <td>0.0</td>\n",
       "      <td>Winter</td>\n",
       "      <td>No Holiday</td>\n",
       "      <td>Yes</td>\n",
       "    </tr>\n",
       "    <tr>\n",
       "      <th>2</th>\n",
       "      <td>01/12/2017</td>\n",
       "      <td>173</td>\n",
       "      <td>2</td>\n",
       "      <td>-6.0</td>\n",
       "      <td>39</td>\n",
       "      <td>1.0</td>\n",
       "      <td>2000</td>\n",
       "      <td>-17.7</td>\n",
       "      <td>0.0</td>\n",
       "      <td>0.0</td>\n",
       "      <td>0.0</td>\n",
       "      <td>Winter</td>\n",
       "      <td>No Holiday</td>\n",
       "      <td>Yes</td>\n",
       "    </tr>\n",
       "    <tr>\n",
       "      <th>3</th>\n",
       "      <td>01/12/2017</td>\n",
       "      <td>107</td>\n",
       "      <td>3</td>\n",
       "      <td>-6.2</td>\n",
       "      <td>40</td>\n",
       "      <td>0.9</td>\n",
       "      <td>2000</td>\n",
       "      <td>-17.6</td>\n",
       "      <td>0.0</td>\n",
       "      <td>0.0</td>\n",
       "      <td>0.0</td>\n",
       "      <td>Winter</td>\n",
       "      <td>No Holiday</td>\n",
       "      <td>Yes</td>\n",
       "    </tr>\n",
       "    <tr>\n",
       "      <th>4</th>\n",
       "      <td>01/12/2017</td>\n",
       "      <td>78</td>\n",
       "      <td>4</td>\n",
       "      <td>-6.0</td>\n",
       "      <td>36</td>\n",
       "      <td>2.3</td>\n",
       "      <td>2000</td>\n",
       "      <td>-18.6</td>\n",
       "      <td>0.0</td>\n",
       "      <td>0.0</td>\n",
       "      <td>0.0</td>\n",
       "      <td>Winter</td>\n",
       "      <td>No Holiday</td>\n",
       "      <td>Yes</td>\n",
       "    </tr>\n",
       "    <tr>\n",
       "      <th>...</th>\n",
       "      <td>...</td>\n",
       "      <td>...</td>\n",
       "      <td>...</td>\n",
       "      <td>...</td>\n",
       "      <td>...</td>\n",
       "      <td>...</td>\n",
       "      <td>...</td>\n",
       "      <td>...</td>\n",
       "      <td>...</td>\n",
       "      <td>...</td>\n",
       "      <td>...</td>\n",
       "      <td>...</td>\n",
       "      <td>...</td>\n",
       "      <td>...</td>\n",
       "    </tr>\n",
       "    <tr>\n",
       "      <th>8755</th>\n",
       "      <td>30/11/2018</td>\n",
       "      <td>1003</td>\n",
       "      <td>19</td>\n",
       "      <td>4.2</td>\n",
       "      <td>34</td>\n",
       "      <td>2.6</td>\n",
       "      <td>1894</td>\n",
       "      <td>-10.3</td>\n",
       "      <td>0.0</td>\n",
       "      <td>0.0</td>\n",
       "      <td>0.0</td>\n",
       "      <td>Autumn</td>\n",
       "      <td>No Holiday</td>\n",
       "      <td>Yes</td>\n",
       "    </tr>\n",
       "    <tr>\n",
       "      <th>8756</th>\n",
       "      <td>30/11/2018</td>\n",
       "      <td>764</td>\n",
       "      <td>20</td>\n",
       "      <td>3.4</td>\n",
       "      <td>37</td>\n",
       "      <td>2.3</td>\n",
       "      <td>2000</td>\n",
       "      <td>-9.9</td>\n",
       "      <td>0.0</td>\n",
       "      <td>0.0</td>\n",
       "      <td>0.0</td>\n",
       "      <td>Autumn</td>\n",
       "      <td>No Holiday</td>\n",
       "      <td>Yes</td>\n",
       "    </tr>\n",
       "    <tr>\n",
       "      <th>8757</th>\n",
       "      <td>30/11/2018</td>\n",
       "      <td>694</td>\n",
       "      <td>21</td>\n",
       "      <td>2.6</td>\n",
       "      <td>39</td>\n",
       "      <td>0.3</td>\n",
       "      <td>1968</td>\n",
       "      <td>-9.9</td>\n",
       "      <td>0.0</td>\n",
       "      <td>0.0</td>\n",
       "      <td>0.0</td>\n",
       "      <td>Autumn</td>\n",
       "      <td>No Holiday</td>\n",
       "      <td>Yes</td>\n",
       "    </tr>\n",
       "    <tr>\n",
       "      <th>8758</th>\n",
       "      <td>30/11/2018</td>\n",
       "      <td>712</td>\n",
       "      <td>22</td>\n",
       "      <td>2.1</td>\n",
       "      <td>41</td>\n",
       "      <td>1.0</td>\n",
       "      <td>1859</td>\n",
       "      <td>-9.8</td>\n",
       "      <td>0.0</td>\n",
       "      <td>0.0</td>\n",
       "      <td>0.0</td>\n",
       "      <td>Autumn</td>\n",
       "      <td>No Holiday</td>\n",
       "      <td>Yes</td>\n",
       "    </tr>\n",
       "    <tr>\n",
       "      <th>8759</th>\n",
       "      <td>30/11/2018</td>\n",
       "      <td>584</td>\n",
       "      <td>23</td>\n",
       "      <td>1.9</td>\n",
       "      <td>43</td>\n",
       "      <td>1.3</td>\n",
       "      <td>1909</td>\n",
       "      <td>-9.3</td>\n",
       "      <td>0.0</td>\n",
       "      <td>0.0</td>\n",
       "      <td>0.0</td>\n",
       "      <td>Autumn</td>\n",
       "      <td>No Holiday</td>\n",
       "      <td>Yes</td>\n",
       "    </tr>\n",
       "  </tbody>\n",
       "</table>\n",
       "<p>8760 rows × 14 columns</p>\n",
       "</div>"
      ],
      "text/plain": [
       "            Date  Rented Bike Count  Hour  Temperature  Humidity(%)  \\\n",
       "0     01/12/2017                254     0         -5.2           37   \n",
       "1     01/12/2017                204     1         -5.5           38   \n",
       "2     01/12/2017                173     2         -6.0           39   \n",
       "3     01/12/2017                107     3         -6.2           40   \n",
       "4     01/12/2017                 78     4         -6.0           36   \n",
       "...          ...                ...   ...          ...          ...   \n",
       "8755  30/11/2018               1003    19          4.2           34   \n",
       "8756  30/11/2018                764    20          3.4           37   \n",
       "8757  30/11/2018                694    21          2.6           39   \n",
       "8758  30/11/2018                712    22          2.1           41   \n",
       "8759  30/11/2018                584    23          1.9           43   \n",
       "\n",
       "      Wind speed (m/s)  Visibility (10m)  Dew point temperature  \\\n",
       "0                  2.2              2000                  -17.6   \n",
       "1                  0.8              2000                  -17.6   \n",
       "2                  1.0              2000                  -17.7   \n",
       "3                  0.9              2000                  -17.6   \n",
       "4                  2.3              2000                  -18.6   \n",
       "...                ...               ...                    ...   \n",
       "8755               2.6              1894                  -10.3   \n",
       "8756               2.3              2000                   -9.9   \n",
       "8757               0.3              1968                   -9.9   \n",
       "8758               1.0              1859                   -9.8   \n",
       "8759               1.3              1909                   -9.3   \n",
       "\n",
       "      Solar Radiation (MJ/m2)  Rainfall(mm)  Snowfall (cm) Seasons  \\\n",
       "0                         0.0           0.0            0.0  Winter   \n",
       "1                         0.0           0.0            0.0  Winter   \n",
       "2                         0.0           0.0            0.0  Winter   \n",
       "3                         0.0           0.0            0.0  Winter   \n",
       "4                         0.0           0.0            0.0  Winter   \n",
       "...                       ...           ...            ...     ...   \n",
       "8755                      0.0           0.0            0.0  Autumn   \n",
       "8756                      0.0           0.0            0.0  Autumn   \n",
       "8757                      0.0           0.0            0.0  Autumn   \n",
       "8758                      0.0           0.0            0.0  Autumn   \n",
       "8759                      0.0           0.0            0.0  Autumn   \n",
       "\n",
       "         Holiday Functioning Day  \n",
       "0     No Holiday             Yes  \n",
       "1     No Holiday             Yes  \n",
       "2     No Holiday             Yes  \n",
       "3     No Holiday             Yes  \n",
       "4     No Holiday             Yes  \n",
       "...          ...             ...  \n",
       "8755  No Holiday             Yes  \n",
       "8756  No Holiday             Yes  \n",
       "8757  No Holiday             Yes  \n",
       "8758  No Holiday             Yes  \n",
       "8759  No Holiday             Yes  \n",
       "\n",
       "[8760 rows x 14 columns]"
      ]
     },
     "execution_count": 4,
     "metadata": {},
     "output_type": "execute_result"
    }
   ],
   "source": [
    "data"
   ]
  },
  {
   "cell_type": "code",
   "execution_count": 5,
   "id": "113a0080",
   "metadata": {},
   "outputs": [
    {
     "data": {
      "text/plain": [
       "295"
      ]
     },
     "execution_count": 5,
     "metadata": {},
     "output_type": "execute_result"
    }
   ],
   "source": [
    "sum(data['Rented Bike Count']==0)"
   ]
  },
  {
   "cell_type": "code",
   "execution_count": 6,
   "id": "014c528d",
   "metadata": {},
   "outputs": [
    {
     "data": {
      "text/plain": [
       "[<matplotlib.lines.Line2D at 0x25d0aa63670>]"
      ]
     },
     "execution_count": 6,
     "metadata": {},
     "output_type": "execute_result"
    },
    {
     "data": {
      "image/png": "[encoded data removed]",
      "text/plain": [
       "<Figure size 432x288 with 1 Axes>"
      ]
     },
     "metadata": {
      "needs_background": "light"
     },
     "output_type": "display_data"
    }
   ],
   "source": [
    "plt.plot(data['Rented Bike Count'])"
   ]
  },
  {
   "cell_type": "code",
   "execution_count": 7,
   "id": "12ad42b8",
   "metadata": {},
   "outputs": [
    {
     "data": {
      "text/html": [
       "<div>\n",
       "<style scoped>\n",
       "    .dataframe tbody tr th:only-of-type {\n",
       "        vertical-align: middle;\n",
       "    }\n",
       "\n",
       "    .dataframe tbody tr th {\n",
       "        vertical-align: top;\n",
       "    }\n",
       "\n",
       "    .dataframe thead th {\n",
       "        text-align: right;\n",
       "    }\n",
       "</style>\n",
       "<table border=\"1\" class=\"dataframe\">\n",
       "  <thead>\n",
       "    <tr style=\"text-align: right;\">\n",
       "      <th></th>\n",
       "      <th>Date</th>\n",
       "      <th>Rented Bike Count</th>\n",
       "      <th>Hour</th>\n",
       "      <th>Temperature</th>\n",
       "      <th>Humidity(%)</th>\n",
       "      <th>Wind speed (m/s)</th>\n",
       "      <th>Visibility (10m)</th>\n",
       "      <th>Dew point temperature</th>\n",
       "      <th>Solar Radiation (MJ/m2)</th>\n",
       "      <th>Rainfall(mm)</th>\n",
       "      <th>Snowfall (cm)</th>\n",
       "      <th>Seasons</th>\n",
       "      <th>Holiday</th>\n",
       "      <th>Functioning Day</th>\n",
       "    </tr>\n",
       "  </thead>\n",
       "  <tbody>\n",
       "    <tr>\n",
       "      <th>0</th>\n",
       "      <td>01/12/2017</td>\n",
       "      <td>254</td>\n",
       "      <td>0</td>\n",
       "      <td>-5.2</td>\n",
       "      <td>37</td>\n",
       "      <td>2.2</td>\n",
       "      <td>2000</td>\n",
       "      <td>-17.6</td>\n",
       "      <td>0.0</td>\n",
       "      <td>0.0</td>\n",
       "      <td>0.0</td>\n",
       "      <td>Winter</td>\n",
       "      <td>No Holiday</td>\n",
       "      <td>Yes</td>\n",
       "    </tr>\n",
       "    <tr>\n",
       "      <th>1</th>\n",
       "      <td>01/12/2017</td>\n",
       "      <td>204</td>\n",
       "      <td>1</td>\n",
       "      <td>-5.5</td>\n",
       "      <td>38</td>\n",
       "      <td>0.8</td>\n",
       "      <td>2000</td>\n",
       "      <td>-17.6</td>\n",
       "      <td>0.0</td>\n",
       "      <td>0.0</td>\n",
       "      <td>0.0</td>\n",
       "      <td>Winter</td>\n",
       "      <td>No Holiday</td>\n",
       "      <td>Yes</td>\n",
       "    </tr>\n",
       "    <tr>\n",
       "      <th>2</th>\n",
       "      <td>01/12/2017</td>\n",
       "      <td>173</td>\n",
       "      <td>2</td>\n",
       "      <td>-6.0</td>\n",
       "      <td>39</td>\n",
       "      <td>1.0</td>\n",
       "      <td>2000</td>\n",
       "      <td>-17.7</td>\n",
       "      <td>0.0</td>\n",
       "      <td>0.0</td>\n",
       "      <td>0.0</td>\n",
       "      <td>Winter</td>\n",
       "      <td>No Holiday</td>\n",
       "      <td>Yes</td>\n",
       "    </tr>\n",
       "    <tr>\n",
       "      <th>3</th>\n",
       "      <td>01/12/2017</td>\n",
       "      <td>107</td>\n",
       "      <td>3</td>\n",
       "      <td>-6.2</td>\n",
       "      <td>40</td>\n",
       "      <td>0.9</td>\n",
       "      <td>2000</td>\n",
       "      <td>-17.6</td>\n",
       "      <td>0.0</td>\n",
       "      <td>0.0</td>\n",
       "      <td>0.0</td>\n",
       "      <td>Winter</td>\n",
       "      <td>No Holiday</td>\n",
       "      <td>Yes</td>\n",
       "    </tr>\n",
       "    <tr>\n",
       "      <th>4</th>\n",
       "      <td>01/12/2017</td>\n",
       "      <td>78</td>\n",
       "      <td>4</td>\n",
       "      <td>-6.0</td>\n",
       "      <td>36</td>\n",
       "      <td>2.3</td>\n",
       "      <td>2000</td>\n",
       "      <td>-18.6</td>\n",
       "      <td>0.0</td>\n",
       "      <td>0.0</td>\n",
       "      <td>0.0</td>\n",
       "      <td>Winter</td>\n",
       "      <td>No Holiday</td>\n",
       "      <td>Yes</td>\n",
       "    </tr>\n",
       "    <tr>\n",
       "      <th>...</th>\n",
       "      <td>...</td>\n",
       "      <td>...</td>\n",
       "      <td>...</td>\n",
       "      <td>...</td>\n",
       "      <td>...</td>\n",
       "      <td>...</td>\n",
       "      <td>...</td>\n",
       "      <td>...</td>\n",
       "      <td>...</td>\n",
       "      <td>...</td>\n",
       "      <td>...</td>\n",
       "      <td>...</td>\n",
       "      <td>...</td>\n",
       "      <td>...</td>\n",
       "    </tr>\n",
       "    <tr>\n",
       "      <th>8755</th>\n",
       "      <td>30/11/2018</td>\n",
       "      <td>1003</td>\n",
       "      <td>19</td>\n",
       "      <td>4.2</td>\n",
       "      <td>34</td>\n",
       "      <td>2.6</td>\n",
       "      <td>1894</td>\n",
       "      <td>-10.3</td>\n",
       "      <td>0.0</td>\n",
       "      <td>0.0</td>\n",
       "      <td>0.0</td>\n",
       "      <td>Autumn</td>\n",
       "      <td>No Holiday</td>\n",
       "      <td>Yes</td>\n",
       "    </tr>\n",
       "    <tr>\n",
       "      <th>8756</th>\n",
       "      <td>30/11/2018</td>\n",
       "      <td>764</td>\n",
       "      <td>20</td>\n",
       "      <td>3.4</td>\n",
       "      <td>37</td>\n",
       "      <td>2.3</td>\n",
       "      <td>2000</td>\n",
       "      <td>-9.9</td>\n",
       "      <td>0.0</td>\n",
       "      <td>0.0</td>\n",
       "      <td>0.0</td>\n",
       "      <td>Autumn</td>\n",
       "      <td>No Holiday</td>\n",
       "      <td>Yes</td>\n",
       "    </tr>\n",
       "    <tr>\n",
       "      <th>8757</th>\n",
       "      <td>30/11/2018</td>\n",
       "      <td>694</td>\n",
       "      <td>21</td>\n",
       "      <td>2.6</td>\n",
       "      <td>39</td>\n",
       "      <td>0.3</td>\n",
       "      <td>1968</td>\n",
       "      <td>-9.9</td>\n",
       "      <td>0.0</td>\n",
       "      <td>0.0</td>\n",
       "      <td>0.0</td>\n",
       "      <td>Autumn</td>\n",
       "      <td>No Holiday</td>\n",
       "      <td>Yes</td>\n",
       "    </tr>\n",
       "    <tr>\n",
       "      <th>8758</th>\n",
       "      <td>30/11/2018</td>\n",
       "      <td>712</td>\n",
       "      <td>22</td>\n",
       "      <td>2.1</td>\n",
       "      <td>41</td>\n",
       "      <td>1.0</td>\n",
       "      <td>1859</td>\n",
       "      <td>-9.8</td>\n",
       "      <td>0.0</td>\n",
       "      <td>0.0</td>\n",
       "      <td>0.0</td>\n",
       "      <td>Autumn</td>\n",
       "      <td>No Holiday</td>\n",
       "      <td>Yes</td>\n",
       "    </tr>\n",
       "    <tr>\n",
       "      <th>8759</th>\n",
       "      <td>30/11/2018</td>\n",
       "      <td>584</td>\n",
       "      <td>23</td>\n",
       "      <td>1.9</td>\n",
       "      <td>43</td>\n",
       "      <td>1.3</td>\n",
       "      <td>1909</td>\n",
       "      <td>-9.3</td>\n",
       "      <td>0.0</td>\n",
       "      <td>0.0</td>\n",
       "      <td>0.0</td>\n",
       "      <td>Autumn</td>\n",
       "      <td>No Holiday</td>\n",
       "      <td>Yes</td>\n",
       "    </tr>\n",
       "  </tbody>\n",
       "</table>\n",
       "<p>8760 rows × 14 columns</p>\n",
       "</div>"
      ],
      "text/plain": [
       "            Date  Rented Bike Count  Hour  Temperature  Humidity(%)  \\\n",
       "0     01/12/2017                254     0         -5.2           37   \n",
       "1     01/12/2017                204     1         -5.5           38   \n",
       "2     01/12/2017                173     2         -6.0           39   \n",
       "3     01/12/2017                107     3         -6.2           40   \n",
       "4     01/12/2017                 78     4         -6.0           36   \n",
       "...          ...                ...   ...          ...          ...   \n",
       "8755  30/11/2018               1003    19          4.2           34   \n",
       "8756  30/11/2018                764    20          3.4           37   \n",
       "8757  30/11/2018                694    21          2.6           39   \n",
       "8758  30/11/2018                712    22          2.1           41   \n",
       "8759  30/11/2018                584    23          1.9           43   \n",
       "\n",
       "      Wind speed (m/s)  Visibility (10m)  Dew point temperature  \\\n",
       "0                  2.2              2000                  -17.6   \n",
       "1                  0.8              2000                  -17.6   \n",
       "2                  1.0              2000                  -17.7   \n",
       "3                  0.9              2000                  -17.6   \n",
       "4                  2.3              2000                  -18.6   \n",
       "...                ...               ...                    ...   \n",
       "8755               2.6              1894                  -10.3   \n",
       "8756               2.3              2000                   -9.9   \n",
       "8757               0.3              1968                   -9.9   \n",
       "8758               1.0              1859                   -9.8   \n",
       "8759               1.3              1909                   -9.3   \n",
       "\n",
       "      Solar Radiation (MJ/m2)  Rainfall(mm)  Snowfall (cm) Seasons  \\\n",
       "0                         0.0           0.0            0.0  Winter   \n",
       "1                         0.0           0.0            0.0  Winter   \n",
       "2                         0.0           0.0            0.0  Winter   \n",
       "3                         0.0           0.0            0.0  Winter   \n",
       "4                         0.0           0.0            0.0  Winter   \n",
       "...                       ...           ...            ...     ...   \n",
       "8755                      0.0           0.0            0.0  Autumn   \n",
       "8756                      0.0           0.0            0.0  Autumn   \n",
       "8757                      0.0           0.0            0.0  Autumn   \n",
       "8758                      0.0           0.0            0.0  Autumn   \n",
       "8759                      0.0           0.0            0.0  Autumn   \n",
       "\n",
       "         Holiday Functioning Day  \n",
       "0     No Holiday             Yes  \n",
       "1     No Holiday             Yes  \n",
       "2     No Holiday             Yes  \n",
       "3     No Holiday             Yes  \n",
       "4     No Holiday             Yes  \n",
       "...          ...             ...  \n",
       "8755  No Holiday             Yes  \n",
       "8756  No Holiday             Yes  \n",
       "8757  No Holiday             Yes  \n",
       "8758  No Holiday             Yes  \n",
       "8759  No Holiday             Yes  \n",
       "\n",
       "[8760 rows x 14 columns]"
      ]
     },
     "execution_count": 7,
     "metadata": {},
     "output_type": "execute_result"
    }
   ],
   "source": [
    "data"
   ]
  },
  {
   "cell_type": "code",
   "execution_count": 8,
   "id": "67eb038d",
   "metadata": {},
   "outputs": [],
   "source": [
    "data['Holiday']=data['Holiday'].factorize()[0]\n",
    "data['Seasons']=data['Seasons'].factorize()[0]\n",
    "data['Functioning Day']=data['Functioning Day'].factorize()[0]"
   ]
  },
  {
   "cell_type": "code",
   "execution_count": 9,
   "id": "2e8819b5",
   "metadata": {},
   "outputs": [],
   "source": [
    "cols=data.columns[1:-3]\n",
    "cols=cols.drop(['Hour'])"
   ]
  },
  {
   "cell_type": "code",
   "execution_count": 10,
   "id": "3526fc24",
   "metadata": {},
   "outputs": [
    {
     "data": {
      "text/plain": [
       "Index(['Rented Bike Count', 'Temperature', 'Humidity(%)', 'Wind speed (m/s)',\n",
       "       'Visibility (10m)', 'Dew point temperature', 'Solar Radiation (MJ/m2)',\n",
       "       'Rainfall(mm)', 'Snowfall (cm)'],\n",
       "      dtype='object')"
      ]
     },
     "execution_count": 10,
     "metadata": {},
     "output_type": "execute_result"
    }
   ],
   "source": [
    "cols"
   ]
  },
  {
   "cell_type": "code",
   "execution_count": 11,
   "id": "334f4c86",
   "metadata": {},
   "outputs": [
    {
     "data": {
      "text/html": [
       "<div>\n",
       "<style scoped>\n",
       "    .dataframe tbody tr th:only-of-type {\n",
       "        vertical-align: middle;\n",
       "    }\n",
       "\n",
       "    .dataframe tbody tr th {\n",
       "        vertical-align: top;\n",
       "    }\n",
       "\n",
       "    .dataframe thead th {\n",
       "        text-align: right;\n",
       "    }\n",
       "</style>\n",
       "<table border=\"1\" class=\"dataframe\">\n",
       "  <thead>\n",
       "    <tr style=\"text-align: right;\">\n",
       "      <th></th>\n",
       "      <th>Date</th>\n",
       "      <th>Rented Bike Count</th>\n",
       "      <th>Hour</th>\n",
       "      <th>Temperature</th>\n",
       "      <th>Humidity(%)</th>\n",
       "      <th>Wind speed (m/s)</th>\n",
       "      <th>Visibility (10m)</th>\n",
       "      <th>Dew point temperature</th>\n",
       "      <th>Solar Radiation (MJ/m2)</th>\n",
       "      <th>Rainfall(mm)</th>\n",
       "      <th>Snowfall (cm)</th>\n",
       "      <th>Seasons</th>\n",
       "      <th>Holiday</th>\n",
       "      <th>Functioning Day</th>\n",
       "    </tr>\n",
       "  </thead>\n",
       "  <tbody>\n",
       "    <tr>\n",
       "      <th>0</th>\n",
       "      <td>01/12/2017</td>\n",
       "      <td>254</td>\n",
       "      <td>0</td>\n",
       "      <td>-5.2</td>\n",
       "      <td>37</td>\n",
       "      <td>2.2</td>\n",
       "      <td>2000</td>\n",
       "      <td>-17.6</td>\n",
       "      <td>0.0</td>\n",
       "      <td>0.0</td>\n",
       "      <td>0.0</td>\n",
       "      <td>0</td>\n",
       "      <td>0</td>\n",
       "      <td>0</td>\n",
       "    </tr>\n",
       "    <tr>\n",
       "      <th>1</th>\n",
       "      <td>01/12/2017</td>\n",
       "      <td>204</td>\n",
       "      <td>1</td>\n",
       "      <td>-5.5</td>\n",
       "      <td>38</td>\n",
       "      <td>0.8</td>\n",
       "      <td>2000</td>\n",
       "      <td>-17.6</td>\n",
       "      <td>0.0</td>\n",
       "      <td>0.0</td>\n",
       "      <td>0.0</td>\n",
       "      <td>0</td>\n",
       "      <td>0</td>\n",
       "      <td>0</td>\n",
       "    </tr>\n",
       "    <tr>\n",
       "      <th>2</th>\n",
       "      <td>01/12/2017</td>\n",
       "      <td>173</td>\n",
       "      <td>2</td>\n",
       "      <td>-6.0</td>\n",
       "      <td>39</td>\n",
       "      <td>1.0</td>\n",
       "      <td>2000</td>\n",
       "      <td>-17.7</td>\n",
       "      <td>0.0</td>\n",
       "      <td>0.0</td>\n",
       "      <td>0.0</td>\n",
       "      <td>0</td>\n",
       "      <td>0</td>\n",
       "      <td>0</td>\n",
       "    </tr>\n",
       "    <tr>\n",
       "      <th>3</th>\n",
       "      <td>01/12/2017</td>\n",
       "      <td>107</td>\n",
       "      <td>3</td>\n",
       "      <td>-6.2</td>\n",
       "      <td>40</td>\n",
       "      <td>0.9</td>\n",
       "      <td>2000</td>\n",
       "      <td>-17.6</td>\n",
       "      <td>0.0</td>\n",
       "      <td>0.0</td>\n",
       "      <td>0.0</td>\n",
       "      <td>0</td>\n",
       "      <td>0</td>\n",
       "      <td>0</td>\n",
       "    </tr>\n",
       "    <tr>\n",
       "      <th>4</th>\n",
       "      <td>01/12/2017</td>\n",
       "      <td>78</td>\n",
       "      <td>4</td>\n",
       "      <td>-6.0</td>\n",
       "      <td>36</td>\n",
       "      <td>2.3</td>\n",
       "      <td>2000</td>\n",
       "      <td>-18.6</td>\n",
       "      <td>0.0</td>\n",
       "      <td>0.0</td>\n",
       "      <td>0.0</td>\n",
       "      <td>0</td>\n",
       "      <td>0</td>\n",
       "      <td>0</td>\n",
       "    </tr>\n",
       "    <tr>\n",
       "      <th>...</th>\n",
       "      <td>...</td>\n",
       "      <td>...</td>\n",
       "      <td>...</td>\n",
       "      <td>...</td>\n",
       "      <td>...</td>\n",
       "      <td>...</td>\n",
       "      <td>...</td>\n",
       "      <td>...</td>\n",
       "      <td>...</td>\n",
       "      <td>...</td>\n",
       "      <td>...</td>\n",
       "      <td>...</td>\n",
       "      <td>...</td>\n",
       "      <td>...</td>\n",
       "    </tr>\n",
       "    <tr>\n",
       "      <th>8755</th>\n",
       "      <td>30/11/2018</td>\n",
       "      <td>1003</td>\n",
       "      <td>19</td>\n",
       "      <td>4.2</td>\n",
       "      <td>34</td>\n",
       "      <td>2.6</td>\n",
       "      <td>1894</td>\n",
       "      <td>-10.3</td>\n",
       "      <td>0.0</td>\n",
       "      <td>0.0</td>\n",
       "      <td>0.0</td>\n",
       "      <td>3</td>\n",
       "      <td>0</td>\n",
       "      <td>0</td>\n",
       "    </tr>\n",
       "    <tr>\n",
       "      <th>8756</th>\n",
       "      <td>30/11/2018</td>\n",
       "      <td>764</td>\n",
       "      <td>20</td>\n",
       "      <td>3.4</td>\n",
       "      <td>37</td>\n",
       "      <td>2.3</td>\n",
       "      <td>2000</td>\n",
       "      <td>-9.9</td>\n",
       "      <td>0.0</td>\n",
       "      <td>0.0</td>\n",
       "      <td>0.0</td>\n",
       "      <td>3</td>\n",
       "      <td>0</td>\n",
       "      <td>0</td>\n",
       "    </tr>\n",
       "    <tr>\n",
       "      <th>8757</th>\n",
       "      <td>30/11/2018</td>\n",
       "      <td>694</td>\n",
       "      <td>21</td>\n",
       "      <td>2.6</td>\n",
       "      <td>39</td>\n",
       "      <td>0.3</td>\n",
       "      <td>1968</td>\n",
       "      <td>-9.9</td>\n",
       "      <td>0.0</td>\n",
       "      <td>0.0</td>\n",
       "      <td>0.0</td>\n",
       "      <td>3</td>\n",
       "      <td>0</td>\n",
       "      <td>0</td>\n",
       "    </tr>\n",
       "    <tr>\n",
       "      <th>8758</th>\n",
       "      <td>30/11/2018</td>\n",
       "      <td>712</td>\n",
       "      <td>22</td>\n",
       "      <td>2.1</td>\n",
       "      <td>41</td>\n",
       "      <td>1.0</td>\n",
       "      <td>1859</td>\n",
       "      <td>-9.8</td>\n",
       "      <td>0.0</td>\n",
       "      <td>0.0</td>\n",
       "      <td>0.0</td>\n",
       "      <td>3</td>\n",
       "      <td>0</td>\n",
       "      <td>0</td>\n",
       "    </tr>\n",
       "    <tr>\n",
       "      <th>8759</th>\n",
       "      <td>30/11/2018</td>\n",
       "      <td>584</td>\n",
       "      <td>23</td>\n",
       "      <td>1.9</td>\n",
       "      <td>43</td>\n",
       "      <td>1.3</td>\n",
       "      <td>1909</td>\n",
       "      <td>-9.3</td>\n",
       "      <td>0.0</td>\n",
       "      <td>0.0</td>\n",
       "      <td>0.0</td>\n",
       "      <td>3</td>\n",
       "      <td>0</td>\n",
       "      <td>0</td>\n",
       "    </tr>\n",
       "  </tbody>\n",
       "</table>\n",
       "<p>8760 rows × 14 columns</p>\n",
       "</div>"
      ],
      "text/plain": [
       "            Date  Rented Bike Count  Hour  Temperature  Humidity(%)  \\\n",
       "0     01/12/2017                254     0         -5.2           37   \n",
       "1     01/12/2017                204     1         -5.5           38   \n",
       "2     01/12/2017                173     2         -6.0           39   \n",
       "3     01/12/2017                107     3         -6.2           40   \n",
       "4     01/12/2017                 78     4         -6.0           36   \n",
       "...          ...                ...   ...          ...          ...   \n",
       "8755  30/11/2018               1003    19          4.2           34   \n",
       "8756  30/11/2018                764    20          3.4           37   \n",
       "8757  30/11/2018                694    21          2.6           39   \n",
       "8758  30/11/2018                712    22          2.1           41   \n",
       "8759  30/11/2018                584    23          1.9           43   \n",
       "\n",
       "      Wind speed (m/s)  Visibility (10m)  Dew point temperature  \\\n",
       "0                  2.2              2000                  -17.6   \n",
       "1                  0.8              2000                  -17.6   \n",
       "2                  1.0              2000                  -17.7   \n",
       "3                  0.9              2000                  -17.6   \n",
       "4                  2.3              2000                  -18.6   \n",
       "...                ...               ...                    ...   \n",
       "8755               2.6              1894                  -10.3   \n",
       "8756               2.3              2000                   -9.9   \n",
       "8757               0.3              1968                   -9.9   \n",
       "8758               1.0              1859                   -9.8   \n",
       "8759               1.3              1909                   -9.3   \n",
       "\n",
       "      Solar Radiation (MJ/m2)  Rainfall(mm)  Snowfall (cm)  Seasons  Holiday  \\\n",
       "0                         0.0           0.0            0.0        0        0   \n",
       "1                         0.0           0.0            0.0        0        0   \n",
       "2                         0.0           0.0            0.0        0        0   \n",
       "3                         0.0           0.0            0.0        0        0   \n",
       "4                         0.0           0.0            0.0        0        0   \n",
       "...                       ...           ...            ...      ...      ...   \n",
       "8755                      0.0           0.0            0.0        3        0   \n",
       "8756                      0.0           0.0            0.0        3        0   \n",
       "8757                      0.0           0.0            0.0        3        0   \n",
       "8758                      0.0           0.0            0.0        3        0   \n",
       "8759                      0.0           0.0            0.0        3        0   \n",
       "\n",
       "      Functioning Day  \n",
       "0                   0  \n",
       "1                   0  \n",
       "2                   0  \n",
       "3                   0  \n",
       "4                   0  \n",
       "...               ...  \n",
       "8755                0  \n",
       "8756                0  \n",
       "8757                0  \n",
       "8758                0  \n",
       "8759                0  \n",
       "\n",
       "[8760 rows x 14 columns]"
      ]
     },
     "execution_count": 11,
     "metadata": {},
     "output_type": "execute_result"
    }
   ],
   "source": [
    "data"
   ]
  },
  {
   "cell_type": "code",
   "execution_count": 12,
   "id": "256a874b",
   "metadata": {},
   "outputs": [],
   "source": [
    "#date_time = pd.to_datetime(data.pop('Date'), format='%d/%m/%Y')\n",
    "#date_time"
   ]
  },
  {
   "cell_type": "code",
   "execution_count": 13,
   "id": "19f74fdf",
   "metadata": {},
   "outputs": [],
   "source": [
    "from sklearn.preprocessing import MinMaxScaler\n",
    "values = data[cols].values.reshape(-1,9)\n",
    "#scaled = values.astype('float32')\n",
    "#scaler = MinMaxScaler(feature_range=(0, 1))\n",
    "#scaled = (values-(np.min(values)))/(np.max(values)-(np.min(values)))\n",
    "#scaled=scaler.fit_transform(values)"
   ]
  },
  {
   "cell_type": "code",
   "execution_count": 14,
   "id": "35e95529",
   "metadata": {},
   "outputs": [],
   "source": [
    "def fill_missing(values):\n",
    "    one_day = 7 * 24\n",
    "    for row in range(values.shape[0]):\n",
    "        for col in range(values.shape[1]):\n",
    "            if values[row,0]==0:\n",
    "                values[row,0] = values[row - one_day,0]"
   ]
  },
  {
   "cell_type": "code",
   "execution_count": 15,
   "id": "8cb79b38",
   "metadata": {},
   "outputs": [
    {
     "data": {
      "text/plain": [
       "array([[254. ,  -5.2,  37. , ...,   0. ,   0. ,   0. ],\n",
       "       [204. ,  -5.5,  38. , ...,   0. ,   0. ,   0. ],\n",
       "       [173. ,  -6. ,  39. , ...,   0. ,   0. ,   0. ],\n",
       "       ...,\n",
       "       [694. ,   2.6,  39. , ...,   0. ,   0. ,   0. ],\n",
       "       [712. ,   2.1,  41. , ...,   0. ,   0. ,   0. ],\n",
       "       [584. ,   1.9,  43. , ...,   0. ,   0. ,   0. ]])"
      ]
     },
     "execution_count": 15,
     "metadata": {},
     "output_type": "execute_result"
    }
   ],
   "source": [
    "values"
   ]
  },
  {
   "cell_type": "code",
   "execution_count": 16,
   "id": "a8b1db38",
   "metadata": {},
   "outputs": [
    {
     "data": {
      "text/plain": [
       "(8760, 9)"
      ]
     },
     "execution_count": 16,
     "metadata": {},
     "output_type": "execute_result"
    }
   ],
   "source": [
    "values.shape"
   ]
  },
  {
   "cell_type": "code",
   "execution_count": 17,
   "id": "092ef7e5",
   "metadata": {},
   "outputs": [],
   "source": [
    "fill_missing(values)"
   ]
  },
  {
   "cell_type": "code",
   "execution_count": 18,
   "id": "bcf0fa4b",
   "metadata": {},
   "outputs": [],
   "source": [
    "scaled = (values-(np.min(values)))/(np.max(values)-(np.min(values)))"
   ]
  },
  {
   "cell_type": "code",
   "execution_count": 19,
   "id": "10dc2e58",
   "metadata": {},
   "outputs": [
    {
     "data": {
      "text/plain": [
       "array([[0.07935092, 0.00708192, 0.01884793, ..., 0.00853176, 0.00853176,\n",
       "        0.00853176],\n",
       "       [0.06541014, 0.00699827, 0.01912675, ..., 0.00853176, 0.00853176,\n",
       "        0.00853176],\n",
       "       [0.05676685, 0.00685886, 0.01940557, ..., 0.00853176, 0.00853176,\n",
       "        0.00853176],\n",
       "       ...,\n",
       "       [0.20202978, 0.00925668, 0.01940557, ..., 0.00853176, 0.00853176,\n",
       "        0.00853176],\n",
       "       [0.20704846, 0.00911727, 0.0199632 , ..., 0.00853176, 0.00853176,\n",
       "        0.00853176],\n",
       "       [0.17136006, 0.00906151, 0.02052083, ..., 0.00853176, 0.00853176,\n",
       "        0.00853176]])"
      ]
     },
     "execution_count": 19,
     "metadata": {},
     "output_type": "execute_result"
    }
   ],
   "source": [
    "scaled "
   ]
  },
  {
   "cell_type": "code",
   "execution_count": 20,
   "id": "c4b6dcc0",
   "metadata": {},
   "outputs": [],
   "source": [
    "train_size = int(len(scaled) * 0.80)\n",
    "val_size = int(len(scaled) * 0.10)\n",
    "test_size = len(scaled) - train_size-val_size"
   ]
  },
  {
   "cell_type": "code",
   "execution_count": 21,
   "id": "38b2ebe6",
   "metadata": {},
   "outputs": [
    {
     "name": "stdout",
     "output_type": "stream",
     "text": [
      "7008 876 876\n"
     ]
    }
   ],
   "source": [
    "train, val, test = scaled[0:train_size,:],scaled[train_size:train_size+val_size,:], scaled[train_size+val_size:,:]\n",
    "print(len(train),len(val), len(test))"
   ]
  },
  {
   "cell_type": "code",
   "execution_count": 22,
   "id": "68a60a98",
   "metadata": {},
   "outputs": [
    {
     "data": {
      "text/plain": [
       "(7008, 9)"
      ]
     },
     "execution_count": 22,
     "metadata": {},
     "output_type": "execute_result"
    }
   ],
   "source": [
    "train.shape"
   ]
  },
  {
   "cell_type": "code",
   "execution_count": 23,
   "id": "a996ce69",
   "metadata": {},
   "outputs": [
    {
     "data": {
      "text/plain": [
       "array([[0.07935092, 0.00708192, 0.01884793, ..., 0.00853176, 0.00853176,\n",
       "        0.00853176],\n",
       "       [0.06541014, 0.00699827, 0.01912675, ..., 0.00853176, 0.00853176,\n",
       "        0.00853176],\n",
       "       [0.05676685, 0.00685886, 0.01940557, ..., 0.00853176, 0.00853176,\n",
       "        0.00853176],\n",
       "       ...,\n",
       "       [0.57118162, 0.01469358, 0.02553951, ..., 0.00853176, 0.00853176,\n",
       "        0.00853176],\n",
       "       [0.52935928, 0.01460994, 0.02665477, ..., 0.00853176, 0.00853176,\n",
       "        0.00853176],\n",
       "       [0.35426309, 0.01444265, 0.02777003, ..., 0.00853176, 0.00853176,\n",
       "        0.00853176]])"
      ]
     },
     "execution_count": 23,
     "metadata": {},
     "output_type": "execute_result"
    }
   ],
   "source": [
    "train"
   ]
  },
  {
   "cell_type": "code",
   "execution_count": 24,
   "id": "a1de60a0",
   "metadata": {},
   "outputs": [],
   "source": [
    "train_x = train[:,1:]\n",
    "train_y = train[:,0]\n",
    "val_x = val[:,1:]\n",
    "val_y = val[:,0]\n",
    "test_x = test[:,1:]\n",
    "test_y = test[:,0]"
   ]
  },
  {
   "cell_type": "code",
   "execution_count": 25,
   "id": "f29478a9",
   "metadata": {},
   "outputs": [
    {
     "data": {
      "text/plain": [
       "'\\ndef create_dataset_mul(dataset, look_back=1):\\n    dataX, dataY = [], []\\n    for i in range(len(dataset) - look_back):\\n        a = dataset[i:(i + look_back)]\\n        dataX.append(a)\\n        dataY.append(dataset[i + look_back, 0])\\n    print(len(dataY))\\n    return np.array(dataX), np.array(dataY)\\n    '"
      ]
     },
     "execution_count": 25,
     "metadata": {},
     "output_type": "execute_result"
    }
   ],
   "source": [
    "'''\n",
    "def create_dataset_mul(dataset, look_back=1):\n",
    "    dataX, dataY = [], []\n",
    "    for i in range(len(dataset) - look_back):\n",
    "        a = dataset[i:(i + look_back)]\n",
    "        dataX.append(a)\n",
    "        dataY.append(dataset[i + look_back, 0])\n",
    "    print(len(dataY))\n",
    "    return np.array(dataX), np.array(dataY)\n",
    "    '''"
   ]
  },
  {
   "cell_type": "code",
   "execution_count": 26,
   "id": "55476d17",
   "metadata": {},
   "outputs": [
    {
     "data": {
      "text/plain": [
       "'\\ndef create_dataset_im(dataset, look_back=1):\\n    dataX, dataY = [], []\\n    for i in range(len(dataset) - look_back):\\n        a = dataset[i:(i + look_back)]\\n        dataX.append(a)\\n        dataY.append(dataset[i + look_back])\\n    print(len(dataY))\\n    return np.array(dataX), np.array(dataY)\\n    '"
      ]
     },
     "execution_count": 26,
     "metadata": {},
     "output_type": "execute_result"
    }
   ],
   "source": [
    "'''\n",
    "def create_dataset_im(dataset, look_back=1):\n",
    "    dataX, dataY = [], []\n",
    "    for i in range(len(dataset) - look_back):\n",
    "        a = dataset[i:(i + look_back)]\n",
    "        dataX.append(a)\n",
    "        dataY.append(dataset[i + look_back])\n",
    "    print(len(dataY))\n",
    "    return np.array(dataX), np.array(dataY)\n",
    "    '''"
   ]
  },
  {
   "cell_type": "code",
   "execution_count": 27,
   "id": "7de19cad",
   "metadata": {},
   "outputs": [
    {
     "data": {
      "text/plain": [
       "'\\nlook_back = 24\\ntrainX, trainY = create_dataset_mul(train, look_back)\\nvalX, valY = create_dataset_mul(val, look_back)\\ntestX, testY = create_dataset_mul(test, look_back)\\n'"
      ]
     },
     "execution_count": 27,
     "metadata": {},
     "output_type": "execute_result"
    }
   ],
   "source": [
    "'''\n",
    "look_back = 24\n",
    "trainX, trainY = create_dataset_mul(train, look_back)\n",
    "valX, valY = create_dataset_mul(val, look_back)\n",
    "testX, testY = create_dataset_mul(test, look_back)\n",
    "'''"
   ]
  },
  {
   "cell_type": "code",
   "execution_count": 28,
   "id": "3efece38",
   "metadata": {},
   "outputs": [
    {
     "data": {
      "text/plain": [
       "'\\nprint(trainX.shape)\\nprint(trainY.shape)\\n'"
      ]
     },
     "execution_count": 28,
     "metadata": {},
     "output_type": "execute_result"
    }
   ],
   "source": [
    "'''\n",
    "print(trainX.shape)\n",
    "print(trainY.shape)\n",
    "'''"
   ]
  },
  {
   "cell_type": "code",
   "execution_count": 29,
   "id": "2b268a5c",
   "metadata": {},
   "outputs": [
    {
     "name": "stdout",
     "output_type": "stream",
     "text": [
      "(7008, 8)\n",
      "(7008,)\n"
     ]
    }
   ],
   "source": [
    "print(train_x.shape)\n",
    "print(train_y.shape)"
   ]
  },
  {
   "cell_type": "markdown",
   "id": "1848551d",
   "metadata": {},
   "source": [
    "## RMSE"
   ]
  },
  {
   "cell_type": "markdown",
   "id": "9abce6ac",
   "metadata": {},
   "source": [
    "### kernel = linear"
   ]
  },
  {
   "cell_type": "code",
   "execution_count": 44,
   "id": "17614774",
   "metadata": {},
   "outputs": [
    {
     "name": "stdout",
     "output_type": "stream",
     "text": [
      "-------Validation-------\n",
      "       c      rmse\n",
      "0    0.1  0.207649\n",
      "1    1.0  0.191875\n",
      "2    2.0  0.184696\n",
      "3    3.0  0.180907\n",
      "4    4.0  0.178767\n",
      "5    5.0  0.177381\n",
      "6    6.0  0.176003\n",
      "7    7.0  0.175397\n",
      "8    8.0  0.174592\n",
      "9    9.0  0.174196\n",
      "10  10.0  0.173811\n"
     ]
    }
   ],
   "source": [
    "# C는 학습 오류에 대한 패널티 C 값이 클 수록 모델이 학습 데이터에 좀 더 최적화 됨.\n",
    "# 너무 크면 오버피팅 발생\n",
    "# Epsilon 은 임계점을 표현 즉, 예측한 값이 GT 범위 안에 있으면 패널티 부여 X\n",
    "\n",
    "# c가 커질수록 무조건 좋아짐?\n",
    "c_1_list = [0.1, 1, 2, 3, 4, 5, 6, 7, 8, 9 ,10]\n",
    "rmse_list = []\n",
    "\n",
    "# Validation\n",
    "for c_1 in c_1_list:\n",
    "    svr = SVR(kernel='linear', C=c_1, epsilon=0.1)\n",
    "    svr.fit(train_x, train_y)\n",
    "\n",
    "    yhat = svr.predict(val_x)\n",
    "    rmse = sqrt(mean_squared_error(val_y, yhat))\n",
    "    rmse_list.append(rmse)\n",
    "    \n",
    "    result = list(map(list, zip(c_1_list, rmse_list)))\n",
    "    result_df = DataFrame(result,columns=['c', 'rmse'])\n",
    "\n",
    "print('-------Validation-------')\n",
    "print(result_df)"
   ]
  },
  {
   "cell_type": "code",
   "execution_count": 45,
   "id": "87659d73",
   "metadata": {},
   "outputs": [
    {
     "name": "stdout",
     "output_type": "stream",
     "text": [
      "Test RMSE : 0.12457799599226585\n"
     ]
    }
   ],
   "source": [
    "# Test\n",
    "best_c_1 = result_df.iloc[result_df['rmse'].argmin()]['c']\n",
    "svr = SVR(kernel='linear', C=best_c_1, epsilon=0.1) \n",
    "svr.fit(train_x, train_y)\n",
    "predict = svr.predict(test_x)\n",
    "test_rmse = sqrt(mean_squared_error(test_y, predict))\n",
    "\n",
    "print('Test RMSE :', test_rmse)"
   ]
  },
  {
   "cell_type": "markdown",
   "id": "d97838ed",
   "metadata": {},
   "source": [
    "### kernel = RBF \n",
    "c"
   ]
  },
  {
   "cell_type": "code",
   "execution_count": 49,
   "id": "dddafee5",
   "metadata": {},
   "outputs": [
    {
     "name": "stdout",
     "output_type": "stream",
     "text": [
      "-------Validation-------\n",
      "       c      rmse\n",
      "0    0.1  0.207403\n",
      "1    1.0  0.185673\n",
      "2    2.0  0.179558\n",
      "3    3.0  0.176597\n",
      "4    4.0  0.174943\n",
      "5    5.0  0.173716\n",
      "6    6.0  0.172995\n",
      "7    7.0  0.172284\n",
      "8    8.0  0.171637\n",
      "9    9.0  0.171279\n",
      "10  10.0  0.170938\n"
     ]
    }
   ],
   "source": [
    "c_1_list = [0.1, 1, 2, 3, 4, 5, 6, 7, 8, 9 ,10]\n",
    "rmse_list = []\n",
    "\n",
    "# Validation\n",
    "for c_1 in c_1_list:\n",
    "    svr = SVR(kernel='rbf', C=c_1, gamma = 1,  epsilon=0.1)\n",
    "    svr.fit(train_x, train_y)\n",
    "\n",
    "    yhat = svr.predict(val_x)\n",
    "    rmse = sqrt(mean_squared_error(val_y, yhat))\n",
    "    rmse_list.append(rmse)\n",
    "    \n",
    "    result = list(map(list, zip(c_1_list, rmse_list)))\n",
    "    result_df = DataFrame(result,columns=['c', 'rmse'])\n",
    "\n",
    "print('-------Validation-------')\n",
    "print(result_df)"
   ]
  },
  {
   "cell_type": "code",
   "execution_count": 50,
   "id": "e96775a7",
   "metadata": {},
   "outputs": [
    {
     "name": "stdout",
     "output_type": "stream",
     "text": [
      "Test RMSE : 0.1225802870582589\n"
     ]
    }
   ],
   "source": [
    "# Test\n",
    "best_c_1 = result_df.iloc[result_df['rmse'].argmin()]['c']\n",
    "svr = svr = SVR(kernel='rbf', C=c_1, gamma = 1,  epsilon=0.1)\n",
    "svr.fit(train_x, train_y)\n",
    "predict = svr.predict(test_x)\n",
    "test_rmse = sqrt(mean_squared_error(test_y, predict))\n",
    "\n",
    "print('Test RMSE :', test_rmse)"
   ]
  },
  {
   "cell_type": "markdown",
   "id": "bf69ff28",
   "metadata": {},
   "source": [
    "### kernel = RBF \n",
    "gamma"
   ]
  },
  {
   "cell_type": "code",
   "execution_count": 51,
   "id": "8b742237",
   "metadata": {},
   "outputs": [
    {
     "name": "stdout",
     "output_type": "stream",
     "text": [
      "-------Validation-------\n",
      "    gamma      rmse\n",
      "0     0.1  0.185632\n",
      "1     1.0  0.170938\n",
      "2     2.0  0.168615\n",
      "3     3.0  0.167841\n",
      "4     4.0  0.167521\n",
      "5     5.0  0.167343\n",
      "6     6.0  0.167099\n",
      "7     7.0  0.166753\n",
      "8     8.0  0.166650\n",
      "9     9.0  0.166423\n",
      "10   10.0  0.166108\n",
      "11  100.0  0.156645\n"
     ]
    }
   ],
   "source": [
    "gmm_list = [0.1, 1, 2, 3, 4, 5, 6, 7, 8, 9 ,10, 100]\n",
    "rmse_list = []\n",
    "\n",
    "# Validation\n",
    "for gmm in gmm_list:\n",
    "    svr = SVR(kernel='rbf', C=10, gamma = gmm,  epsilon=0.1)\n",
    "    svr.fit(train_x, train_y)\n",
    "\n",
    "    yhat = svr.predict(val_x)\n",
    "    rmse = sqrt(mean_squared_error(val_y, yhat))\n",
    "    rmse_list.append(rmse)\n",
    "    \n",
    "    result = list(map(list, zip(gmm_list, rmse_list)))\n",
    "    result_df = DataFrame(result,columns=['gamma', 'rmse'])\n",
    "\n",
    "print('-------Validation-------')\n",
    "print(result_df)"
   ]
  },
  {
   "cell_type": "code",
   "execution_count": 52,
   "id": "d8b31cf0",
   "metadata": {},
   "outputs": [
    {
     "name": "stdout",
     "output_type": "stream",
     "text": [
      "Test RMSE : 0.11718696662480449\n"
     ]
    }
   ],
   "source": [
    "# Test\n",
    "best_gmm = result_df.iloc[result_df['rmse'].argmin()]['gamma']\n",
    "svr = svr = SVR(kernel='rbf', C=10, gamma = best_gmm,  epsilon=0.1)\n",
    "svr.fit(train_x, train_y)\n",
    "predict = svr.predict(test_x)\n",
    "test_rmse = sqrt(mean_squared_error(test_y, predict))\n",
    "\n",
    "print('Test RMSE :', test_rmse)"
   ]
  },
  {
   "cell_type": "markdown",
   "id": "0539fb51",
   "metadata": {},
   "source": [
    "## MAE"
   ]
  },
  {
   "cell_type": "markdown",
   "id": "863d2970",
   "metadata": {},
   "source": [
    "### kernel = linear"
   ]
  },
  {
   "cell_type": "code",
   "execution_count": 59,
   "id": "de04412a",
   "metadata": {},
   "outputs": [
    {
     "name": "stdout",
     "output_type": "stream",
     "text": [
      "-------Validation-------\n",
      "       c       mae\n",
      "0    0.1  0.167305\n",
      "1    1.0  0.153844\n",
      "2    2.0  0.146973\n",
      "3    3.0  0.143115\n",
      "4    4.0  0.140574\n",
      "5    5.0  0.138895\n",
      "6    6.0  0.137288\n",
      "7    7.0  0.136410\n",
      "8    8.0  0.135507\n",
      "9    9.0  0.134883\n",
      "10  10.0  0.134250\n"
     ]
    }
   ],
   "source": [
    "c_1_list = [0.1, 1, 2, 3, 4, 5, 6, 7, 8, 9 ,10]\n",
    "mae_list = []\n",
    "\n",
    "# Validation\n",
    "for c_1 in c_1_list:\n",
    "    svr = SVR(kernel='linear', C=c_1, epsilon=0.1)\n",
    "    svr.fit(train_x, train_y)\n",
    "\n",
    "    yhat = svr.predict(val_x)\n",
    "    mae = mean_absolute_error(val_y, yhat)\n",
    "    mae_list.append(mae)\n",
    "    \n",
    "    result = list(map(list, zip(c_1_list, mae_list)))\n",
    "    result_df = DataFrame(result,columns=['c', 'mae'])\n",
    "\n",
    "print('-------Validation-------')\n",
    "print(result_df)"
   ]
  },
  {
   "cell_type": "code",
   "execution_count": 60,
   "id": "c2abd1dd",
   "metadata": {},
   "outputs": [
    {
     "name": "stdout",
     "output_type": "stream",
     "text": [
      "Test MAE : 0.13425015250454628\n"
     ]
    }
   ],
   "source": [
    "# Test\n",
    "best_c_1 = result_df.iloc[result_df['mae'].argmin()]['c']\n",
    "svr = SVR(kernel='linear', C=best_c_1, epsilon=0.1) \n",
    "svr.fit(train_x, train_y)\n",
    "predict = svr.predict(test_x)\n",
    "test_mae = mean_absolute_error(val_y, yhat)\n",
    "\n",
    "print('Test MAE :', test_mae)"
   ]
  },
  {
   "cell_type": "markdown",
   "id": "6c975e78",
   "metadata": {},
   "source": [
    "### kernel = RBF \n",
    "c"
   ]
  },
  {
   "cell_type": "code",
   "execution_count": 61,
   "id": "10873f54",
   "metadata": {},
   "outputs": [
    {
     "name": "stdout",
     "output_type": "stream",
     "text": [
      "-------Validation-------\n",
      "       c       mae\n",
      "0    0.1  0.167305\n",
      "1    1.0  0.153844\n",
      "2    2.0  0.146973\n",
      "3    3.0  0.143115\n",
      "4    4.0  0.140574\n",
      "5    5.0  0.138895\n",
      "6    6.0  0.137288\n",
      "7    7.0  0.136410\n",
      "8    8.0  0.135507\n",
      "9    9.0  0.134883\n",
      "10  10.0  0.134250\n"
     ]
    }
   ],
   "source": [
    "c_1_list = [0.1, 1, 2, 3, 4, 5, 6, 7, 8, 9 ,10]\n",
    "rmse_list = []\n",
    "\n",
    "# Validation\n",
    "for c_1 in c_1_list:\n",
    "    svr = SVR(kernel='rbf', C=c_1, gamma = 1,  epsilon=0.1)\n",
    "    svr.fit(train_x, train_y)\n",
    "\n",
    "    yhat = svr.predict(val_x)\n",
    "    mae = mean_absolute_error(val_y, yhat)\n",
    "    mae_list.append(mae)\n",
    "    \n",
    "    result = list(map(list, zip(c_1_list, mae_list)))\n",
    "    result_df = DataFrame(result,columns=['c', 'mae'])\n",
    "\n",
    "print('-------Validation-------')\n",
    "print(result_df)"
   ]
  },
  {
   "cell_type": "code",
   "execution_count": 62,
   "id": "3b953cb7",
   "metadata": {},
   "outputs": [
    {
     "name": "stdout",
     "output_type": "stream",
     "text": [
      "Test mae : 0.13100854848170307\n"
     ]
    }
   ],
   "source": [
    "# Test\n",
    "best_c_1 = result_df.iloc[result_df['mae'].argmin()]['c']\n",
    "svr = svr = SVR(kernel='rbf', C=c_1, gamma = 1,  epsilon=0.1)\n",
    "svr.fit(train_x, train_y)\n",
    "predict = svr.predict(test_x)\n",
    "test_mae = mean_absolute_error(val_y, yhat)\n",
    "\n",
    "print('Test mae :', test_mae)"
   ]
  },
  {
   "cell_type": "markdown",
   "id": "f05f8db6",
   "metadata": {},
   "source": [
    "### kernel = RBF \n",
    "gamma"
   ]
  },
  {
   "cell_type": "code",
   "execution_count": 63,
   "id": "3abc809e",
   "metadata": {},
   "outputs": [
    {
     "name": "stdout",
     "output_type": "stream",
     "text": [
      "-------Validation-------\n",
      "    gamma       mae\n",
      "0     0.1  0.167305\n",
      "1     1.0  0.153844\n",
      "2     2.0  0.146973\n",
      "3     3.0  0.143115\n",
      "4     4.0  0.140574\n",
      "5     5.0  0.138895\n",
      "6     6.0  0.137288\n",
      "7     7.0  0.136410\n",
      "8     8.0  0.135507\n",
      "9     9.0  0.134883\n",
      "10   10.0  0.134250\n",
      "11  100.0  0.167202\n"
     ]
    }
   ],
   "source": [
    "gmm_list = [0.1, 1, 2, 3, 4, 5, 6, 7, 8, 9 ,10, 100]\n",
    "rmse_list = []\n",
    "\n",
    "# Validation\n",
    "for gmm in gmm_list:\n",
    "    svr = SVR(kernel='rbf', C=10, gamma = gmm,  epsilon=0.1)\n",
    "    svr.fit(train_x, train_y)\n",
    "\n",
    "    yhat = svr.predict(val_x)\n",
    "    mae = mean_absolute_error(val_y, yhat)\n",
    "    mae_list.append(mae)\n",
    "    \n",
    "    result = list(map(list, zip(gmm_list, mae_list)))\n",
    "    result_df = DataFrame(result,columns=['gamma', 'mae'])\n",
    "\n",
    "print('-------Validation-------')\n",
    "print(result_df)"
   ]
  },
  {
   "cell_type": "code",
   "execution_count": 64,
   "id": "f38d5dc7",
   "metadata": {},
   "outputs": [
    {
     "name": "stdout",
     "output_type": "stream",
     "text": [
      "Test mae : 0.11893909546001633\n"
     ]
    }
   ],
   "source": [
    "# Test\n",
    "best_gmm = result_df.iloc[result_df['mae'].argmin()]['gamma']\n",
    "svr = svr = SVR(kernel='rbf', C=10, gamma = best_gmm,  epsilon=0.1)\n",
    "svr.fit(train_x, train_y)\n",
    "predict = svr.predict(test_x)\n",
    "test_mae = mean_absolute_error(val_y, yhat)\n",
    "\n",
    "print('Test mae :', test_mae)"
   ]
  },
  {
   "cell_type": "code",
   "execution_count": null,
   "id": "273b4969",
   "metadata": {},
   "outputs": [],
   "source": []
  }
 ],
 "metadata": {
  "kernelspec": {
   "display_name": "Python 3",
   "language": "python",
   "name": "python3"
  },
  "language_info": {
   "codemirror_mode": {
    "name": "ipython",
    "version": 3
   },
   "file_extension": ".py",
   "mimetype": "text/x-python",
   "name": "python",
   "nbconvert_exporter": "python",
   "pygments_lexer": "ipython3",
   "version": "3.8.8"
  }
 },
 "nbformat": 4,
 "nbformat_minor": 5
}
