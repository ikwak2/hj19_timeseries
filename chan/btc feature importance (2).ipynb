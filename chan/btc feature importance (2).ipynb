{
 "cells": [
  {
   "cell_type": "code",
   "execution_count": 157,
   "metadata": {
    "executionInfo": {
     "elapsed": 1934,
     "status": "ok",
     "timestamp": 1633486383458,
     "user": {
      "displayName": "정찬휘",
      "photoUrl": "https://lh3.googleusercontent.com/a/default-user=s64",
      "userId": "00470938762273561607"
     },
     "user_tz": -540
    },
    "id": "oM4J-o_80J6I"
   },
   "outputs": [],
   "source": [
    "import tensorflow as tf\n",
    "from tensorflow.keras.models import Model\n",
    "import numpy as np"
   ]
  },
  {
   "cell_type": "code",
   "execution_count": 158,
   "metadata": {
    "executionInfo": {
     "elapsed": 974,
     "status": "ok",
     "timestamp": 1633486384430,
     "user": {
      "displayName": "정찬휘",
      "photoUrl": "https://lh3.googleusercontent.com/a/default-user=s64",
      "userId": "00470938762273561607"
     },
     "user_tz": -540
    },
    "id": "j7aMujcW0J9b"
   },
   "outputs": [],
   "source": [
    "from tensorflow.keras.models import Sequential\n",
    "from tensorflow.keras.layers import LSTM, Bidirectional\n",
    "from tensorflow.keras.layers import Dense\n",
    "import matplotlib.pyplot as plt\n",
    "from sklearn.preprocessing import MinMaxScaler\n",
    "from sklearn.metrics import mean_squared_error\n",
    "from tensorflow.keras.layers import Activation, Dense, Dropout\n",
    "from tensorflow.keras import optimizers\n",
    "from pandas import Series\n",
    "import math\n",
    "import numpy\n",
    "from tensorflow.keras.layers import *\n",
    "from tensorflow.keras import layers\n",
    "import pandas as pd\n",
    "\n",
    "#data = pd.read_csv('bitcoin.csv')\n",
    "data = pd.read_csv('https://raw.githubusercontent.com/ikwak2/hj19_timeseries/main/btc/bitcoin2000.csv?token=ATB7FV4BSDYDQWJVQOJY2C3BMRBN6')"
   ]
  },
  {
   "cell_type": "code",
   "execution_count": 159,
   "metadata": {},
   "outputs": [
    {
     "name": "stdout",
     "output_type": "stream",
     "text": [
      "Model: \"model_61\"\n",
      "_________________________________________________________________\n",
      "Layer (type)                 Output Shape              Param #   \n",
      "=================================================================\n",
      "input_23 (InputLayer)        [(None, 168, 6)]          0         \n",
      "_________________________________________________________________\n",
      "conv1d_124 (Conv1D)          (None, 168, 64)           1216      \n",
      "_________________________________________________________________\n",
      "conv1d_125 (Conv1D)          (None, 168, 64)           8256      \n",
      "_________________________________________________________________\n",
      "conv1d_126 (Conv1D)          (None, 168, 64)           4160      \n",
      "_________________________________________________________________\n",
      "conv1d_127 (Conv1D)          (None, 168, 64)           12352     \n",
      "_________________________________________________________________\n",
      "conv1d_128 (Conv1D)          (None, 168, 64)           8256      \n",
      "_________________________________________________________________\n",
      "conv1d_129 (Conv1D)          (None, 168, 64)           4160      \n",
      "_________________________________________________________________\n",
      "extractor (MaxPooling1D)     (None, 84, 64)            0         \n",
      "_________________________________________________________________\n",
      "lstm_22 (LSTM)               (None, 100)               66000     \n",
      "_________________________________________________________________\n",
      "dense_44 (Dense)             (None, 100)               10100     \n",
      "_________________________________________________________________\n",
      "dropout_22 (Dropout)         (None, 100)               0         \n",
      "_________________________________________________________________\n",
      "dense_45 (Dense)             (None, 24)                2424      \n",
      "=================================================================\n",
      "Total params: 116,924\n",
      "Trainable params: 116,924\n",
      "Non-trainable params: 0\n",
      "_________________________________________________________________\n"
     ]
    }
   ],
   "source": [
    "model.summary()"
   ]
  },
  {
   "cell_type": "code",
   "execution_count": 160,
   "metadata": {},
   "outputs": [
    {
     "data": {
      "text/plain": [
       "<tensorflow.python.keras.layers.pooling.MaxPooling1D at 0x7fc11c851470>"
      ]
     },
     "execution_count": 160,
     "metadata": {},
     "output_type": "execute_result"
    }
   ],
   "source": [
    "model.get_layer('extractor')"
   ]
  },
  {
   "cell_type": "code",
   "execution_count": 161,
   "metadata": {
    "executionInfo": {
     "elapsed": 27,
     "status": "ok",
     "timestamp": 1633486384430,
     "user": {
      "displayName": "정찬휘",
      "photoUrl": "https://lh3.googleusercontent.com/a/default-user=s64",
      "userId": "00470938762273561607"
     },
     "user_tz": -540
    },
    "id": "bsBICKKI2T6y"
   },
   "outputs": [],
   "source": [
    "def gradient_importance(seq, model):\n",
    "\n",
    "    seq = tf.Variable(seq[np.newaxis,:,:], dtype=tf.float32)\n",
    "\n",
    "    with tf.GradientTape() as tape:\n",
    "        predictions = model(seq)\n",
    "\n",
    "    grads = tape.gradient(predictions, seq)\n",
    "    grads = tf.reduce_mean(grads, axis=1).numpy()[0]\n",
    "    \n",
    "    return grads\n",
    "\n",
    "def gradient_weight(seq, model):\n",
    "\n",
    "    seq = tf.Variable(seq[np.newaxis,:,:], dtype=tf.float32)\n",
    "\n",
    "    with tf.GradientTape() as tape:\n",
    "        predictions = model(seq)\n",
    "\n",
    "    grad = tape.gradient(predictions, seq)\n",
    "    #gr=grads\n",
    "    #grads = tf.reduce_mean(grads, axis=1).numpy()[0]\n",
    "    \n",
    "    return grad\n",
    "\n",
    "def activation_grad(seq, model):\n",
    "    \n",
    "    seq = seq[np.newaxis,:,:]\n",
    "    grad_model = Model([model.inputs], \n",
    "                       [model.get_layer('extractor').output, \n",
    "                        model.output])\n",
    "\n",
    "    # Obtain the predicted value and the intermediate filters\n",
    "    with tf.GradientTape() as tape:\n",
    "        seq_outputs, predictions = grad_model(seq)\n",
    "\n",
    "    # Extract filters and gradients\n",
    "    output = seq_outputs[0]\n",
    "    grads = tape.gradient(predictions, seq_outputs)[0]\n",
    "\n",
    "    # Average gradients spatially\n",
    "    weights = tf.reduce_mean(grads, axis=0)\n",
    "    \n",
    "    # Get a ponderated map of filters according to grad importance\n",
    "    cam = np.ones(output.shape[0], dtype=np.float32)\n",
    "    for index, w in enumerate(weights):\n",
    "        cam += w * output[:, index]\n",
    "\n",
    "    time = int(seq.shape[1]/output.shape[0])\n",
    "    cam = zoom(cam.numpy(), time, order=1)\n",
    "    heatmap = (cam - cam.min())/(cam.max() - cam.min())\n",
    "    \n",
    "    return heatmap"
   ]
  },
  {
   "cell_type": "code",
   "execution_count": 188,
   "metadata": {},
   "outputs": [],
   "source": [
    "def get_integrated_gradients(img_input, top_pred_idx, baseline=None, num_steps=50):\n",
    "    seq_input = X_test[1]\n",
    "\n",
    "    if baseline is None:\n",
    "        baseline = np.zeros(seq_input.shape).astype(np.float32)\n",
    "    else:\n",
    "        baseline = baseline.astype(np.float32)\n",
    "\n",
    "    # 1. Do interpolation.\n",
    "    seq_input = seq_input.astype(np.float32)\n",
    "    interpolated_seq = [\n",
    "        baseline + (step / num_steps) * (seq_input - baseline)\n",
    "        for step in range(num_steps + 1)\n",
    "    ]\n",
    "\n",
    "    # 3. Get the gradients\n",
    "    grads = []\n",
    "    for i, seq in enumerate(interpolated_seq):\n",
    "        seq = tf.expand_dims(seq, axis=0)\n",
    "        with tf.GradientTape() as tape:\n",
    "            tape.watch(seq)\n",
    "            preds = model(seq)\n",
    "        grad = tape.gradient(preds, seq)\n",
    "        grads.append(grad[0])\n",
    "    grads = tf.convert_to_tensor(grads, dtype=tf.float32)\n",
    "\n",
    "    # 4. Approximate the integral using the trapezoidal rule\n",
    "    grads = (grads[:-1] + grads[1:]) / 2.0\n",
    "    avg_grads = tf.reduce_mean(grads, axis=0)\n",
    "\n",
    "    # 5. Calculate integrated gradients and return\n",
    "    integrated_grads = (seq_input - baseline) * avg_grads\n",
    "    return integrated_grads"
   ]
  },
  {
   "cell_type": "code",
   "execution_count": 162,
   "metadata": {
    "colab": {
     "base_uri": "https://localhost:8080/",
     "height": 408
    },
    "executionInfo": {
     "elapsed": 34,
     "status": "ok",
     "timestamp": 1633486384437,
     "user": {
      "displayName": "정찬휘",
      "photoUrl": "https://lh3.googleusercontent.com/a/default-user=s64",
      "userId": "00470938762273561607"
     },
     "user_tz": -540
    },
    "id": "2PfvRpLK0J-W",
    "outputId": "b2eb9c45-22b4-4144-bf55-63d05c9566fc"
   },
   "outputs": [
    {
     "data": {
      "text/html": [
       "<div>\n",
       "<style scoped>\n",
       "    .dataframe tbody tr th:only-of-type {\n",
       "        vertical-align: middle;\n",
       "    }\n",
       "\n",
       "    .dataframe tbody tr th {\n",
       "        vertical-align: top;\n",
       "    }\n",
       "\n",
       "    .dataframe thead th {\n",
       "        text-align: right;\n",
       "    }\n",
       "</style>\n",
       "<table border=\"1\" class=\"dataframe\">\n",
       "  <thead>\n",
       "    <tr style=\"text-align: right;\">\n",
       "      <th></th>\n",
       "      <th>time</th>\n",
       "      <th>high</th>\n",
       "      <th>low</th>\n",
       "      <th>open</th>\n",
       "      <th>volumefrom</th>\n",
       "      <th>volumeto</th>\n",
       "      <th>close</th>\n",
       "      <th>conversionType</th>\n",
       "      <th>conversionSymbol</th>\n",
       "      <th>timeUTC</th>\n",
       "    </tr>\n",
       "  </thead>\n",
       "  <tbody>\n",
       "    <tr>\n",
       "      <th>0</th>\n",
       "      <td>1576144800</td>\n",
       "      <td>7219.93</td>\n",
       "      <td>7149.15</td>\n",
       "      <td>7170.18</td>\n",
       "      <td>1536.79</td>\n",
       "      <td>1.104199e+07</td>\n",
       "      <td>7166.14</td>\n",
       "      <td>direct</td>\n",
       "      <td>NaN</td>\n",
       "      <td>2019-12-12 19:00:00</td>\n",
       "    </tr>\n",
       "    <tr>\n",
       "      <th>1</th>\n",
       "      <td>1576148400</td>\n",
       "      <td>7208.36</td>\n",
       "      <td>7166.03</td>\n",
       "      <td>7166.14</td>\n",
       "      <td>785.11</td>\n",
       "      <td>5.654607e+06</td>\n",
       "      <td>7199.79</td>\n",
       "      <td>direct</td>\n",
       "      <td>NaN</td>\n",
       "      <td>2019-12-12 20:00:00</td>\n",
       "    </tr>\n",
       "    <tr>\n",
       "      <th>2</th>\n",
       "      <td>1576152000</td>\n",
       "      <td>7222.43</td>\n",
       "      <td>7194.87</td>\n",
       "      <td>7199.79</td>\n",
       "      <td>672.46</td>\n",
       "      <td>4.855213e+06</td>\n",
       "      <td>7199.97</td>\n",
       "      <td>direct</td>\n",
       "      <td>NaN</td>\n",
       "      <td>2019-12-12 21:00:00</td>\n",
       "    </tr>\n",
       "    <tr>\n",
       "      <th>3</th>\n",
       "      <td>1576155600</td>\n",
       "      <td>7211.80</td>\n",
       "      <td>7187.29</td>\n",
       "      <td>7199.97</td>\n",
       "      <td>807.61</td>\n",
       "      <td>5.821088e+06</td>\n",
       "      <td>7201.38</td>\n",
       "      <td>direct</td>\n",
       "      <td>NaN</td>\n",
       "      <td>2019-12-12 22:00:00</td>\n",
       "    </tr>\n",
       "    <tr>\n",
       "      <th>4</th>\n",
       "      <td>1576159200</td>\n",
       "      <td>7229.22</td>\n",
       "      <td>7152.84</td>\n",
       "      <td>7201.38</td>\n",
       "      <td>1606.06</td>\n",
       "      <td>1.153780e+07</td>\n",
       "      <td>7173.50</td>\n",
       "      <td>direct</td>\n",
       "      <td>NaN</td>\n",
       "      <td>2019-12-12 23:00:00</td>\n",
       "    </tr>\n",
       "    <tr>\n",
       "      <th>5</th>\n",
       "      <td>1576162800</td>\n",
       "      <td>7202.12</td>\n",
       "      <td>7162.03</td>\n",
       "      <td>7173.50</td>\n",
       "      <td>856.09</td>\n",
       "      <td>6.141961e+06</td>\n",
       "      <td>7202.12</td>\n",
       "      <td>direct</td>\n",
       "      <td>NaN</td>\n",
       "      <td>2019-12-13 00:00:00</td>\n",
       "    </tr>\n",
       "    <tr>\n",
       "      <th>6</th>\n",
       "      <td>1576166400</td>\n",
       "      <td>7225.83</td>\n",
       "      <td>7192.73</td>\n",
       "      <td>7202.12</td>\n",
       "      <td>1376.21</td>\n",
       "      <td>9.922530e+06</td>\n",
       "      <td>7212.33</td>\n",
       "      <td>direct</td>\n",
       "      <td>NaN</td>\n",
       "      <td>2019-12-13 01:00:00</td>\n",
       "    </tr>\n",
       "    <tr>\n",
       "      <th>7</th>\n",
       "      <td>1576170000</td>\n",
       "      <td>7222.08</td>\n",
       "      <td>7200.95</td>\n",
       "      <td>7212.33</td>\n",
       "      <td>586.49</td>\n",
       "      <td>4.235649e+06</td>\n",
       "      <td>7213.47</td>\n",
       "      <td>direct</td>\n",
       "      <td>NaN</td>\n",
       "      <td>2019-12-13 02:00:00</td>\n",
       "    </tr>\n",
       "    <tr>\n",
       "      <th>8</th>\n",
       "      <td>1576173600</td>\n",
       "      <td>7234.95</td>\n",
       "      <td>7200.95</td>\n",
       "      <td>7213.47</td>\n",
       "      <td>1353.88</td>\n",
       "      <td>9.767061e+06</td>\n",
       "      <td>7224.86</td>\n",
       "      <td>direct</td>\n",
       "      <td>NaN</td>\n",
       "      <td>2019-12-13 03:00:00</td>\n",
       "    </tr>\n",
       "    <tr>\n",
       "      <th>9</th>\n",
       "      <td>1576177200</td>\n",
       "      <td>7231.08</td>\n",
       "      <td>7208.79</td>\n",
       "      <td>7224.86</td>\n",
       "      <td>870.00</td>\n",
       "      <td>6.278417e+06</td>\n",
       "      <td>7218.46</td>\n",
       "      <td>direct</td>\n",
       "      <td>NaN</td>\n",
       "      <td>2019-12-13 04:00:00</td>\n",
       "    </tr>\n",
       "    <tr>\n",
       "      <th>10</th>\n",
       "      <td>1576180800</td>\n",
       "      <td>7264.55</td>\n",
       "      <td>7213.44</td>\n",
       "      <td>7218.46</td>\n",
       "      <td>2150.03</td>\n",
       "      <td>1.554378e+07</td>\n",
       "      <td>7260.58</td>\n",
       "      <td>direct</td>\n",
       "      <td>NaN</td>\n",
       "      <td>2019-12-13 05:00:00</td>\n",
       "    </tr>\n",
       "    <tr>\n",
       "      <th>11</th>\n",
       "      <td>1576184400</td>\n",
       "      <td>7266.49</td>\n",
       "      <td>7205.55</td>\n",
       "      <td>7260.58</td>\n",
       "      <td>975.15</td>\n",
       "      <td>7.069007e+06</td>\n",
       "      <td>7212.60</td>\n",
       "      <td>direct</td>\n",
       "      <td>NaN</td>\n",
       "      <td>2019-12-13 06:00:00</td>\n",
       "    </tr>\n",
       "    <tr>\n",
       "      <th>12</th>\n",
       "      <td>1576188000</td>\n",
       "      <td>7222.67</td>\n",
       "      <td>7197.56</td>\n",
       "      <td>7212.60</td>\n",
       "      <td>821.99</td>\n",
       "      <td>5.954039e+06</td>\n",
       "      <td>7204.59</td>\n",
       "      <td>direct</td>\n",
       "      <td>NaN</td>\n",
       "      <td>2019-12-13 07:00:00</td>\n",
       "    </tr>\n",
       "    <tr>\n",
       "      <th>13</th>\n",
       "      <td>1576191600</td>\n",
       "      <td>7219.20</td>\n",
       "      <td>7198.36</td>\n",
       "      <td>7204.59</td>\n",
       "      <td>642.68</td>\n",
       "      <td>4.638334e+06</td>\n",
       "      <td>7199.39</td>\n",
       "      <td>direct</td>\n",
       "      <td>NaN</td>\n",
       "      <td>2019-12-13 08:00:00</td>\n",
       "    </tr>\n",
       "    <tr>\n",
       "      <th>14</th>\n",
       "      <td>1576195200</td>\n",
       "      <td>7223.47</td>\n",
       "      <td>7199.39</td>\n",
       "      <td>7199.39</td>\n",
       "      <td>739.60</td>\n",
       "      <td>5.337807e+06</td>\n",
       "      <td>7209.57</td>\n",
       "      <td>direct</td>\n",
       "      <td>NaN</td>\n",
       "      <td>2019-12-13 09:00:00</td>\n",
       "    </tr>\n",
       "    <tr>\n",
       "      <th>15</th>\n",
       "      <td>1576198800</td>\n",
       "      <td>7220.23</td>\n",
       "      <td>7199.85</td>\n",
       "      <td>7209.57</td>\n",
       "      <td>637.50</td>\n",
       "      <td>4.600555e+06</td>\n",
       "      <td>7205.44</td>\n",
       "      <td>direct</td>\n",
       "      <td>NaN</td>\n",
       "      <td>2019-12-13 10:00:00</td>\n",
       "    </tr>\n",
       "    <tr>\n",
       "      <th>16</th>\n",
       "      <td>1576202400</td>\n",
       "      <td>7224.59</td>\n",
       "      <td>7203.24</td>\n",
       "      <td>7205.44</td>\n",
       "      <td>523.86</td>\n",
       "      <td>3.784978e+06</td>\n",
       "      <td>7217.03</td>\n",
       "      <td>direct</td>\n",
       "      <td>NaN</td>\n",
       "      <td>2019-12-13 11:00:00</td>\n",
       "    </tr>\n",
       "    <tr>\n",
       "      <th>17</th>\n",
       "      <td>1576206000</td>\n",
       "      <td>7239.42</td>\n",
       "      <td>7211.09</td>\n",
       "      <td>7217.03</td>\n",
       "      <td>541.95</td>\n",
       "      <td>3.926930e+06</td>\n",
       "      <td>7229.49</td>\n",
       "      <td>direct</td>\n",
       "      <td>NaN</td>\n",
       "      <td>2019-12-13 12:00:00</td>\n",
       "    </tr>\n",
       "    <tr>\n",
       "      <th>18</th>\n",
       "      <td>1576209600</td>\n",
       "      <td>7247.57</td>\n",
       "      <td>7229.40</td>\n",
       "      <td>7229.49</td>\n",
       "      <td>536.98</td>\n",
       "      <td>3.888346e+06</td>\n",
       "      <td>7233.47</td>\n",
       "      <td>direct</td>\n",
       "      <td>NaN</td>\n",
       "      <td>2019-12-13 13:00:00</td>\n",
       "    </tr>\n",
       "    <tr>\n",
       "      <th>19</th>\n",
       "      <td>1576213200</td>\n",
       "      <td>7237.93</td>\n",
       "      <td>7220.64</td>\n",
       "      <td>7233.47</td>\n",
       "      <td>702.95</td>\n",
       "      <td>5.091759e+06</td>\n",
       "      <td>7229.34</td>\n",
       "      <td>direct</td>\n",
       "      <td>NaN</td>\n",
       "      <td>2019-12-13 14:00:00</td>\n",
       "    </tr>\n",
       "    <tr>\n",
       "      <th>20</th>\n",
       "      <td>1576216800</td>\n",
       "      <td>7237.24</td>\n",
       "      <td>7215.45</td>\n",
       "      <td>7229.34</td>\n",
       "      <td>387.15</td>\n",
       "      <td>2.808532e+06</td>\n",
       "      <td>7225.13</td>\n",
       "      <td>direct</td>\n",
       "      <td>NaN</td>\n",
       "      <td>2019-12-13 15:00:00</td>\n",
       "    </tr>\n",
       "    <tr>\n",
       "      <th>21</th>\n",
       "      <td>1576220400</td>\n",
       "      <td>7250.64</td>\n",
       "      <td>7218.84</td>\n",
       "      <td>7225.13</td>\n",
       "      <td>738.64</td>\n",
       "      <td>5.342107e+06</td>\n",
       "      <td>7241.01</td>\n",
       "      <td>direct</td>\n",
       "      <td>NaN</td>\n",
       "      <td>2019-12-13 16:00:00</td>\n",
       "    </tr>\n",
       "    <tr>\n",
       "      <th>22</th>\n",
       "      <td>1576224000</td>\n",
       "      <td>7253.60</td>\n",
       "      <td>7211.81</td>\n",
       "      <td>7241.01</td>\n",
       "      <td>1355.72</td>\n",
       "      <td>9.790918e+06</td>\n",
       "      <td>7220.50</td>\n",
       "      <td>direct</td>\n",
       "      <td>NaN</td>\n",
       "      <td>2019-12-13 17:00:00</td>\n",
       "    </tr>\n",
       "    <tr>\n",
       "      <th>23</th>\n",
       "      <td>1576227600</td>\n",
       "      <td>7234.58</td>\n",
       "      <td>7217.02</td>\n",
       "      <td>7220.50</td>\n",
       "      <td>472.78</td>\n",
       "      <td>3.423989e+06</td>\n",
       "      <td>7219.70</td>\n",
       "      <td>direct</td>\n",
       "      <td>NaN</td>\n",
       "      <td>2019-12-13 18:00:00</td>\n",
       "    </tr>\n",
       "    <tr>\n",
       "      <th>24</th>\n",
       "      <td>1576231200</td>\n",
       "      <td>7232.68</td>\n",
       "      <td>7217.48</td>\n",
       "      <td>7219.70</td>\n",
       "      <td>339.53</td>\n",
       "      <td>2.459693e+06</td>\n",
       "      <td>7227.46</td>\n",
       "      <td>direct</td>\n",
       "      <td>NaN</td>\n",
       "      <td>2019-12-13 19:00:00</td>\n",
       "    </tr>\n",
       "    <tr>\n",
       "      <th>25</th>\n",
       "      <td>1576234800</td>\n",
       "      <td>7245.84</td>\n",
       "      <td>7223.46</td>\n",
       "      <td>7227.46</td>\n",
       "      <td>463.22</td>\n",
       "      <td>3.354372e+06</td>\n",
       "      <td>7235.63</td>\n",
       "      <td>direct</td>\n",
       "      <td>NaN</td>\n",
       "      <td>2019-12-13 20:00:00</td>\n",
       "    </tr>\n",
       "    <tr>\n",
       "      <th>26</th>\n",
       "      <td>1576238400</td>\n",
       "      <td>7237.18</td>\n",
       "      <td>7215.11</td>\n",
       "      <td>7235.63</td>\n",
       "      <td>640.52</td>\n",
       "      <td>4.631577e+06</td>\n",
       "      <td>7236.75</td>\n",
       "      <td>direct</td>\n",
       "      <td>NaN</td>\n",
       "      <td>2019-12-13 21:00:00</td>\n",
       "    </tr>\n",
       "    <tr>\n",
       "      <th>27</th>\n",
       "      <td>1576242000</td>\n",
       "      <td>7245.95</td>\n",
       "      <td>7231.35</td>\n",
       "      <td>7236.75</td>\n",
       "      <td>527.28</td>\n",
       "      <td>3.816854e+06</td>\n",
       "      <td>7245.95</td>\n",
       "      <td>direct</td>\n",
       "      <td>NaN</td>\n",
       "      <td>2019-12-13 22:00:00</td>\n",
       "    </tr>\n",
       "    <tr>\n",
       "      <th>28</th>\n",
       "      <td>1576245600</td>\n",
       "      <td>7247.49</td>\n",
       "      <td>7231.39</td>\n",
       "      <td>7245.95</td>\n",
       "      <td>999.04</td>\n",
       "      <td>7.235965e+06</td>\n",
       "      <td>7238.39</td>\n",
       "      <td>direct</td>\n",
       "      <td>NaN</td>\n",
       "      <td>2019-12-13 23:00:00</td>\n",
       "    </tr>\n",
       "    <tr>\n",
       "      <th>29</th>\n",
       "      <td>1576249200</td>\n",
       "      <td>7274.52</td>\n",
       "      <td>7237.35</td>\n",
       "      <td>7238.39</td>\n",
       "      <td>1354.90</td>\n",
       "      <td>9.831370e+06</td>\n",
       "      <td>7269.85</td>\n",
       "      <td>direct</td>\n",
       "      <td>NaN</td>\n",
       "      <td>2019-12-14 00:00:00</td>\n",
       "    </tr>\n",
       "    <tr>\n",
       "      <th>...</th>\n",
       "      <td>...</td>\n",
       "      <td>...</td>\n",
       "      <td>...</td>\n",
       "      <td>...</td>\n",
       "      <td>...</td>\n",
       "      <td>...</td>\n",
       "      <td>...</td>\n",
       "      <td>...</td>\n",
       "      <td>...</td>\n",
       "      <td>...</td>\n",
       "    </tr>\n",
       "    <tr>\n",
       "      <th>9975</th>\n",
       "      <td>1612054800</td>\n",
       "      <td>34282.50</td>\n",
       "      <td>33980.01</td>\n",
       "      <td>34115.46</td>\n",
       "      <td>917.54</td>\n",
       "      <td>3.132083e+07</td>\n",
       "      <td>34232.05</td>\n",
       "      <td>direct</td>\n",
       "      <td>NaN</td>\n",
       "      <td>2021-01-31 10:00:00</td>\n",
       "    </tr>\n",
       "    <tr>\n",
       "      <th>9976</th>\n",
       "      <td>1612058400</td>\n",
       "      <td>34275.76</td>\n",
       "      <td>33719.52</td>\n",
       "      <td>34232.05</td>\n",
       "      <td>2976.77</td>\n",
       "      <td>1.006322e+08</td>\n",
       "      <td>33775.09</td>\n",
       "      <td>direct</td>\n",
       "      <td>NaN</td>\n",
       "      <td>2021-01-31 11:00:00</td>\n",
       "    </tr>\n",
       "    <tr>\n",
       "      <th>9977</th>\n",
       "      <td>1612062000</td>\n",
       "      <td>34063.30</td>\n",
       "      <td>33672.64</td>\n",
       "      <td>33775.09</td>\n",
       "      <td>1115.80</td>\n",
       "      <td>3.783617e+07</td>\n",
       "      <td>33945.00</td>\n",
       "      <td>direct</td>\n",
       "      <td>NaN</td>\n",
       "      <td>2021-01-31 12:00:00</td>\n",
       "    </tr>\n",
       "    <tr>\n",
       "      <th>9978</th>\n",
       "      <td>1612065600</td>\n",
       "      <td>34129.04</td>\n",
       "      <td>33829.40</td>\n",
       "      <td>33945.00</td>\n",
       "      <td>788.94</td>\n",
       "      <td>2.682315e+07</td>\n",
       "      <td>34062.28</td>\n",
       "      <td>direct</td>\n",
       "      <td>NaN</td>\n",
       "      <td>2021-01-31 13:00:00</td>\n",
       "    </tr>\n",
       "    <tr>\n",
       "      <th>9979</th>\n",
       "      <td>1612069200</td>\n",
       "      <td>34070.12</td>\n",
       "      <td>33713.05</td>\n",
       "      <td>34062.28</td>\n",
       "      <td>810.94</td>\n",
       "      <td>2.744966e+07</td>\n",
       "      <td>33763.92</td>\n",
       "      <td>direct</td>\n",
       "      <td>NaN</td>\n",
       "      <td>2021-01-31 14:00:00</td>\n",
       "    </tr>\n",
       "    <tr>\n",
       "      <th>9980</th>\n",
       "      <td>1612072800</td>\n",
       "      <td>33864.93</td>\n",
       "      <td>33608.35</td>\n",
       "      <td>33763.92</td>\n",
       "      <td>1052.22</td>\n",
       "      <td>3.547984e+07</td>\n",
       "      <td>33667.55</td>\n",
       "      <td>direct</td>\n",
       "      <td>NaN</td>\n",
       "      <td>2021-01-31 15:00:00</td>\n",
       "    </tr>\n",
       "    <tr>\n",
       "      <th>9981</th>\n",
       "      <td>1612076400</td>\n",
       "      <td>33840.29</td>\n",
       "      <td>33459.92</td>\n",
       "      <td>33667.55</td>\n",
       "      <td>1195.60</td>\n",
       "      <td>4.022710e+07</td>\n",
       "      <td>33617.63</td>\n",
       "      <td>direct</td>\n",
       "      <td>NaN</td>\n",
       "      <td>2021-01-31 16:00:00</td>\n",
       "    </tr>\n",
       "    <tr>\n",
       "      <th>9982</th>\n",
       "      <td>1612080000</td>\n",
       "      <td>33832.35</td>\n",
       "      <td>33350.38</td>\n",
       "      <td>33617.63</td>\n",
       "      <td>1320.58</td>\n",
       "      <td>4.435387e+07</td>\n",
       "      <td>33589.62</td>\n",
       "      <td>direct</td>\n",
       "      <td>NaN</td>\n",
       "      <td>2021-01-31 17:00:00</td>\n",
       "    </tr>\n",
       "    <tr>\n",
       "      <th>9983</th>\n",
       "      <td>1612083600</td>\n",
       "      <td>33769.86</td>\n",
       "      <td>33316.36</td>\n",
       "      <td>33589.62</td>\n",
       "      <td>896.87</td>\n",
       "      <td>3.005829e+07</td>\n",
       "      <td>33316.36</td>\n",
       "      <td>direct</td>\n",
       "      <td>NaN</td>\n",
       "      <td>2021-01-31 18:00:00</td>\n",
       "    </tr>\n",
       "    <tr>\n",
       "      <th>9984</th>\n",
       "      <td>1612087200</td>\n",
       "      <td>33745.68</td>\n",
       "      <td>33235.96</td>\n",
       "      <td>33316.36</td>\n",
       "      <td>827.79</td>\n",
       "      <td>2.776127e+07</td>\n",
       "      <td>33670.77</td>\n",
       "      <td>direct</td>\n",
       "      <td>NaN</td>\n",
       "      <td>2021-01-31 19:00:00</td>\n",
       "    </tr>\n",
       "    <tr>\n",
       "      <th>9985</th>\n",
       "      <td>1612090800</td>\n",
       "      <td>33797.60</td>\n",
       "      <td>33505.19</td>\n",
       "      <td>33670.77</td>\n",
       "      <td>606.11</td>\n",
       "      <td>2.039814e+07</td>\n",
       "      <td>33589.65</td>\n",
       "      <td>direct</td>\n",
       "      <td>NaN</td>\n",
       "      <td>2021-01-31 20:00:00</td>\n",
       "    </tr>\n",
       "    <tr>\n",
       "      <th>9986</th>\n",
       "      <td>1612094400</td>\n",
       "      <td>34226.08</td>\n",
       "      <td>33400.15</td>\n",
       "      <td>33589.65</td>\n",
       "      <td>1560.40</td>\n",
       "      <td>5.299014e+07</td>\n",
       "      <td>34003.18</td>\n",
       "      <td>direct</td>\n",
       "      <td>NaN</td>\n",
       "      <td>2021-01-31 21:00:00</td>\n",
       "    </tr>\n",
       "    <tr>\n",
       "      <th>9987</th>\n",
       "      <td>1612098000</td>\n",
       "      <td>34069.34</td>\n",
       "      <td>33624.87</td>\n",
       "      <td>34003.18</td>\n",
       "      <td>697.60</td>\n",
       "      <td>2.357124e+07</td>\n",
       "      <td>33703.77</td>\n",
       "      <td>direct</td>\n",
       "      <td>NaN</td>\n",
       "      <td>2021-01-31 22:00:00</td>\n",
       "    </tr>\n",
       "    <tr>\n",
       "      <th>9988</th>\n",
       "      <td>1612101600</td>\n",
       "      <td>33740.98</td>\n",
       "      <td>33345.40</td>\n",
       "      <td>33703.77</td>\n",
       "      <td>1166.41</td>\n",
       "      <td>3.910876e+07</td>\n",
       "      <td>33377.34</td>\n",
       "      <td>direct</td>\n",
       "      <td>NaN</td>\n",
       "      <td>2021-01-31 23:00:00</td>\n",
       "    </tr>\n",
       "    <tr>\n",
       "      <th>9989</th>\n",
       "      <td>1612105200</td>\n",
       "      <td>33483.82</td>\n",
       "      <td>32619.40</td>\n",
       "      <td>33377.34</td>\n",
       "      <td>4332.73</td>\n",
       "      <td>1.428578e+08</td>\n",
       "      <td>32911.91</td>\n",
       "      <td>direct</td>\n",
       "      <td>NaN</td>\n",
       "      <td>2021-02-01 00:00:00</td>\n",
       "    </tr>\n",
       "    <tr>\n",
       "      <th>9990</th>\n",
       "      <td>1612108800</td>\n",
       "      <td>33083.95</td>\n",
       "      <td>32668.30</td>\n",
       "      <td>32911.91</td>\n",
       "      <td>1602.35</td>\n",
       "      <td>5.276915e+07</td>\n",
       "      <td>32940.78</td>\n",
       "      <td>direct</td>\n",
       "      <td>NaN</td>\n",
       "      <td>2021-02-01 01:00:00</td>\n",
       "    </tr>\n",
       "    <tr>\n",
       "      <th>9991</th>\n",
       "      <td>1612112400</td>\n",
       "      <td>33088.40</td>\n",
       "      <td>32229.58</td>\n",
       "      <td>32940.78</td>\n",
       "      <td>3174.36</td>\n",
       "      <td>1.036063e+08</td>\n",
       "      <td>32319.46</td>\n",
       "      <td>direct</td>\n",
       "      <td>NaN</td>\n",
       "      <td>2021-02-01 02:00:00</td>\n",
       "    </tr>\n",
       "    <tr>\n",
       "      <th>9992</th>\n",
       "      <td>1612116000</td>\n",
       "      <td>32859.82</td>\n",
       "      <td>32214.08</td>\n",
       "      <td>32319.46</td>\n",
       "      <td>2137.11</td>\n",
       "      <td>6.950141e+07</td>\n",
       "      <td>32482.62</td>\n",
       "      <td>direct</td>\n",
       "      <td>NaN</td>\n",
       "      <td>2021-02-01 03:00:00</td>\n",
       "    </tr>\n",
       "    <tr>\n",
       "      <th>9993</th>\n",
       "      <td>1612119600</td>\n",
       "      <td>32952.06</td>\n",
       "      <td>32446.53</td>\n",
       "      <td>32482.62</td>\n",
       "      <td>1456.05</td>\n",
       "      <td>4.773199e+07</td>\n",
       "      <td>32859.63</td>\n",
       "      <td>direct</td>\n",
       "      <td>NaN</td>\n",
       "      <td>2021-02-01 04:00:00</td>\n",
       "    </tr>\n",
       "    <tr>\n",
       "      <th>9994</th>\n",
       "      <td>1612123200</td>\n",
       "      <td>32957.41</td>\n",
       "      <td>32545.33</td>\n",
       "      <td>32859.63</td>\n",
       "      <td>1252.07</td>\n",
       "      <td>4.103771e+07</td>\n",
       "      <td>32896.61</td>\n",
       "      <td>direct</td>\n",
       "      <td>NaN</td>\n",
       "      <td>2021-02-01 05:00:00</td>\n",
       "    </tr>\n",
       "    <tr>\n",
       "      <th>9995</th>\n",
       "      <td>1612126800</td>\n",
       "      <td>32935.00</td>\n",
       "      <td>32571.25</td>\n",
       "      <td>32896.61</td>\n",
       "      <td>893.90</td>\n",
       "      <td>2.927863e+07</td>\n",
       "      <td>32603.45</td>\n",
       "      <td>direct</td>\n",
       "      <td>NaN</td>\n",
       "      <td>2021-02-01 06:00:00</td>\n",
       "    </tr>\n",
       "    <tr>\n",
       "      <th>9996</th>\n",
       "      <td>1612130400</td>\n",
       "      <td>33112.62</td>\n",
       "      <td>32602.26</td>\n",
       "      <td>32603.45</td>\n",
       "      <td>1328.57</td>\n",
       "      <td>4.371691e+07</td>\n",
       "      <td>33012.66</td>\n",
       "      <td>direct</td>\n",
       "      <td>NaN</td>\n",
       "      <td>2021-02-01 07:00:00</td>\n",
       "    </tr>\n",
       "    <tr>\n",
       "      <th>9997</th>\n",
       "      <td>1612134000</td>\n",
       "      <td>33264.47</td>\n",
       "      <td>32983.33</td>\n",
       "      <td>33012.66</td>\n",
       "      <td>1667.33</td>\n",
       "      <td>5.528488e+07</td>\n",
       "      <td>33143.22</td>\n",
       "      <td>direct</td>\n",
       "      <td>NaN</td>\n",
       "      <td>2021-02-01 08:00:00</td>\n",
       "    </tr>\n",
       "    <tr>\n",
       "      <th>9998</th>\n",
       "      <td>1612137600</td>\n",
       "      <td>33143.22</td>\n",
       "      <td>32340.24</td>\n",
       "      <td>33143.22</td>\n",
       "      <td>2879.75</td>\n",
       "      <td>9.381575e+07</td>\n",
       "      <td>32584.49</td>\n",
       "      <td>direct</td>\n",
       "      <td>NaN</td>\n",
       "      <td>2021-02-01 09:00:00</td>\n",
       "    </tr>\n",
       "    <tr>\n",
       "      <th>9999</th>\n",
       "      <td>1612141200</td>\n",
       "      <td>33560.24</td>\n",
       "      <td>32524.13</td>\n",
       "      <td>32584.49</td>\n",
       "      <td>2514.36</td>\n",
       "      <td>8.323983e+07</td>\n",
       "      <td>33450.01</td>\n",
       "      <td>direct</td>\n",
       "      <td>NaN</td>\n",
       "      <td>2021-02-01 10:00:00</td>\n",
       "    </tr>\n",
       "    <tr>\n",
       "      <th>10000</th>\n",
       "      <td>1612144800</td>\n",
       "      <td>33847.46</td>\n",
       "      <td>33257.39</td>\n",
       "      <td>33450.01</td>\n",
       "      <td>2066.49</td>\n",
       "      <td>6.944557e+07</td>\n",
       "      <td>33675.45</td>\n",
       "      <td>direct</td>\n",
       "      <td>NaN</td>\n",
       "      <td>2021-02-01 11:00:00</td>\n",
       "    </tr>\n",
       "    <tr>\n",
       "      <th>10001</th>\n",
       "      <td>1612148400</td>\n",
       "      <td>33779.76</td>\n",
       "      <td>33505.50</td>\n",
       "      <td>33675.45</td>\n",
       "      <td>1173.82</td>\n",
       "      <td>3.947337e+07</td>\n",
       "      <td>33590.20</td>\n",
       "      <td>direct</td>\n",
       "      <td>NaN</td>\n",
       "      <td>2021-02-01 12:00:00</td>\n",
       "    </tr>\n",
       "    <tr>\n",
       "      <th>10002</th>\n",
       "      <td>1612152000</td>\n",
       "      <td>33945.41</td>\n",
       "      <td>33404.87</td>\n",
       "      <td>33590.20</td>\n",
       "      <td>1430.06</td>\n",
       "      <td>4.815984e+07</td>\n",
       "      <td>33576.82</td>\n",
       "      <td>direct</td>\n",
       "      <td>NaN</td>\n",
       "      <td>2021-02-01 13:00:00</td>\n",
       "    </tr>\n",
       "    <tr>\n",
       "      <th>10003</th>\n",
       "      <td>1612155600</td>\n",
       "      <td>33907.89</td>\n",
       "      <td>33467.87</td>\n",
       "      <td>33576.82</td>\n",
       "      <td>1198.20</td>\n",
       "      <td>4.031946e+07</td>\n",
       "      <td>33803.02</td>\n",
       "      <td>direct</td>\n",
       "      <td>NaN</td>\n",
       "      <td>2021-02-01 14:00:00</td>\n",
       "    </tr>\n",
       "    <tr>\n",
       "      <th>10004</th>\n",
       "      <td>1612159200</td>\n",
       "      <td>33950.67</td>\n",
       "      <td>33739.63</td>\n",
       "      <td>33803.02</td>\n",
       "      <td>569.39</td>\n",
       "      <td>1.928806e+07</td>\n",
       "      <td>33897.06</td>\n",
       "      <td>direct</td>\n",
       "      <td>NaN</td>\n",
       "      <td>2021-02-01 15:00:00</td>\n",
       "    </tr>\n",
       "  </tbody>\n",
       "</table>\n",
       "<p>10005 rows × 10 columns</p>\n",
       "</div>"
      ],
      "text/plain": [
       "             time      high       low      open  volumefrom      volumeto  \\\n",
       "0      1576144800   7219.93   7149.15   7170.18     1536.79  1.104199e+07   \n",
       "1      1576148400   7208.36   7166.03   7166.14      785.11  5.654607e+06   \n",
       "2      1576152000   7222.43   7194.87   7199.79      672.46  4.855213e+06   \n",
       "3      1576155600   7211.80   7187.29   7199.97      807.61  5.821088e+06   \n",
       "4      1576159200   7229.22   7152.84   7201.38     1606.06  1.153780e+07   \n",
       "5      1576162800   7202.12   7162.03   7173.50      856.09  6.141961e+06   \n",
       "6      1576166400   7225.83   7192.73   7202.12     1376.21  9.922530e+06   \n",
       "7      1576170000   7222.08   7200.95   7212.33      586.49  4.235649e+06   \n",
       "8      1576173600   7234.95   7200.95   7213.47     1353.88  9.767061e+06   \n",
       "9      1576177200   7231.08   7208.79   7224.86      870.00  6.278417e+06   \n",
       "10     1576180800   7264.55   7213.44   7218.46     2150.03  1.554378e+07   \n",
       "11     1576184400   7266.49   7205.55   7260.58      975.15  7.069007e+06   \n",
       "12     1576188000   7222.67   7197.56   7212.60      821.99  5.954039e+06   \n",
       "13     1576191600   7219.20   7198.36   7204.59      642.68  4.638334e+06   \n",
       "14     1576195200   7223.47   7199.39   7199.39      739.60  5.337807e+06   \n",
       "15     1576198800   7220.23   7199.85   7209.57      637.50  4.600555e+06   \n",
       "16     1576202400   7224.59   7203.24   7205.44      523.86  3.784978e+06   \n",
       "17     1576206000   7239.42   7211.09   7217.03      541.95  3.926930e+06   \n",
       "18     1576209600   7247.57   7229.40   7229.49      536.98  3.888346e+06   \n",
       "19     1576213200   7237.93   7220.64   7233.47      702.95  5.091759e+06   \n",
       "20     1576216800   7237.24   7215.45   7229.34      387.15  2.808532e+06   \n",
       "21     1576220400   7250.64   7218.84   7225.13      738.64  5.342107e+06   \n",
       "22     1576224000   7253.60   7211.81   7241.01     1355.72  9.790918e+06   \n",
       "23     1576227600   7234.58   7217.02   7220.50      472.78  3.423989e+06   \n",
       "24     1576231200   7232.68   7217.48   7219.70      339.53  2.459693e+06   \n",
       "25     1576234800   7245.84   7223.46   7227.46      463.22  3.354372e+06   \n",
       "26     1576238400   7237.18   7215.11   7235.63      640.52  4.631577e+06   \n",
       "27     1576242000   7245.95   7231.35   7236.75      527.28  3.816854e+06   \n",
       "28     1576245600   7247.49   7231.39   7245.95      999.04  7.235965e+06   \n",
       "29     1576249200   7274.52   7237.35   7238.39     1354.90  9.831370e+06   \n",
       "...           ...       ...       ...       ...         ...           ...   \n",
       "9975   1612054800  34282.50  33980.01  34115.46      917.54  3.132083e+07   \n",
       "9976   1612058400  34275.76  33719.52  34232.05     2976.77  1.006322e+08   \n",
       "9977   1612062000  34063.30  33672.64  33775.09     1115.80  3.783617e+07   \n",
       "9978   1612065600  34129.04  33829.40  33945.00      788.94  2.682315e+07   \n",
       "9979   1612069200  34070.12  33713.05  34062.28      810.94  2.744966e+07   \n",
       "9980   1612072800  33864.93  33608.35  33763.92     1052.22  3.547984e+07   \n",
       "9981   1612076400  33840.29  33459.92  33667.55     1195.60  4.022710e+07   \n",
       "9982   1612080000  33832.35  33350.38  33617.63     1320.58  4.435387e+07   \n",
       "9983   1612083600  33769.86  33316.36  33589.62      896.87  3.005829e+07   \n",
       "9984   1612087200  33745.68  33235.96  33316.36      827.79  2.776127e+07   \n",
       "9985   1612090800  33797.60  33505.19  33670.77      606.11  2.039814e+07   \n",
       "9986   1612094400  34226.08  33400.15  33589.65     1560.40  5.299014e+07   \n",
       "9987   1612098000  34069.34  33624.87  34003.18      697.60  2.357124e+07   \n",
       "9988   1612101600  33740.98  33345.40  33703.77     1166.41  3.910876e+07   \n",
       "9989   1612105200  33483.82  32619.40  33377.34     4332.73  1.428578e+08   \n",
       "9990   1612108800  33083.95  32668.30  32911.91     1602.35  5.276915e+07   \n",
       "9991   1612112400  33088.40  32229.58  32940.78     3174.36  1.036063e+08   \n",
       "9992   1612116000  32859.82  32214.08  32319.46     2137.11  6.950141e+07   \n",
       "9993   1612119600  32952.06  32446.53  32482.62     1456.05  4.773199e+07   \n",
       "9994   1612123200  32957.41  32545.33  32859.63     1252.07  4.103771e+07   \n",
       "9995   1612126800  32935.00  32571.25  32896.61      893.90  2.927863e+07   \n",
       "9996   1612130400  33112.62  32602.26  32603.45     1328.57  4.371691e+07   \n",
       "9997   1612134000  33264.47  32983.33  33012.66     1667.33  5.528488e+07   \n",
       "9998   1612137600  33143.22  32340.24  33143.22     2879.75  9.381575e+07   \n",
       "9999   1612141200  33560.24  32524.13  32584.49     2514.36  8.323983e+07   \n",
       "10000  1612144800  33847.46  33257.39  33450.01     2066.49  6.944557e+07   \n",
       "10001  1612148400  33779.76  33505.50  33675.45     1173.82  3.947337e+07   \n",
       "10002  1612152000  33945.41  33404.87  33590.20     1430.06  4.815984e+07   \n",
       "10003  1612155600  33907.89  33467.87  33576.82     1198.20  4.031946e+07   \n",
       "10004  1612159200  33950.67  33739.63  33803.02      569.39  1.928806e+07   \n",
       "\n",
       "          close conversionType conversionSymbol              timeUTC  \n",
       "0       7166.14         direct              NaN  2019-12-12 19:00:00  \n",
       "1       7199.79         direct              NaN  2019-12-12 20:00:00  \n",
       "2       7199.97         direct              NaN  2019-12-12 21:00:00  \n",
       "3       7201.38         direct              NaN  2019-12-12 22:00:00  \n",
       "4       7173.50         direct              NaN  2019-12-12 23:00:00  \n",
       "5       7202.12         direct              NaN  2019-12-13 00:00:00  \n",
       "6       7212.33         direct              NaN  2019-12-13 01:00:00  \n",
       "7       7213.47         direct              NaN  2019-12-13 02:00:00  \n",
       "8       7224.86         direct              NaN  2019-12-13 03:00:00  \n",
       "9       7218.46         direct              NaN  2019-12-13 04:00:00  \n",
       "10      7260.58         direct              NaN  2019-12-13 05:00:00  \n",
       "11      7212.60         direct              NaN  2019-12-13 06:00:00  \n",
       "12      7204.59         direct              NaN  2019-12-13 07:00:00  \n",
       "13      7199.39         direct              NaN  2019-12-13 08:00:00  \n",
       "14      7209.57         direct              NaN  2019-12-13 09:00:00  \n",
       "15      7205.44         direct              NaN  2019-12-13 10:00:00  \n",
       "16      7217.03         direct              NaN  2019-12-13 11:00:00  \n",
       "17      7229.49         direct              NaN  2019-12-13 12:00:00  \n",
       "18      7233.47         direct              NaN  2019-12-13 13:00:00  \n",
       "19      7229.34         direct              NaN  2019-12-13 14:00:00  \n",
       "20      7225.13         direct              NaN  2019-12-13 15:00:00  \n",
       "21      7241.01         direct              NaN  2019-12-13 16:00:00  \n",
       "22      7220.50         direct              NaN  2019-12-13 17:00:00  \n",
       "23      7219.70         direct              NaN  2019-12-13 18:00:00  \n",
       "24      7227.46         direct              NaN  2019-12-13 19:00:00  \n",
       "25      7235.63         direct              NaN  2019-12-13 20:00:00  \n",
       "26      7236.75         direct              NaN  2019-12-13 21:00:00  \n",
       "27      7245.95         direct              NaN  2019-12-13 22:00:00  \n",
       "28      7238.39         direct              NaN  2019-12-13 23:00:00  \n",
       "29      7269.85         direct              NaN  2019-12-14 00:00:00  \n",
       "...         ...            ...              ...                  ...  \n",
       "9975   34232.05         direct              NaN  2021-01-31 10:00:00  \n",
       "9976   33775.09         direct              NaN  2021-01-31 11:00:00  \n",
       "9977   33945.00         direct              NaN  2021-01-31 12:00:00  \n",
       "9978   34062.28         direct              NaN  2021-01-31 13:00:00  \n",
       "9979   33763.92         direct              NaN  2021-01-31 14:00:00  \n",
       "9980   33667.55         direct              NaN  2021-01-31 15:00:00  \n",
       "9981   33617.63         direct              NaN  2021-01-31 16:00:00  \n",
       "9982   33589.62         direct              NaN  2021-01-31 17:00:00  \n",
       "9983   33316.36         direct              NaN  2021-01-31 18:00:00  \n",
       "9984   33670.77         direct              NaN  2021-01-31 19:00:00  \n",
       "9985   33589.65         direct              NaN  2021-01-31 20:00:00  \n",
       "9986   34003.18         direct              NaN  2021-01-31 21:00:00  \n",
       "9987   33703.77         direct              NaN  2021-01-31 22:00:00  \n",
       "9988   33377.34         direct              NaN  2021-01-31 23:00:00  \n",
       "9989   32911.91         direct              NaN  2021-02-01 00:00:00  \n",
       "9990   32940.78         direct              NaN  2021-02-01 01:00:00  \n",
       "9991   32319.46         direct              NaN  2021-02-01 02:00:00  \n",
       "9992   32482.62         direct              NaN  2021-02-01 03:00:00  \n",
       "9993   32859.63         direct              NaN  2021-02-01 04:00:00  \n",
       "9994   32896.61         direct              NaN  2021-02-01 05:00:00  \n",
       "9995   32603.45         direct              NaN  2021-02-01 06:00:00  \n",
       "9996   33012.66         direct              NaN  2021-02-01 07:00:00  \n",
       "9997   33143.22         direct              NaN  2021-02-01 08:00:00  \n",
       "9998   32584.49         direct              NaN  2021-02-01 09:00:00  \n",
       "9999   33450.01         direct              NaN  2021-02-01 10:00:00  \n",
       "10000  33675.45         direct              NaN  2021-02-01 11:00:00  \n",
       "10001  33590.20         direct              NaN  2021-02-01 12:00:00  \n",
       "10002  33576.82         direct              NaN  2021-02-01 13:00:00  \n",
       "10003  33803.02         direct              NaN  2021-02-01 14:00:00  \n",
       "10004  33897.06         direct              NaN  2021-02-01 15:00:00  \n",
       "\n",
       "[10005 rows x 10 columns]"
      ]
     },
     "execution_count": 162,
     "metadata": {},
     "output_type": "execute_result"
    }
   ],
   "source": [
    "data"
   ]
  },
  {
   "cell_type": "code",
   "execution_count": 163,
   "metadata": {
    "colab": {
     "base_uri": "https://localhost:8080/",
     "height": 52
    },
    "executionInfo": {
     "elapsed": 32,
     "status": "ok",
     "timestamp": 1633486384438,
     "user": {
      "displayName": "정찬휘",
      "photoUrl": "https://lh3.googleusercontent.com/a/default-user=s64",
      "userId": "00470938762273561607"
     },
     "user_tz": -540
    },
    "id": "ecmM3d_30KAs",
    "outputId": "a794f2b9-8835-4a3e-83ae-083dc37d024b"
   },
   "outputs": [
    {
     "data": {
      "text/plain": [
       "\"\\nfrom sklearn.preprocessing import MinMaxScaler\\nvalues = data[['close','high','low','open','volumefrom','volumeto']].values.reshape(-1,6)\\nvalues = values.astype('float32')\\nscaler = MinMaxScaler(feature_range=(0, 1))\\nscaled = scaler.fit_transform(values) \""
      ]
     },
     "execution_count": 163,
     "metadata": {},
     "output_type": "execute_result"
    }
   ],
   "source": [
    "'''\n",
    "from sklearn.preprocessing import MinMaxScaler\n",
    "values = data[['close','high','low','open','volumefrom','volumeto']].values.reshape(-1,6)\n",
    "values = values.astype('float32')\n",
    "scaler = MinMaxScaler(feature_range=(0, 1))\n",
    "scaled = scaler.fit_transform(values) '''"
   ]
  },
  {
   "cell_type": "code",
   "execution_count": null,
   "metadata": {
    "executionInfo": {
     "elapsed": 32,
     "status": "ok",
     "timestamp": 1633486384438,
     "user": {
      "displayName": "정찬휘",
      "photoUrl": "https://lh3.googleusercontent.com/a/default-user=s64",
      "userId": "00470938762273561607"
     },
     "user_tz": -540
    },
    "id": "X5ExpXth2hiB"
   },
   "outputs": [],
   "source": []
  },
  {
   "cell_type": "code",
   "execution_count": 164,
   "metadata": {
    "executionInfo": {
     "elapsed": 32,
     "status": "ok",
     "timestamp": 1633486384439,
     "user": {
      "displayName": "정찬휘",
      "photoUrl": "https://lh3.googleusercontent.com/a/default-user=s64",
      "userId": "00470938762273561607"
     },
     "user_tz": -540
    },
    "id": "PsE6b0_g2hmy"
   },
   "outputs": [],
   "source": [
    "from sklearn.preprocessing import MinMaxScaler\n",
    "values = data[['close','high','low','open','volumefrom','volumeto']].values.reshape(-1,6)\n",
    "values = values.astype('float32')\n",
    "scaler = MinMaxScaler(feature_range=(0, 1))\n",
    "scaled=scaler.fit_transform(values)\n",
    "#scaled = (values-(np.min(values)))/(np.max(values)-(np.min(values)))\n",
    "#scaled = (values - np.mean(values))/np.std(values) "
   ]
  },
  {
   "cell_type": "code",
   "execution_count": 165,
   "metadata": {
    "colab": {
     "base_uri": "https://localhost:8080/"
    },
    "executionInfo": {
     "elapsed": 34,
     "status": "ok",
     "timestamp": 1633486384441,
     "user": {
      "displayName": "정찬휘",
      "photoUrl": "https://lh3.googleusercontent.com/a/default-user=s64",
      "userId": "00470938762273561607"
     },
     "user_tz": -540
    },
    "id": "_B4qE-UN2hvT",
    "outputId": "299f57d8-28c7-481a-f37d-15ab85fdb56b"
   },
   "outputs": [
    {
     "data": {
      "text/plain": [
       "7859574300.0"
      ]
     },
     "execution_count": 165,
     "metadata": {},
     "output_type": "execute_result"
    }
   ],
   "source": [
    "np.max(values)"
   ]
  },
  {
   "cell_type": "code",
   "execution_count": 166,
   "metadata": {
    "colab": {
     "base_uri": "https://localhost:8080/"
    },
    "executionInfo": {
     "elapsed": 29,
     "status": "ok",
     "timestamp": 1633486384441,
     "user": {
      "displayName": "정찬휘",
      "photoUrl": "https://lh3.googleusercontent.com/a/default-user=s64",
      "userId": "00470938762273561607"
     },
     "user_tz": -540
    },
    "id": "6cWtwC-qVft6",
    "outputId": "9abb571f-a070-48e2-b2c2-021b4df93867"
   },
   "outputs": [
    {
     "data": {
      "text/plain": [
       "161.86"
      ]
     },
     "execution_count": 166,
     "metadata": {},
     "output_type": "execute_result"
    }
   ],
   "source": [
    "np.min(values)"
   ]
  },
  {
   "cell_type": "code",
   "execution_count": 167,
   "metadata": {
    "colab": {
     "base_uri": "https://localhost:8080/"
    },
    "executionInfo": {
     "elapsed": 28,
     "status": "ok",
     "timestamp": 1633486384442,
     "user": {
      "displayName": "정찬휘",
      "photoUrl": "https://lh3.googleusercontent.com/a/default-user=s64",
      "userId": "00470938762273561607"
     },
     "user_tz": -540
    },
    "id": "CbI7Yl4bVfwT",
    "outputId": "d96e635a-b118-433d-d026-81c70b79ea11"
   },
   "outputs": [
    {
     "data": {
      "text/plain": [
       "7859574300.0"
      ]
     },
     "execution_count": 167,
     "metadata": {},
     "output_type": "execute_result"
    }
   ],
   "source": [
    "np.max(values)-np.min(values)"
   ]
  },
  {
   "cell_type": "code",
   "execution_count": 168,
   "metadata": {
    "colab": {
     "base_uri": "https://localhost:8080/"
    },
    "executionInfo": {
     "elapsed": 27,
     "status": "ok",
     "timestamp": 1633486384442,
     "user": {
      "displayName": "정찬휘",
      "photoUrl": "https://lh3.googleusercontent.com/a/default-user=s64",
      "userId": "00470938762273561607"
     },
     "user_tz": -540
    },
    "id": "CwnRXtC61J1C",
    "outputId": "a6d41e2f-9ee7-43c4-ee47-be4947536072"
   },
   "outputs": [
    {
     "data": {
      "text/plain": [
       "array([[8.e-02, 7.e-02, 9.e-02, 8.e-02, 6.e-03, 1.e-03],\n",
       "       [8.e-02, 7.e-02, 9.e-02, 8.e-02, 3.e-03, 6.e-04],\n",
       "       [8.e-02, 7.e-02, 9.e-02, 8.e-02, 2.e-03, 5.e-04],\n",
       "       ...,\n",
       "       [8.e-01, 8.e-01, 8.e-01, 8.e-01, 5.e-03, 6.e-03],\n",
       "       [8.e-01, 8.e-01, 8.e-01, 8.e-01, 4.e-03, 5.e-03],\n",
       "       [8.e-01, 8.e-01, 8.e-01, 8.e-01, 2.e-03, 2.e-03]], dtype=float32)"
      ]
     },
     "execution_count": 168,
     "metadata": {},
     "output_type": "execute_result"
    }
   ],
   "source": [
    "scaled"
   ]
  },
  {
   "cell_type": "code",
   "execution_count": 169,
   "metadata": {
    "colab": {
     "base_uri": "https://localhost:8080/"
    },
    "executionInfo": {
     "elapsed": 25,
     "status": "ok",
     "timestamp": 1633486384442,
     "user": {
      "displayName": "정찬휘",
      "photoUrl": "https://lh3.googleusercontent.com/a/default-user=s64",
      "userId": "00470938762273561607"
     },
     "user_tz": -540
    },
    "id": "UOxfRK1W0KFn",
    "outputId": "04db0f78-ce7c-4366-b805-8975d8cd8709"
   },
   "outputs": [
    {
     "name": "stdout",
     "output_type": "stream",
     "text": [
      "8004 1000 1001\n"
     ]
    }
   ],
   "source": [
    "\n",
    "train_size = int(len(scaled) * 0.80)\n",
    "val_size = int(len(scaled) * 0.10)\n",
    "\n",
    "test_size = len(scaled) - train_size-val_size\n",
    "train,val, test = scaled[0:train_size,:],scaled[train_size:train_size+val_size,:], scaled[train_size+val_size:,:]\n",
    "print(len(train),len(val), len(test))"
   ]
  },
  {
   "cell_type": "code",
   "execution_count": 170,
   "metadata": {
    "executionInfo": {
     "elapsed": 23,
     "status": "ok",
     "timestamp": 1633486384443,
     "user": {
      "displayName": "정찬휘",
      "photoUrl": "https://lh3.googleusercontent.com/a/default-user=s64",
      "userId": "00470938762273561607"
     },
     "user_tz": -540
    },
    "id": "TdpxFqBp0KH5"
   },
   "outputs": [],
   "source": [
    "def create_dataset_multistep(dataset, look_back=1,predict=1):\n",
    "    dataX, dataY = [], []\n",
    "    for i in range(len(dataset) - look_back-predict):\n",
    "        a = dataset[i:(i + look_back)]\n",
    "        dataX.append(a)\n",
    "        dataY.append(dataset[i+ look_back-1: i+ look_back+predict-1, 0])\n",
    "    print(len(dataY))\n",
    "    return np.array(dataX), np.array(dataY)"
   ]
  },
  {
   "cell_type": "code",
   "execution_count": 171,
   "metadata": {
    "colab": {
     "base_uri": "https://localhost:8080/"
    },
    "executionInfo": {
     "elapsed": 23,
     "status": "ok",
     "timestamp": 1633486384443,
     "user": {
      "displayName": "정찬휘",
      "photoUrl": "https://lh3.googleusercontent.com/a/default-user=s64",
      "userId": "00470938762273561607"
     },
     "user_tz": -540
    },
    "id": "9EKnGyt00KKG",
    "outputId": "857f7848-e8cf-42e7-e568-7d544776c9df"
   },
   "outputs": [
    {
     "name": "stdout",
     "output_type": "stream",
     "text": [
      "7812\n",
      "808\n",
      "809\n"
     ]
    }
   ],
   "source": [
    "look_back = 168\n",
    "predict=24\n",
    "trainX, trainY = create_dataset_multistep(train, look_back,predict)\n",
    "valX, valY = create_dataset_multistep(val, look_back,predict)\n",
    "testX, testY = create_dataset_multistep(test, look_back,predict)"
   ]
  },
  {
   "cell_type": "code",
   "execution_count": 172,
   "metadata": {
    "colab": {
     "base_uri": "https://localhost:8080/"
    },
    "executionInfo": {
     "elapsed": 21,
     "status": "ok",
     "timestamp": 1633486384443,
     "user": {
      "displayName": "정찬휘",
      "photoUrl": "https://lh3.googleusercontent.com/a/default-user=s64",
      "userId": "00470938762273561607"
     },
     "user_tz": -540
    },
    "id": "l_RyHmWu1CG5",
    "outputId": "2aa441ad-49dd-42af-e9cd-53f89d4b4a3f"
   },
   "outputs": [
    {
     "data": {
      "text/plain": [
       "array([[[1., 0., 1., 0., 0., 0.],\n",
       "        [1., 0., 1., 1., 0., 0.],\n",
       "        [1., 1., 1., 1., 0., 0.],\n",
       "        ...,\n",
       "        [1., 1., 1., 1., 0., 0.],\n",
       "        [1., 1., 1., 1., 0., 0.],\n",
       "        [1., 1., 1., 1., 0., 0.]],\n",
       "\n",
       "       [[1., 0., 1., 1., 0., 0.],\n",
       "        [1., 1., 1., 1., 0., 0.],\n",
       "        [0., 0., 1., 1., 0., 0.],\n",
       "        ...,\n",
       "        [1., 1., 1., 1., 0., 0.],\n",
       "        [1., 1., 1., 1., 0., 0.],\n",
       "        [1., 1., 1., 1., 0., 0.]],\n",
       "\n",
       "       [[1., 1., 1., 1., 0., 0.],\n",
       "        [0., 0., 1., 1., 0., 0.],\n",
       "        [0., 0., 1., 0., 0., 0.],\n",
       "        ...,\n",
       "        [1., 1., 1., 1., 0., 0.],\n",
       "        [1., 1., 1., 1., 0., 0.],\n",
       "        [1., 1., 1., 1., 0., 0.]],\n",
       "\n",
       "       ...,\n",
       "\n",
       "       [[1., 1., 1., 1., 0., 0.],\n",
       "        [1., 1., 1., 1., 0., 0.],\n",
       "        [1., 1., 1., 1., 0., 0.],\n",
       "        ...,\n",
       "        [1., 1., 1., 1., 0., 0.],\n",
       "        [1., 1., 1., 1., 0., 0.],\n",
       "        [1., 1., 1., 1., 0., 0.]],\n",
       "\n",
       "       [[1., 1., 1., 1., 0., 0.],\n",
       "        [1., 1., 1., 1., 0., 0.],\n",
       "        [1., 1., 1., 1., 0., 0.],\n",
       "        ...,\n",
       "        [1., 1., 1., 1., 0., 0.],\n",
       "        [1., 1., 1., 1., 0., 0.],\n",
       "        [1., 1., 1., 1., 0., 0.]],\n",
       "\n",
       "       [[1., 1., 1., 1., 0., 0.],\n",
       "        [1., 1., 1., 1., 0., 0.],\n",
       "        [1., 1., 1., 1., 0., 0.],\n",
       "        ...,\n",
       "        [1., 1., 1., 1., 0., 0.],\n",
       "        [1., 1., 1., 1., 0., 0.],\n",
       "        [1., 1., 1., 1., 0., 0.]]], dtype=float32)"
      ]
     },
     "execution_count": 172,
     "metadata": {},
     "output_type": "execute_result"
    }
   ],
   "source": [
    "testX"
   ]
  },
  {
   "cell_type": "code",
   "execution_count": 173,
   "metadata": {
    "colab": {
     "base_uri": "https://localhost:8080/"
    },
    "executionInfo": {
     "elapsed": 11,
     "status": "ok",
     "timestamp": 1633486384859,
     "user": {
      "displayName": "정찬휘",
      "photoUrl": "https://lh3.googleusercontent.com/a/default-user=s64",
      "userId": "00470938762273561607"
     },
     "user_tz": -540
    },
    "id": "cbOcy2dP0KMv",
    "outputId": "fa138729-3008-43e1-eff7-47f5b35233c2"
   },
   "outputs": [
    {
     "name": "stdout",
     "output_type": "stream",
     "text": [
      "(7812, 168, 6)\n",
      "(7812, 24)\n"
     ]
    }
   ],
   "source": [
    "\n",
    "print(trainX.shape)\n",
    "print(trainY.shape)"
   ]
  },
  {
   "cell_type": "code",
   "execution_count": 174,
   "metadata": {
    "executionInfo": {
     "elapsed": 8,
     "status": "ok",
     "timestamp": 1633486384860,
     "user": {
      "displayName": "정찬휘",
      "photoUrl": "https://lh3.googleusercontent.com/a/default-user=s64",
      "userId": "00470938762273561607"
     },
     "user_tz": -540
    },
    "id": "zTYfgj_E0KO_"
   },
   "outputs": [],
   "source": [
    "SMALL_SIZE = 20\n",
    "MEDIUM_SIZE = 23\n",
    "BIGGER_SIZE = 25\n",
    "\n",
    "plt.rc('font', size=SMALL_SIZE) # controls default text sizes\n",
    "plt.rc('axes', titlesize=SMALL_SIZE) # fontsize of the axes title\n",
    "plt.rc('axes', labelsize=MEDIUM_SIZE) # fontsize of the x and y labels\n",
    "plt.rc('xtick', labelsize=SMALL_SIZE) # fontsize of the tick labels\n",
    "plt.rc('ytick', labelsize=SMALL_SIZE) # fontsize of the tick labels\n",
    "plt.rc('legend', fontsize=MEDIUM_SIZE) # legend fontsize\n",
    "plt.rc('figure', titlesize=BIGGER_SIZE) # fontsize of the figure title"
   ]
  },
  {
   "cell_type": "markdown",
   "metadata": {
    "id": "Cz16l9PO3WqB"
   },
   "source": [
    "CNN-LSTM"
   ]
  },
  {
   "cell_type": "code",
   "execution_count": 189,
   "metadata": {
    "executionInfo": {
     "elapsed": 7,
     "status": "ok",
     "timestamp": 1633486384861,
     "user": {
      "displayName": "정찬휘",
      "photoUrl": "https://lh3.googleusercontent.com/a/default-user=s64",
      "userId": "00470938762273561607"
     },
     "user_tz": -540
    },
    "id": "h7t1J8_M3bpM"
   },
   "outputs": [],
   "source": [
    "from tensorflow.keras.models import Model\n",
    "\n",
    "first_input = Input(shape=(168,6))\n",
    "\n",
    "in1=Conv1D(filters=64, kernel_size=3, activation='relu',padding='same')(first_input)\n",
    "#in1= BatchNormalization(scale=False)(in1)\n",
    "\n",
    "in1=Conv1D(filters=64, kernel_size=2, activation='relu',padding='same')(in1)\n",
    "#in1= BatchNormalization(scale=False)(in1)\n",
    "#in1=Conv1D(filters=64, kernel_size=3, activation='relu',padding='same')(in1)\n",
    "\n",
    "in1=Conv1D(filters=64, kernel_size=1, activation='relu',padding='same')(in1)\n",
    "in1=Conv1D(filters=64, kernel_size=3, activation='relu',padding='same')(in1)\n",
    "#in1= BatchNormalization(scale=False)(in1)\n",
    "\n",
    "in1=Conv1D(filters=64, kernel_size=2, activation='relu',padding='same')(in1)\n",
    "#in1= BatchNormalization(scale=False)(in1)\n",
    "#in1=Conv1D(filters=64, kernel_size=3, activation='relu',padding='same')(in1)\n",
    "\n",
    "in1=Conv1D(filters=64, kernel_size=1, activation='relu',padding='same')(in1)\n",
    "#in1= BatchNormalization(scale=False)(in1)\n",
    "\n",
    "#in1=add([in0,in1],name='extractor')\n",
    "#attn_layer = AttentionLayer(name='attention_layer')\n",
    "#attn_out, attn_states = attn_layer([in1,in1])\n",
    "\n",
    "    # Concat attention input and LSTM output, in original code it was decoder LSTM\n",
    "#concat_out = Concatenate(axis=-1, name='concat_layer')([in1, attn_out])\n",
    "in1=MaxPooling1D(pool_size=2, name='extractor')(in1)\n",
    "#in1=Dropout(0.5)(in1)\n",
    "#in1=Flatten()(in1)\n",
    "#in1=Dense(100, activation='relu')(in1)\n",
    "in1=LSTM(100)(in1)\n",
    "in1=Dense(100)(in1)\n",
    "in1=Dropout(0.5)(in1)\n",
    "out=Dense(24)(in1)\n",
    "model=tf.keras.Model(inputs=[first_input],outputs=[out])\n",
    "model.compile(optimizer='adam', loss='mse')\n",
    "\n",
    "checkpoint_path = \"saved_weights/btc_cnnlstm_multistep.hdf5\"\n",
    "cb = tf.keras.callbacks.ModelCheckpoint(filepath=checkpoint_path,\n",
    "                                                 save_best_only=True,\n",
    "                                        monitor='val_loss',mode='min',\n",
    "                                                 verbose=1)"
   ]
  },
  {
   "cell_type": "code",
   "execution_count": 190,
   "metadata": {
    "executionInfo": {
     "elapsed": 7,
     "status": "ok",
     "timestamp": 1633486384861,
     "user": {
      "displayName": "정찬휘",
      "photoUrl": "https://lh3.googleusercontent.com/a/default-user=s64",
      "userId": "00470938762273561607"
     },
     "user_tz": -540
    },
    "id": "MDAM0gpL3brW"
   },
   "outputs": [],
   "source": [
    "model.load_weights(\"saved_weights/btc_cnnlstm_multistep.hdf5\")"
   ]
  },
  {
   "cell_type": "code",
   "execution_count": 191,
   "metadata": {},
   "outputs": [
    {
     "name": "stdout",
     "output_type": "stream",
     "text": [
      "[0. 0. 0. 0. 0. 0. 0. 0. 0. 0. 0. 0. 0. 0. 0. 0. 0. 0. 0. 0. 0. 0. 0. 0.\n",
      " 0. 0. 0. 0. 0. 0. 0. 0. 0. 0. 0. 0. 0. 0. 0. 0. 0. 0. 0. 0. 0. 0. 0. 0.\n",
      " 0. 0. 0. 0. 0. 0. 0. 0. 0. 0. 0. 0. 0. 0. 0. 0. 0. 0. 0. 0. 0. 0. 0. 0.\n",
      " 0. 0. 0. 0. 0. 0. 0. 0. 0. 0. 0. 0. 0. 0. 0. 0. 0. 0. 0. 0. 0. 0. 0. 0.\n",
      " 0. 0. 0. 0. 0. 0. 0. 1. 1. 1. 1. 1. 1. 1. 1. 1. 1. 1. 1. 1. 1. 1. 1. 1.\n",
      " 1. 1. 1. 1. 1. 1. 1. 1. 1. 1. 1. 1. 1. 1. 1. 1. 1. 1. 1. 1. 1. 1. 1. 1.\n",
      " 1. 1. 1. 1. 1. 1. 1. 1. 1. 1. 1. 1. 1. 1. 1. 1. 1. 1. 1. 1. 1. 1. 1. 0.]\n"
     ]
    },
    {
     "data": {
      "image/png": "[encoded data removed]",
      "text/plain": [
       "<Figure size 1080x360 with 3 Axes>"
      ]
     },
     "metadata": {},
     "output_type": "display_data"
    }
   ],
   "source": [
    "from scipy.ndimage import zoom\n",
    "import random\n",
    "import pylab\n",
    "\n",
    "X_test=testX.copy()\n",
    "id_=24*12\n",
    "testX_inverse=X_test[id_][:,0]*(np.max(values)-np.min(values))+np.min(values)\n",
    "testX_inverse\n",
    "\n",
    "X_test=testX.copy()\n",
    "activation = activation_grad(X_test[id_], model)\n",
    "print(activation)\n",
    "fig, ax = plt.subplots(1,1, figsize=(15,5))\n",
    "ax.set_xticks([0,24,48,72,96,120,144,168])\n",
    "plt.rc('font', size=20)\n",
    "\n",
    "plt.plot(testX_inverse/100000, 'k')\n",
    "plt.ylabel('Close'); plt.xlabel('Time (Hours)'); #plt.title(pd.to_datetime(test_date[sequence_length+id_]))\n",
    "plt.twinx()\n",
    "#plt.xticks(a)\n",
    "plt.imshow(np.vstack([activation]*120), alpha=0.5, cmap='Blues')\n",
    "plt.axis('off'); \n",
    "plt.colorbar()\n",
    "plt.axis('off')\n",
    "#pylab.pcolor(np.vstack([activation]*120),cmap='jet',alpha=0.35)\n",
    "plt.subplots_adjust(bottom=0.15)\n",
    "\n",
    "#pylab.colorbar()\n",
    "\n",
    "np.set_printoptions(False)\n",
    "\n",
    "plt.savefig('png/btc_grad cam_cnn-lstm.png', dpi=300)"
   ]
  },
  {
   "cell_type": "code",
   "execution_count": 192,
   "metadata": {},
   "outputs": [
    {
     "name": "stdout",
     "output_type": "stream",
     "text": [
      "Model: \"model_69\"\n",
      "_________________________________________________________________\n",
      "Layer (type)                 Output Shape              Param #   \n",
      "=================================================================\n",
      "input_27 (InputLayer)        [(None, 168, 6)]          0         \n",
      "_________________________________________________________________\n",
      "conv1d_147 (Conv1D)          (None, 168, 64)           1216      \n",
      "_________________________________________________________________\n",
      "conv1d_148 (Conv1D)          (None, 168, 64)           8256      \n",
      "_________________________________________________________________\n",
      "conv1d_149 (Conv1D)          (None, 168, 64)           4160      \n",
      "_________________________________________________________________\n",
      "conv1d_150 (Conv1D)          (None, 168, 64)           12352     \n",
      "_________________________________________________________________\n",
      "conv1d_151 (Conv1D)          (None, 168, 64)           8256      \n",
      "_________________________________________________________________\n",
      "conv1d_152 (Conv1D)          (None, 168, 64)           4160      \n",
      "_________________________________________________________________\n",
      "extractor (MaxPooling1D)     (None, 84, 64)            0         \n",
      "_________________________________________________________________\n",
      "lstm_26 (LSTM)               (None, 100)               66000     \n",
      "_________________________________________________________________\n",
      "dense_52 (Dense)             (None, 100)               10100     \n",
      "_________________________________________________________________\n",
      "dropout_26 (Dropout)         (None, 100)               0         \n",
      "_________________________________________________________________\n",
      "dense_53 (Dense)             (None, 24)                2424      \n",
      "=================================================================\n",
      "Total params: 116,924\n",
      "Trainable params: 116,924\n",
      "Non-trainable params: 0\n",
      "_________________________________________________________________\n"
     ]
    }
   ],
   "source": [
    "model.summary()"
   ]
  },
  {
   "cell_type": "code",
   "execution_count": 193,
   "metadata": {
    "colab": {
     "base_uri": "https://localhost:8080/",
     "height": 356
    },
    "executionInfo": {
     "elapsed": 545,
     "status": "ok",
     "timestamp": 1633486385400,
     "user": {
      "displayName": "정찬휘",
      "photoUrl": "https://lh3.googleusercontent.com/a/default-user=s64",
      "userId": "00470938762273561607"
     },
     "user_tz": -540
    },
    "id": "fA_6wI5x3iXq",
    "outputId": "6d1b9567-a84e-4ff1-f667-01078324d068"
   },
   "outputs": [
    {
     "name": "stdout",
     "output_type": "stream",
     "text": [
      "1.0\n",
      "0.0\n",
      "1.0\n",
      "(1, 168, 6)\n"
     ]
    },
    {
     "data": {
      "image/png": "[encoded data removed]",
      "text/plain": [
       "<Figure size 1080x360 with 2 Axes>"
      ]
     },
     "metadata": {},
     "output_type": "display_data"
    }
   ],
   "source": [
    "import matplotlib.pyplot as plt\n",
    "import numpy as np\n",
    "\n",
    "X_test=testX\n",
    "grad_weight = gradient_weight(X_test[id_], model)\n",
    "\n",
    "grad_weight_abs = abs(grad_weight)\n",
    "\n",
    "grad_weight_abs_z = (grad_weight_abs-(np.min(grad_weight_abs)))/(np.max(grad_weight_abs)-(np.min(grad_weight_abs)))\n",
    "\n",
    "print(np.max(grad_weight_abs_z))\n",
    "print(np.min(grad_weight_abs_z))\n",
    "print(np.max(grad_weight_abs_z)-np.min(grad_weight_abs_z))\n",
    "#grad_weight=grad_weight.reshape(48,4)\n",
    "\n",
    "print(grad_weight_abs_z.shape)\n",
    "\n",
    "#plt.plot(X_test[8], 'k')\n",
    "a=grad_weight_abs_z.numpy()\n",
    "a=a.reshape(168,6)\n",
    "a=a.transpose()\n",
    "#print(a)\n",
    "fig, ax = plt.subplots(1,1, figsize=(15,5))\n",
    "\n",
    "y_label_list = [1,2,3,4,5,6]\n",
    "x_label_list = [0,24,48,72,96,120,144,168]\n",
    "ax.set_xticks([0,24,48,72,96,120,144,168])\n",
    "\n",
    "ax.set_yticks([8,24,40,56,72,88])\n",
    "\n",
    "ax.set_yticklabels(y_label_list)\n",
    "ax.set_xticklabels(x_label_list)\n",
    "\n",
    "ax.set_yticklabels(y_label_list)\n",
    "ax.set_xticklabels(x_label_list)\n",
    "ax.set_xlabel('Time (Hours)')\n",
    "ax.set_ylabel('Feature')\n",
    "plt.subplots_adjust(bottom=0.15)\n",
    "\n",
    "plt.imshow(a,extent = [0 , 168, 0 , 96], vmin=0, vmax=0.5, cmap=\"Blues\", interpolation='nearest')\n",
    "plt.colorbar()\n",
    "\n",
    "plt.savefig('png/btc_feature importance_cnn-lstm(1).png')"
   ]
  },
  {
   "cell_type": "code",
   "execution_count": 194,
   "metadata": {
    "colab": {
     "base_uri": "https://localhost:8080/",
     "height": 356
    },
    "executionInfo": {
     "elapsed": 545,
     "status": "ok",
     "timestamp": 1633486385400,
     "user": {
      "displayName": "정찬휘",
      "photoUrl": "https://lh3.googleusercontent.com/a/default-user=s64",
      "userId": "00470938762273561607"
     },
     "user_tz": -540
    },
    "id": "fA_6wI5x3iXq",
    "outputId": "6d1b9567-a84e-4ff1-f667-01078324d068"
   },
   "outputs": [
    {
     "name": "stdout",
     "output_type": "stream",
     "text": [
      "1.0\n",
      "0.0\n",
      "1.0\n",
      "(168, 6)\n"
     ]
    },
    {
     "data": {
      "image/png": "[encoded data removed]",
      "text/plain": [
       "<Figure size 1080x360 with 2 Axes>"
      ]
     },
     "metadata": {},
     "output_type": "display_data"
    }
   ],
   "source": [
    "import matplotlib.pyplot as plt\n",
    "import numpy as np\n",
    "\n",
    "X_test=testX\n",
    "grad_weight = get_integrated_gradients(X_test[id_], model, baseline = X_test[id_-1])\n",
    "\n",
    "grad_weight_abs = abs(grad_weight)\n",
    "\n",
    "grad_weight_abs_z = (grad_weight_abs-(np.min(grad_weight_abs)))/(np.max(grad_weight_abs)-(np.min(grad_weight_abs)))\n",
    "\n",
    "print(np.max(grad_weight_abs_z))\n",
    "print(np.min(grad_weight_abs_z))\n",
    "print(np.max(grad_weight_abs_z)-np.min(grad_weight_abs_z))\n",
    "#grad_weight=grad_weight.reshape(48,4)\n",
    "\n",
    "print(grad_weight_abs_z.shape)\n",
    "\n",
    "#plt.plot(X_test[8], 'k')\n",
    "a=grad_weight_abs_z.numpy()\n",
    "a=a.reshape(168,6)\n",
    "a=a.transpose()\n",
    "#print(a)\n",
    "fig, ax = plt.subplots(1,1, figsize=(15,5))\n",
    "\n",
    "y_label_list = [1,2,3,4,5,6]\n",
    "x_label_list = [0,24,48,72,96,120,144,168]\n",
    "ax.set_xticks([0,24,48,72,96,120,144,168])\n",
    "\n",
    "ax.set_yticks([8,24,40,56,72,88])\n",
    "\n",
    "ax.set_yticklabels(y_label_list)\n",
    "ax.set_xticklabels(x_label_list)\n",
    "\n",
    "ax.set_yticklabels(y_label_list)\n",
    "ax.set_xticklabels(x_label_list)\n",
    "ax.set_xlabel('Time (Hours)')\n",
    "ax.set_ylabel('Feature')\n",
    "plt.subplots_adjust(bottom=0.15)\n",
    "\n",
    "plt.imshow(a,extent = [0 , 168, 0 , 96], vmin=0, vmax=0.5, cmap=\"Blues\", interpolation='nearest')\n",
    "plt.colorbar()\n",
    "\n",
    "plt.savefig('png/btc_feature int_grad_cnn-lstm(1).png')"
   ]
  },
  {
   "cell_type": "markdown",
   "metadata": {
    "id": "P3BtB__O3Wsj"
   },
   "source": [
    "LSTM-CNN"
   ]
  },
  {
   "cell_type": "code",
   "execution_count": 195,
   "metadata": {
    "executionInfo": {
     "elapsed": 262,
     "status": "ok",
     "timestamp": 1633486385659,
     "user": {
      "displayName": "정찬휘",
      "photoUrl": "https://lh3.googleusercontent.com/a/default-user=s64",
      "userId": "00470938762273561607"
     },
     "user_tz": -540
    },
    "id": "mzFbY4jg3cIX"
   },
   "outputs": [],
   "source": [
    "from tensorflow.keras.models import Model\n",
    "\n",
    "first_input = Input(shape=(168,6))\n",
    "\n",
    "in0=LSTM(64,return_sequences=True)(first_input)\n",
    "#in1=add([first_input,in0])\n",
    "in0=Conv1D(filters=64, kernel_size=3, activation='relu',padding='same')(in0)\n",
    "#in1= BatchNormalization(scale=False)(in0)\n",
    "\n",
    "in1=Conv1D(filters=64, kernel_size=2, activation='relu',padding='same')(in0)\n",
    "#in1= BatchNormalization(scale=False)(in1)\n",
    "#in1=Conv1D(filters=64, kernel_size=3, activation='relu',padding='same')(in0)\n",
    "\n",
    "in1=Conv1D(filters=64, kernel_size=1, activation='relu',padding='same')(in1)\n",
    "#in1= BatchNormalization(scale=False)(in1)\n",
    "\n",
    "#in1=add([in0,in1],name='extractor1')\n",
    "\n",
    "#ad=Dropout(0.5)(ad)\n",
    "#in0=LSTM(64,return_sequences=True)(ad)\n",
    "#in1=add([first_input,in0])\n",
    "in0=Conv1D(filters=64, kernel_size=3, activation='relu',padding='same')(in1)\n",
    "#in1= BatchNormalization(scale=False)(in0)\n",
    "\n",
    "in1=Conv1D(filters=64, kernel_size=2, activation='relu',padding='same')(in0)\n",
    "#in1= BatchNormalization(scale=False)(in1)\n",
    "#in1=Conv1D(filters=64, kernel_size=3, activation='relu',padding='same')(in0)\n",
    "\n",
    "in1=Conv1D(filters=64, kernel_size=1, activation='relu',padding='same',name='extractor')(in1)\n",
    "#in1= BatchNormalization(scale=False)(in1)\n",
    "\n",
    "in1=Flatten()(in1)\n",
    "in1=Dense(100, activation='relu')(in1)\n",
    "\n",
    "in1=Dropout(0.5)(in1)\n",
    "out=Dense(24,'relu')(in1)\n",
    "model=tf.keras.Model(inputs=[first_input],outputs=[out])\n",
    "model.compile(optimizer='adam', loss='mse')\n",
    "\n",
    "checkpoint_path = \"saved_weights/btc_lstmcnn_mulstep.hdf5\"\n",
    "cb = tf.keras.callbacks.ModelCheckpoint(filepath=checkpoint_path,\n",
    "                                                 save_best_only=True,\n",
    "                                        monitor='val_loss',mode='min',\n",
    "                                                 verbose=1)\n"
   ]
  },
  {
   "cell_type": "code",
   "execution_count": 196,
   "metadata": {
    "executionInfo": {
     "elapsed": 315,
     "status": "ok",
     "timestamp": 1633486385969,
     "user": {
      "displayName": "정찬휘",
      "photoUrl": "https://lh3.googleusercontent.com/a/default-user=s64",
      "userId": "00470938762273561607"
     },
     "user_tz": -540
    },
    "id": "mRn9KcmQ3cKp"
   },
   "outputs": [],
   "source": [
    "model.load_weights(\"saved_weights/btc_lstmcnn_mulstep.hdf5\")"
   ]
  },
  {
   "cell_type": "code",
   "execution_count": 197,
   "metadata": {},
   "outputs": [
    {
     "name": "stdout",
     "output_type": "stream",
     "text": [
      "[0. 0. 0. 0. 0. 0. 0. 0. 0. 0. 0. 0. 0. 0. 0. 0. 0. 0. 0. 0. 0. 0. 0. 0.\n",
      " 0. 0. 0. 0. 0. 0. 0. 0. 0. 0. 0. 0. 0. 0. 0. 0. 0. 0. 0. 0. 0. 0. 0. 0.\n",
      " 0. 0. 0. 0. 0. 0. 0. 0. 0. 0. 0. 0. 0. 0. 0. 0. 0. 0. 0. 0. 0. 0. 0. 0.\n",
      " 0. 0. 0. 0. 0. 0. 0. 0. 0. 0. 0. 0. 0. 0. 0. 0. 0. 0. 0. 0. 0. 0. 0. 0.\n",
      " 0. 0. 0. 0. 0. 0. 0. 0. 0. 0. 0. 0. 0. 0. 0. 0. 0. 0. 0. 0. 0. 0. 0. 0.\n",
      " 0. 0. 0. 0. 0. 0. 0. 0. 0. 0. 0. 0. 0. 0. 0. 0. 0. 0. 0. 0. 0. 0. 0. 0.\n",
      " 0. 0. 0. 0. 0. 0. 0. 0. 0. 0. 0. 0. 0. 0. 0. 0. 0. 0. 0. 0. 0. 1. 1. 0.]\n"
     ]
    },
    {
     "data": {
      "image/png": "[encoded data removed]",
      "text/plain": [
       "<Figure size 1080x360 with 3 Axes>"
      ]
     },
     "metadata": {},
     "output_type": "display_data"
    }
   ],
   "source": [
    "from scipy.ndimage import zoom\n",
    "import random\n",
    "import pylab\n",
    "\n",
    "X_test=testX.copy()\n",
    "id_=24*12\n",
    "testX_inverse=X_test[id_][:,0]*(np.max(values)-np.min(values))+np.min(values)\n",
    "testX_inverse\n",
    "\n",
    "X_test=testX.copy()\n",
    "activation = activation_grad(X_test[id_], model)\n",
    "print(activation)\n",
    "fig, ax = plt.subplots(1,1, figsize=(15,5))\n",
    "ax.set_xticks([0,24,48,72,96,120,144,168])\n",
    "\n",
    "plt.plot(testX_inverse/100000, 'k')\n",
    "plt.ylabel('Close'); plt.xlabel('Time (Hours)'); #plt.title(pd.to_datetime(test_date[sequence_length+id_]))\n",
    "plt.twinx()\n",
    "#plt.xticks(a)\n",
    "plt.imshow(np.vstack([activation]*120), alpha=0.5, cmap='Blues')\n",
    "plt.axis('off'); \n",
    "plt.colorbar()\n",
    "plt.axis('off')\n",
    "#pylab.pcolor(np.vstack([activation]*120),cmap='jet',alpha=0.35)\n",
    "plt.subplots_adjust(bottom=0.15)\n",
    "\n",
    "#pylab.colorbar()\n",
    "\n",
    "np.set_printoptions(False)\n",
    "\n",
    "plt.savefig('png/btc_grad cam_lstm-cnn.png', dpi=300)"
   ]
  },
  {
   "cell_type": "code",
   "execution_count": 198,
   "metadata": {
    "colab": {
     "base_uri": "https://localhost:8080/",
     "height": 365
    },
    "executionInfo": {
     "elapsed": 512,
     "status": "ok",
     "timestamp": 1633486386479,
     "user": {
      "displayName": "정찬휘",
      "photoUrl": "https://lh3.googleusercontent.com/a/default-user=s64",
      "userId": "00470938762273561607"
     },
     "user_tz": -540
    },
    "id": "4oZ3dgm83iqa",
    "outputId": "b13d418d-18a1-47d9-f8a4-76c189a7b619"
   },
   "outputs": [
    {
     "name": "stdout",
     "output_type": "stream",
     "text": [
      "1.0\n",
      "0.0\n",
      "1.0\n",
      "(1, 168, 6)\n"
     ]
    },
    {
     "data": {
      "image/png": "[encoded data removed]",
      "text/plain": [
       "<Figure size 1080x360 with 2 Axes>"
      ]
     },
     "metadata": {},
     "output_type": "display_data"
    }
   ],
   "source": [
    "import matplotlib.pyplot as plt\n",
    "import numpy as np\n",
    "\n",
    "X_test=testX\n",
    "grad_weight = gradient_weight(X_test[id_], model)\n",
    "\n",
    "grad_weight_abs = abs(grad_weight)\n",
    "\n",
    "grad_weight_abs_z = (grad_weight_abs-(np.min(grad_weight_abs)))/(np.max(grad_weight_abs)-(np.min(grad_weight_abs)))\n",
    "\n",
    "print(np.max(grad_weight_abs_z))\n",
    "print(np.min(grad_weight_abs_z))\n",
    "print(np.max(grad_weight_abs_z)-np.min(grad_weight_abs_z))\n",
    "#grad_weight=grad_weight.reshape(48,4)\n",
    "\n",
    "print(grad_weight_abs_z.shape)\n",
    "\n",
    "#plt.plot(X_test[8], 'k')\n",
    "a=grad_weight_abs_z.numpy()\n",
    "a=a.reshape(168,6)\n",
    "a=a.transpose()\n",
    "#print(a)\n",
    "fig, ax = plt.subplots(1,1, figsize=(15,5))\n",
    "plt.subplots_adjust(bottom=0.15)\n",
    "\n",
    "y_label_list = [1,2,3,4,5,6]\n",
    "x_label_list = [0,24,48,72,96,120,144,168]\n",
    "ax.set_xticks([0,24,48,72,96,120,144,168])\n",
    "\n",
    "ax.set_yticks([8,24,40,56,72,88])\n",
    "\n",
    "ax.set_yticklabels(y_label_list)\n",
    "ax.set_xticklabels(x_label_list)\n",
    "\n",
    "ax.set_yticklabels(y_label_list)\n",
    "ax.set_xticklabels(x_label_list)\n",
    "ax.set_xlabel('Time (Hours)')\n",
    "ax.set_ylabel('Feature')\n",
    "\n",
    "plt.imshow(a,extent = [0 , 168, 0 , 96], vmin=0, vmax=1, cmap=\"Blues\", interpolation='nearest')\n",
    "plt.colorbar()\n",
    "\n",
    "plt.savefig('png/btc_feature importance_lstm-cnn(1).png')"
   ]
  },
  {
   "cell_type": "code",
   "execution_count": 200,
   "metadata": {
    "colab": {
     "base_uri": "https://localhost:8080/",
     "height": 365
    },
    "executionInfo": {
     "elapsed": 512,
     "status": "ok",
     "timestamp": 1633486386479,
     "user": {
      "displayName": "정찬휘",
      "photoUrl": "https://lh3.googleusercontent.com/a/default-user=s64",
      "userId": "00470938762273561607"
     },
     "user_tz": -540
    },
    "id": "4oZ3dgm83iqa",
    "outputId": "b13d418d-18a1-47d9-f8a4-76c189a7b619"
   },
   "outputs": [
    {
     "name": "stdout",
     "output_type": "stream",
     "text": [
      "1.0\n",
      "0.0\n",
      "1.0\n",
      "(168, 6)\n"
     ]
    },
    {
     "data": {
      "image/png": "[encoded data removed]",
      "text/plain": [
       "<Figure size 1080x360 with 2 Axes>"
      ]
     },
     "metadata": {},
     "output_type": "display_data"
    }
   ],
   "source": [
    "import matplotlib.pyplot as plt\n",
    "import numpy as np\n",
    "\n",
    "X_test=testX\n",
    "grad_weight = get_integrated_gradients(X_test[id_], model, baseline = X_test[id_-1])\n",
    "\n",
    "grad_weight_abs = abs(grad_weight)\n",
    "\n",
    "grad_weight_abs_z = (grad_weight_abs-(np.min(grad_weight_abs)))/(np.max(grad_weight_abs)-(np.min(grad_weight_abs)))\n",
    "\n",
    "print(np.max(grad_weight_abs_z))\n",
    "print(np.min(grad_weight_abs_z))\n",
    "print(np.max(grad_weight_abs_z)-np.min(grad_weight_abs_z))\n",
    "#grad_weight=grad_weight.reshape(48,4)\n",
    "\n",
    "print(grad_weight_abs_z.shape)\n",
    "\n",
    "#plt.plot(X_test[8], 'k')\n",
    "a=grad_weight_abs_z.numpy()\n",
    "a=a.reshape(168,6)\n",
    "a=a.transpose()\n",
    "#print(a)\n",
    "fig, ax = plt.subplots(1,1, figsize=(15,5))\n",
    "plt.subplots_adjust(bottom=0.15)\n",
    "\n",
    "y_label_list = [1,2,3,4,5,6]\n",
    "x_label_list = [0,24,48,72,96,120,144,168]\n",
    "ax.set_xticks([0,24,48,72,96,120,144,168])\n",
    "\n",
    "ax.set_yticks([8,24,40,56,72,88])\n",
    "\n",
    "ax.set_yticklabels(y_label_list)\n",
    "ax.set_xticklabels(x_label_list)\n",
    "\n",
    "ax.set_yticklabels(y_label_list)\n",
    "ax.set_xticklabels(x_label_list)\n",
    "ax.set_xlabel('Time (Hours)')\n",
    "ax.set_ylabel('Feature')\n",
    "\n",
    "plt.imshow(a,extent = [0 , 168, 0 , 96], vmin=0, vmax=1, cmap=\"Blues\", interpolation='nearest')\n",
    "plt.colorbar()\n",
    "\n",
    "plt.savefig('png/btc_feature int_grad_lstm-cnn(1).png')"
   ]
  },
  {
   "cell_type": "markdown",
   "metadata": {
    "id": "ySAHBQ4j0gBJ"
   },
   "source": [
    "LSTM-resCNN\n",
    "\n",
    "\n"
   ]
  },
  {
   "cell_type": "code",
   "execution_count": 201,
   "metadata": {
    "executionInfo": {
     "elapsed": 271,
     "status": "ok",
     "timestamp": 1633486386748,
     "user": {
      "displayName": "정찬휘",
      "photoUrl": "https://lh3.googleusercontent.com/a/default-user=s64",
      "userId": "00470938762273561607"
     },
     "user_tz": -540
    },
    "id": "XjwEnyBw0KTB"
   },
   "outputs": [],
   "source": [
    "from tensorflow.keras.models import Model\n",
    "\n",
    "first_input = Input(shape=(168,6))\n",
    "\n",
    "in0=LSTM(64,return_sequences=True)(first_input)\n",
    "#in1=add([first_input,in0])\n",
    "in0=Conv1D(filters=64, kernel_size=3, activation='relu',padding='same')(in0)\n",
    "#in1= BatchNormalization(scale=False)(in0)\n",
    "\n",
    "in1=Conv1D(filters=64, kernel_size=2, activation='relu',padding='same')(in0)\n",
    "#in1= BatchNormalization(scale=False)(in1)\n",
    "#in1=Conv1D(filters=64, kernel_size=3, activation='relu',padding='same')(in0)\n",
    "\n",
    "in1=Conv1D(filters=64, kernel_size=1, activation='relu',padding='same')(in1)\n",
    "#in1= BatchNormalization(scale=False)(in1)\n",
    "\n",
    "in1=add([in0,in1],name='extractor1')\n",
    "\n",
    "#ad=Dropout(0.5)(ad)\n",
    "#in0=LSTM(64,return_sequences=True)(ad)\n",
    "#in1=add([first_input,in0])\n",
    "in0=Conv1D(filters=64, kernel_size=3, activation='relu',padding='same')(in1)\n",
    "#in1= BatchNormalization(scale=False)(in0)\n",
    "\n",
    "in1=Conv1D(filters=64, kernel_size=2, activation='relu',padding='same')(in0)\n",
    "#in1= BatchNormalization(scale=False)(in1)\n",
    "#in1=Conv1D(filters=64, kernel_size=3, activation='relu',padding='same')(in0)\n",
    "\n",
    "in1=Conv1D(filters=64, kernel_size=1, activation='relu',padding='same')(in1)\n",
    "#in1= BatchNormalization(scale=False)(in1)\n",
    "\n",
    "in1=add([in0,in1],name='extractor')\n",
    "\n",
    "\n",
    "in1=Flatten()(in1)\n",
    "in1=Dense(100, activation='relu')(in1)\n",
    "in1=Dropout(0.5)(in1)\n",
    "\n",
    "out=Dense(24,'relu')(in1)\n",
    "model=tf.keras.Model(inputs=[first_input],outputs=[out])\n",
    "model.compile(optimizer='adam', loss='mse')\n",
    "\n",
    "checkpoint_path = \"saved_weights/btc_lstmrescnn_mulstep.hdf5\"\n",
    "cb = tf.keras.callbacks.ModelCheckpoint(filepath=checkpoint_path,\n",
    "                                                 save_best_only=True,\n",
    "                                        monitor='val_loss',mode='min',\n",
    "                                                 verbose=1)"
   ]
  },
  {
   "cell_type": "code",
   "execution_count": 202,
   "metadata": {
    "executionInfo": {
     "elapsed": 8,
     "status": "ok",
     "timestamp": 1633486386750,
     "user": {
      "displayName": "정찬휘",
      "photoUrl": "https://lh3.googleusercontent.com/a/default-user=s64",
      "userId": "00470938762273561607"
     },
     "user_tz": -540
    },
    "id": "SLzXhBmc0lid"
   },
   "outputs": [],
   "source": [
    "model.load_weights(\"saved_weights/btc_lstmrescnn_mulstep.hdf5\")"
   ]
  },
  {
   "cell_type": "code",
   "execution_count": 203,
   "metadata": {},
   "outputs": [
    {
     "name": "stdout",
     "output_type": "stream",
     "text": [
      "[0. 0. 0. 0. 0. 0. 0. 0. 0. 0. 0. 0. 0. 0. 1. 1. 1. 1. 1. 1. 1. 1. 1. 1.\n",
      " 1. 0. 0. 0. 0. 0. 1. 0. 0. 0. 0. 0. 0. 0. 1. 1. 1. 0. 0. 0. 0. 0. 0. 0.\n",
      " 0. 0. 0. 0. 0. 0. 0. 0. 0. 0. 0. 0. 0. 0. 0. 0. 0. 0. 0. 0. 0. 0. 0. 0.\n",
      " 0. 0. 0. 1. 1. 1. 1. 1. 1. 1. 1. 1. 1. 1. 1. 1. 1. 1. 1. 1. 1. 1. 1. 1.\n",
      " 1. 1. 1. 1. 1. 1. 1. 1. 1. 1. 1. 1. 1. 1. 1. 1. 1. 1. 1. 1. 1. 1. 1. 1.\n",
      " 1. 1. 1. 1. 1. 1. 1. 1. 1. 1. 1. 1. 1. 1. 1. 1. 1. 1. 1. 1. 1. 1. 1. 1.\n",
      " 1. 1. 1. 1. 1. 1. 1. 1. 1. 1. 1. 1. 1. 1. 1. 1. 1. 1. 1. 1. 1. 1. 0. 0.]\n"
     ]
    },
    {
     "data": {
      "image/png": "[encoded data removed]",
      "text/plain": [
       "<Figure size 1080x360 with 3 Axes>"
      ]
     },
     "metadata": {},
     "output_type": "display_data"
    }
   ],
   "source": [
    "\n",
    "X_test=testX.copy()\n",
    "id_=24*12\n",
    "testX_inverse=X_test[id_][:,0]*(np.max(values)-np.min(values))+np.min(values)\n",
    "testX_inverse\n",
    "\n",
    "X_test=testX.copy()\n",
    "activation = activation_grad(X_test[id_], model)\n",
    "print(activation)\n",
    "fig, ax = plt.subplots(1,1, figsize=(15,5))\n",
    "ax.set_xticks([0,24,48,72,96,120,144,168])\n",
    "\n",
    "plt.plot(testX_inverse/100000, 'k')\n",
    "plt.ylabel('Close'); plt.xlabel('Time (Hours)'); #plt.title(pd.to_datetime(test_date[sequence_length+id_]))\n",
    "plt.twinx()\n",
    "#plt.xticks(a)\n",
    "plt.imshow(np.vstack([activation]*120), alpha=0.5, cmap='Blues')\n",
    "plt.axis('off'); \n",
    "plt.colorbar()\n",
    "plt.axis('off')\n",
    "#pylab.pcolor(np.vstack([activation]*120),cmap='jet',alpha=0.35)\n",
    "plt.subplots_adjust(bottom=0.15)\n",
    "\n",
    "#pylab.colorbar()\n",
    "\n",
    "np.set_printoptions(False)\n",
    "\n",
    "plt.savefig('png/btc_grad cam_lstm-rescnn.png', dpi=300)"
   ]
  },
  {
   "cell_type": "code",
   "execution_count": 204,
   "metadata": {
    "colab": {
     "base_uri": "https://localhost:8080/",
     "height": 365
    },
    "executionInfo": {
     "elapsed": 807,
     "status": "ok",
     "timestamp": 1633486387551,
     "user": {
      "displayName": "정찬휘",
      "photoUrl": "https://lh3.googleusercontent.com/a/default-user=s64",
      "userId": "00470938762273561607"
     },
     "user_tz": -540
    },
    "id": "KStpKuNY0loS",
    "outputId": "ef433a9e-a1ea-42ea-874b-e951bce230b4"
   },
   "outputs": [
    {
     "name": "stdout",
     "output_type": "stream",
     "text": [
      "1.0\n",
      "0.0\n",
      "1.0\n",
      "(1, 168, 6)\n"
     ]
    },
    {
     "data": {
      "image/png": "[encoded data removed]",
      "text/plain": [
       "<Figure size 1080x360 with 2 Axes>"
      ]
     },
     "metadata": {},
     "output_type": "display_data"
    }
   ],
   "source": [
    "import matplotlib.pyplot as plt\n",
    "import numpy as np\n",
    "\n",
    "X_test=testX\n",
    "grad_weight = gradient_weight(X_test[id_], model)\n",
    "\n",
    "grad_weight_abs = abs(grad_weight)\n",
    "\n",
    "grad_weight_abs_z = (grad_weight_abs-(np.min(grad_weight_abs)))/(np.max(grad_weight_abs)-(np.min(grad_weight_abs)))\n",
    "\n",
    "print(np.max(grad_weight_abs_z))\n",
    "print(np.min(grad_weight_abs_z))\n",
    "print(np.max(grad_weight_abs_z)-np.min(grad_weight_abs_z))\n",
    "#grad_weight=grad_weight.reshape(48,4)\n",
    "\n",
    "print(grad_weight_abs_z.shape)\n",
    "\n",
    "#plt.plot(X_test[8], 'k')\n",
    "a=grad_weight_abs_z.numpy()\n",
    "a=a.reshape(168,6)\n",
    "a=a.transpose()\n",
    "#print(a)\n",
    "fig, ax = plt.subplots(1,1, figsize=(15,5))\n",
    "#plt.rc('font', size=12)\n",
    "\n",
    "y_label_list = [1,2,3,4,5,6]\n",
    "x_label_list = [0,24,48,72,96,120,144,168]\n",
    "ax.set_xticks([0,24,48,72,96,120,144,168])\n",
    "\n",
    "ax.set_yticks([8,24,40,56,72,88])\n",
    "\n",
    "ax.set_yticklabels(y_label_list)\n",
    "ax.set_xticklabels(x_label_list)\n",
    "ax.set_xlabel('Time (Hours)')\n",
    "ax.set_ylabel('Feature')\n",
    "plt.subplots_adjust(bottom=0.15)\n",
    "\n",
    "plt.imshow(a,extent = [0 , 168, 0 , 96], vmin=0, vmax=1, cmap=\"Blues\", interpolation='nearest')\n",
    "plt.colorbar()\n",
    "\n",
    "plt.savefig('png/btc_feature importance_lstm-rescnn(1).png')"
   ]
  },
  {
   "cell_type": "code",
   "execution_count": 205,
   "metadata": {
    "colab": {
     "base_uri": "https://localhost:8080/",
     "height": 365
    },
    "executionInfo": {
     "elapsed": 807,
     "status": "ok",
     "timestamp": 1633486387551,
     "user": {
      "displayName": "정찬휘",
      "photoUrl": "https://lh3.googleusercontent.com/a/default-user=s64",
      "userId": "00470938762273561607"
     },
     "user_tz": -540
    },
    "id": "KStpKuNY0loS",
    "outputId": "ef433a9e-a1ea-42ea-874b-e951bce230b4"
   },
   "outputs": [
    {
     "name": "stdout",
     "output_type": "stream",
     "text": [
      "1.0\n",
      "0.0\n",
      "1.0\n",
      "(168, 6)\n"
     ]
    },
    {
     "data": {
      "image/png": "[encoded data removed]",
      "text/plain": [
       "<Figure size 1080x360 with 2 Axes>"
      ]
     },
     "metadata": {},
     "output_type": "display_data"
    }
   ],
   "source": [
    "import matplotlib.pyplot as plt\n",
    "import numpy as np\n",
    "\n",
    "X_test=testX\n",
    "grad_weight = get_integrated_gradients(X_test[id_], model, baseline = X_test[id_-1])\n",
    "\n",
    "grad_weight_abs = abs(grad_weight)\n",
    "\n",
    "grad_weight_abs_z = (grad_weight_abs-(np.min(grad_weight_abs)))/(np.max(grad_weight_abs)-(np.min(grad_weight_abs)))\n",
    "\n",
    "print(np.max(grad_weight_abs_z))\n",
    "print(np.min(grad_weight_abs_z))\n",
    "print(np.max(grad_weight_abs_z)-np.min(grad_weight_abs_z))\n",
    "#grad_weight=grad_weight.reshape(48,4)\n",
    "\n",
    "print(grad_weight_abs_z.shape)\n",
    "\n",
    "#plt.plot(X_test[8], 'k')\n",
    "a=grad_weight_abs_z.numpy()\n",
    "a=a.reshape(168,6)\n",
    "a=a.transpose()\n",
    "#print(a)\n",
    "fig, ax = plt.subplots(1,1, figsize=(15,5))\n",
    "#plt.rc('font', size=12)\n",
    "\n",
    "y_label_list = [1,2,3,4,5,6]\n",
    "x_label_list = [0,24,48,72,96,120,144,168]\n",
    "ax.set_xticks([0,24,48,72,96,120,144,168])\n",
    "\n",
    "ax.set_yticks([8,24,40,56,72,88])\n",
    "\n",
    "ax.set_yticklabels(y_label_list)\n",
    "ax.set_xticklabels(x_label_list)\n",
    "ax.set_xlabel('Time (Hours)')\n",
    "ax.set_ylabel('Feature')\n",
    "plt.subplots_adjust(bottom=0.15)\n",
    "\n",
    "plt.imshow(a,extent = [0 , 168, 0 , 96], vmin=0, vmax=1, cmap=\"Blues\", interpolation='nearest')\n",
    "plt.colorbar()\n",
    "\n",
    "plt.savefig('png/btc_feature int_grad_lstm-rescnn(1).png')"
   ]
  },
  {
   "cell_type": "code",
   "execution_count": null,
   "metadata": {
    "executionInfo": {
     "elapsed": 4,
     "status": "ok",
     "timestamp": 1633486387552,
     "user": {
      "displayName": "정찬휘",
      "photoUrl": "https://lh3.googleusercontent.com/a/default-user=s64",
      "userId": "00470938762273561607"
     },
     "user_tz": -540
    },
    "id": "sQC-RFWQNVuX"
   },
   "outputs": [],
   "source": []
  },
  {
   "cell_type": "code",
   "execution_count": null,
   "metadata": {},
   "outputs": [],
   "source": []
  },
  {
   "cell_type": "code",
   "execution_count": null,
   "metadata": {},
   "outputs": [],
   "source": []
  },
  {
   "cell_type": "code",
   "execution_count": null,
   "metadata": {},
   "outputs": [],
   "source": []
  },
  {
   "cell_type": "code",
   "execution_count": null,
   "metadata": {},
   "outputs": [],
   "source": []
  }
 ],
 "metadata": {
  "colab": {
   "collapsed_sections": [],
   "name": "Untitled.ipynb",
   "provenance": []
  },
  "kernelspec": {
   "display_name": "Python 3",
   "language": "python",
   "name": "python3"
  },
  "language_info": {
   "codemirror_mode": {
    "name": "ipython",
    "version": 3
   },
   "file_extension": ".py",
   "mimetype": "text/x-python",
   "name": "python",
   "nbconvert_exporter": "python",
   "pygments_lexer": "ipython3",
   "version": "3.6.8"
  }
 },
 "nbformat": 4,
 "nbformat_minor": 5
}
