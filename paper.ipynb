{
 "cells": [
  {
   "cell_type": "markdown",
   "metadata": {},
   "source": [
    "# *Explainable Time Series using Grad-CAM*"
   ]
  },
  {
   "cell_type": "markdown",
   "metadata": {},
   "source": [
    "### XCM: An Explainable Convolutional Neural Network for Multivariate Time Series Classification\n",
    "\n",
    "https://arxiv.org/pdf/2009.04796.pdf\n",
    "\n",
    "\n",
    "### Explainable Deep Neural Networks for Multivariate Time Series Predictions\n",
    "\n",
    "https://netman.aiops.org/~peidan/ANM2019/5.KPIAnomalyDetection/LectureCoverage/2019IJCAI_Explainable%20Deep%20Neural%20Networks%20for%20Multivariate%20Time%20Series%20Predictions.pdf\n",
    "\n",
    "\n",
    "### Decoupled Feature-Temporal CNN: Explaining Deep Learning-Based Machine Health Monitoring\n",
    "\n",
    "\n",
    "https://ieeexplore.ieee.org/abstract/document/9261638?casa_token=1xqGVQ3A-rUAAAAA:B_k9mjyCoR_pcw_QpsfzHpRTx4qiGOM5uNfTdYe1qz8Uoe8DbERw61Xgn3UbM9iKuQdecHgpZhA\n",
    "\n"
   ]
  },
  {
   "cell_type": "markdown",
   "metadata": {},
   "source": [
    "## *Bike sharing*\n",
    "\n",
    "### Sathishkumar V E, Jangwoo Park, and Yongyun Cho. 'Using data mining techniques for bike sharing demand prediction in metropolitan city.' Computer Communications, Vol.153, pp.353-366, March, 2020\n",
    "\n",
    "\n",
    "### Sathishkumar V E and Yongyun Cho. 'A rule-based model for Seoul Bike sharing demand prediction using weather data' European Journal of Remote Sensing, pp. 1-18, Feb, 2020\n",
    "\n",
    "-> 데이터 cite request\n",
    "\n",
    "\n",
    "## *Adam optimizer*\n",
    "\n",
    "Adam: A Method for Stochastic Optimization\n",
    "https://arxiv.org/abs/1412.6980"
   ]
  },
  {
   "cell_type": "markdown",
   "metadata": {},
   "source": [
    "# *PM2.5 in Beijing Data*"
   ]
  },
  {
   "cell_type": "markdown",
   "metadata": {},
   "source": [
    "### Liang, X., Zou, T., Guo, B., Li, S., Zhang, H., Zhang, S., Huang, H. and Chen, S. X. (2015). Assessing Beijing's PM2.5 pollution: severity, weather impact, APEC and winter heating. Proceedings of the Royal Society A, 471, 20150257.\n",
    "\n",
    "-> 데이터 cite request\n",
    "\n",
    "\n",
    "### Air Pollution Forecasting Using a Deep Learning Model Based on 1D Convnets and Bidirectional GRU\n",
    "https://ieeexplore.ieee.org/abstract/document/8732985\n",
    "\n",
    "-> CNN-BiGRU 구조\n",
    "\n",
    "### Deep Air Quality Forecasting Using Hybrid Deep Learning Framework\n",
    "https://ieeexplore.ieee.org/abstract/document/8907358?casa_token=M2HcoaIohEQAAAAA:yLkArbDoukQEr4zT4yWJUg1HFPOmM3B6ANOW1gjMJOr8ntTpmrnRStuh5r5p2NCWwSpLiN3y3r0"
   ]
  },
  {
   "cell_type": "markdown",
   "metadata": {},
   "source": [
    "### A Hybrid CNN-LSTM Model for Forecasting Particulate Matter (PM2.5) \n",
    "\n",
    "-> MIMO Forecasting 사용, 예측한 24H을 랜덤하게 뽑아서 성능평가 \n",
    "\n",
    "https://ieeexplore.ieee.org/abstract/document/8979420\n",
    "\n",
    "### Exploring Interpretable LSTM Neural Networks over Multi-Variable Data\n",
    "\n",
    "-> train:test = 8:2\n",
    "\n",
    "https://arxiv.org/pdf/1905.12034.pdf\n",
    "\n",
    "### Prediction Interval Construction for Multivariate Point Forecasts Using Deep Learning\n",
    "\n",
    "https://ieeexplore.ieee.org/abstract/document/9311603\n",
    "\n",
    "\n",
    "### Air Pollution Prediction by Deep Learning Model\n",
    "\n",
    "-> 변수를 전부 사용하지 않았으며 예측하는 Test set 길이가 달라서 성능차이 나는 것으로 예상됨\n",
    "\n",
    "https://ieeexplore.ieee.org/abstract/document/9120932"
   ]
  },
  {
   "cell_type": "markdown",
   "metadata": {},
   "source": [
    "# LSTM-CNN Model"
   ]
  },
  {
   "cell_type": "markdown",
   "metadata": {},
   "source": [
    "### Photovoltaic power forecasting based LSTM-Convolutional Network\n",
    "\n",
    "https://doi.org/10.1016/j.energy.2019.116225\n",
    "\n",
    "\n",
    "### A Novel Deep Learning Approach for Short and Medium-Term Electrical Load Forecasting Based on Pooling LSTM-CNN Model\n",
    "\n",
    "-> LSTM-CNN 으로 multistep 예측\n",
    "\n",
    "https://ieeexplore.ieee.org/abstract/document/9208557"
   ]
  },
  {
   "cell_type": "code",
   "execution_count": null,
   "metadata": {},
   "outputs": [],
   "source": []
  }
 ],
 "metadata": {
  "kernelspec": {
   "display_name": "Python 3 (ipykernel)",
   "language": "python",
   "name": "python3"
  },
  "language_info": {
   "codemirror_mode": {
    "name": "ipython",
    "version": 3
   },
   "file_extension": ".py",
   "mimetype": "text/x-python",
   "name": "python",
   "nbconvert_exporter": "python",
   "pygments_lexer": "ipython3",
   "version": "3.7.11"
  }
 },
 "nbformat": 4,
 "nbformat_minor": 4
}
