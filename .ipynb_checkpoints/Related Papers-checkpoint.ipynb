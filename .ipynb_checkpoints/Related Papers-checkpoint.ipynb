{
 "cells": [
  {
   "cell_type": "markdown",
   "metadata": {},
   "source": [
    "# Papers"
   ]
  },
  {
   "cell_type": "markdown",
   "metadata": {},
   "source": [
    "- 아래 페이퍼 들은 탑 컨퍼런스, 탑저널 페이퍼들임. 아래 페이퍼들의 데이터를 사용해서 더 우수한 성능을 보일 수 있다면 매우 좋음.\n",
    "- 아래 페이퍼들을 참고하며 실험할 데이터들 정하기\n",
    "- 벤치마킹할 방법론들 결정하기..\n"
   ]
  },
  {
   "cell_type": "markdown",
   "metadata": {},
   "source": [
    "### 1. [Exploring Interpretable LSTM Neural Networks over Multi-Variable Data](https://arxiv.org/pdf/1905.12034.pdf)\n",
    "\n",
    "International Conference on Machine Learning (2019)\n",
    "\n",
    "github: https://github.com/KurochkinAlexey/IMV_LSTM  \n",
    "\n",
    "Data: PM2.5, Nasdaq, ...  github에 데이터들 있음"
   ]
  },
  {
   "cell_type": "markdown",
   "metadata": {},
   "source": [
    "### 2. [Informer: Beyond Efficient Transformer for Long Sequence Time-Series Forecasting](https://arxiv.org/pdf/2012.07436v3.pdf)\n",
    "\n",
    "from AAAI conference  \n",
    "\n",
    "github: https://github.com/zhouhaoyi/Informer2020  \n",
    "Codes: https://colab.research.google.com/drive/1_X7O2BkFLvqyCdZzDZvV2MB0aAvYALLC\n",
    "\n",
    "코드에 ETT 데이터 다운로드 링크 포함되어있음 \n",
    "\n",
    "ETT (Electricity Transformer Temperature) : The ETT is a crucial indicator in the electric power long-term deployment. We collected 2-year data from two separated counties in China. To explore the granularity on the LSTF problem, we create separate datasets as {ETTh1, ETTh2} for 1-hourlevel and ETTm1 for 15-minute-level. Each data point consists of the target value ”oil temperature” and 6 power load\n",
    "features. The train/val/test is 12/4/4 months."
   ]
  },
  {
   "cell_type": "markdown",
   "metadata": {},
   "source": [
    "### 3. [Temporal Fusion Transformers for Interpretable Multi-horizon Time Series Forecasting](https://arxiv.org/pdf/1912.09363.pdf) \n",
    "\n"
   ]
  },
  {
   "cell_type": "markdown",
   "metadata": {},
   "source": [
    "International Journal of Forecasting (2021)"
   ]
  },
  {
   "cell_type": "markdown",
   "metadata": {},
   "source": [
    "github: https://github.com/google-research/google-research/tree/master/tft  \n",
    "\n",
    "\n"
   ]
  },
  {
   "cell_type": "markdown",
   "metadata": {},
   "source": [
    "### 4.[An Enriched Time-Series Forecasting Framework for Long-Short Portfolio Strategy](https://ieeexplore.ieee.org/stamp/stamp.jsp?tp=&arnumber=8990150)\n",
    "\n",
    "IEEE Acess\n",
    "\n",
    "IEEE Acess 는 위에 페이퍼들보다는 아래단계.. \n",
    "\n",
    "International Journal of Forecasting 페이퍼 보면서 구조 잡아서 잘 써보되 목표는 IEEE Acess 타겟으로 써보면 좋을 것 같아요. 결과가 더 좋으면 높이고, 지금정도면 IEEE Acess 먼저 내보는 방향"
   ]
  },
  {
   "cell_type": "code",
   "execution_count": null,
   "metadata": {},
   "outputs": [],
   "source": []
  }
 ],
 "metadata": {
  "kernelspec": {
   "display_name": "Python 3",
   "language": "python",
   "name": "python3"
  },
  "language_info": {
   "codemirror_mode": {
    "name": "ipython",
    "version": 3
   },
   "file_extension": ".py",
   "mimetype": "text/x-python",
   "name": "python",
   "nbconvert_exporter": "python",
   "pygments_lexer": "ipython3",
   "version": "3.5.5"
  }
 },
 "nbformat": 4,
 "nbformat_minor": 2
}
